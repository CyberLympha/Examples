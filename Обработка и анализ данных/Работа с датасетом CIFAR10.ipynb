{
  "nbformat": 4,
  "nbformat_minor": 0,
  "metadata": {
    "colab": {
      "name": "Ветошкин-CIFAR10.ipynb",
      "provenance": [],
      "collapsed_sections": []
    },
    "kernelspec": {
      "name": "python3",
      "display_name": "Python 3"
    },
    "language_info": {
      "name": "python"
    },
    "accelerator": "GPU"
  },
  "cells": [
    {
      "cell_type": "markdown",
      "metadata": {
        "id": "ErAgrv7xDzF9"
      },
      "source": [
        "---\n",
        "> CIFAR10 - это набор данных, состоящих из картинок, разделённых на 10 классов. \n",
        "\n",
        "> Создадим и запустим свёрточную нейронную сеть на основе TensorFlow в Google Collab.\n",
        "\n",
        "> Аппаратным ускорителем назначим графический процессор (GPU).\n",
        "\n",
        "\n",
        "> Импортируем необходимые библиотеки.\n",
        "---"
      ]
    },
    {
      "cell_type": "code",
      "metadata": {
        "id": "rbbKZVsODXFL"
      },
      "source": [
        "import tensorflow as tf\n",
        "import seaborn as sns\n",
        "import numpy as np\n",
        "import pandas as pd\n",
        "import matplotlib.pyplot as plt\n",
        "import matplotlib.image as mpimg\n",
        "import itertools\n"
      ],
      "execution_count": null,
      "outputs": []
    },
    {
      "cell_type": "markdown",
      "metadata": {
        "id": "kQphY3SEDvNB"
      },
      "source": [
        "---\n",
        "> Загрузим набор данных CIFAR10 из библиотеки TensorFlow.\n",
        "\n",
        "> Данные уже разделены на те, которые применимы для обучения, и на те, которые нужны для проверки.\n",
        "---"
      ]
    },
    {
      "cell_type": "code",
      "metadata": {
        "id": "hPL48nsCDeMp"
      },
      "source": [
        "cifar10 = tf.keras.datasets.cifar10\n",
        "(x_train, y_train), (x_test, y_test) = cifar10.load_data()"
      ],
      "execution_count": null,
      "outputs": []
    },
    {
      "cell_type": "markdown",
      "metadata": {
        "id": "Fcj8KFa3DxZE"
      },
      "source": [
        "\n",
        "---\n",
        "> Используем метод flatten(), для того чтобы получить копию массива в одномерном виде.\n",
        "---\n"
      ]
    },
    {
      "cell_type": "code",
      "metadata": {
        "id": "KEewcqbEe3NQ"
      },
      "source": [
        "y_train = y_train.flatten()\n",
        "y_test = y_test.flatten()"
      ],
      "execution_count": null,
      "outputs": []
    },
    {
      "cell_type": "markdown",
      "metadata": {
        "id": "SzLq4OKVneqF"
      },
      "source": [
        "\n",
        "---\n",
        "> При работе с нейронными сетями и в машинном обучении важна предварительная работа с данными. Поэтому следует разобраться в том, что из себя представляет массив данных.\n",
        "\n",
        "> Удостоверимся, что данные для обучения являются массивом из 50 000 картинок, разделённых на 10 категорий.\n",
        "\n",
        "> Для этого воспользуемся методом countplot() библиотеки seaborn, который строит диаграмму по количеству значений каждой категории.\n",
        "---\n"
      ]
    },
    {
      "cell_type": "code",
      "metadata": {
        "colab": {
          "base_uri": "https://localhost:8080/",
          "height": 610
        },
        "id": "O5tonrxvffMH",
        "outputId": "f3d80821-5995-4c77-dd2e-5dfde3583c76"
      },
      "source": [
        "classes = ['airplane', 'automobile', 'bird', 'cat', 'deer', 'dog', 'frog', 'horse', 'ship', 'truck']\n",
        "\n",
        "plt.figure(figsize=(10,7))\n",
        "p = sns.countplot(x = y_train)\n",
        "p.set(xticklabels=classes)"
      ],
      "execution_count": null,
      "outputs": [
        {
          "output_type": "execute_result",
          "data": {
            "text/plain": [
              "[[Text(0, 0, 'airplane'),\n",
              "  Text(0, 0, 'automobile'),\n",
              "  Text(0, 0, 'bird'),\n",
              "  Text(0, 0, 'cat'),\n",
              "  Text(0, 0, 'deer'),\n",
              "  Text(0, 0, 'dog'),\n",
              "  Text(0, 0, 'frog'),\n",
              "  Text(0, 0, 'horse'),\n",
              "  Text(0, 0, 'ship'),\n",
              "  Text(0, 0, 'truck')]]"
            ]
          },
          "metadata": {
            "tags": []
          },
          "execution_count": 7
        },
        {
          "output_type": "display_data",
          "data": {
            "image/png": "[encoded data removed]",
            "text/plain": [
              "<Figure size 720x504 with 1 Axes>"
            ]
          },
          "metadata": {
            "tags": [],
            "needs_background": "light"
          }
        }
      ]
    },
    {
      "cell_type": "markdown",
      "metadata": {
        "id": "LHuTeAM1Ob81"
      },
      "source": [
        "\n",
        "---\n",
        "\n",
        "> Кроме этого, следует проверить, есть ли значения NaN в массивах с картинками.\n",
        "\n",
        "---\n"
      ]
    },
    {
      "cell_type": "code",
      "metadata": {
        "colab": {
          "base_uri": "https://localhost:8080/"
        },
        "id": "QQuXQ9c_pZJH",
        "outputId": "708f9ed5-8b9c-44f4-8a1c-671d3c747755"
      },
      "source": [
        "np.isnan(x_train).any()"
      ],
      "execution_count": null,
      "outputs": [
        {
          "output_type": "execute_result",
          "data": {
            "text/plain": [
              "False"
            ]
          },
          "metadata": {
            "tags": []
          },
          "execution_count": 8
        }
      ]
    },
    {
      "cell_type": "code",
      "metadata": {
        "colab": {
          "base_uri": "https://localhost:8080/"
        },
        "id": "Z0my7eR3pZWr",
        "outputId": "3c38322f-f25c-4512-edc4-850d65842c04"
      },
      "source": [
        "np.isnan(x_test).any()"
      ],
      "execution_count": null,
      "outputs": [
        {
          "output_type": "execute_result",
          "data": {
            "text/plain": [
              "False"
            ]
          },
          "metadata": {
            "tags": []
          },
          "execution_count": 9
        }
      ]
    },
    {
      "cell_type": "markdown",
      "metadata": {
        "id": "2xRkLqldOeQb"
      },
      "source": [
        "\n",
        "\n",
        "---\n",
        "\n",
        "\n",
        "> Определим форму картинки в кортеже input_shape.\n",
        "\n",
        "\n",
        "> Далее переформируем массив картинок в тензор (50 000 x 32 x 32 x 3) для x_train и тензор (10 000 x 32 x 32 x 3) для x_test.\n",
        "\n",
        "\n",
        "> В массиве содержится rgb картинка в виде трёхмерного массива или куба размером 32 x 32 x 3, где каждое значение определено от 0 до 255.\n",
        "\n",
        "\n",
        "> Для представления значений в виде с плавающей запятой от 0 до 1 нормализуем массивы числом 255.0.\n",
        "\n",
        "\n",
        "\n",
        "\n",
        "\n",
        "\n",
        "\n",
        "\n",
        "\n",
        "\n",
        "\n",
        "---\n",
        "\n"
      ]
    },
    {
      "cell_type": "code",
      "metadata": {
        "id": "QKjwRCNkpZaG"
      },
      "source": [
        "input_shape = (32, 32, 3)\n",
        "\n",
        "x_train=x_train.reshape(x_train.shape[0], x_train.shape[1], x_train.shape[2], 3)\n",
        "x_train=x_train / 255.0\n",
        "x_test = x_test.reshape(x_test.shape[0], x_test.shape[1], x_test.shape[2], 3)\n",
        "x_test=x_test / 255.0"
      ],
      "execution_count": null,
      "outputs": []
    },
    {
      "cell_type": "markdown",
      "metadata": {
        "id": "5dFTI-yhOfGZ"
      },
      "source": [
        "\n",
        "---\n",
        "\n",
        "> Преобразуем число, означающее класс картинки в прямой унитарный код (one-hot encoding).\n",
        "\n",
        "> Например, 8, означающая корабль (ship), кодируется в [0,0,0,0,0,0,0,0,1,0].\n",
        "---\n"
      ]
    },
    {
      "cell_type": "code",
      "metadata": {
        "id": "ehXC_hoipZcf"
      },
      "source": [
        "y_train = tf.one_hot(y_train.astype(np.int32), depth=10)\n",
        "y_test = tf.one_hot(y_test.astype(np.int32), depth=10)"
      ],
      "execution_count": null,
      "outputs": []
    },
    {
      "cell_type": "markdown",
      "metadata": {
        "id": "chj259nAOgEa"
      },
      "source": [
        "\n",
        "---\n",
        "\n",
        "> Проверим правильность.\n",
        "\n",
        "---\n"
      ]
    },
    {
      "cell_type": "code",
      "metadata": {
        "colab": {
          "base_uri": "https://localhost:8080/",
          "height": 284
        },
        "id": "jSPqGWg7pZhD",
        "outputId": "c1646b3f-7de3-42c6-9663-441e4ded8655"
      },
      "source": [
        "plt.imshow(x_train[100])\n",
        "print(y_train[100])"
      ],
      "execution_count": null,
      "outputs": [
        {
          "output_type": "stream",
          "text": [
            "tf.Tensor([0. 0. 0. 0. 0. 0. 0. 0. 1. 0.], shape=(10,), dtype=float32)\n"
          ],
          "name": "stdout"
        },
        {
          "output_type": "display_data",
          "data": {
            "image/png": "[encoded data removed]",
            "text/plain": [
              "<Figure size 432x288 with 1 Axes>"
            ]
          },
          "metadata": {
            "tags": [],
            "needs_background": "light"
          }
        }
      ]
    },
    {
      "cell_type": "markdown",
      "metadata": {
        "id": "4gPfcrVCOhpK"
      },
      "source": [
        "---\n",
        "> Определим размер пакета (batch_size), количество классов, а также количество эпох - итераций.\n",
        "---\n"
      ]
    },
    {
      "cell_type": "code",
      "metadata": {
        "id": "1ahctd7vpZjb"
      },
      "source": [
        "batch_size = 40\n",
        "num_classes = 10\n",
        "epochs = 60"
      ],
      "execution_count": null,
      "outputs": []
    },
    {
      "cell_type": "markdown",
      "metadata": {
        "id": "8NjbROs_OiTp"
      },
      "source": [
        "\n",
        "---\n",
        "\n",
        "> В модели определены свёрточные слои Conv2D. Первое число является количеством фильтров, а второе размером ядра, которое указывает на величину окна свёртки. Функцией активации служит relu, то есть линейный выпрямитель, который возвращает 0, если вход меньше 0 и возвращает входное значение в ином случае.\n",
        "\n",
        "> Следующий слой в соответствии с концепцией свёрточных нейронных сетей должен укрупнять масштаб полученных признаков. Для этого используется метод MaxPooling2D, который выполняет понижающую дискретизацию. По умолчанию он выделяет одну ячейку (пиксель) с максимальным значением из матрицы 2 х 2.\n",
        "\n",
        "> Метод Dropout() используется для борьбы с переобучением. В данном случае случайная четверть и половина узлов в слое не участвует в обучении. Таким образом, данный слой выполняет функцию прореживания.\n",
        "\n",
        "> Слой Flatten() преобразует тензор в единый вектор.\n",
        "\n",
        "> Dense() - это обычный слой. Функция активации softmax является обобщением логичстического уравнения для многомерного случая. Softmax используется в последнем слое нейронных сетей для задач классификации. При этом в качестве функции потерь используется перекрёстная энтропия.\n",
        "\n",
        "---\n",
        "\n"
      ]
    },
    {
      "cell_type": "code",
      "metadata": {
        "id": "9VtZX3arpiuQ"
      },
      "source": [
        "model = tf.keras.models.Sequential([\n",
        "    tf.keras.layers.Conv2D(32, 3, padding='same', input_shape=x_train.shape[1:], activation='relu'),\n",
        "    tf.keras.layers.Conv2D(32, 3, activation='relu'),\n",
        "    tf.keras.layers.MaxPooling2D(),\n",
        "    tf.keras.layers.Dropout(0.25),\n",
        "\n",
        "    tf.keras.layers.Conv2D(64, 3, padding='same', activation='relu'),\n",
        "    tf.keras.layers.Conv2D(64, 3, activation='relu'),\n",
        "    tf.keras.layers.MaxPooling2D(),\n",
        "    tf.keras.layers.Dropout(0.25),\n",
        "\n",
        "    tf.keras.layers.Flatten(),\n",
        "    tf.keras.layers.Dense(512, activation='relu'),\n",
        "    tf.keras.layers.Dropout(0.5),\n",
        "    tf.keras.layers.Dense(num_classes, activation='softmax'),\n",
        "])\n",
        "\n",
        "model.compile(optimizer=tf.keras.optimizers.RMSprop(learning_rate=0.0001, decay=1e-06),\n",
        "            loss='categorical_crossentropy', metrics=['acc'])"
      ],
      "execution_count": null,
      "outputs": []
    },
    {
      "cell_type": "markdown",
      "metadata": {
        "id": "syj31Ff_Ojb5"
      },
      "source": [
        "\n",
        "---\n",
        "\n",
        "> Метод fit() тренирует модель в соотвествии с размером пакетов и числом эпох - итераций.\n",
        "\n",
        "---\n"
      ]
    },
    {
      "cell_type": "code",
      "metadata": {
        "colab": {
          "base_uri": "https://localhost:8080/"
        },
        "id": "WMH16y85piwr",
        "outputId": "69b3ff05-bed3-4ff8-f3a8-4ed9448ccb09"
      },
      "source": [
        "history = model.fit(x_train, y_train, batch_size=batch_size,\n",
        "                    epochs=epochs)"
      ],
      "execution_count": null,
      "outputs": [
        {
          "output_type": "stream",
          "text": [
            "Epoch 1/60\n",
            "1250/1250 [==============================] - 7s 5ms/step - loss: 1.8300 - acc: 0.3316\n",
            "Epoch 2/60\n",
            "1250/1250 [==============================] - 6s 5ms/step - loss: 1.5291 - acc: 0.4443\n",
            "Epoch 3/60\n",
            "1250/1250 [==============================] - 6s 5ms/step - loss: 1.3928 - acc: 0.4991\n",
            "Epoch 4/60\n",
            "1250/1250 [==============================] - 6s 5ms/step - loss: 1.3062 - acc: 0.5333\n",
            "Epoch 5/60\n",
            "1250/1250 [==============================] - 6s 5ms/step - loss: 1.2305 - acc: 0.5642\n",
            "Epoch 6/60\n",
            "1250/1250 [==============================] - 6s 5ms/step - loss: 1.1702 - acc: 0.5860\n",
            "Epoch 7/60\n",
            "1250/1250 [==============================] - 6s 5ms/step - loss: 1.1125 - acc: 0.6084\n",
            "Epoch 8/60\n",
            "1250/1250 [==============================] - 7s 5ms/step - loss: 1.0617 - acc: 0.6264\n",
            "Epoch 9/60\n",
            "1250/1250 [==============================] - 6s 5ms/step - loss: 1.0179 - acc: 0.6414\n",
            "Epoch 10/60\n",
            "1250/1250 [==============================] - 7s 5ms/step - loss: 0.9818 - acc: 0.6550\n",
            "Epoch 11/60\n",
            "1250/1250 [==============================] - 6s 5ms/step - loss: 0.9488 - acc: 0.6685\n",
            "Epoch 12/60\n",
            "1250/1250 [==============================] - 6s 5ms/step - loss: 0.9232 - acc: 0.6769\n",
            "Epoch 13/60\n",
            "1250/1250 [==============================] - 6s 5ms/step - loss: 0.8952 - acc: 0.6857\n",
            "Epoch 14/60\n",
            "1250/1250 [==============================] - 6s 5ms/step - loss: 0.8741 - acc: 0.6946\n",
            "Epoch 15/60\n",
            "1250/1250 [==============================] - 6s 5ms/step - loss: 0.8508 - acc: 0.7019\n",
            "Epoch 16/60\n",
            "1250/1250 [==============================] - 6s 5ms/step - loss: 0.8331 - acc: 0.7119\n",
            "Epoch 17/60\n",
            "1250/1250 [==============================] - 6s 5ms/step - loss: 0.8154 - acc: 0.7146\n",
            "Epoch 18/60\n",
            "1250/1250 [==============================] - 7s 5ms/step - loss: 0.7941 - acc: 0.7219\n",
            "Epoch 19/60\n",
            "1250/1250 [==============================] - 7s 5ms/step - loss: 0.7896 - acc: 0.7250\n",
            "Epoch 20/60\n",
            "1250/1250 [==============================] - 7s 5ms/step - loss: 0.7769 - acc: 0.7290\n",
            "Epoch 21/60\n",
            "1250/1250 [==============================] - 7s 5ms/step - loss: 0.7617 - acc: 0.7373\n",
            "Epoch 22/60\n",
            "1250/1250 [==============================] - 6s 5ms/step - loss: 0.7510 - acc: 0.7405\n",
            "Epoch 23/60\n",
            "1250/1250 [==============================] - 6s 5ms/step - loss: 0.7393 - acc: 0.7453\n",
            "Epoch 24/60\n",
            "1250/1250 [==============================] - 6s 5ms/step - loss: 0.7321 - acc: 0.7491\n",
            "Epoch 25/60\n",
            "1250/1250 [==============================] - 6s 5ms/step - loss: 0.7285 - acc: 0.7495\n",
            "Epoch 26/60\n",
            "1250/1250 [==============================] - 6s 5ms/step - loss: 0.7201 - acc: 0.7538\n",
            "Epoch 27/60\n",
            "1250/1250 [==============================] - 6s 5ms/step - loss: 0.7149 - acc: 0.7558\n",
            "Epoch 28/60\n",
            "1250/1250 [==============================] - 7s 5ms/step - loss: 0.7062 - acc: 0.7562\n",
            "Epoch 29/60\n",
            "1250/1250 [==============================] - 7s 5ms/step - loss: 0.7029 - acc: 0.7610\n",
            "Epoch 30/60\n",
            "1250/1250 [==============================] - 7s 5ms/step - loss: 0.6921 - acc: 0.7656\n",
            "Epoch 31/60\n",
            "1250/1250 [==============================] - 6s 5ms/step - loss: 0.6848 - acc: 0.7662\n",
            "Epoch 32/60\n",
            "1250/1250 [==============================] - 6s 5ms/step - loss: 0.6847 - acc: 0.7650\n",
            "Epoch 33/60\n",
            "1250/1250 [==============================] - 6s 5ms/step - loss: 0.6779 - acc: 0.7692\n",
            "Epoch 34/60\n",
            "1250/1250 [==============================] - 6s 5ms/step - loss: 0.6754 - acc: 0.7685\n",
            "Epoch 35/60\n",
            "1250/1250 [==============================] - 6s 5ms/step - loss: 0.6644 - acc: 0.7752\n",
            "Epoch 36/60\n",
            "1250/1250 [==============================] - 6s 5ms/step - loss: 0.6640 - acc: 0.7727\n",
            "Epoch 37/60\n",
            "1250/1250 [==============================] - 6s 5ms/step - loss: 0.6600 - acc: 0.7756\n",
            "Epoch 38/60\n",
            "1250/1250 [==============================] - 6s 5ms/step - loss: 0.6568 - acc: 0.7777\n",
            "Epoch 39/60\n",
            "1250/1250 [==============================] - 7s 5ms/step - loss: 0.6493 - acc: 0.7795\n",
            "Epoch 40/60\n",
            "1250/1250 [==============================] - 7s 5ms/step - loss: 0.6463 - acc: 0.7811\n",
            "Epoch 41/60\n",
            "1250/1250 [==============================] - 7s 5ms/step - loss: 0.6484 - acc: 0.7797\n",
            "Epoch 42/60\n",
            "1250/1250 [==============================] - 6s 5ms/step - loss: 0.6414 - acc: 0.7822\n",
            "Epoch 43/60\n",
            "1250/1250 [==============================] - 6s 5ms/step - loss: 0.6359 - acc: 0.7847\n",
            "Epoch 44/60\n",
            "1250/1250 [==============================] - 7s 5ms/step - loss: 0.6342 - acc: 0.7849\n",
            "Epoch 45/60\n",
            "1250/1250 [==============================] - 7s 5ms/step - loss: 0.6304 - acc: 0.7867\n",
            "Epoch 46/60\n",
            "1250/1250 [==============================] - 7s 5ms/step - loss: 0.6320 - acc: 0.7850\n",
            "Epoch 47/60\n",
            "1250/1250 [==============================] - 6s 5ms/step - loss: 0.6243 - acc: 0.7875\n",
            "Epoch 48/60\n",
            "1250/1250 [==============================] - 6s 5ms/step - loss: 0.6226 - acc: 0.7905\n",
            "Epoch 49/60\n",
            "1250/1250 [==============================] - 6s 5ms/step - loss: 0.6154 - acc: 0.7933\n",
            "Epoch 50/60\n",
            "1250/1250 [==============================] - 6s 5ms/step - loss: 0.6217 - acc: 0.7925\n",
            "Epoch 51/60\n",
            "1250/1250 [==============================] - 6s 5ms/step - loss: 0.6195 - acc: 0.7922\n",
            "Epoch 52/60\n",
            "1250/1250 [==============================] - 6s 5ms/step - loss: 0.6100 - acc: 0.7953\n",
            "Epoch 53/60\n",
            "1250/1250 [==============================] - 6s 5ms/step - loss: 0.6146 - acc: 0.7932\n",
            "Epoch 54/60\n",
            "1250/1250 [==============================] - 7s 5ms/step - loss: 0.6086 - acc: 0.7943\n",
            "Epoch 55/60\n",
            "1250/1250 [==============================] - 7s 5ms/step - loss: 0.6040 - acc: 0.7965\n",
            "Epoch 56/60\n",
            "1250/1250 [==============================] - 7s 5ms/step - loss: 0.6039 - acc: 0.7974\n",
            "Epoch 57/60\n",
            "1250/1250 [==============================] - 6s 5ms/step - loss: 0.5988 - acc: 0.8005\n",
            "Epoch 58/60\n",
            "1250/1250 [==============================] - 6s 5ms/step - loss: 0.6008 - acc: 0.7961\n",
            "Epoch 59/60\n",
            "1250/1250 [==============================] - 6s 5ms/step - loss: 0.5977 - acc: 0.7994\n",
            "Epoch 60/60\n",
            "1250/1250 [==============================] - 6s 5ms/step - loss: 0.5945 - acc: 0.7985\n"
          ],
          "name": "stdout"
        }
      ]
    },
    {
      "cell_type": "markdown",
      "metadata": {
        "id": "1uOU_bk9OkCr"
      },
      "source": [
        "\n",
        "---\n",
        "\n",
        "> Для оценки обучения представим график потерь и точности. Можно видеть, что в процессе обучения потери уменьшаются, а точность приближается к 80%.\n",
        "\n",
        "---\n"
      ]
    },
    {
      "cell_type": "code",
      "metadata": {
        "colab": {
          "base_uri": "https://localhost:8080/",
          "height": 265
        },
        "id": "2zB4ZcKZpiy4",
        "outputId": "4391ba41-133b-43b2-f01e-ef64caad8410"
      },
      "source": [
        "fig, ax = plt.subplots(2,1)\n",
        "ax[0].plot(history.history['loss'], color='b', label=\"Training Loss\")\n",
        "legend = ax[0].legend(loc='best', shadow=True)\n",
        "\n",
        "ax[1].plot(history.history['acc'], color='b', label=\"Training Accuracy\")\n",
        "legend = ax[1].legend(loc='best', shadow=True)"
      ],
      "execution_count": 56,
      "outputs": [
        {
          "output_type": "display_data",
          "data": {
            "image/png": "[encoded data removed]",
            "text/plain": [
              "<Figure size 432x288 with 2 Axes>"
            ]
          },
          "metadata": {
            "tags": [],
            "needs_background": "light"
          }
        }
      ]
    },
    {
      "cell_type": "markdown",
      "metadata": {
        "id": "Eqr_ppe7Ok36"
      },
      "source": [
        "\n",
        "---\n",
        "> Оценим модель в режиме проверки. Результат показал, что точность составляет 80% с погрешностью, измеряемой в десятичных.\n",
        "---\n",
        "\n"
      ]
    },
    {
      "cell_type": "code",
      "metadata": {
        "colab": {
          "base_uri": "https://localhost:8080/"
        },
        "id": "MEq1Iwxfpi08",
        "outputId": "cefefe8f-0f3f-4fcf-ac1c-ed245bc7a088"
      },
      "source": [
        "test_loss, test_acc = model.evaluate(x_test, y_test)"
      ],
      "execution_count": 57,
      "outputs": [
        {
          "output_type": "stream",
          "text": [
            "313/313 [==============================] - 1s 3ms/step - loss: 0.6171 - acc: 0.7921\n"
          ],
          "name": "stdout"
        }
      ]
    },
    {
      "cell_type": "markdown",
      "metadata": {
        "id": "bOwP3iRCOlyy"
      },
      "source": [
        "\n",
        "---\n",
        "\n",
        "> Получим предсказания для проверочного массива картинок. \n",
        "\n",
        "\n",
        "> Затем закодируем предсказанные классы в прямой унитарный код.\n",
        "\n",
        "\n",
        "> Закодируем проверочный массив классов в прямой унитарный код.\n",
        "\n",
        "\n",
        "> Построим матрицу ошибок.\n",
        "\n",
        "---\n",
        "\n"
      ]
    },
    {
      "cell_type": "code",
      "metadata": {
        "id": "9oCjDGNGpi4f"
      },
      "source": [
        "y_pred = model.predict(x_test)\n",
        "y_pred_classes = np.argmax(y_pred,axis = 1) \n",
        "y_true = np.argmax(y_test,axis = 1)\n",
        "confusion_mtx = tf.math.confusion_matrix(y_true, y_pred_classes)\n",
        "\n"
      ],
      "execution_count": 58,
      "outputs": []
    },
    {
      "cell_type": "markdown",
      "metadata": {
        "id": "Y1U86QdlOmbq"
      },
      "source": [
        "\n",
        "---\n",
        "> Из матрицы ошибок можно видеть, что плохо распознаётся птица и кошка, поскольку по морфологическим признакам последняя похожа на собаку при условии, что набор данных представлен в плохом качестве 32 х 32 пикселя.\n",
        "\n",
        "---\n"
      ]
    },
    {
      "cell_type": "code",
      "metadata": {
        "colab": {
          "base_uri": "https://localhost:8080/",
          "height": 900
        },
        "id": "HM_Hj7SZpq36",
        "outputId": "01e93157-0e0c-430d-f1ea-a7413969703b"
      },
      "source": [
        "plt.figure(figsize=(12, 9))\n",
        "c = sns.heatmap(confusion_mtx, annot=True, fmt='g')\n",
        "c.set(xticklabels=classes, yticklabels=classes)"
      ],
      "execution_count": 60,
      "outputs": [
        {
          "output_type": "execute_result",
          "data": {
            "text/plain": [
              "[[Text(0, 0.5, 'airplane'),\n",
              "  Text(0, 1.5, 'automobile'),\n",
              "  Text(0, 2.5, 'bird'),\n",
              "  Text(0, 3.5, 'cat'),\n",
              "  Text(0, 4.5, 'deer'),\n",
              "  Text(0, 5.5, 'dog'),\n",
              "  Text(0, 6.5, 'frog'),\n",
              "  Text(0, 7.5, 'horse'),\n",
              "  Text(0, 8.5, 'ship'),\n",
              "  Text(0, 9.5, 'truck')],\n",
              " [Text(0.5, 0, 'airplane'),\n",
              "  Text(1.5, 0, 'automobile'),\n",
              "  Text(2.5, 0, 'bird'),\n",
              "  Text(3.5, 0, 'cat'),\n",
              "  Text(4.5, 0, 'deer'),\n",
              "  Text(5.5, 0, 'dog'),\n",
              "  Text(6.5, 0, 'frog'),\n",
              "  Text(7.5, 0, 'horse'),\n",
              "  Text(8.5, 0, 'ship'),\n",
              "  Text(9.5, 0, 'truck')]]"
            ]
          },
          "metadata": {
            "tags": []
          },
          "execution_count": 60
        },
        {
          "output_type": "display_data",
          "data": {
            "image/png": "[encoded data removed]",
            "text/plain": [
              "<Figure size 864x648 with 2 Axes>"
            ]
          },
          "metadata": {
            "tags": [],
            "needs_background": "light"
          }
        }
      ]
    },
    {
      "cell_type": "code",
      "metadata": {
        "id": "UNSJoTSppq6S"
      },
      "source": [
        ""
      ],
      "execution_count": 59,
      "outputs": []
    },
    {
      "cell_type": "code",
      "metadata": {
        "id": "-cydEwAtpq8Z"
      },
      "source": [
        ""
      ],
      "execution_count": null,
      "outputs": []
    },
    {
      "cell_type": "code",
      "metadata": {
        "id": "Yo0jDwLKpq-q"
      },
      "source": [
        ""
      ],
      "execution_count": null,
      "outputs": []
    }
  ]
}