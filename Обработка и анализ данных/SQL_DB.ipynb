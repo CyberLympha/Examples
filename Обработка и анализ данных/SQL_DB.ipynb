{
 "cells": [
  {
   "cell_type": "code",
   "execution_count": 1,
   "metadata": {},
   "outputs": [],
   "source": [
    "import sqlite3\n",
    "import os\n",
    "import numpy as np"
   ]
  },
  {
   "cell_type": "code",
   "execution_count": 2,
   "metadata": {},
   "outputs": [],
   "source": [
    "conn = sqlite3.connect('test.sqlite')"
   ]
  },
  {
   "cell_type": "code",
   "execution_count": 3,
   "metadata": {},
   "outputs": [],
   "source": [
    "c = conn.cursor()"
   ]
  },
  {
   "cell_type": "code",
   "execution_count": 4,
   "metadata": {},
   "outputs": [],
   "source": [
    "c.execute(\"DROP TABLE IF EXISTS customer\")\n",
    "c.execute(\"DROP TABLE IF EXISTS department\")\n",
    "conn.commit()"
   ]
  },
  {
   "cell_type": "markdown",
   "metadata": {},
   "source": [
    "#### Создание таблицы"
   ]
  },
  {
   "cell_type": "code",
   "execution_count": 5,
   "metadata": {},
   "outputs": [],
   "source": [
    "c.execute(\"CREATE TABLE customer (name TEXT, id INTEGER)\")\n",
    "\n",
    "c.execute(\"CREATE TABLE department (title TEXT, employee_id INTEGER)\")\n",
    "\n",
    "conn.commit()"
   ]
  },
  {
   "cell_type": "markdown",
   "metadata": {},
   "source": [
    "#### Добавление данных в таблицу"
   ]
  },
  {
   "cell_type": "code",
   "execution_count": 6,
   "metadata": {},
   "outputs": [],
   "source": [
    "names = [\"Ivan\", \"Maria\", \"Olga\", \"Petr\", \"Sergey\", \"John\", \"Anton\"]"
   ]
  },
  {
   "cell_type": "code",
   "execution_count": 7,
   "metadata": {},
   "outputs": [],
   "source": [
    "departments = [\"Бухгалтерия\", \"Продажи\", \"Разработка\", \"Производство\", \"Охрана\", \"Кадры\", \"АХО\"]"
   ]
  },
  {
   "cell_type": "code",
   "execution_count": 8,
   "metadata": {},
   "outputs": [],
   "source": [
    "for i in range(100):\n",
    "    name_ = np.random.choice(names)\n",
    "    dpt_ = np.random.choice(departments)\n",
    "    id_ = i\n",
    "    c.execute(\"INSERT INTO customer (name, id) VALUES ('{}', '{}')\".format(name_, id_))\n",
    "    \n",
    "    c.execute(\"INSERT INTO department (title, employee_id) VALUES ('{}', '{}')\".format(dpt_, id_))"
   ]
  },
  {
   "cell_type": "code",
   "execution_count": 9,
   "metadata": {},
   "outputs": [],
   "source": [
    "conn.commit()"
   ]
  },
  {
   "cell_type": "markdown",
   "metadata": {},
   "source": [
    "#### Получение данных из таблицы"
   ]
  },
  {
   "cell_type": "code",
   "execution_count": 10,
   "metadata": {},
   "outputs": [
    {
     "data": {
      "text/plain": [
       "<sqlite3.Cursor at 0x7fca502bb260>"
      ]
     },
     "execution_count": 10,
     "metadata": {},
     "output_type": "execute_result"
    }
   ],
   "source": [
    "c.execute(\"SELECT * from customer\")"
   ]
  },
  {
   "cell_type": "code",
   "execution_count": 11,
   "metadata": {},
   "outputs": [],
   "source": [
    "data = c.fetchall()"
   ]
  },
  {
   "cell_type": "code",
   "execution_count": 12,
   "metadata": {},
   "outputs": [
    {
     "data": {
      "text/plain": [
       "([('Sergey', 0),\n",
       "  ('Ivan', 1),\n",
       "  ('Petr', 2),\n",
       "  ('Olga', 3),\n",
       "  ('Anton', 4),\n",
       "  ('Petr', 5),\n",
       "  ('Sergey', 6),\n",
       "  ('Maria', 7),\n",
       "  ('Sergey', 8),\n",
       "  ('Petr', 9)],\n",
       " 100)"
      ]
     },
     "execution_count": 12,
     "metadata": {},
     "output_type": "execute_result"
    }
   ],
   "source": [
    "data[:10], len(data)"
   ]
  },
  {
   "cell_type": "markdown",
   "metadata": {},
   "source": [
    "#### Все пользователи с id < 10"
   ]
  },
  {
   "cell_type": "code",
   "execution_count": 13,
   "metadata": {},
   "outputs": [
    {
     "data": {
      "text/plain": [
       "([('Sergey', 0),\n",
       "  ('Ivan', 1),\n",
       "  ('Petr', 2),\n",
       "  ('Olga', 3),\n",
       "  ('Anton', 4),\n",
       "  ('Petr', 5),\n",
       "  ('Sergey', 6),\n",
       "  ('Maria', 7),\n",
       "  ('Sergey', 8),\n",
       "  ('Petr', 9)],\n",
       " 10)"
      ]
     },
     "execution_count": 13,
     "metadata": {},
     "output_type": "execute_result"
    }
   ],
   "source": [
    "c.execute(\"SELECT * from customer WHERE id<10\")\n",
    "data = c.fetchall()\n",
    "data, len(data)"
   ]
  },
  {
   "cell_type": "markdown",
   "metadata": {},
   "source": [
    "#### Все пользователи с именем Sergey"
   ]
  },
  {
   "cell_type": "code",
   "execution_count": 14,
   "metadata": {},
   "outputs": [
    {
     "data": {
      "text/plain": [
       "([('Sergey', 0),\n",
       "  ('Sergey', 6),\n",
       "  ('Sergey', 8),\n",
       "  ('Sergey', 10),\n",
       "  ('Sergey', 12),\n",
       "  ('Sergey', 19),\n",
       "  ('Sergey', 24),\n",
       "  ('Sergey', 26),\n",
       "  ('Sergey', 34),\n",
       "  ('Sergey', 38),\n",
       "  ('Sergey', 44),\n",
       "  ('Sergey', 50),\n",
       "  ('Sergey', 51),\n",
       "  ('Sergey', 52),\n",
       "  ('Sergey', 60),\n",
       "  ('Sergey', 64),\n",
       "  ('Sergey', 73)],\n",
       " 17)"
      ]
     },
     "execution_count": 14,
     "metadata": {},
     "output_type": "execute_result"
    }
   ],
   "source": [
    "c.execute(\"SELECT * from customer WHERE name='Sergey'\")\n",
    "data = c.fetchall()\n",
    "data, len(data)"
   ]
  },
  {
   "cell_type": "code",
   "execution_count": 15,
   "metadata": {},
   "outputs": [
    {
     "data": {
      "text/plain": [
       "([('Sergey',),\n",
       "  ('Sergey',),\n",
       "  ('Sergey',),\n",
       "  ('Sergey',),\n",
       "  ('Sergey',),\n",
       "  ('Sergey',),\n",
       "  ('Sergey',),\n",
       "  ('Sergey',),\n",
       "  ('Sergey',),\n",
       "  ('Sergey',),\n",
       "  ('Sergey',),\n",
       "  ('Sergey',),\n",
       "  ('Sergey',),\n",
       "  ('Sergey',),\n",
       "  ('Sergey',),\n",
       "  ('Sergey',),\n",
       "  ('Sergey',)],\n",
       " 17)"
      ]
     },
     "execution_count": 15,
     "metadata": {},
     "output_type": "execute_result"
    }
   ],
   "source": [
    "c.execute(\"SELECT name from customer WHERE name='Sergey'\")\n",
    "data = c.fetchall()\n",
    "data, len(data)"
   ]
  },
  {
   "cell_type": "code",
   "execution_count": 16,
   "metadata": {},
   "outputs": [
    {
     "data": {
      "text/plain": [
       "([('Sergey',)], 1)"
      ]
     },
     "execution_count": 16,
     "metadata": {},
     "output_type": "execute_result"
    }
   ],
   "source": [
    "c.execute(\"SELECT DISTINCT name from customer WHERE name='Sergey'\")\n",
    "data = c.fetchall()\n",
    "data, len(data)"
   ]
  },
  {
   "cell_type": "markdown",
   "metadata": {},
   "source": [
    "#### Найти пользователей с именем Maria с четными id"
   ]
  },
  {
   "cell_type": "code",
   "execution_count": 17,
   "metadata": {},
   "outputs": [
    {
     "data": {
      "text/plain": [
       "([('Maria', 18),\n",
       "  ('Maria', 42),\n",
       "  ('Maria', 56),\n",
       "  ('Maria', 66),\n",
       "  ('Maria', 76),\n",
       "  ('Maria', 90)],\n",
       " 6)"
      ]
     },
     "execution_count": 17,
     "metadata": {},
     "output_type": "execute_result"
    }
   ],
   "source": [
    "c.execute(\"SELECT DISTINCT * FROM customer WHERE name='Maria' AND id%2=0\")\n",
    "data = c.fetchall()\n",
    "data, len(data)"
   ]
  },
  {
   "cell_type": "code",
   "execution_count": 18,
   "metadata": {},
   "outputs": [
    {
     "data": {
      "text/plain": [
       "([('Maria', 18),\n",
       "  ('Maria', 42),\n",
       "  ('Maria', 56),\n",
       "  ('Maria', 66),\n",
       "  ('Maria', 76),\n",
       "  ('Maria', 90)],\n",
       " 6)"
      ]
     },
     "execution_count": 18,
     "metadata": {},
     "output_type": "execute_result"
    }
   ],
   "source": [
    "c.execute(\"\"\"\n",
    "             SELECT DISTINCT * FROM customer\n",
    "             WHERE name='Maria' AND id%2=0\n",
    "          \"\"\")\n",
    "          \n",
    "data = c.fetchall()\n",
    "data, len(data)"
   ]
  },
  {
   "cell_type": "markdown",
   "metadata": {},
   "source": [
    "#### Найти имена сотрудников, работающих в разработке"
   ]
  },
  {
   "cell_type": "code",
   "execution_count": 19,
   "metadata": {
    "scrolled": true
   },
   "outputs": [
    {
     "data": {
      "text/plain": [
       "([('Petr', 'Разработка'),\n",
       "  ('Maria', 'Разработка'),\n",
       "  ('Olga', 'Разработка'),\n",
       "  ('John', 'Разработка'),\n",
       "  ('Anton', 'Разработка'),\n",
       "  ('Ivan', 'Разработка'),\n",
       "  ('Sergey', 'Разработка')],\n",
       " 7)"
      ]
     },
     "execution_count": 19,
     "metadata": {},
     "output_type": "execute_result"
    }
   ],
   "source": [
    "c.execute(\"\"\"\n",
    "             SELECT DISTINCT customer.name, department.title FROM customer\n",
    "             JOIN department ON customer.id=department.employee_id\n",
    "             WHERE department.title='Разработка'\n",
    "          \"\"\")\n",
    "          \n",
    "data = c.fetchall()\n",
    "data, len(data)"
   ]
  },
  {
   "cell_type": "markdown",
   "metadata": {},
   "source": [
    "#### Найти имена сотрудников, работающих в разработке и АХО"
   ]
  },
  {
   "cell_type": "code",
   "execution_count": 20,
   "metadata": {},
   "outputs": [
    {
     "data": {
      "text/plain": [
       "([('Anton', 'АХО'),\n",
       "  ('Anton', 'Разработка'),\n",
       "  ('Ivan', 'АХО'),\n",
       "  ('Ivan', 'Разработка'),\n",
       "  ('John', 'АХО'),\n",
       "  ('John', 'Разработка'),\n",
       "  ('Maria', 'АХО'),\n",
       "  ('Maria', 'Разработка'),\n",
       "  ('Olga', 'АХО'),\n",
       "  ('Olga', 'Разработка'),\n",
       "  ('Petr', 'АХО'),\n",
       "  ('Petr', 'Разработка'),\n",
       "  ('Sergey', 'АХО'),\n",
       "  ('Sergey', 'Разработка')],\n",
       " 14)"
      ]
     },
     "execution_count": 20,
     "metadata": {},
     "output_type": "execute_result"
    }
   ],
   "source": [
    "c.execute(\"\"\"\n",
    "             SELECT DISTINCT customer.name, department.title FROM customer\n",
    "             JOIN department ON customer.id=department.employee_id\n",
    "             WHERE department.title='Разработка'\n",
    "             UNION\n",
    "             SELECT DISTINCT customer.name, department.title FROM customer\n",
    "             JOIN department ON customer.id=department.employee_id\n",
    "             WHERE department.title='АХО'\n",
    "          \"\"\")\n",
    "          \n",
    "data = c.fetchall()\n",
    "data, len(data)"
   ]
  },
  {
   "cell_type": "markdown",
   "metadata": {},
   "source": [
    "#### Найти имена сотрудников, работающих в АХО, имена которых не совпадают с разработчиками"
   ]
  },
  {
   "cell_type": "code",
   "execution_count": 21,
   "metadata": {},
   "outputs": [
    {
     "data": {
      "text/plain": [
       "([], 0)"
      ]
     },
     "execution_count": 21,
     "metadata": {},
     "output_type": "execute_result"
    }
   ],
   "source": [
    "c.execute(\"\"\"\n",
    "             SELECT DISTINCT customer.name FROM customer\n",
    "             JOIN department ON customer.id=department.employee_id\n",
    "             WHERE department.title='АХО'\n",
    "             EXCEPT\n",
    "             SELECT DISTINCT customer.name FROM customer\n",
    "             JOIN department ON customer.id=department.employee_id\n",
    "             WHERE department.title='Разработка'\n",
    "          \"\"\")\n",
    "          \n",
    "data = c.fetchall()\n",
    "data, len(data)"
   ]
  },
  {
   "cell_type": "markdown",
   "metadata": {},
   "source": [
    "#### Найти имя сотрудника с самым высоким id"
   ]
  },
  {
   "cell_type": "code",
   "execution_count": 22,
   "metadata": {},
   "outputs": [
    {
     "data": {
      "text/plain": [
       "[('Maria', 99)]"
      ]
     },
     "execution_count": 22,
     "metadata": {},
     "output_type": "execute_result"
    }
   ],
   "source": [
    "c.execute(\"\"\"\n",
    "            SELECT * from customer\n",
    "            WHERE id = (SELECT MAX(id) from customer)\n",
    "          \"\"\")\n",
    "data = c.fetchall()\n",
    "data"
   ]
  },
  {
   "cell_type": "markdown",
   "metadata": {},
   "source": [
    "#### Найти среднее id сотрудников с именем Maria"
   ]
  },
  {
   "cell_type": "code",
   "execution_count": 23,
   "metadata": {},
   "outputs": [
    {
     "data": {
      "text/plain": [
       "[('Maria', 7),\n",
       " ('Maria', 11),\n",
       " ('Maria', 18),\n",
       " ('Maria', 27),\n",
       " ('Maria', 35),\n",
       " ('Maria', 42),\n",
       " ('Maria', 56),\n",
       " ('Maria', 66),\n",
       " ('Maria', 67),\n",
       " ('Maria', 69),\n",
       " ('Maria', 76),\n",
       " ('Maria', 79),\n",
       " ('Maria', 83),\n",
       " ('Maria', 90),\n",
       " ('Maria', 95),\n",
       " ('Maria', 99)]"
      ]
     },
     "execution_count": 23,
     "metadata": {},
     "output_type": "execute_result"
    }
   ],
   "source": [
    "c.execute(\"SELECT * FROM customer where name='Maria'\")\n",
    "data = c.fetchall()\n",
    "data"
   ]
  },
  {
   "cell_type": "code",
   "execution_count": 24,
   "metadata": {},
   "outputs": [
    {
     "data": {
      "text/plain": [
       "[(57.5,)]"
      ]
     },
     "execution_count": 24,
     "metadata": {},
     "output_type": "execute_result"
    }
   ],
   "source": [
    "c.execute(\"\"\"\n",
    "            SELECT AVG(id) from customer\n",
    "            WHERE name='Maria'\n",
    "          \"\"\")\n",
    "data = c.fetchall()\n",
    "data"
   ]
  },
  {
   "cell_type": "markdown",
   "metadata": {},
   "source": [
    "#### Найти количество сотрудников с именем Maria"
   ]
  },
  {
   "cell_type": "code",
   "execution_count": 25,
   "metadata": {},
   "outputs": [
    {
     "data": {
      "text/plain": [
       "[(16,)]"
      ]
     },
     "execution_count": 25,
     "metadata": {},
     "output_type": "execute_result"
    }
   ],
   "source": [
    "c.execute(\"\"\"\n",
    "            SELECT COUNT(id) from customer\n",
    "            WHERE name='Maria'\n",
    "          \"\"\")\n",
    "data = c.fetchall()\n",
    "data"
   ]
  },
  {
   "cell_type": "markdown",
   "metadata": {},
   "source": [
    "#### Найти количество сотрудников с именем Ivan, работающих на производстве"
   ]
  },
  {
   "cell_type": "code",
   "execution_count": 26,
   "metadata": {},
   "outputs": [
    {
     "data": {
      "text/plain": [
       "[('Ivan', 29, 'Производство', 29),\n",
       " ('Ivan', 36, 'Производство', 36),\n",
       " ('Ivan', 41, 'Производство', 41),\n",
       " ('Ivan', 88, 'Производство', 88)]"
      ]
     },
     "execution_count": 26,
     "metadata": {},
     "output_type": "execute_result"
    }
   ],
   "source": [
    "c.execute(\"\"\"\n",
    "            SELECT * from customer\n",
    "            JOIN department ON customer.id=department.employee_id\n",
    "            WHERE customer.name='Ivan' and department.title='Производство'\n",
    "          \"\"\")\n",
    "data = c.fetchall()\n",
    "data"
   ]
  },
  {
   "cell_type": "code",
   "execution_count": 27,
   "metadata": {},
   "outputs": [
    {
     "data": {
      "text/plain": [
       "[(4,)]"
      ]
     },
     "execution_count": 27,
     "metadata": {},
     "output_type": "execute_result"
    }
   ],
   "source": [
    "c.execute(\"\"\"\n",
    "            SELECT COUNT(customer.name) from customer\n",
    "            JOIN department ON customer.id=department.employee_id\n",
    "            WHERE customer.name='Ivan' AND department.title='Производство'\n",
    "          \"\"\")\n",
    "data = c.fetchall()\n",
    "data"
   ]
  },
  {
   "cell_type": "markdown",
   "metadata": {},
   "source": [
    "#### Имена, встречающиеся более 15 раз"
   ]
  },
  {
   "cell_type": "code",
   "execution_count": 28,
   "metadata": {},
   "outputs": [
    {
     "data": {
      "text/plain": [
       "[('Anton', 11, 96, 4),\n",
       " ('Ivan', 14, 88, 1),\n",
       " ('John', 13, 98, 17),\n",
       " ('Maria', 16, 99, 7),\n",
       " ('Olga', 18, 94, 3),\n",
       " ('Petr', 11, 70, 2),\n",
       " ('Sergey', 17, 73, 0)]"
      ]
     },
     "execution_count": 28,
     "metadata": {},
     "output_type": "execute_result"
    }
   ],
   "source": [
    "c.execute(\"\"\"\n",
    "            SELECT name, COUNT(name), MAX(id), MIN(id) from customer\n",
    "            GROUP BY name            \n",
    "          \"\"\")\n",
    "data = c.fetchall()\n",
    "data"
   ]
  },
  {
   "cell_type": "code",
   "execution_count": 29,
   "metadata": {},
   "outputs": [
    {
     "data": {
      "text/plain": [
       "[('Maria',), ('Olga',), ('Sergey',)]"
      ]
     },
     "execution_count": 29,
     "metadata": {},
     "output_type": "execute_result"
    }
   ],
   "source": [
    "c.execute(\"\"\"\n",
    "            SELECT name from customer\n",
    "            GROUP BY name\n",
    "            HAVING COUNT(name)>15\n",
    "          \"\"\")\n",
    "data = c.fetchall()\n",
    "data"
   ]
  },
  {
   "cell_type": "markdown",
   "metadata": {},
   "source": [
    "#### Показать имена сотрудников АХО, имена которых не совпадают с сотрудниками разработки"
   ]
  },
  {
   "cell_type": "code",
   "execution_count": 30,
   "metadata": {},
   "outputs": [
    {
     "data": {
      "text/plain": [
       "[('Olga',),\n",
       " ('Petr',),\n",
       " ('Sergey',),\n",
       " ('John',),\n",
       " ('Ivan',),\n",
       " ('Maria',),\n",
       " ('Anton',)]"
      ]
     },
     "execution_count": 30,
     "metadata": {},
     "output_type": "execute_result"
    }
   ],
   "source": [
    "c.execute(\"\"\"\n",
    "            SELECT DISTINCT name FROM customer\n",
    "            JOIN department ON customer.id=department.employee_id\n",
    "            WHERE department.title='АХО'\n",
    "          \"\"\")\n",
    "data = c.fetchall()\n",
    "data"
   ]
  },
  {
   "cell_type": "code",
   "execution_count": 31,
   "metadata": {},
   "outputs": [
    {
     "data": {
      "text/plain": [
       "[('Petr',),\n",
       " ('Maria',),\n",
       " ('Olga',),\n",
       " ('John',),\n",
       " ('Anton',),\n",
       " ('Ivan',),\n",
       " ('Sergey',)]"
      ]
     },
     "execution_count": 31,
     "metadata": {},
     "output_type": "execute_result"
    }
   ],
   "source": [
    "c.execute(\"\"\"\n",
    "            SELECT DISTINCT name FROM customer\n",
    "            JOIN department ON customer.id=department.employee_id\n",
    "            WHERE department.title='Разработка'\n",
    "          \"\"\")\n",
    "data = c.fetchall()\n",
    "data"
   ]
  },
  {
   "cell_type": "code",
   "execution_count": 32,
   "metadata": {},
   "outputs": [
    {
     "data": {
      "text/plain": [
       "[]"
      ]
     },
     "execution_count": 32,
     "metadata": {},
     "output_type": "execute_result"
    }
   ],
   "source": [
    "c.execute(\"\"\"\n",
    "            SELECT DISTINCT name FROM customer          \n",
    "            WHERE \n",
    "             id IN (SELECT employee_id FROM department WHERE title='АХО')\n",
    "            AND\n",
    "             NOT name IN (SELECT name FROM customer\n",
    "                          JOIN department ON customer.id=department.employee_id\n",
    "                          WHERE title='Разработка')\n",
    "          \"\"\")\n",
    "data = c.fetchall()\n",
    "data"
   ]
  },
  {
   "cell_type": "markdown",
   "metadata": {},
   "source": [
    "#### Закрытие соединения с базой данных и удаление файла базы данных"
   ]
  },
  {
   "cell_type": "code",
   "execution_count": 33,
   "metadata": {},
   "outputs": [],
   "source": [
    "conn.close()"
   ]
  },
  {
   "cell_type": "code",
   "execution_count": 34,
   "metadata": {},
   "outputs": [],
   "source": [
    "if os.path.isfile('test.sqlite'):\n",
    "    os.remove('test.sqlite')"
   ]
  },
  {
   "cell_type": "code",
   "execution_count": 35,
   "metadata": {},
   "outputs": [
    {
     "name": "stdout",
     "output_type": "stream",
     "text": [
      " ARIMA.ipynb\t\t\t\t  NQueensTask.ipynb\r\n",
      " digits_recognition_with_TF_DNN.ipynb\t  PictureCapture.ipynb\r\n",
      " EDA.ipynb\t\t\t\t  Pipelines.ipynb\r\n",
      " flask\t\t\t\t\t  README.md\r\n",
      "'GridSearchCV example.ipynb'\t\t  RNN.ipynb\r\n",
      " Holdout_model_testing.ipynb\t\t  SQL_DB.ipynb\r\n",
      " IMDB_emotions_with_TF_Embeddings.ipynb   TensorFlow_basics.ipynb\r\n",
      " LICENSE\t\t\t\t  TextFeaturesExtraction.ipynb\r\n",
      " NetworkX.ipynb\r\n"
     ]
    }
   ],
   "source": [
    "!ls"
   ]
  },
  {
   "cell_type": "code",
   "execution_count": null,
   "metadata": {},
   "outputs": [],
   "source": []
  }
 ],
 "metadata": {
  "kernelspec": {
   "display_name": "Python 3",
   "language": "python",
   "name": "python3"
  },
  "language_info": {
   "codemirror_mode": {
    "name": "ipython",
    "version": 3
   },
   "file_extension": ".py",
   "mimetype": "text/x-python",
   "name": "python",
   "nbconvert_exporter": "python",
   "pygments_lexer": "ipython3",
   "version": "3.7.4"
  }
 },
 "nbformat": 4,
 "nbformat_minor": 4
}
