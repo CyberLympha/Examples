{
 "cells": [
  {
   "cell_type": "markdown",
   "metadata": {
    "collapsed": true,
    "pycharm": {
     "name": "#%% md\n"
    }
   },
   "source": [
    "# Описание и примеры использования библиотеки NLTK\n",
    "\n",
    "Библиотека NLTK была создана в 2001 году как часть курса компьютерной\n",
    "лингвистики факультета компьютерных и информационных наук Пенсильванского\n",
    "университета, в дальнейшем библиотека разрабатывалась сообществом и применялась\n",
    "во многих исследованиях и университетских курсах [1].\n",
    "\n",
    "Список основных модулей NLTK:\n",
    "\n",
    "<table>\n",
    "    <thead>\n",
    "    <tr>\n",
    "        <th class=\"head\">Задача обработки языка</th>\n",
    "        <th class=\"head\">Модули NLTK</th>\n",
    "        <th class=\"head\">Функциональность</th>\n",
    "    </tr>\n",
    "    </thead>\n",
    "    <tbody>\n",
    "    <tr>\n",
    "        <td>Доступ к корпусам</td>\n",
    "        <td>corpus</td>\n",
    "        <td>Стандартизированные интерфейсы корпусов и лексиконов</td>\n",
    "    </tr>\n",
    "    <tr>\n",
    "        <td>Обработка строк</td>\n",
    "        <td>tokenize, stem</td>\n",
    "        <td>токенизаторы, токенизаторы предложений, стеммеры</td>\n",
    "    </tr>\n",
    "    <tr>\n",
    "        <td>Обнаружение словосочетаний</td>\n",
    "        <td>collocations</td>\n",
    "        <td>t-тест, χ<sup>2</sup>, точечная взаимная информация</td>\n",
    "    </tr>\n",
    "    <tr>\n",
    "        <td>Разметка частей речи</td>\n",
    "        <td>tag</td>\n",
    "        <td>n-gram, backoff, Brill, HMM, TnT</td>\n",
    "    </tr>\n",
    "    <tr>\n",
    "        <td>Машинное обучение</td>\n",
    "        <td>classify, cluster, tbl</td>\n",
    "        <td>decision tree, maximum entropy, naive Bayes, EM, k-means</td>\n",
    "    </tr>\n",
    "    <tr>\n",
    "        <td>Разбиение предложений</td>\n",
    "        <td>chunk</td>\n",
    "        <td>Регулярные выражения, n-граммы, именованные сущности</td>\n",
    "    </tr>\n",
    "    <tr>\n",
    "        <td>Парсинг</td>\n",
    "        <td>parse, ccg</td>\n",
    "        <td>chart, feature-based, unification, probabilistic, dependency</td>\n",
    "    </tr>\n",
    "    <tr>\n",
    "        <td>Семантическая интерпретация</td>\n",
    "        <td>sem, inference</td>\n",
    "        <td>лямбда-исчисление, логика первого порядка, проверка моделей</td>\n",
    "    </tr>\n",
    "    <tr>\n",
    "        <td>Показатели</td>\n",
    "        <td>metrics</td>\n",
    "        <td>точнгоссть, recall, коэффициенты согласия</td>\n",
    "    </tr>\n",
    "    <tr>\n",
    "        <td>Вероятность и оценка</td>\n",
    "        <td>probability</td>\n",
    "        <td>распределения частот, сглаженные распределения вероятностей</td>\n",
    "    </tr>\n",
    "    <tr>\n",
    "        <td>Приложения</td>\n",
    "        <td>app, chat</td>\n",
    "        <td>graphical concordancer, parsers, WordNet browser, chatbots</td>\n",
    "    </tr>\n",
    "    <tr>\n",
    "        <td>Linguistic fieldwork</td>\n",
    "        <td>toolbox</td>\n",
    "        <td>манипулирование данными в формате SIL Toolbox</td>\n",
    "    </tr>\n",
    "    </tbody>\n",
    "</table>"
   ]
  },
  {
   "cell_type": "markdown",
   "source": [
    "## Обработка языка и Python\n",
    "\n",
    "Для подключения NLTK к python-скрипту необходимо выполнить"
   ],
   "metadata": {
    "collapsed": false,
    "pycharm": {
     "name": "#%% md\n"
    }
   }
  },
  {
   "cell_type": "code",
   "execution_count": 2,
   "outputs": [],
   "source": [
    "import abc\n",
    "import re\n",
    "from math import pi\n",
    "import nltk\n",
    "import io\n",
    "import typing\n",
    "import sys\n",
    "import nltk.corpus.util\n",
    "import nltk.collections\n",
    "\n",
    "\n",
    "def get_print_as_str(f: typing.Callable) -> str:\n",
    "    result = io.StringIO\n",
    "    stdout = sys.stdout\n",
    "    sys.stdout = result\n",
    "    f()\n",
    "    sys.stdout = stdout\n",
    "    return result.getvalue()"
   ],
   "metadata": {
    "collapsed": false,
    "pycharm": {
     "name": "#%%\n"
    }
   }
  },
  {
   "cell_type": "markdown",
   "source": [
    "Затем загрузим необходимые данные с помощью"
   ],
   "metadata": {
    "collapsed": false,
    "pycharm": {
     "name": "#%% md\n"
    }
   }
  },
  {
   "cell_type": "code",
   "execution_count": 19,
   "outputs": [
    {
     "name": "stdout",
     "output_type": "stream",
     "text": [
      "showing info https://raw.githubusercontent.com/nltk/nltk_data/gh-pages/index.xml\n"
     ]
    },
    {
     "data": {
      "text/plain": "True"
     },
     "execution_count": 19,
     "metadata": {},
     "output_type": "execute_result"
    }
   ],
   "source": [
    "nltk.download()"
   ],
   "metadata": {
    "collapsed": false,
    "pycharm": {
     "name": "#%%\n"
    }
   }
  },
  {
   "cell_type": "markdown",
   "source": [
    "В открывшемся окне можно выбрать необходимые корпусы и модели или коллекцию\n",
    "для загрузки.\n",
    "\n",
    "Для дальнейших примеров потребуется коллекция `book`.\n",
    "\n",
    "Загрузим набор текстов и предложений из пакета `book`:"
   ],
   "metadata": {
    "collapsed": false,
    "pycharm": {
     "name": "#%% md\n"
    }
   }
  },
  {
   "cell_type": "code",
   "execution_count": 3,
   "outputs": [
    {
     "name": "stdout",
     "output_type": "stream",
     "text": [
      "*** Introductory Examples for the NLTK Book ***\n",
      "Loading text1, ..., text9 and sent1, ..., sent9\n",
      "Type the name of the text or sentence to view it.\n",
      "Type: 'texts()' or 'sents()' to list the materials.\n",
      "text1: Moby Dick by Herman Melville 1851\n",
      "text2: Sense and Sensibility by Jane Austen 1811\n",
      "text3: The Book of Genesis\n",
      "text4: Inaugural Address Corpus\n",
      "text5: Chat Corpus\n",
      "text6: Monty Python and the Holy Grail\n",
      "text7: Wall Street Journal\n",
      "text8: Personals Corpus\n",
      "text9: The Man Who Was Thursday by G . K . Chesterton 1908\n"
     ]
    }
   ],
   "source": [
    "from nltk.book import *"
   ],
   "metadata": {
    "collapsed": false,
    "pycharm": {
     "name": "#%%\n"
    }
   }
  },
  {
   "cell_type": "markdown",
   "source": [
    "В результате в память интерпретатора загружаются переменные `sent1` – `sent9`\n",
    "типа `list[str]` — предложения в виде неразмеченных списков токенов, тексты\n",
    "`text1` –  `text9` и корпусы\n",
    " `genesis, gutenberg, inaugutal, nps_chat,treebank, webtext, wordnet`."
   ],
   "metadata": {
    "collapsed": false,
    "pycharm": {
     "name": "#%% md\n"
    }
   }
  },
  {
   "cell_type": "markdown",
   "source": [
    "### Поиск текста\n",
    "\n",
    "Для того, чтобы получить все вхождения конкретного слова в текст без учёта\n",
    "регистра с некоторыми контекстом, можно использовать метод `concordance`,\n",
    "например:"
   ],
   "metadata": {
    "collapsed": false,
    "pycharm": {
     "name": "#%% md\n"
    }
   }
  },
  {
   "cell_type": "code",
   "execution_count": 21,
   "outputs": [
    {
     "name": "stdout",
     "output_type": "stream",
     "text": [
      "Displaying 9 of 9 matches:\n",
      "rch ?\" \" Why ,\" said I , \" he ' s a member of the first Congregational Church \n",
      "ueequeg . \" How long hath he been a member ?\" he then said , turning to me ; \"\n",
      "ad , \" is this Philistine a regular member of Deacon Deuteronomy ' s meeting ?\n",
      "w is , that Queequeg here is a born member of the First Congregational Church \n",
      "han a blow from a cane . The living member -- that makes the living insult , m\n",
      ", Jonah , and Vishnoo ! there ' s a member - roll for you ! What club but the \n",
      "eed twenty feet across . The entire member seems a dense webbed bed of welded \n",
      "is comrades quit him . But strike a member of the harem school , and her compa\n",
      " ' s naturalists , we find a Danish member of the Academy of Sciences setting \n"
     ]
    }
   ],
   "source": [
    "text1.concordance(\"member\")"
   ],
   "metadata": {
    "collapsed": false,
    "pycharm": {
     "name": "#%%\n"
    }
   }
  },
  {
   "cell_type": "code",
   "execution_count": 22,
   "outputs": [
    {
     "name": "stdout",
     "output_type": "stream",
     "text": [
      "Displaying 25 of 38 matches:\n",
      "ay when they were created . And Adam lived an hundred and thirty years , and be\n",
      "ughters : And all the days that Adam lived were nine hundred and thirty yea and\n",
      "nd thirty yea and he died . And Seth lived an hundred and five years , and bega\n",
      "ve years , and begat Enos : And Seth lived after he begat Enos eight hundred an\n",
      "welve years : and he died . And Enos lived ninety years , and begat Cainan : An\n",
      " years , and begat Cainan : And Enos lived after he begat Cainan eight hundred \n",
      "ive years : and he died . And Cainan lived seventy years and begat Mahalaleel :\n",
      "rs and begat Mahalaleel : And Cainan lived after he begat Mahalaleel eight hund\n",
      "years : and he died . And Mahalaleel lived sixty and five years , and begat Jar\n",
      "s , and begat Jared : And Mahalaleel lived after he begat Jared eight hundred a\n",
      "and five yea and he died . And Jared lived an hundred sixty and two years , and\n",
      "o years , and he begat Eno And Jared lived after he begat Enoch eight hundred y\n",
      " and two yea and he died . And Enoch lived sixty and five years , and begat Met\n",
      " ; for God took him . And Methuselah lived an hundred eighty and seven years , \n",
      " , and begat Lamech . And Methuselah lived after he begat Lamech seven hundred \n",
      "nd nine yea and he died . And Lamech lived an hundred eighty and two years , an\n",
      "ch the LORD hath cursed . And Lamech lived after he begat Noah five hundred nin\n",
      "naan shall be his servant . And Noah lived after the flood three hundred and fi\n",
      "xad two years after the flo And Shem lived after he begat Arphaxad five hundred\n",
      "at sons and daughters . And Arphaxad lived five and thirty years , and begat Sa\n",
      "ars , and begat Salah : And Arphaxad lived after he begat Salah four hundred an\n",
      "begat sons and daughters . And Salah lived thirty years , and begat Eber : And \n",
      "y years , and begat Eber : And Salah lived after he begat Eber four hundred and\n",
      " begat sons and daughters . And Eber lived four and thirty years , and begat Pe\n",
      "y years , and begat Peleg : And Eber lived after he begat Peleg four hundred an\n"
     ]
    }
   ],
   "source": [
    "text3.concordance(\"lived\")"
   ],
   "metadata": {
    "collapsed": false,
    "pycharm": {
     "name": "#%%\n"
    }
   }
  },
  {
   "cell_type": "markdown",
   "source": [
    "Для получения списка слов, используемых в том же контексте, что и исследуемое,\n",
    "используется метод `similar`:"
   ],
   "metadata": {
    "collapsed": false,
    "pycharm": {
     "name": "#%% md\n"
    }
   }
  },
  {
   "cell_type": "code",
   "execution_count": 23,
   "outputs": [
    {
     "name": "stdout",
     "output_type": "stream",
     "text": [
      "words in text1 similar to 'member'\n",
      "king chance ship little sudden flash feather school while whale word\n",
      "roll devil view dragon sea thing boat land vessel\n",
      "\n",
      "words in text2 similar to 'lived'\n",
      "was said had been came were is found called happened added might\n",
      "promised arrived done expected began engaged seemed continued\n"
     ]
    }
   ],
   "source": [
    "print(\"words in text1 similar to 'member'\")\n",
    "text1.similar(\"member\")\n",
    "print(\"\\nwords in text2 similar to 'lived'\")\n",
    "text2.similar(\"lived\")"
   ],
   "metadata": {
    "collapsed": false,
    "pycharm": {
     "name": "#%%\n"
    }
   }
  },
  {
   "cell_type": "markdown",
   "source": [
    "Для получения контекста похожих слов можно использовать метод `common_contexts`:"
   ],
   "metadata": {
    "collapsed": false,
    "pycharm": {
     "name": "#%% md\n"
    }
   }
  },
  {
   "cell_type": "code",
   "execution_count": 24,
   "outputs": [
    {
     "name": "stdout",
     "output_type": "stream",
     "text": [
      "Common contexts for the words 'king' and 'member' in text1:\n",
      "a_of a_he\n",
      "\n",
      "Common contexts for the words 'lived' and 'continued' in text1:\n",
      "she_but she_as\n"
     ]
    }
   ],
   "source": [
    "print(\"Common contexts for the words 'king' and 'member' in text1:\")\n",
    "text1.common_contexts(['king', 'member'])\n",
    "print(\"\\nCommon contexts for the words 'lived' and 'continued' in text1:\")\n",
    "text2.common_contexts(['lived', 'continued'])"
   ],
   "metadata": {
    "collapsed": false,
    "pycharm": {
     "name": "#%%\n"
    }
   }
  },
  {
   "cell_type": "markdown",
   "source": [
    "Также возможно построить распределение позиций слов в тексте:"
   ],
   "metadata": {
    "collapsed": false,
    "pycharm": {
     "name": "#%% md\n"
    }
   }
  },
  {
   "cell_type": "code",
   "execution_count": 25,
   "outputs": [
    {
     "data": {
      "text/plain": "<Figure size 432x288 with 1 Axes>",
      "image/png": "[encoded data removed]"
     },
     "metadata": {
      "needs_background": "light"
     },
     "output_type": "display_data"
    }
   ],
   "source": [
    "text2.dispersion_plot([\"very\", \"height\", \"weight\", \"age\"])"
   ],
   "metadata": {
    "collapsed": false,
    "pycharm": {
     "name": "#%%\n"
    }
   }
  },
  {
   "cell_type": "code",
   "execution_count": 26,
   "outputs": [
    {
     "data": {
      "text/plain": "<Figure size 432x288 with 1 Axes>",
      "image/png": "[encoded data removed]"
     },
     "metadata": {
      "needs_background": "light"
     },
     "output_type": "display_data"
    }
   ],
   "source": [
    "text3.dispersion_plot([\"very\", \"height\", \"weight\", \"age\"])"
   ],
   "metadata": {
    "collapsed": false,
    "pycharm": {
     "name": "#%%\n"
    }
   }
  },
  {
   "cell_type": "markdown",
   "source": [
    "### Подсчёт словаря\n",
    "\n",
    "Как можно заметить из предыдущих примеров, разные тексты отличаются по\n",
    "словарному запасу.\n",
    "\n",
    "Для начала посмотрим количество слов и знаков препинания в тексте:"
   ],
   "metadata": {
    "collapsed": false,
    "pycharm": {
     "name": "#%% md\n"
    }
   }
  },
  {
   "cell_type": "code",
   "execution_count": 27,
   "outputs": [
    {
     "name": "stdout",
     "output_type": "stream",
     "text": [
      "141576\n"
     ]
    }
   ],
   "source": [
    "print(len(text2))"
   ],
   "metadata": {
    "collapsed": false,
    "pycharm": {
     "name": "#%%\n"
    }
   }
  },
  {
   "cell_type": "markdown",
   "source": [
    "Сортированный список токенов, встречающихся в тексте, можно получить с помощью\n",
    "конструкции"
   ],
   "metadata": {
    "collapsed": false,
    "pycharm": {
     "name": "#%% md\n"
    }
   }
  },
  {
   "cell_type": "code",
   "execution_count": 28,
   "outputs": [
    {
     "data": {
      "text/plain": "['!',\n '!\"',\n '!\"--',\n \"!'\",\n '!\\'\"',\n '!--',\n '!--\"',\n '\"',\n '\"\\'',\n '\"--',\n '&',\n \"'\",\n \"',\",\n \"'--\",\n '(',\n ')',\n '),',\n ')--',\n '***',\n ',',\n ',\"',\n ',\"--',\n \",'\",\n ',)',\n ',-',\n ',--',\n ',--\"',\n '-',\n '--',\n '--\"',\n \"--'\",\n '--(',\n '--,',\n '-?',\n '-?\"',\n '.',\n '.\"',\n '.\"--',\n \".'\",\n '.\\'\"',\n \".'--\",\n '.)',\n '.)--',\n '.--',\n '.--\"',\n '...',\n '...\"',\n '.]',\n '1',\n '10',\n '11',\n '12',\n '13',\n '14',\n '15',\n '16',\n '17',\n '18',\n '1811',\n '19',\n '2',\n '20',\n '200',\n '21',\n '22',\n '23',\n '24',\n '25',\n '26',\n '27',\n '28',\n '29',\n '3',\n '30',\n '31',\n '32',\n '33',\n '34',\n '35',\n '36',\n '37',\n '38',\n '39',\n '4',\n '40',\n '41',\n '42',\n '43',\n '44',\n '45',\n '46',\n '47',\n '48',\n '49',\n '5',\n '50',\n '6',\n '7',\n '7000L',\n '8',\n '9',\n ':',\n ':--',\n ':--\"',\n ';',\n ';\"',\n ';\"--',\n \";'\",\n ';--',\n ';--\"',\n '>',\n '?',\n '?\"',\n '?\"--',\n \"?'\",\n '?)',\n '?--',\n '?--\"',\n 'A',\n 'ALL',\n 'ALMOST',\n 'ALWAYS',\n 'AM',\n 'ANY',\n 'ARE',\n 'Abbeyland',\n 'About',\n 'Absence',\n 'Abundance',\n 'Add',\n 'Affecting',\n 'After',\n 'Again',\n 'Against',\n 'Ah',\n 'All',\n 'Allenham',\n 'Allow',\n 'Almost',\n 'Altogether',\n 'Am',\n 'Among',\n 'Amongst',\n 'An',\n 'And',\n 'Annamaria',\n 'Anne',\n 'Another',\n 'Anxiety',\n 'April',\n 'Are',\n 'As',\n 'Ashamed',\n 'Astonished',\n 'Astonishment',\n 'At',\n 'Austen',\n 'Avignon',\n 'Ay',\n 'Aye',\n 'BEEN',\n 'BOTH',\n 'Bad',\n 'Bartlett',\n 'Barton',\n 'Bath',\n 'Beautifully',\n 'Because',\n 'Before',\n 'Being',\n 'Believe',\n 'Benevolent',\n 'Berkeley',\n 'Besides',\n 'Betty',\n 'Between',\n 'Beyond',\n 'Biddy',\n 'Bishop',\n 'Bond',\n 'Bonomi',\n 'Born',\n 'Brandon',\n 'Bristol',\n 'Brown',\n 'Building',\n 'Buildings',\n 'Burgess',\n 'Business',\n 'But',\n 'By',\n 'CAN',\n 'CATCHING',\n 'CHAPTER',\n 'COULD',\n 'Can',\n 'Careless',\n 'Careys',\n 'Cartwright',\n 'Casino',\n 'Cassino',\n 'Certainly',\n 'Chagrined',\n 'Charlotte',\n 'Choice',\n 'Christian',\n 'Christmas',\n 'Civil',\n 'Clarke',\n 'Cleveland',\n 'Cold',\n 'Colonel',\n 'Columella',\n 'Combe',\n 'Come',\n 'Common',\n 'Comparisons',\n 'Concealing',\n 'Concern',\n 'Conduit',\n 'Confess',\n 'Consider',\n 'Considering',\n 'Constantia',\n 'Continual',\n 'Conversation',\n 'Cottage',\n 'Could',\n 'Court',\n 'Courtland',\n 'Cowper',\n 'Cross',\n 'Cruel',\n 'D',\n 'DEAR',\n 'DID',\n 'DO',\n 'DOES',\n 'DRAW',\n 'Dartford',\n 'Dashwood',\n 'Dashwoods',\n 'Davies',\n 'Dawlish',\n 'Dear',\n 'Dearest',\n 'Delaford',\n 'Dennison',\n 'Depend',\n 'Design',\n 'Determined',\n 'Devonshire',\n 'Did',\n 'Disappointed',\n 'Disappointment',\n 'Do',\n 'Doctor',\n 'Does',\n 'Domestic',\n 'Don',\n 'Donavan',\n 'Dorsetshire',\n 'Down',\n 'Dr',\n 'Drury',\n 'Dullness',\n 'During',\n 'Duty',\n 'EDWARD',\n 'ELINOR',\n 'END',\n 'ESTEEM',\n 'Each',\n 'Eager',\n 'Early',\n 'East',\n 'Easter',\n 'Edward',\n 'Elinor',\n 'Eliza',\n 'Elliott',\n 'Ellison',\n 'Ellisons',\n 'Encouraged',\n 'Engaged',\n 'Engagement',\n 'England',\n 'Epicurism',\n 'Esq',\n 'Esteem',\n 'Even',\n 'Every',\n 'Everybody',\n 'Excellent',\n 'Exchange',\n 'Excuse',\n 'Exert',\n 'Exeter',\n 'Extend',\n 'Extravagance',\n 'F',\n 'FAITH',\n 'FERRARS',\n 'Fanny',\n 'Far',\n 'Farm',\n 'February',\n 'Ferrars',\n 'Few',\n 'Fifteen',\n 'Fifty',\n 'Five',\n 'Folly',\n 'For',\n 'Forgive',\n 'Fortunately',\n 'Four',\n 'Friday',\n 'From',\n 'Frosts',\n 'GAUCHERIE',\n 'Gardens',\n 'Gentleman',\n 'Get',\n 'Gibson',\n 'Gilberts',\n 'Go',\n 'God',\n 'Godby',\n 'Going',\n 'Gone',\n 'Good',\n 'Gracious',\n 'Grandeur',\n 'Gray',\n 'Greatness',\n 'Grecian',\n 'Grey',\n 'HAD',\n 'HAS',\n 'HE',\n 'HER',\n 'HERS',\n 'HIM',\n 'HIS',\n 'Had',\n 'Half',\n 'Hamlet',\n 'Hanger',\n 'Hanover',\n 'Happy',\n 'Harley',\n 'Harris',\n 'Harry',\n 'Has',\n 'Have',\n 'Having',\n 'He',\n 'Heaven',\n 'Henry',\n 'Henshawe',\n 'Her',\n 'Here',\n 'High',\n 'His',\n 'Hitherto',\n 'Holborn',\n 'Holburn',\n 'Hon',\n 'Honiton',\n 'Hope',\n 'Hour',\n 'House',\n 'How',\n 'However',\n 'Hum',\n 'Hunters',\n 'Hush',\n 'I',\n 'II',\n 'IN',\n 'INconvenience',\n 'IS',\n 'If',\n 'Imagine',\n 'Impatient',\n 'Impossible',\n 'Improve',\n 'Impudence',\n 'In',\n 'Indeed',\n 'Indies',\n 'Infirmity',\n 'Inn',\n 'Instead',\n 'Invited',\n 'Is',\n 'It',\n 'JOHN',\n 'James',\n 'Jane',\n 'January',\n 'Jenning',\n 'Jennings',\n 'John',\n 'Just',\n 'KNEW',\n 'Kensington',\n 'Kingham',\n 'Know',\n 'Knowing',\n 'L',\n 'LESS',\n 'LET',\n 'LONG',\n 'LOOK',\n 'LOOKED',\n 'LUCY',\n 'La',\n 'Lady',\n 'Ladyship',\n 'Lane',\n 'Last',\n 'Laughing',\n 'Law',\n 'Let',\n 'Life',\n 'Like',\n 'Little',\n 'Lodging',\n 'Lombardy',\n 'London',\n 'Long',\n 'Longstaple',\n 'Look',\n 'Lord',\n 'Luckily',\n 'Lucy',\n 'M',\n 'MADAM',\n 'MAY',\n 'ME',\n 'MIND',\n 'MONTH',\n 'MUST',\n 'MY',\n 'Ma',\n 'Mab',\n 'Madam',\n 'Magna',\n 'Mall',\n 'Mama',\n 'Mamma',\n 'Mansion',\n 'Many',\n 'March',\n 'Margaret',\n 'Marianne',\n 'Marlborough',\n 'Martha',\n 'Mary',\n 'Master',\n 'May',\n 'Me',\n 'Men',\n 'Michaelmas',\n 'Mid',\n 'Middleton',\n 'Middletons',\n 'Midsummer',\n 'Mind',\n 'Mine',\n 'Misery',\n 'Miss',\n 'Misses',\n 'Mistress',\n 'Monday',\n 'Months',\n 'More',\n 'Morton',\n 'Most',\n 'Mr',\n 'Mrs',\n 'Much',\n 'Music',\n 'Must',\n 'My',\n 'NOT',\n 'NOW',\n 'Nancy',\n 'Nay',\n 'Neither',\n 'Never',\n 'New',\n 'Newton',\n 'No',\n 'Nobody',\n 'None',\n 'Nor',\n 'Norfolk',\n 'Norland',\n 'Not',\n 'Nothing',\n 'November',\n 'Now',\n 'OCCASION',\n 'ONCE',\n 'ONE',\n 'OUGHT',\n 'OWN',\n 'October',\n 'Of',\n 'Offended',\n 'Oh',\n 'On',\n 'Once',\n 'One',\n 'Only',\n 'Opportunity',\n 'Opposition',\n 'Or',\n 'Other',\n 'Others',\n 'Our',\n 'Oxford',\n 'P',\n 'PARTIES',\n 'Pall',\n 'Palmer',\n 'Palmers',\n 'Pardon',\n 'Park',\n 'Parliament',\n 'Parrys',\n 'Parsonage',\n 'Perhaps',\n 'Pity',\n 'Please',\n 'Pleased',\n 'Plymouth',\n 'Poor',\n 'Pope',\n 'Portman',\n 'Pratt',\n 'Pray',\n 'Precious',\n 'Preparation',\n 'Prescriptions',\n 'Priory',\n 'Queen',\n 'Quite',\n 'REALLY',\n 'ROBERT',\n 'Rather',\n 'Reading',\n 'Really',\n 'Recollecting',\n 'Reflection',\n 'Regard',\n 'Relate',\n 'Remember',\n 'Reserved',\n 'Restless',\n 'Richard',\n 'Richardson',\n 'Richardsons',\n 'Robert',\n 'Rose',\n 'S',\n 'SHALL',\n 'SHE',\n 'SHOULD',\n 'SIR',\n 'SOMETIMES',\n 'STILL',\n 'Sackville',\n 'Sally',\n 'Sandersons',\n 'Saturday',\n 'Scarcely',\n 'Scotland',\n 'Scott',\n 'Secrecy',\n 'Selfish',\n 'Sense',\n 'Sensibility',\n 'September',\n 'Seven',\n 'Shakespeare',\n 'Shall',\n 'Sharpe',\n 'She',\n 'Short',\n 'Should',\n 'Shyness',\n 'Simpson',\n 'Since',\n 'Sincerely',\n 'Sir',\n 'Sit',\n 'Smith',\n 'So',\n 'Some',\n 'Somehow',\n 'Somerset',\n 'Somersetshire',\n 'Something',\n 'Sometimes',\n 'Soon',\n 'Sophia',\n 'Sparks',\n 'Square',\n 'St',\n 'Stanhill',\n 'Steele',\n 'Steeles',\n 'Still',\n 'Strange',\n 'Street',\n 'Streets',\n 'Such',\n 'Sunday',\n 'Supported',\n 'Supposing',\n 'Sure',\n 'Surely',\n 'Surprised',\n 'Sussex',\n 'THAT',\n 'THE',\n 'THEIR',\n 'THEM',\n 'THEN',\n 'THERE',\n 'THESE',\n 'THEY',\n 'THIS',\n 'THREE',\n 'TIME',\n 'TOLD',\n 'TRIED',\n 'TWICE',\n 'TWO',\n 'Take',\n 'Taylor',\n 'Tell',\n 'Temple',\n 'Thank',\n 'That',\n 'The',\n 'Their',\n 'Then',\n 'There',\n 'These',\n 'They',\n 'Think',\n 'This',\n 'Thomas',\n 'Thomson',\n 'Those',\n 'Though',\n 'Three',\n 'Thunderbolts',\n 'Thursday',\n 'Thus',\n 'Till',\n 'Time',\n 'Tis',\n 'To',\n 'Towards',\n 'Truth',\n 'Tuesday',\n 'Twice',\n 'Twill',\n 'Two',\n 'US',\n 'Unaccountable',\n 'Undoubtedly',\n 'Ungracious',\n 'Upon',\n 'Use',\n 'VERY',\n 'Valley',\n 'Vanity',\n 'Very',\n 'Volume',\n 'W',\n 'WAS',\n 'WE',\n 'WERE',\n 'WHAT',\n 'WHERE',\n 'WILL',\n 'WILLOUGHBY',\n 'WITHOUT',\n 'WORD',\n 'WOULD',\n 'Wait',\n 'Walker',\n 'Want',\n 'Was',\n 'Watched',\n 'We',\n 'Wednesday',\n 'Well',\n 'Were',\n 'Westminster',\n 'Westons',\n 'Weymouth',\n 'What',\n 'Whatever',\n 'When',\n 'Whenever',\n 'Where',\n 'Whereas',\n 'Wherever',\n 'Whether',\n 'Which',\n 'While',\n 'Whitakers',\n 'Whitwell',\n 'Who',\n 'Whoever',\n 'Whom',\n 'Why',\n 'Will',\n 'William',\n 'Williams',\n 'Willing',\n 'Willoughby',\n 'Willoughbys',\n 'With',\n 'Within',\n 'Without',\n 'Would',\n 'Writing',\n 'YOU',\n 'YOUR',\n 'Yes',\n 'Yet',\n 'You',\n 'Your',\n '[',\n ']',\n 'a',\n 'abandoned',\n 'abatement',\n 'abhor',\n 'abhorred',\n 'abhorrence',\n 'abilities',\n 'ability',\n 'able',\n 'ablest',\n 'abode',\n 'abominably',\n 'abounded',\n 'about',\n 'above',\n 'abridge',\n 'abridgement',\n 'abroad',\n 'abruptly',\n 'abruptness',\n 'absence',\n 'absent',\n 'absolute',\n 'absolutely',\n 'abstracted',\n 'abstraction',\n 'abstruse',\n 'absurd',\n 'absurdity',\n 'abundance',\n 'abundantly',\n 'abuse',\n 'abused',\n 'abuses',\n 'acacia',\n 'accelerate',\n 'accent',\n 'accents',\n 'accept',\n 'acceptable',\n 'acceptably',\n 'acceptance',\n 'accepted',\n 'accepting',\n 'accident',\n 'accidental',\n 'accidentally',\n 'accidently',\n 'accommodate',\n 'accommodating',\n 'accommodation',\n 'accommodations',\n 'accompanied',\n 'accompany',\n 'accomplished',\n 'accomplishment',\n 'accordant',\n 'according',\n 'accordingly',\n 'accosted',\n 'account',\n 'accounted',\n 'accounts',\n 'accrue',\n 'accurately',\n 'accusation',\n 'accuse',\n 'accustom',\n 'accustomary',\n 'aches',\n 'aching',\n 'acknowledge',\n 'acknowledged',\n 'acknowledging',\n 'acknowledgment',\n 'acknowledgments',\n 'acquaintance',\n 'acquaintances',\n 'acquainted',\n 'acquiesced',\n 'acquiescence',\n 'acquired',\n 'acquisition',\n 'acquit',\n 'acquitted',\n 'acquitting',\n 'across',\n 'act',\n 'acted',\n 'acting',\n 'action',\n 'actions',\n 'active',\n 'acts',\n 'actual',\n 'actually',\n 'acute',\n 'acutely',\n 'acuteness',\n 'adapted',\n 'add',\n 'added',\n 'adding',\n 'addition',\n 'additional',\n 'additions',\n 'address',\n 'addressed',\n 'addresses',\n 'addressing',\n 'adequate',\n 'adhering',\n 'adieu',\n 'adieus',\n 'adjoining',\n 'adjusting',\n 'administer',\n 'administering',\n 'admirable',\n 'admiration',\n 'admire',\n 'admired',\n 'admirers',\n 'admires',\n 'admiring',\n 'admission',\n 'admit',\n 'admittance',\n 'admitted',\n 'admitting',\n 'adopt',\n 'adopted',\n 'adorned',\n 'advance',\n 'advanced',\n 'advancement',\n 'advances',\n 'advancing',\n 'advantage',\n 'advantageous',\n 'advantages',\n 'advice',\n 'advisable',\n 'advise',\n 'advised',\n 'affability',\n 'affable',\n 'affair',\n 'affairs',\n 'affect',\n 'affectation',\n 'affected',\n 'affectedly',\n 'affecting',\n 'affection',\n 'affectionate',\n 'affectionately',\n 'affections',\n 'affects',\n 'affirmative',\n 'affixed',\n 'afflict',\n 'afflicted',\n 'afflicting',\n 'affliction',\n 'afflictions',\n 'affluence',\n 'afford',\n 'afforded',\n 'affording',\n 'affront',\n 'affronting',\n 'afraid',\n 'after',\n 'afternoon',\n 'afterward',\n 'afterwards',\n 'again',\n 'against',\n 'age',\n 'ages',\n 'aggrandizement',\n 'aggravation',\n 'agitate',\n 'agitated',\n 'agitation',\n 'ago',\n 'agonies',\n 'agony',\n 'agree',\n 'agreeable',\n 'agreed',\n 'agreeing',\n 'agreement',\n 'aid',\n 'ailment',\n 'ailments',\n 'aim',\n 'aimed',\n 'air',\n 'alacrity',\n 'alarm',\n 'alarmed',\n 'alarming',\n 'alarms',\n 'alienated',\n 'alighted',\n 'alike',\n 'alive',\n 'all',\n 'alleged',\n 'alleviation',\n 'allow',\n 'allowable',\n 'allowance',\n 'allowances',\n 'allowed',\n 'allowing',\n 'alloy',\n 'alluded',\n 'allusion',\n 'almost',\n 'alone',\n 'along',\n 'aloud',\n 'alphabet',\n 'already',\n 'also',\n 'altar',\n 'alter',\n 'alteration',\n 'alterations',\n 'altered',\n 'altering',\n 'alternately',\n 'alternative',\n 'although',\n 'altogether',\n 'always',\n 'am',\n 'amazement',\n 'amazing',\n 'amazingly',\n 'ambition',\n 'amended',\n 'amendment',\n 'amends',\n 'amiable',\n 'amiably',\n 'amidst',\n 'amiss',\n 'among',\n 'amongst',\n 'amount',\n 'amounted',\n 'ample',\n ...]"
     },
     "execution_count": 28,
     "metadata": {},
     "output_type": "execute_result"
    }
   ],
   "source": [
    "sorted_words_text2_raw = sorted(set(text2))\n",
    "sorted_words_text2_raw"
   ],
   "metadata": {
    "collapsed": false,
    "pycharm": {
     "name": "#%%\n"
    }
   }
  },
  {
   "cell_type": "markdown",
   "source": [
    "Для очистки от чисел, знаков препинания и одних и тех же слов в разном регистре\n",
    "можно использовать конструкцию"
   ],
   "metadata": {
    "collapsed": false,
    "pycharm": {
     "name": "#%% md\n"
    }
   }
  },
  {
   "cell_type": "code",
   "execution_count": 29,
   "outputs": [
    {
     "data": {
      "text/plain": "['a',\n 'abandoned',\n 'abatement',\n 'abbeyland',\n 'abhor',\n 'abhorred',\n 'abhorrence',\n 'abilities',\n 'ability',\n 'able',\n 'ablest',\n 'abode',\n 'abominably',\n 'abounded',\n 'about',\n 'above',\n 'abridge',\n 'abridgement',\n 'abroad',\n 'abruptly',\n 'abruptness',\n 'absence',\n 'absent',\n 'absolute',\n 'absolutely',\n 'abstracted',\n 'abstraction',\n 'abstruse',\n 'absurd',\n 'absurdity',\n 'abundance',\n 'abundantly',\n 'abuse',\n 'abused',\n 'abuses',\n 'acacia',\n 'accelerate',\n 'accent',\n 'accents',\n 'accept',\n 'acceptable',\n 'acceptably',\n 'acceptance',\n 'accepted',\n 'accepting',\n 'accident',\n 'accidental',\n 'accidentally',\n 'accidently',\n 'accommodate',\n 'accommodating',\n 'accommodation',\n 'accommodations',\n 'accompanied',\n 'accompany',\n 'accomplished',\n 'accomplishment',\n 'accordant',\n 'according',\n 'accordingly',\n 'accosted',\n 'account',\n 'accounted',\n 'accounts',\n 'accrue',\n 'accurately',\n 'accusation',\n 'accuse',\n 'accustom',\n 'accustomary',\n 'aches',\n 'aching',\n 'acknowledge',\n 'acknowledged',\n 'acknowledging',\n 'acknowledgment',\n 'acknowledgments',\n 'acquaintance',\n 'acquaintances',\n 'acquainted',\n 'acquiesced',\n 'acquiescence',\n 'acquired',\n 'acquisition',\n 'acquit',\n 'acquitted',\n 'acquitting',\n 'across',\n 'act',\n 'acted',\n 'acting',\n 'action',\n 'actions',\n 'active',\n 'acts',\n 'actual',\n 'actually',\n 'acute',\n 'acutely',\n 'acuteness',\n 'adapted',\n 'add',\n 'added',\n 'adding',\n 'addition',\n 'additional',\n 'additions',\n 'address',\n 'addressed',\n 'addresses',\n 'addressing',\n 'adequate',\n 'adhering',\n 'adieu',\n 'adieus',\n 'adjoining',\n 'adjusting',\n 'administer',\n 'administering',\n 'admirable',\n 'admiration',\n 'admire',\n 'admired',\n 'admirers',\n 'admires',\n 'admiring',\n 'admission',\n 'admit',\n 'admittance',\n 'admitted',\n 'admitting',\n 'adopt',\n 'adopted',\n 'adorned',\n 'advance',\n 'advanced',\n 'advancement',\n 'advances',\n 'advancing',\n 'advantage',\n 'advantageous',\n 'advantages',\n 'advice',\n 'advisable',\n 'advise',\n 'advised',\n 'affability',\n 'affable',\n 'affair',\n 'affairs',\n 'affect',\n 'affectation',\n 'affected',\n 'affectedly',\n 'affecting',\n 'affection',\n 'affectionate',\n 'affectionately',\n 'affections',\n 'affects',\n 'affirmative',\n 'affixed',\n 'afflict',\n 'afflicted',\n 'afflicting',\n 'affliction',\n 'afflictions',\n 'affluence',\n 'afford',\n 'afforded',\n 'affording',\n 'affront',\n 'affronting',\n 'afraid',\n 'after',\n 'afternoon',\n 'afterward',\n 'afterwards',\n 'again',\n 'against',\n 'age',\n 'ages',\n 'aggrandizement',\n 'aggravation',\n 'agitate',\n 'agitated',\n 'agitation',\n 'ago',\n 'agonies',\n 'agony',\n 'agree',\n 'agreeable',\n 'agreed',\n 'agreeing',\n 'agreement',\n 'ah',\n 'aid',\n 'ailment',\n 'ailments',\n 'aim',\n 'aimed',\n 'air',\n 'alacrity',\n 'alarm',\n 'alarmed',\n 'alarming',\n 'alarms',\n 'alienated',\n 'alighted',\n 'alike',\n 'alive',\n 'all',\n 'alleged',\n 'allenham',\n 'alleviation',\n 'allow',\n 'allowable',\n 'allowance',\n 'allowances',\n 'allowed',\n 'allowing',\n 'alloy',\n 'alluded',\n 'allusion',\n 'almost',\n 'alone',\n 'along',\n 'aloud',\n 'alphabet',\n 'already',\n 'also',\n 'altar',\n 'alter',\n 'alteration',\n 'alterations',\n 'altered',\n 'altering',\n 'alternately',\n 'alternative',\n 'although',\n 'altogether',\n 'always',\n 'am',\n 'amazement',\n 'amazing',\n 'amazingly',\n 'ambition',\n 'amended',\n 'amendment',\n 'amends',\n 'amiable',\n 'amiably',\n 'amidst',\n 'amiss',\n 'among',\n 'amongst',\n 'amount',\n 'amounted',\n 'ample',\n 'amply',\n 'amuse',\n 'amused',\n 'amusement',\n 'amusements',\n 'amusing',\n 'an',\n 'ancient',\n 'and',\n 'anew',\n 'angel',\n 'anger',\n 'angrily',\n 'angry',\n 'anguish',\n 'animated',\n 'animating',\n 'animation',\n 'ankle',\n 'ankles',\n 'annamaria',\n 'anne',\n 'annexed',\n 'annihilation',\n 'announce',\n 'announced',\n 'announcing',\n 'annuities',\n 'annuity',\n 'annum',\n 'another',\n 'answer',\n 'answerable',\n 'answered',\n 'answering',\n 'answers',\n 'anticipate',\n 'anticipated',\n 'anticipating',\n 'anticipation',\n 'anticipations',\n 'anxiety',\n 'anxious',\n 'anxiously',\n 'any',\n 'anybody',\n 'anymore',\n 'anything',\n 'apartment',\n 'apartments',\n 'apiece',\n 'apologies',\n 'apologising',\n 'apologize',\n 'apologized',\n 'apology',\n 'apothecary',\n 'apparent',\n 'apparently',\n 'appeal',\n 'appear',\n 'appearance',\n 'appearances',\n 'appeared',\n 'appearing',\n 'appeased',\n 'appetite',\n 'appetites',\n 'applauded',\n 'application',\n 'applied',\n 'applying',\n 'appointed',\n 'appointment',\n 'apprehended',\n 'apprehension',\n 'apprehensions',\n 'apprehensive',\n 'approach',\n 'approached',\n 'approaching',\n 'approbation',\n 'appropriate',\n 'approve',\n 'approved',\n 'apricot',\n 'april',\n 'aptitude',\n 'arbour',\n 'archness',\n 'ardent',\n 'ardour',\n 'are',\n 'argue',\n 'argument',\n 'arguments',\n 'arise',\n 'arisen',\n 'arm',\n 'arms',\n 'army',\n 'arose',\n 'around',\n 'arranged',\n 'arrangement',\n 'arrangements',\n 'arranging',\n 'arrival',\n 'arrive',\n 'arrived',\n 'arrives',\n 'arriving',\n 'art',\n 'artful',\n 'article',\n 'articulate',\n 'articulation',\n 'artificial',\n 'artless',\n 'artlessness',\n 'as',\n 'ascended',\n 'ascending',\n 'ascertain',\n 'ascertained',\n 'ash',\n 'ashamed',\n 'aside',\n 'ask',\n 'asked',\n 'asking',\n 'asleep',\n 'aspect',\n 'assembled',\n 'assemblies',\n 'assent',\n 'assented',\n 'asserted',\n 'assertion',\n 'assertions',\n 'assiduities',\n 'assiduous',\n 'assigned',\n 'assist',\n 'assistance',\n 'assisted',\n 'assisting',\n 'associate',\n 'associating',\n 'assuage',\n 'assurance',\n 'assurances',\n 'assure',\n 'assured',\n 'assuring',\n 'astonished',\n 'astonishing',\n 'astonishment',\n 'astray',\n 'asunder',\n 'at',\n 'ate',\n 'atmosphere',\n 'atone',\n 'atoned',\n 'atonement',\n 'atoning',\n 'attach',\n 'attached',\n 'attaching',\n 'attachment',\n 'attachments',\n 'attack',\n 'attacked',\n 'attacks',\n 'attainable',\n 'attained',\n 'attempt',\n 'attempted',\n 'attempting',\n 'attempts',\n 'attend',\n 'attendance',\n 'attendant',\n 'attendants',\n 'attended',\n 'attending',\n 'attention',\n 'attentions',\n 'attentive',\n 'attentively',\n 'attitude',\n 'attract',\n 'attracted',\n 'attraction',\n 'attractions',\n 'attractive',\n 'attribute',\n 'attributed',\n 'attributing',\n 'audacity',\n 'audible',\n 'auditors',\n 'augment',\n 'augmented',\n 'augmenting',\n 'aunt',\n 'auspicious',\n 'auspiciously',\n 'austen',\n 'author',\n 'authorised',\n 'authority',\n 'authors',\n 'autumn',\n 'avail',\n 'availed',\n 'avarice',\n 'avignon',\n 'avoid',\n 'avoided',\n 'avoiding',\n 'avowal',\n 'await',\n 'awaited',\n 'awake',\n 'awaken',\n 'awakened',\n 'awakening',\n 'awaking',\n 'aware',\n 'away',\n 'awful',\n 'awhile',\n 'awkward',\n 'awkwardness',\n 'awoke',\n 'ay',\n 'aye',\n 'baby',\n 'bachelor',\n 'back',\n 'backwardness',\n 'backwards',\n 'bad',\n 'badness',\n 'bags',\n 'ball',\n 'balls',\n 'band',\n 'banditti',\n 'banish',\n 'banished',\n 'bank',\n 'banker',\n 'banns',\n 'barbarous',\n 'barbarously',\n 'bargain',\n 'barouche',\n 'barouches',\n 'bartlett',\n 'barton',\n 'bashful',\n 'basis',\n 'basket',\n 'bath',\n 'bathed',\n 'be',\n 'beamed',\n 'bear',\n 'bearing',\n 'bears',\n 'beasts',\n 'beat',\n 'beau',\n 'beauties',\n 'beautiful',\n 'beautifully',\n 'beauty',\n 'beaux',\n 'became',\n 'because',\n 'become',\n 'becoming',\n 'bed',\n 'bedchamber',\n 'bedroom',\n 'bedrooms',\n 'beds',\n 'bee',\n 'beef',\n 'been',\n 'befall',\n 'befallen',\n 'befalls',\n 'befell',\n 'before',\n 'beg',\n 'began',\n 'begged',\n 'begging',\n 'begin',\n 'beginning',\n 'begins',\n 'begun',\n 'behave',\n 'behaved',\n 'behaviour',\n 'beheld',\n 'behind',\n 'behold',\n 'beholding',\n 'being',\n 'beings',\n 'belief',\n 'believe',\n 'believed',\n 'believes',\n 'believing',\n 'bell',\n 'belonged',\n 'belonging',\n 'belongs',\n 'beloved',\n 'below',\n 'bely',\n 'beneath',\n 'benefactress',\n 'beneficial',\n 'benefit',\n 'benefited',\n 'benevolence',\n 'benevolent',\n 'benignant',\n 'bent',\n 'bequeath',\n 'bequeathed',\n 'bequest',\n 'berkeley',\n 'beset',\n 'besides',\n 'bespeak',\n 'bespoke',\n 'best',\n 'bestow',\n 'bestowed',\n 'bestowing',\n 'betray',\n 'betrayed',\n 'betraying',\n 'better',\n 'betty',\n 'between',\n 'bewitching',\n 'beyond',\n 'bias',\n 'biased',\n 'bid',\n 'bidding',\n 'biddy',\n 'bide',\n 'bigger',\n 'billiard',\n 'billiards',\n 'bind',\n 'birth',\n 'bishop',\n 'bit',\n 'bitch',\n 'bitter',\n 'bitterly',\n 'bitterness',\n 'black',\n 'blackest',\n 'blackguard',\n 'blamable',\n 'blame',\n 'blameable',\n 'blamed',\n 'blameless',\n 'blank',\n 'blast',\n 'blasted',\n 'bless',\n 'blessed',\n 'blessing',\n 'blessings',\n 'blights',\n 'blind',\n 'blinded',\n 'blindly',\n 'bliss',\n 'blockhead',\n 'blood',\n 'bloom',\n 'blooming',\n 'blossoms',\n 'blow',\n 'blown',\n 'blue',\n 'blunder',\n 'blundered',\n 'blunt',\n 'bluntly',\n 'blush',\n 'blushed',\n 'blushes',\n 'blushing',\n 'bluster',\n 'board',\n 'boast',\n 'boasting',\n 'bodily',\n 'body',\n 'boiled',\n 'boisterous',\n 'bold',\n 'bolder',\n 'boldly',\n 'bond',\n 'bones',\n 'bonnet',\n 'bonomi',\n 'book',\n 'books',\n 'booksellers',\n 'bore',\n 'born',\n 'borne',\n 'borrow',\n 'borrowed',\n 'both',\n 'bottom',\n 'bottoms',\n 'bound',\n 'bout',\n 'bow',\n 'bowed',\n 'bowing',\n 'bowling',\n 'boy',\n 'boyish',\n 'boys',\n 'branch',\n 'branched',\n 'brandon',\n 'braving',\n 'breach',\n 'break',\n 'breakfast',\n 'breakfasting',\n 'breaking',\n 'breast',\n 'breath',\n 'breathing',\n 'bred',\n 'breed',\n 'breeding',\n 'bribing',\n 'brief',\n 'briefly',\n 'bright',\n 'brightened',\n 'brighter',\n 'brightness',\n 'brilliancy',\n 'brilliant',\n 'bring',\n 'bringing',\n 'brings',\n 'bristol',\n 'broad',\n 'broader',\n 'broke',\n 'broken',\n 'brood',\n 'brooding',\n 'brother',\n 'brothers',\n 'brought',\n 'brow',\n 'brown',\n 'bruised',\n 'brush',\n 'build',\n 'building',\n 'buildings',\n 'built',\n 'bulk',\n 'burgess',\n 'burnt',\n 'burst',\n 'bursts',\n 'bury',\n 'busily',\n 'business',\n 'bustle',\n 'busy',\n 'but',\n 'butcher',\n 'buy',\n 'buying',\n 'by',\n 'bye',\n 'c',\n 'calculate',\n 'calculated',\n 'calculation',\n 'call',\n 'called',\n 'calling',\n 'calls',\n 'calm',\n 'calmer',\n 'calming',\n 'calmly',\n 'calmness',\n 'came',\n 'can',\n 'canal',\n 'candid',\n 'candidly',\n 'candlelight',\n 'candles',\n 'candour',\n 'cannot',\n 'cant',\n 'canvassing',\n 'cap',\n 'capability',\n 'capable',\n 'caprice',\n 'captivate',\n 'captivating',\n 'card',\n 'cards',\n 'care',\n 'careful',\n 'carefully',\n 'carefulness',\n 'careless',\n 'carelessly',\n 'carelessness',\n 'cares',\n 'caresses',\n 'caressing',\n 'careys',\n 'caricature',\n 'carpet',\n 'carriage',\n 'carriages',\n 'carried',\n 'carries',\n 'carry',\n 'carrying',\n 'cartwright',\n 'case',\n 'casement',\n 'cases',\n 'cash',\n 'casino',\n 'cassino',\n 'cast',\n 'casts',\n 'catch',\n 'catching',\n 'cats',\n 'caught',\n 'cause',\n 'caused',\n 'caution',\n 'cautious',\n 'cautiously',\n 'cautiousness',\n 'cavil',\n 'cease',\n 'ceased',\n 'ceasing',\n 'ceiling',\n 'celebrated',\n 'celebration',\n 'censure',\n 'censured',\n 'centered',\n 'centre',\n 'ceremony',\n 'certain',\n 'certainly',\n 'certainties',\n 'certainty',\n 'cessation',\n 'chagrined',\n 'chained',\n 'chair',\n 'chairs',\n 'chaise',\n 'chamber',\n 'chambers',\n 'chance',\n 'chanced',\n 'change',\n 'changed',\n 'changes',\n 'changing',\n 'chaperon',\n 'chapter',\n 'character',\n 'characters',\n 'charge',\n 'charged',\n 'chariot',\n 'charity',\n 'charlotte',\n 'charm',\n 'charmed',\n 'charming',\n 'charms',\n 'chat',\n 'chatty',\n 'cheap',\n 'cheat',\n 'cheated',\n 'check',\n 'checked',\n 'checking',\n 'cheek',\n 'cheeks',\n 'cheered',\n 'cheerful',\n 'cheerfuller',\n 'cheerfulness',\n 'cheerless',\n 'cherished',\n 'cherishing',\n 'cherries',\n 'chicken',\n 'chief',\n 'chiefly',\n 'child',\n 'children',\n 'chimney',\n 'china',\n 'choice',\n 'choked',\n 'choose',\n 'chose',\n 'chosen',\n 'christian',\n 'christmas',\n 'chuckle',\n 'church',\n 'chuse',\n 'chusing',\n 'circle',\n 'circles',\n 'circuit',\n 'circumspection',\n 'circumstance',\n 'circumstanced',\n 'circumstances',\n 'city',\n 'civil',\n 'civilities',\n 'civility',\n 'civilly',\n 'claim',\n 'claimed',\n 'claiming',\n 'claims',\n 'clamorous',\n 'clapped',\n 'clarke',\n 'classed',\n 'clear',\n 'cleared',\n 'clearer',\n 'clearing',\n 'clearly',\n 'clemency',\n 'clergyman',\n 'clerk',\n 'cleveland',\n 'clever',\n 'climate',\n 'climbing',\n 'clock',\n 'clogged',\n 'close',\n 'closed',\n 'closely',\n 'closer',\n 'closet',\n 'closing',\n 'clothes',\n 'cloud',\n 'clouds',\n 'club',\n 'clue',\n 'coach',\n 'coachmaker',\n 'coachman',\n 'coat',\n 'coats',\n 'cod',\n 'coffee',\n 'coincide',\n 'cold',\n 'colder',\n 'coldness',\n 'colicky',\n 'collation',\n 'collect',\n 'collected',\n 'collecting',\n 'collection',\n 'colonel',\n 'colour',\n 'coloured',\n 'colouring',\n 'columella',\n 'combat',\n 'combe',\n 'come',\n 'comer',\n 'comes',\n 'comfort',\n 'comfortable',\n 'comfortably',\n 'comforted',\n 'comforter',\n 'comforts',\n 'coming',\n 'comings',\n 'command',\n 'commanded',\n 'commands',\n 'commendation',\n 'commended',\n 'comment',\n 'comments',\n ...]"
     },
     "execution_count": 29,
     "metadata": {},
     "output_type": "execute_result"
    }
   ],
   "source": [
    "sorted_words_text2 = sorted(set(i.lower() for i in sorted_words_text2_raw if i[0].isalpha()))\n",
    "sorted_words_text2"
   ],
   "metadata": {
    "collapsed": false,
    "pycharm": {
     "name": "#%%\n"
    }
   }
  },
  {
   "cell_type": "markdown",
   "source": [
    "Отношение количества уникальных слов к количеству уникальных токенов"
   ],
   "metadata": {
    "collapsed": false,
    "pycharm": {
     "name": "#%% md\n"
    }
   }
  },
  {
   "cell_type": "code",
   "execution_count": 30,
   "outputs": [
    {
     "data": {
      "text/plain": "0.919508268696034"
     },
     "execution_count": 30,
     "metadata": {},
     "output_type": "execute_result"
    }
   ],
   "source": [
    "len(sorted_words_text2) / len(sorted_words_text2_raw)"
   ],
   "metadata": {
    "collapsed": false,
    "pycharm": {
     "name": "#%%\n"
    }
   }
  },
  {
   "cell_type": "markdown",
   "source": [
    "Один из показателей лексического богатства текста — отношение количества уникальных токенов к общему количеству токенов в тексте:"
   ],
   "metadata": {
    "collapsed": false,
    "pycharm": {
     "name": "#%% md\n"
    }
   }
  },
  {
   "cell_type": "code",
   "execution_count": 31,
   "outputs": [
    {
     "data": {
      "text/plain": "0.04826383002768831"
     },
     "execution_count": 31,
     "metadata": {},
     "output_type": "execute_result"
    }
   ],
   "source": [
    "len(sorted_words_text2_raw) / len(text2)"
   ],
   "metadata": {
    "collapsed": false,
    "pycharm": {
     "name": "#%%\n"
    }
   }
  },
  {
   "cell_type": "markdown",
   "source": [
    "Возможен подсчёт количества вхождений слова в текст и его относительной частоты в тексте:"
   ],
   "metadata": {
    "collapsed": false,
    "pycharm": {
     "name": "#%% md\n"
    }
   }
  },
  {
   "cell_type": "code",
   "execution_count": 32,
   "outputs": [
    {
     "name": "stdout",
     "output_type": "stream",
     "text": [
      "Количество вхождений слова \"and\" в text2: 3350\n",
      "Относительная частота слова \"and\" в text2: 0.0237\n"
     ]
    }
   ],
   "source": [
    "word = \"and\"\n",
    "\n",
    "print(f\"Количество вхождений слова \\\"{word}\\\" в text2: {text2.count(word)}\")\n",
    "print(f\"Относительная частота слова \\\"{word}\\\" в text2: {text2.count(word) / len(text2):.3}\")"
   ],
   "metadata": {
    "collapsed": false,
    "pycharm": {
     "name": "#%%\n"
    }
   }
  },
  {
   "cell_type": "markdown",
   "source": [
    "### Простая статистика в тексте\n",
    "\n",
    "#### Распределение частот\n",
    "\n",
    "Возможно найти распределение слов в тексте по частоте с помощью класса\n",
    "`nltk.FreqDist`:"
   ],
   "metadata": {
    "collapsed": false,
    "pycharm": {
     "name": "#%% md\n"
    }
   }
  },
  {
   "cell_type": "code",
   "execution_count": 33,
   "outputs": [
    {
     "data": {
      "text/plain": "[(',', 9397),\n ('to', 4063),\n ('.', 3975),\n ('the', 3861),\n ('of', 3565),\n ('and', 3350),\n ('her', 2436),\n ('a', 2043),\n ('I', 2004),\n ('in', 1904),\n ('was', 1846),\n ('it', 1568),\n ('\"', 1506),\n (';', 1419),\n ('she', 1333),\n ('be', 1305),\n ('that', 1297),\n ('for', 1234),\n ('not', 1212),\n ('as', 1179)]"
     },
     "execution_count": 33,
     "metadata": {},
     "output_type": "execute_result"
    }
   ],
   "source": [
    "fdist = nltk.FreqDist(text2)\n",
    "fdist.most_common(20)"
   ],
   "metadata": {
    "collapsed": false,
    "pycharm": {
     "name": "#%%\n"
    }
   }
  },
  {
   "cell_type": "markdown",
   "source": [
    "Плучим количество вхождений конкретного слова в текст:"
   ],
   "metadata": {
    "collapsed": false,
    "pycharm": {
     "name": "#%% md\n"
    }
   }
  },
  {
   "cell_type": "code",
   "execution_count": 34,
   "outputs": [
    {
     "data": {
      "text/plain": "135"
     },
     "execution_count": 34,
     "metadata": {},
     "output_type": "execute_result"
    }
   ],
   "source": [
    "fdist[\"about\"]"
   ],
   "metadata": {
    "collapsed": false,
    "pycharm": {
     "name": "#%%\n"
    }
   }
  },
  {
   "cell_type": "markdown",
   "source": [
    "график распределения слов по частоте"
   ],
   "metadata": {
    "collapsed": false,
    "pycharm": {
     "name": "#%% md\n"
    }
   }
  },
  {
   "cell_type": "code",
   "execution_count": 35,
   "outputs": [
    {
     "data": {
      "text/plain": "<Figure size 432x288 with 1 Axes>",
      "image/png": "[encoded data removed]"
     },
     "metadata": {
      "needs_background": "light"
     },
     "output_type": "display_data"
    },
    {
     "data": {
      "text/plain": "<AxesSubplot:xlabel='Samples', ylabel='Counts'>"
     },
     "execution_count": 35,
     "metadata": {},
     "output_type": "execute_result"
    }
   ],
   "source": [
    "fdist.plot(50)"
   ],
   "metadata": {
    "collapsed": false,
    "pycharm": {
     "name": "#%%\n"
    }
   }
  },
  {
   "cell_type": "code",
   "execution_count": 36,
   "outputs": [
    {
     "data": {
      "text/plain": "<Figure size 432x288 with 1 Axes>",
      "image/png": "[encoded data removed]"
     },
     "metadata": {
      "needs_background": "light"
     },
     "output_type": "display_data"
    },
    {
     "data": {
      "text/plain": "<AxesSubplot:xlabel='Samples', ylabel='Cumulative Counts'>"
     },
     "execution_count": 36,
     "metadata": {},
     "output_type": "execute_result"
    }
   ],
   "source": [
    "fdist.plot(50, cumulative=True)"
   ],
   "metadata": {
    "collapsed": false,
    "pycharm": {
     "name": "#%%\n"
    }
   }
  },
  {
   "cell_type": "markdown",
   "source": [
    "По графику видно, что 50 самых частых слов встречаются суммарно около 70000\n",
    "раз при общем количестве слов в тексте 141576\n",
    "\n",
    "Получим список слов, которые встретились в тексте только один раз:"
   ],
   "metadata": {
    "collapsed": false,
    "pycharm": {
     "name": "#%% md\n"
    }
   }
  },
  {
   "cell_type": "code",
   "execution_count": 37,
   "outputs": [
    {
     "data": {
      "text/plain": "['Sense',\n 'Sensibility',\n 'Jane',\n 'Austen',\n '1811',\n ']',\n 'generations',\n 'inheritor',\n 'bequeath',\n 'Gentleman',\n 'relish',\n 'devolved',\n 'inheriting',\n 'moiety',\n 'bequest',\n 'sale',\n 'articulation',\n 'economically',\n 'tardy',\n 'survived',\n 'including',\n 'legacies',\n 'urgency',\n 'prudently',\n 'caricature',\n 'warmed',\n 'Three',\n 'successively',\n 'funeral',\n 'dispute',\n 'decease',\n 'indelicacy',\n 'keen',\n 'whomsoever',\n 'immoveable',\n 'acutely',\n 'qualified',\n 'counsellor',\n 'joys',\n 'afflicted',\n 'strive',\n 'humored',\n 'imbibed',\n 'romance',\n 'thirteen',\n '2',\n 'installed',\n 'degraded',\n 'seasons',\n 'alloy',\n 'impoverishing',\n 'headed',\n 'stipulate',\n 'LET',\n 'diminished',\n 'REALLY',\n 'strikes',\n 'Fifteen',\n 'healthy',\n 'clogged',\n 'superannuated',\n 'amazing',\n 'restriction',\n 'drains',\n 'bind',\n 'inconvenient',\n 'enlarge',\n 'sixpence',\n 'discharging',\n 'presents',\n 'fish',\n 'Altogether',\n 'cheap',\n 'fulfil',\n 'removes',\n 'stock',\n 'belongs',\n 'indecorous',\n 'neighbourly',\n '3',\n 'remembrances',\n 'indefatigable',\n 'steadier',\n 'earthly',\n '7000L',\n 'repressed',\n 'uninfluenced',\n 'asunder',\n 'political',\n 'parliament',\n 'barouches',\n 'centered',\n 'forcibly',\n 'implies',\n 'militated',\n 'uninteresting',\n 'Music',\n 'draws',\n 'connoisseur',\n 'coincide',\n 'impenetrable',\n 'prose',\n 'virtues',\n 'ornament',\n 'destiny',\n '4',\n 'distrusts',\n 'innate',\n 'cordial',\n 'tastes',\n 'worthy',\n 'keeps',\n 'literature',\n 'imperfection',\n 'Esteem',\n 'Cold',\n 'Ashamed',\n 'outstripped',\n 'stimulated',\n 'prosperous',\n 'denote',\n 'unpromising',\n 'inquietude',\n 'forbade',\n 'aggrandizement',\n 'uncivil',\n 'DRAW',\n 'IN',\n 'endeavor',\n 'deliberation',\n 'scale',\n 'vicinity',\n '5',\n 'dispatched',\n 'incommode',\n 'inhabiting',\n 'civilly',\n 'replying',\n 'northward',\n 'disapprobation',\n 'conscientiously',\n 'impracticable',\n 'consisted',\n 'packages',\n 'depart',\n 'west',\n 'disposing',\n 'undoubtingly',\n 'feebly',\n 'drift',\n 'purse',\n 'calculation',\n 'ye',\n 'branch',\n '6',\n 'Valley',\n 'fertile',\n 'wooded',\n 'pasture',\n 'demesne',\n 'wicket',\n 'defective',\n 'tiled',\n 'shutters',\n 'honeysuckles',\n 'garrets',\n 'cheered',\n 'recommending',\n 'cultivated',\n 'woody',\n 'terminated',\n 'branched',\n 'steepest',\n 'parlors',\n 'remainder',\n 'garret',\n 'widen',\n 'alterations',\n 'savings',\n 'endeavoring',\n 'unpacked',\n 'affixed',\n 'landlord',\n 'sociable',\n 'denoting',\n 'detract',\n 'Conversation',\n 'chatty',\n 'differed',\n '7',\n 'screened',\n 'projection',\n 'hospitality',\n 'dissimilar',\n 'talent',\n 'unconnected',\n 'compass',\n 'hunted',\n 'resources',\n 'Continual',\n 'piqued',\n 'collecting',\n 'noisier',\n 'juvenile',\n 'ham',\n 'chicken',\n 'unsatiable',\n 'females',\n 'manor',\n 'moonlight',\n 'Luckily',\n 'fat',\n 'witty',\n 'hearts',\n 'pretended',\n 'blush',\n 'attacks',\n 'adapted',\n 'repulsive',\n 'boisterous',\n 'tore',\n 'unlocked',\n 'songs',\n 'lain',\n 'position',\n 'celebrated',\n 'applauded',\n 'sing',\n 'forfeited',\n 'shameless',\n 'amounted',\n 'ecstatic',\n 'sympathize',\n 'estimable',\n 'contrasted',\n 'insensibility',\n '8',\n 'ample',\n 'respectably',\n 'promotion',\n 'zealously',\n 'weddings',\n 'blushes',\n 'decisively',\n 'accusation',\n 'protect',\n 'Infirmity',\n 'rheumatism',\n 'miracle',\n 'losing',\n 'commercial',\n 'dooming',\n 'rheumatic',\n 'waistcoats',\n 'cramps',\n 'rheumatisms',\n 'afflict',\n 'feeble',\n 'despised',\n 'Confess',\n 'flushed',\n 'Soon',\n 'grate',\n 'bedchamber',\n 'unaccountably',\n 'dejected',\n '9',\n 'familiar',\n 'occupation',\n 'classed',\n 'reminding',\n 'possessor',\n 'stirred',\n 'abounded',\n 'alternative',\n 'valleys',\n 'memorable',\n 'sunshine',\n 'tempting',\n 'pencil',\n 'threatening',\n 'cloud',\n 'blue',\n 'faces',\n 'gales',\n 'westerly',\n 'resisting',\n 'heads',\n 'Chagrined',\n 'exigence',\n 'speed',\n 'pointers',\n 'apologized',\n 'gracefulness',\n 'theme',\n 'gallantry',\n 'lifting',\n 'hero',\n 'dresses',\n 'shooting',\n 'jacket',\n 'sprained',\n 'ankle',\n 'indignantly',\n 'black',\n 'bitch',\n 'shades',\n 'Court',\n 'inherit',\n 'adding',\n 'incommoded',\n 'CATCHING',\n 'Men',\n 'hop',\n 'danced',\n 'abhor',\n 'odious',\n 'gross',\n 'construction',\n 'deemed',\n 'ingenuity',\n 'smitten',\n 'spraining',\n 'ankles',\n '10',\n 'preserver',\n 'precision',\n 'styled',\n 'cant',\n 'outraged',\n 'transparency',\n 'hardily',\n 'passionately',\n 'largest',\n 'conformity',\n 'Encouraged',\n 'convert',\n 'passages',\n 'idolized',\n 'acquiesced',\n 'decisions',\n 'Pope',\n 'exhausted',\n 'scanty',\n 'roads',\n 'jest',\n 'irksome',\n 'persons',\n 'sacrificing',\n 'undivided',\n 'slighting',\n 'desperation',\n 'seized',\n 'rash',\n 'delineated',\n 'brighter',\n 'speculative',\n 'incurred',\n 'annexed',\n 'successful',\n 'mild',\n 'gloominess',\n 'undervalue',\n 'remembers',\n 'patronised',\n 'indignity',\n 'contemptuously',\n 'climate',\n 'mosquitoes',\n 'nabobs',\n 'mohrs',\n 'palanquins',\n 'coats',\n 'Add',\n 'brilliancy',\n 'imperfections',\n 'mass',\n 'possessing',\n 'disarm',\n 'mare',\n '11',\n 'occupy',\n 'execution',\n 'included',\n 'witnessing',\n 'excellencies',\n 'marking',\n 'aim',\n 'illaudable',\n 'illustration',\n 'partners',\n 'dances',\n 'everlasting',\n 'talker',\n 'history',\n 'sisterly',\n 'accidently',\n 'contrives',\n 'basis',\n 'define',\n 'prejudices',\n 'systems',\n 'nought',\n 'resumed',\n 'criminal',\n 'minutiae',\n 'pardonable',\n 'refinements',\n 'connect',\n 'disastrous',\n '12',\n 'arrives',\n 'Imagine',\n 'gallop',\n 'awaken',\n 'dream',\n 'truths',\n 'Seven',\n 'Opposition',\n 'appeal',\n 'representing',\n 'faithful',\n 'forego',\n 'Queen',\n 'Mab',\n 'overheard',\n 'tempers',\n 'clearer',\n 'Down',\n 'whispering',\n 'tumbled',\n 'stated',\n 'unison',\n 'attacked',\n 'curate',\n 'invention',\n 'begins',\n 'inelegant',\n 'mindful',\n 'amidst',\n 'proprietor',\n 'sail',\n 'provisions',\n 'undertaking',\n '13',\n 'dispersing',\n 'hardships',\n 'None',\n 'trick',\n 'Newton',\n 'conveniently',\n 'pry',\n 'stare',\n 'consultation',\n 'leant',\n 'Impudence',\n 'WHERE',\n 'propose',\n 'enquired',\n 'pleasanter',\n 'pleasantness',\n 'evince',\n 'bowling',\n 'newly',\n 'pleasantest',\n '14',\n 'termination',\n 'wonderer',\n 'comings',\n 'goings',\n 'befallen',\n 'wager',\n 'speculation',\n 'incompatible',\n 'contradictory',\n 'ending',\n 'happening',\n 'Improve',\n 'inch',\n 'local',\n 'unemployed',\n 'uselessly',\n 'pull',\n 'smokes',\n 'INconvenience',\n 'broader',\n 'endear',\n 'denoted',\n 'inhabited',\n 'prescience',\n 'Must',\n 'degrade',\n 'Extend',\n '15',\n 'pretext',\n 'foresight',\n 'noticing',\n 'Surprised',\n 'partook',\n 'powered',\n 'Disappointment',\n 'exercised',\n 'dispatches',\n 'exhilaration',\n 'Almost',\n 'confusedly',\n 'torment',\n 'indubitable',\n 'feeding',\n 'Gone',\n 'quarrelled',\n 'suspects',\n 'disapproves',\n 'transact',\n 'dismiss',\n 'dares',\n 'feels',\n 'cavil',\n 'blameable',\n 'inadvertence',\n 'depressed',\n 'certainties',\n 'unavoidably',\n 'Secrecy',\n 'practiced',\n 'ARE',\n 'Concealing',\n 'accuse',\n 'incautiousness',\n 'outweighs',\n 'fainter',\n 'mighty',\n 'concession',\n 'Ungracious',\n 'stranger',\n 'independently',\n 'prosperously',\n 'representations',\n 'swollen',\n '16',\n 'risen',\n 'headache',\n 'potent',\n 'oftenest',\n 'singing',\n 'fetches',\n 'mystery',\n 'Supposing',\n 'inflict',\n 'unacknowledged',\n 'dearly',\n 'revealment',\n 'overstrained',\n 'witticisms',\n 'volume',\n 'Shakespeare',\n 'Hamlet',\n 'Months',\n 'Hitherto',\n 'stole',\n 'climbing',\n 'disapproved',\n 'seclusion',\n 'MIND',\n 'controlled',\n 'stretch',\n 'reaching',\n 'riding',\n 'particularity',\n 'quickened',\n 'dispersed',\n 'continuation',\n 'elect',\n 'thickly',\n 'transporting',\n 'showers',\n 'inspired',\n 'nuisance',\n 'swept',\n 'SOMETIMES',\n 'equals',\n 'rises',\n 'bottoms',\n 'friendliest',\n 'directing',\n 'extorting',\n 'regulate',\n '17',\n 'extending',\n 'reanimate',\n 'parents',\n 'fame',\n 'famous',\n 'Greatness',\n 'Strange',\n 'Grandeur',\n 'external',\n 'TWO',\n 'describing',\n 'accurately',\n 'Hunters',\n 'hunt',\n 'novel',\n 'apiece',\n 'insufficiency',\n 'vanish',\n 'booksellers',\n 'sellers',\n 'Thomson',\n 'disputes',\n 'loose',\n 'cash',\n 'collection',\n 'bulk',\n 'heirs',\n 'ablest',\n 'maxim',\n 'presume',\n 'steadfast',\n 'detected',\n 'mistakes',\n 'ingenious',\n 'oneself',\n 'deliberate',\n 'subservient',\n 'confound',\n 'conform',\n 'Quite',\n 'foolishly',\n 'negligent',\n 'awkwardness',\n 'Shyness',\n 'fullest',\n '18',\n 'inspiring',\n 'reservedness',\n 'intimated',\n 'upstairs',\n '***',\n 'minutely',\n 'surfaces',\n 'uncouth',\n 'irregular',\n 'rugged',\n 'indistinct',\n 'medium',\n 'hazy',\n 'meadows',\n 'scattered',\n 'answers',\n 'unites',\n 'utility',\n 'rocks',\n 'promontories',\n 'grey',\n 'moss',\n 'brush',\n 'believes',\n 'affects',\n 'discrimination',\n 'possesses',\n 'scenery',\n 'pretends',\n 'tries',\n 'defined',\n 'blasted',\n 'flourishing',\n 'tattered',\n 'nettles',\n 'thistles',\n 'heath',\n 'blossoms',\n 'tower',\n 'troop',\n 'tidy',\n 'villages',\n 'banditti',\n 'plait',\n 'conspicuous',\n 'darker',\n 'inconsiderately',\n 'surpassed',\n 'casts',\n 'instantaneously',\n 'conclusions',\n 'theft',\n 'contrivance',\n 'henceforward',\n 'newness',\n 'significant',\n 'instructions',\n 'entertainment',\n 'contribute',\n 'Impossible',\n 'Whitakers',\n 'blushing',\n 'guessing',\n 'hunts',\n 'archness',\n '19',\n 'unequal',\n 'environs',\n 'disengaged',\n 'detested',\n 'Disappointed',\n 'qualifications',\n 'painfully',\n 'extorted',\n 'consistency',\n 'shortness',\n 'temporizing',\n 'grievance',\n 'reformed',\n 'renewal',\n 'finger',\n 'helpless',\n 'army',\n 'chambers',\n 'Temple',\n 'circles',\n 'gigs',\n 'abstruse',\n 'navy',\n 'solicitations',\n 'trades',\n 'Columella',\n 'fascinating',\n 'ere',\n 'defy',\n 'desponding',\n 'judiciously',\n 'augment',\n 'meritorious',\n 'ones',\n 'loving',\n 'shutting',\n 'abundance',\n 'forbidden',\n 'chained',\n 'closing',\n 'knocking',\n 'turf',\n 'casement',\n 'Hush',\n 'hallooing',\n 'plump',\n 'prepossessing',\n 'briefly',\n 'surveying',\n 'meantime',\n 'nodding',\n 'ushered',\n 'stared',\n 'pitched',\n 'ceiling',\n 'oftener',\n '20',\n 'ours',\n 'chaperon',\n 'bowing',\n 'complaining',\n 'Dullness',\n 'billiard',\n 'vile',\n 'Gilberts',\n 'whip',\n 'abused',\n 'genuinely',\n 'unaffectedly',\n 'soured',\n 'bias',\n 'blunder',\n 'establishing',\n 'sneer',\n 'canvassing',\n 'election',\n 'fatiguing',\n 'Parliament',\n 'P',\n 'irrational',\n 'palm',\n 'abuses',\n 'languages',\n 'decline',\n 'changing',\n 'gathered',\n ';--\"',\n 'Somehow',\n 'Weymouth',\n 'praises',\n 'objected',\n '21',\n 'entertain',\n 'unsuitableness',\n 'invite',\n 'philosophy',\n 'ungenteel',\n 'unfashionable',\n 'doatingly',\n 'Benevolent',\n 'philanthropic',\n 'playthings',\n 'boasting',\n 'smartness',\n 'actual',\n 'judicious',\n 'extolling',\n 'humouring',\n 'whims',\n 'importunate',\n 'patterns',\n 'foibles',\n 'rapacious',\n 'beings',\n 'credulous',\n 'exorbitant',\n 'swallow',\n 'endurance',\n 'viewed',\n 'encroachments',\n 'mischievous',\n 'sashes',\n 'untied',\n 'bags',\n 'knives',\n 'composedly',\n 'claiming',\n 'monkey',\n 'pinching',\n 'playful',\n 'caressing',\n 'embraces',\n 'scratching',\n 'pattern',\n 'outdone',\n 'consternation',\n 'surpass',\n 'emergency',\n 'assuage',\n 'sufferer',\n 'kisses',\n 'bathed',\n 'stuffed',\n 'sugar',\n 'plums',\n 'sobbed',\n 'lustily',\n 'kicked',\n 'brothers',\n 'soothings',\n 'ineffectual',\n 'apricot',\n 'marmalade',\n 'successfully',\n 'bruised',\n 'remedy',\n 'scratch',\n 'medicine',\n 'trivial',\n 'lies',\n 'eclat',\n 'doat',\n 'distractedly',\n 'outside',\n 'estimate',\n 'lief',\n 'nasty',\n 'Rose',\n 'clerk',\n 'Simpson',\n 'blinded',\n 'shrewd',\n 'artlessness',\n 'niggardly',\n 'dealt',\n 'consists',\n 'Twill',\n 'proclaiming',\n 'newer',\n 'significancy',\n 'nods',\n 'winks',\n 'countless',\n 'wittiest',\n 'alphabet',\n 'inquisitiveness',\n 'assertions',\n 'petty',\n 'unavailing',\n '22',\n 'toleration',\n 'vulgarity',\n 'striving',\n 'amusing',\n 'mental',\n 'rectitude',\n 'equality',\n 'toward',\n 'valueless',\n 'curious',\n 'manage',\n 'amiably',\n 'bashful',\n 'Astonishment',\n 'disbelief',\n 'divine',\n 'varied',\n 'incredulity',\n 'swoon',\n 'cautiously',\n 'date',\n 'pupil',\n 'OCCASION',\n 'puts',\n 'detecting',\n 'likeness',\n 'paces',\n 'keeping',\n 'Besides',\n 'wiping',\n 'break',\n 'Pardon',\n 'provide',\n 'sometime',\n 'carelessly',\n 'sheet',\n 'subsist',\n 'struggled',\n 'Writing',\n 'separations',\n 'confounded',\n 'editions',\n '23',\n 'inventing',\n 'asserted',\n 'indisputable',\n 'dissatisfaction',\n 'evidence',\n 'condemning',\n 'dupe',\n 'illusion',\n 'softener',\n 'defended',\n 'regain',\n 'infatuation',\n 'frivolous',\n 'supposition',\n 'alienated',\n 'Supported',\n 'extinction',\n 'mourning',\n 'obstacles',\n 'perfections',\n 'entrusted',\n 'aggravation',\n 'unshaken',\n 'poignant',\n 'renewing',\n 'venturing',\n 'confessedly',\n 'joking',\n 'disclosure',\n 'mistrust',\n 'joining',\n 'club',\n 'foresaw',\n 'fairer',\n 'permission',\n 'compliant',\n 'frightful',\n 'novelty',\n 'candlelight',\n 'candles',\n 'reseated',\n 'spoilt',\n 'Casino',\n 'Ladyship',\n 'touched',\n 'tuned',\n 'toned',\n 'rolling',\n 'labour',\n 'singly',\n 'profited',\n 'proposals',\n 'rivals',\n 'forwarding',\n 'wrapped',\n '24',\n 'undeserving',\n 'apologize',\n 'ice',\n 'Offended',\n 'quarrelling',\n 'madness',\n 'test',\n 'lowness',\n 'impose',\n 'involve',\n 'owning',\n ...]"
     },
     "execution_count": 37,
     "metadata": {},
     "output_type": "execute_result"
    }
   ],
   "source": [
    "fdist.hapaxes()"
   ],
   "metadata": {
    "collapsed": false,
    "pycharm": {
     "name": "#%%\n"
    }
   }
  },
  {
   "cell_type": "markdown",
   "source": [
    "Также возможно получить слова текста, удовлетворяющие сложным условия, например\n",
    "список слов длины больше 10, которые встретились в тексте больше 15 раз:"
   ],
   "metadata": {
    "collapsed": false,
    "pycharm": {
     "name": "#%% md\n"
    }
   }
  },
  {
   "cell_type": "code",
   "execution_count": 38,
   "outputs": [
    {
     "data": {
      "text/plain": "['acquaintance',\n 'affectionate',\n 'astonishment',\n 'cheerfulness',\n 'circumstance',\n 'circumstances',\n 'comfortable',\n 'consequence',\n 'conversation',\n 'countenance',\n 'difficulties',\n 'disappointed',\n 'disappointment',\n 'disposition',\n 'exceedingly',\n 'expectation',\n 'immediately',\n 'inclination',\n 'indifference',\n 'indifferent',\n 'information',\n 'intelligence',\n 'observation',\n 'opportunity',\n 'particularly',\n 'particulars',\n 'recollection',\n 'satisfaction',\n 'understanding',\n 'unfortunate']"
     },
     "execution_count": 38,
     "metadata": {},
     "output_type": "execute_result"
    }
   ],
   "source": [
    "frequent_long_words = [w\n",
    "                       for w in sorted_words_text2\n",
    "                       if len(w) > 10 and fdist[w] > 15]\n",
    "frequent_long_words"
   ],
   "metadata": {
    "collapsed": false,
    "pycharm": {
     "name": "#%%\n"
    }
   }
  },
  {
   "cell_type": "markdown",
   "source": [
    "#### Словосочетания и биграмы\n",
    "\n",
    "Чтобы получить  биграмы в тексте существует функция `nltk.bigrams`:"
   ],
   "metadata": {
    "collapsed": false,
    "pycharm": {
     "name": "#%% md\n"
    }
   }
  },
  {
   "cell_type": "code",
   "execution_count": 39,
   "outputs": [
    {
     "data": {
      "text/plain": "[('Pierre', 'Vinken'),\n ('Vinken', ','),\n (',', '61'),\n ('61', 'years'),\n ('years', 'old'),\n ('old', ','),\n (',', 'will'),\n ('will', 'join'),\n ('join', 'the'),\n ('the', 'board'),\n ('board', 'as'),\n ('as', 'a'),\n ('a', 'nonexecutive'),\n ('nonexecutive', 'director'),\n ('director', 'Nov.'),\n ('Nov.', '29'),\n ('29', '.')]"
     },
     "execution_count": 39,
     "metadata": {},
     "output_type": "execute_result"
    }
   ],
   "source": [
    "list(nltk.bigrams(sent7))"
   ],
   "metadata": {
    "collapsed": false,
    "pycharm": {
     "name": "#%%\n"
    }
   }
  },
  {
   "cell_type": "markdown",
   "source": [
    "Также возможно выделить словосочетания из текста:"
   ],
   "metadata": {
    "collapsed": false,
    "pycharm": {
     "name": "#%% md\n"
    }
   }
  },
  {
   "cell_type": "code",
   "execution_count": 40,
   "outputs": [
    {
     "name": "stdout",
     "output_type": "stream",
     "text": [
      "Colonel Brandon; Sir John; Lady Middleton; Miss Dashwood; every thing;\n",
      "thousand pounds; dare say; Miss Steeles; said Elinor; Miss Steele;\n",
      "every body; John Dashwood; great deal; Harley Street; Berkeley Street;\n",
      "Miss Dashwoods; young man; Combe Magna; every day; next morning\n"
     ]
    }
   ],
   "source": [
    "text2.collocations()"
   ],
   "metadata": {
    "collapsed": false,
    "pycharm": {
     "name": "#%%\n"
    }
   }
  },
  {
   "cell_type": "code",
   "execution_count": 41,
   "outputs": [
    {
     "name": "stdout",
     "output_type": "stream",
     "text": [
      "million *U*; New York; billion *U*; Wall Street; program trading; Mrs.\n",
      "Yeargin; vice president; Stock Exchange; Big Board; Georgia Gulf;\n",
      "chief executive; Dow Jones; S&P 500; says *T*-1; York Stock; last\n",
      "year; Sea Containers; South Korea; American Express; San Francisco\n"
     ]
    }
   ],
   "source": [
    "text7.collocations()"
   ],
   "metadata": {
    "collapsed": false,
    "pycharm": {
     "name": "#%%\n"
    }
   }
  },
  {
   "cell_type": "markdown",
   "source": [
    "`FreqDist` может быть создан для разных объектов, например для списка чисел:"
   ],
   "metadata": {
    "collapsed": false,
    "pycharm": {
     "name": "#%% md\n"
    }
   }
  },
  {
   "cell_type": "code",
   "execution_count": 42,
   "outputs": [
    {
     "data": {
      "text/plain": "[(5, 3), (9, 3), (1, 2), (3, 2), (4, 1), (2, 1), (6, 1), (8, 1), (7, 1)]"
     },
     "execution_count": 42,
     "metadata": {},
     "output_type": "execute_result"
    }
   ],
   "source": [
    "fdist_pi = FreqDist(int(i) for i in str(pi)[2:])\n",
    "fdist_pi.most_common()"
   ],
   "metadata": {
    "collapsed": false,
    "pycharm": {
     "name": "#%%\n"
    }
   }
  },
  {
   "cell_type": "code",
   "execution_count": 43,
   "outputs": [
    {
     "data": {
      "text/plain": "<Figure size 432x288 with 1 Axes>",
      "image/png": "[encoded data removed]"
     },
     "metadata": {
      "needs_background": "light"
     },
     "output_type": "display_data"
    },
    {
     "data": {
      "text/plain": "<AxesSubplot:xlabel='Samples', ylabel='Counts'>"
     },
     "execution_count": 43,
     "metadata": {},
     "output_type": "execute_result"
    }
   ],
   "source": [
    "fdist_pi.plot()"
   ],
   "metadata": {
    "collapsed": false,
    "pycharm": {
     "name": "#%%\n"
    }
   }
  },
  {
   "cell_type": "markdown",
   "source": [
    "Возможно обновить частоту вручную:"
   ],
   "metadata": {
    "collapsed": false,
    "pycharm": {
     "name": "#%% md\n"
    }
   }
  },
  {
   "cell_type": "code",
   "execution_count": 44,
   "outputs": [
    {
     "name": "stdout",
     "output_type": "stream",
     "text": [
      "1\n",
      "2\n"
     ]
    }
   ],
   "source": [
    "print(fdist_pi[2])\n",
    "fdist_pi[2] += 1\n",
    "print(fdist_pi[2])"
   ],
   "metadata": {
    "collapsed": false,
    "pycharm": {
     "name": "#%%\n"
    }
   }
  },
  {
   "cell_type": "markdown",
   "source": [
    "Соединить два распределения:"
   ],
   "metadata": {
    "collapsed": false,
    "pycharm": {
     "name": "#%% md\n"
    }
   }
  },
  {
   "cell_type": "code",
   "execution_count": 45,
   "outputs": [],
   "source": [
    "fdist_pi |= fdist"
   ],
   "metadata": {
    "collapsed": false,
    "pycharm": {
     "name": "#%%\n"
    }
   }
  },
  {
   "cell_type": "markdown",
   "source": [
    "получить относительную частоту токена:"
   ],
   "metadata": {
    "collapsed": false,
    "pycharm": {
     "name": "#%% md\n"
    }
   }
  },
  {
   "cell_type": "code",
   "execution_count": 46,
   "outputs": [
    {
     "data": {
      "text/plain": "0.01443041193422614"
     },
     "execution_count": 46,
     "metadata": {},
     "output_type": "execute_result"
    }
   ],
   "source": [
    "fdist.freq('a')"
   ],
   "metadata": {
    "collapsed": false,
    "pycharm": {
     "name": "#%%\n"
    }
   }
  },
  {
   "cell_type": "markdown",
   "source": [
    "и так далее.\n",
    "\n",
    "## Доступ к корпусам и лексическим ресурсам\n",
    "\n",
    "Фактически корпус — большой массив текста,  возможно с дополнительной информацией.\n",
    "\n",
    "В состав NLTK включены несколько корпусов, основные из них:\n",
    "\n",
    "1. Тэггер русского языка https://raw.githubusercontent.com/nltk/nltk_data/gh-pages/packages/taggers/averaged_perceptron_tagger_ru.zip\n",
    "1. `nltk.corpus.gutenberg` — избранные тексты проекта Гутенберг\n",
    "1. `nltk.corpus.webtext` — сообщения с интернет-порталов\n",
    "1. `nltk.corpus.nps_chat` — ананимизированные сообщения личной переписки, собранные во время исследования в Naval Postgraduate School\n",
    "1. Brown - корпус с текстами и информацией об их жанре\n",
    "1. `nltk.corpus.reuters` — коллекция новостных сообщений, сгруппированная пго темам и разделённая на обучающую и тестирующую выборки\n",
    "1. `nltk.corpus.inaugural` — инаугурационные речи президентов США\n",
    "1. `nltk.corpus.wordnet` — семантический словарь английского языка\n",
    "1. `nltk.corpus.udhr` — корпус с текстом декларации прав человека на примерно 300 языках."
   ],
   "metadata": {
    "collapsed": false,
    "pycharm": {
     "name": "#%% md\n"
    }
   }
  },
  {
   "cell_type": "code",
   "execution_count": 47,
   "outputs": [
    {
     "data": {
      "text/plain": "['Abkhaz-Cyrillic+Abkh',\n 'Abkhaz-UTF8',\n 'Achehnese-Latin1',\n 'Achuar-Shiwiar-Latin1',\n 'Adja-UTF8',\n 'Afaan_Oromo_Oromiffa-Latin1',\n 'Afrikaans-Latin1',\n 'Aguaruna-Latin1',\n 'Akuapem_Twi-UTF8',\n 'Albanian_Shqip-Latin1',\n 'Amahuaca',\n 'Amahuaca-Latin1',\n 'Amarakaeri-Latin1',\n 'Amuesha-Yanesha-UTF8',\n 'Arabela-Latin1',\n 'Arabic_Alarabia-Arabic',\n 'Asante-UTF8',\n 'Ashaninca-Latin1',\n 'Asheninca-Latin1',\n 'Asturian_Bable-Latin1',\n 'Aymara-Latin1',\n 'Balinese-Latin1',\n 'Bambara-UTF8',\n 'Baoule-UTF8',\n 'Basque_Euskara-Latin1',\n 'Batonu_Bariba-UTF8',\n 'Belorus_Belaruski-Cyrillic',\n 'Belorus_Belaruski-UTF8',\n 'Bemba-Latin1',\n 'Bengali-UTF8',\n 'Beti-UTF8',\n 'Bichelamar-Latin1',\n 'Bikol_Bicolano-Latin1',\n 'Bora-Latin1',\n 'Bosnian_Bosanski-Cyrillic',\n 'Bosnian_Bosanski-Latin2',\n 'Bosnian_Bosanski-UTF8',\n 'Breton-Latin1',\n 'Bugisnese-Latin1',\n 'Bulgarian_Balgarski-Cyrillic',\n 'Bulgarian_Balgarski-UTF8',\n 'Cakchiquel-Latin1',\n 'Campa_Pajonalino-Latin1',\n 'Candoshi-Shapra-Latin1',\n 'Caquinte-Latin1',\n 'Cashibo-Cacataibo-Latin1',\n 'Cashinahua-Latin1',\n 'Catalan-Latin1',\n 'Catalan_Catala-Latin1',\n 'Cebuano-Latin1',\n 'Chamorro-Latin1',\n 'Chayahuita-Latin1',\n 'Chechewa_Nyanja-Latin1',\n 'Chickasaw-Latin1',\n 'Chinanteco-Ajitlan-Latin1',\n 'Chinanteco-UTF8',\n 'Chinese_Mandarin-GB2312',\n 'Chuuk_Trukese-Latin1',\n 'Cokwe-Latin1',\n 'Corsican-Latin1',\n 'Croatian_Hrvatski-Latin2',\n 'Czech-Latin2',\n 'Czech-UTF8',\n 'Czech_Cesky-Latin2',\n 'Czech_Cesky-UTF8',\n 'Dagaare-UTF8',\n 'Dagbani-UTF8',\n 'Dangme-UTF8',\n 'Danish_Dansk-Latin1',\n 'Dendi-UTF8',\n 'Ditammari-UTF8',\n 'Dutch_Nederlands-Latin1',\n 'Edo-Latin1',\n 'English-Latin1',\n 'Esperanto-UTF8',\n 'Estonian_Eesti-Latin1',\n 'Ewe_Eve-UTF8',\n 'Fante-UTF8',\n 'Faroese-Latin1',\n 'Farsi_Persian-UTF8',\n 'Farsi_Persian-v2-UTF8',\n 'Fijian-Latin1',\n 'Filipino_Tagalog-Latin1',\n 'Finnish_Suomi-Latin1',\n 'Fon-UTF8',\n 'French_Francais-Latin1',\n 'Frisian-Latin1',\n 'Friulian_Friulano-Latin1',\n 'Ga-UTF8',\n 'Gagauz_Gagauzi-UTF8',\n 'Galician_Galego-Latin1',\n 'Garifuna_Garifuna-Latin1',\n 'German_Deutsch-Latin1',\n 'Gonja-UTF8',\n 'Greek_Ellinika-Greek',\n 'Greek_Ellinika-UTF8',\n 'Greenlandic_Inuktikut-Latin1',\n 'Guarani-Latin1',\n 'Guen_Mina-UTF8',\n 'HaitianCreole_Kreyol-Latin1',\n 'HaitianCreole_Popular-Latin1',\n 'Hani-Latin1',\n 'Hausa_Haoussa-Latin1',\n 'Hawaiian-UTF8',\n 'Hebrew_Ivrit-Hebrew',\n 'Hebrew_Ivrit-UTF8',\n 'Hiligaynon-Latin1',\n 'Hindi-UTF8',\n 'Hindi_web-UTF8',\n 'Hmong_Miao-Sichuan-Guizhou-Yunnan-Latin1',\n 'Hmong_Miao-SouthernEast-Guizhou-Latin1',\n 'Hmong_Miao_Northern-East-Guizhou-Latin1',\n 'Hrvatski_Croatian-Latin2',\n 'Huasteco-Latin1',\n 'Huitoto_Murui-Latin1',\n 'Hungarian_Magyar-Latin1',\n 'Hungarian_Magyar-Latin2',\n 'Hungarian_Magyar-UTF8',\n 'Ibibio_Efik-Latin1',\n 'Icelandic_Yslenska-Latin1',\n 'Ido-Latin1',\n 'Igbo-UTF8',\n 'Iloko_Ilocano-Latin1',\n 'Indonesian-Latin1',\n 'Interlingua-Latin1',\n 'Inuktikut_Greenlandic-Latin1',\n 'IrishGaelic_Gaeilge-Latin1',\n 'Italian-Latin1',\n 'Italian_Italiano-Latin1',\n 'Japanese_Nihongo-EUC',\n 'Japanese_Nihongo-SJIS',\n 'Japanese_Nihongo-UTF8',\n 'Javanese-Latin1',\n 'Jola-Fogny_Diola-UTF8',\n 'Kabye-UTF8',\n 'Kannada-UTF8',\n 'Kaonde-Latin1',\n 'Kapampangan-Latin1',\n 'Kasem-UTF8',\n 'Kazakh-Cyrillic',\n 'Kazakh-UTF8',\n 'Kiche_Quiche-Latin1',\n 'Kicongo-Latin1',\n 'Kimbundu_Mbundu-Latin1',\n 'Kinyamwezi_Nyamwezi-Latin1',\n 'Kinyarwanda-Latin1',\n 'Kituba-Latin1',\n 'Korean_Hankuko-UTF8',\n 'Kpelewo-UTF8',\n 'Krio-UTF8',\n 'Kurdish-UTF8',\n 'Lamnso_Lam-nso-UTF8',\n 'Latin_Latina-Latin1',\n 'Latin_Latina-v2-Latin1',\n 'Latvian-Latin1',\n 'Limba-UTF8',\n 'Lingala-Latin1',\n 'Lithuanian_Lietuviskai-Baltic',\n 'Lozi-Latin1',\n 'Luba-Kasai_Tshiluba-Latin1',\n 'Luganda_Ganda-Latin1',\n 'Lunda_Chokwe-lunda-Latin1',\n 'Luvale-Latin1',\n 'Luxembourgish_Letzebuergeusch-Latin1',\n 'Macedonian-UTF8',\n 'Madurese-Latin1',\n 'Makonde-Latin1',\n 'Malagasy-Latin1',\n 'Malay_BahasaMelayu-Latin1',\n 'Maltese-UTF8',\n 'Mam-Latin1',\n 'Maninka-UTF8',\n 'Maori-Latin1',\n 'Mapudungun_Mapuzgun-Latin1',\n 'Mapudungun_Mapuzgun-UTF8',\n 'Marshallese-Latin1',\n 'Matses-Latin1',\n 'Mayan_Yucateco-Latin1',\n 'Mazahua_Jnatrjo-UTF8',\n 'Mazateco-Latin1',\n 'Mende-UTF8',\n 'Mikmaq_Micmac-Mikmaq-Latin1',\n 'Minangkabau-Latin1',\n 'Miskito_Miskito-Latin1',\n 'Mixteco-Latin1',\n 'Mongolian_Khalkha-Cyrillic',\n 'Mongolian_Khalkha-UTF8',\n 'Moore_More-UTF8',\n 'Nahuatl-Latin1',\n 'Ndebele-Latin1',\n 'Nepali-UTF8',\n 'Ngangela_Nyemba-Latin1',\n 'NigerianPidginEnglish-Latin1',\n 'Nomatsiguenga-Latin1',\n 'NorthernSotho_Pedi-Sepedi-Latin1',\n 'Norwegian-Latin1',\n 'Norwegian_Norsk-Bokmal-Latin1',\n 'Norwegian_Norsk-Nynorsk-Latin1',\n 'Nyanja_Chechewa-Latin1',\n 'Nyanja_Chinyanja-Latin1',\n 'Nzema-UTF8',\n 'OccitanAuvergnat-Latin1',\n 'OccitanLanguedocien-Latin1',\n 'Oromiffa_AfaanOromo-Latin1',\n 'Osetin_Ossetian-UTF8',\n 'Oshiwambo_Ndonga-Latin1',\n 'Otomi_Nahnu-Latin1',\n 'Paez-Latin1',\n 'Palauan-Latin1',\n 'Peuhl-UTF8',\n 'Picard-Latin1',\n 'Pipil-Latin1',\n 'Polish-Latin2',\n 'Polish_Polski-Latin2',\n 'Ponapean-Latin1',\n 'Portuguese_Portugues-Latin1',\n 'Pulaar-UTF8',\n 'Punjabi_Panjabi-UTF8',\n 'Purhepecha-UTF8',\n 'Qechi_Kekchi-Latin1',\n 'Quechua-Latin1',\n 'Quichua-Latin1',\n 'Rarotongan_MaoriCookIslands-Latin1',\n 'Rhaeto-Romance_Rumantsch-Latin1',\n 'Romani-Latin1',\n 'Romani-UTF8',\n 'Romanian-Latin2',\n 'Romanian_Romana-Latin2',\n 'Rukonzo_Konjo-Latin1',\n 'Rundi_Kirundi-Latin1',\n 'Runyankore-rukiga_Nkore-kiga-Latin1',\n 'Russian-Cyrillic',\n 'Russian-UTF8',\n 'Russian_Russky-Cyrillic',\n 'Russian_Russky-UTF8',\n 'Sami_Lappish-UTF8',\n 'Sammarinese-Latin1',\n 'Samoan-Latin1',\n 'Sango_Sangho-Latin1',\n 'Sanskrit-UTF8',\n 'Saraiki-UTF8',\n 'Sardinian-Latin1',\n 'ScottishGaelic_GaidhligAlbanach-Latin1',\n 'Seereer-UTF8',\n 'Serbian_Srpski-Cyrillic',\n 'Serbian_Srpski-Latin2',\n 'Serbian_Srpski-UTF8',\n 'Sharanahua-Latin1',\n 'Shipibo-Conibo-Latin1',\n 'Shona-Latin1',\n 'Sinhala-UTF8',\n 'Siswati-Latin1',\n 'Slovak-Latin2',\n 'Slovak_Slovencina-Latin2',\n 'Slovenian_Slovenscina-Latin2',\n 'SolomonsPidgin_Pijin-Latin1',\n 'Somali-Latin1',\n 'Soninke_Soninkanxaane-UTF8',\n 'Sorbian-Latin2',\n 'SouthernSotho_Sotho-Sesotho-Sutu-Sesutu-Latin1',\n 'Spanish-Latin1',\n 'Spanish_Espanol-Latin1',\n 'Sukuma-Latin1',\n 'Sundanese-Latin1',\n 'Sussu_Soussou-Sosso-Soso-Susu-UTF8',\n 'Swaheli-Latin1',\n 'Swahili_Kiswahili-Latin1',\n 'Swedish_Svenska-Latin1',\n 'Tahitian-UTF8',\n 'Tenek_Huasteco-Latin1',\n 'Tetum-Latin1',\n 'Themne_Temne-UTF8',\n 'Tiv-Latin1',\n 'Toba-UTF8',\n 'Tojol-abal-Latin1',\n 'TokPisin-Latin1',\n 'Tonga-Latin1',\n 'Tongan_Tonga-Latin1',\n 'Totonaco-Latin1',\n 'Trukese_Chuuk-Latin1',\n 'Turkish_Turkce-Turkish',\n 'Turkish_Turkce-UTF8',\n 'Tzeltal-Latin1',\n 'Tzotzil-Latin1',\n 'Uighur_Uyghur-Latin1',\n 'Uighur_Uyghur-UTF8',\n 'Ukrainian-Cyrillic',\n 'Ukrainian-UTF8',\n 'Umbundu-Latin1',\n 'Urarina-Latin1',\n 'Uzbek-Latin1',\n 'Vietnamese-ALRN-UTF8',\n 'Vietnamese-UTF8',\n 'Vlach-Latin1',\n 'Walloon_Wallon-Latin1',\n 'Wama-UTF8',\n 'Waray-Latin1',\n 'Wayuu-Latin1',\n 'Welsh_Cymraeg-Latin1',\n 'WesternSotho_Tswana-Setswana-Latin1',\n 'Wolof-Latin1',\n 'Xhosa-Latin1',\n 'Yagua-Latin1',\n 'Yao-Latin1',\n 'Yapese-Latin1',\n 'Yoruba-UTF8',\n 'Zapoteco-Latin1',\n 'Zapoteco-SanLucasQuiavini-Latin1',\n 'Zhuang-Latin1',\n 'Zulu-Latin1']"
     },
     "execution_count": 47,
     "metadata": {},
     "output_type": "execute_result"
    }
   ],
   "source": [
    "nltk.corpus.udhr.fileids()"
   ],
   "metadata": {
    "collapsed": false,
    "pycharm": {
     "name": "#%%\n"
    }
   }
  },
  {
   "cell_type": "markdown",
   "source": [
    "Полный список корпусов"
   ],
   "metadata": {
    "collapsed": false,
    "pycharm": {
     "name": "#%% md\n"
    }
   }
  },
  {
   "cell_type": "code",
   "execution_count": 48,
   "outputs": [
    {
     "data": {
      "text/plain": "['AlignedCorpusReader',\n 'AlpinoCorpusReader',\n 'BNCCorpusReader',\n 'BracketParseCorpusReader',\n 'CHILDESCorpusReader',\n 'CMUDictCorpusReader',\n 'CategorizedBracketParseCorpusReader',\n 'CategorizedCorpusReader',\n 'CategorizedPlaintextCorpusReader',\n 'CategorizedSentencesCorpusReader',\n 'CategorizedTaggedCorpusReader',\n 'ChasenCorpusReader',\n 'ChunkedCorpusReader',\n 'ComparativeSentencesCorpusReader',\n 'ConllChunkCorpusReader',\n 'ConllCorpusReader',\n 'CorpusReader',\n 'CrubadanCorpusReader',\n 'DependencyCorpusReader',\n 'EuroparlCorpusReader',\n 'FramenetCorpusReader',\n 'IEERCorpusReader',\n 'IPIPANCorpusReader',\n 'IndianCorpusReader',\n 'KNBCorpusReader',\n 'LazyCorpusLoader',\n 'LinThesaurusCorpusReader',\n 'MTECorpusReader',\n 'MWAPPDBCorpusReader',\n 'MacMorphoCorpusReader',\n 'NKJPCorpusReader',\n 'NPSChatCorpusReader',\n 'NombankCorpusReader',\n 'NonbreakingPrefixesCorpusReader',\n 'OpinionLexiconCorpusReader',\n 'PPAttachmentCorpusReader',\n 'PanLexLiteCorpusReader',\n 'PanlexSwadeshCorpusReader',\n 'Pl196xCorpusReader',\n 'PlaintextCorpusReader',\n 'PortugueseCategorizedPlaintextCorpusReader',\n 'PropbankCorpusReader',\n 'ProsConsCorpusReader',\n 'RTECorpusReader',\n 'RegexpTokenizer',\n 'ReviewsCorpusReader',\n 'SemcorCorpusReader',\n 'SensevalCorpusReader',\n 'SentiSynset',\n 'SentiWordNetCorpusReader',\n 'SinicaTreebankCorpusReader',\n 'StringCategoryCorpusReader',\n 'SwadeshCorpusReader',\n 'SwitchboardCorpusReader',\n 'SyntaxCorpusReader',\n 'TEICorpusView',\n 'TaggedCorpusReader',\n 'TimitCorpusReader',\n 'TimitTaggedCorpusReader',\n 'ToolboxCorpusReader',\n 'TwitterCorpusReader',\n 'UdhrCorpusReader',\n 'UnicharsCorpusReader',\n 'VerbnetCorpusReader',\n 'WordListCorpusReader',\n 'WordNetCorpusReader',\n 'WordNetICCorpusReader',\n 'XMLCorpusReader',\n 'YCOECorpusReader',\n '_LazyModule__lazymodule_globals',\n '_LazyModule__lazymodule_import',\n '_LazyModule__lazymodule_init',\n '_LazyModule__lazymodule_loaded',\n '_LazyModule__lazymodule_locals',\n '_LazyModule__lazymodule_name',\n '__builtins__',\n '__cached__',\n '__class__',\n '__delattr__',\n '__dict__',\n '__dir__',\n '__doc__',\n '__eq__',\n '__file__',\n '__format__',\n '__ge__',\n '__getattr__',\n '__getattribute__',\n '__gt__',\n '__hash__',\n '__init__',\n '__init_subclass__',\n '__lazymodule_loaded',\n '__le__',\n '__loader__',\n '__lt__',\n '__module__',\n '__name__',\n '__ne__',\n '__new__',\n '__package__',\n '__path__',\n '__reduce__',\n '__reduce_ex__',\n '__repr__',\n '__setattr__',\n '__sizeof__',\n '__spec__',\n '__str__',\n '__subclasshook__',\n '__weakref__',\n 'abc',\n 'alpino',\n 'brown',\n 'cess_cat',\n 'cess_esp',\n 'cmudict',\n 'comparative_sentences',\n 'comtrans',\n 'conll2000',\n 'conll2002',\n 'conll2007',\n 'crubadan',\n 'demo',\n 'dependency_treebank',\n 'find_corpus_fileids',\n 'floresta',\n 'framenet',\n 'framenet15',\n 'gazetteers',\n 'genesis',\n 'gutenberg',\n 'ieer',\n 'inaugural',\n 'indian',\n 'jeita',\n 'knbc',\n 'lin_thesaurus',\n 'mac_morpho',\n 'machado',\n 'masc_tagged',\n 'movie_reviews',\n 'multext_east',\n 'names',\n 'nombank',\n 'nombank_ptb',\n 'nonbreaking_prefixes',\n 'nps_chat',\n 'opinion_lexicon',\n 'perluniprops',\n 'ppattach',\n 'product_reviews_1',\n 'product_reviews_2',\n 'propbank',\n 'propbank_ptb',\n 'pros_cons',\n 'ptb',\n 'qc',\n 're',\n 'reader',\n 'reuters',\n 'rte',\n 'semcor',\n 'senseval',\n 'sentence_polarity',\n 'sentiwordnet',\n 'shakespeare',\n 'sinica_treebank',\n 'state_union',\n 'stopwords',\n 'subjectivity',\n 'swadesh',\n 'swadesh110',\n 'swadesh207',\n 'switchboard',\n 'tagged_treebank_para_block_reader',\n 'timit',\n 'timit_tagged',\n 'toolbox',\n 'treebank',\n 'treebank_chunk',\n 'treebank_raw',\n 'twitter_samples',\n 'udhr',\n 'udhr2',\n 'universal_treebanks',\n 'util',\n 'verbnet',\n 'webtext',\n 'wordnet',\n 'wordnet_ic',\n 'words']"
     },
     "execution_count": 48,
     "metadata": {},
     "output_type": "execute_result"
    }
   ],
   "source": [
    "dir(nltk.corpus)"
   ],
   "metadata": {
    "collapsed": false,
    "pycharm": {
     "name": "#%%\n"
    }
   }
  },
  {
   "cell_type": "markdown",
   "source": [
    "**Примеры работы с копусами**\n",
    "\n",
    "Используем корпус `udhr` для определения языков, в которых заданное слово является правильным."
   ],
   "metadata": {
    "collapsed": false,
    "pycharm": {
     "name": "#%% md\n"
    }
   }
  },
  {
   "cell_type": "code",
   "execution_count": 49,
   "outputs": [
    {
     "name": "stdout",
     "output_type": "stream",
     "text": [
      "['English', 'Interlingua', 'NigerianPidginEnglish', 'SolomonsPidgin_Pijin', 'TokPisin']\n",
      "['Spanish', 'Spanish_Espanol']\n",
      "['German_Deutsch']\n",
      "['Russian', 'Russian_Russky']\n"
     ]
    }
   ],
   "source": [
    "def find_language(word: str) -> list[str]:\n",
    "    udhr = nltk.corpus.udhr\n",
    "    result = []\n",
    "    for fileid in udhr.fileids():\n",
    "        assert isinstance(fileid, str)\n",
    "        if word in udhr.words(fileid):\n",
    "            result.append(fileid[:fileid.find('-')])\n",
    "\n",
    "    return result\n",
    "\n",
    "\n",
    "print(find_language(\"human\"))\n",
    "print(find_language(\"hombre\"))\n",
    "print(find_language(\"Menschen\"))\n",
    "print(find_language(\"человек\"))"
   ],
   "metadata": {
    "collapsed": false,
    "pycharm": {
     "name": "#%%\n"
    }
   }
  },
  {
   "cell_type": "markdown",
   "source": [
    "## Необработанный текст\n",
    "\n",
    "NLTK позволяет работать с простым текстом, полученным с диска или из Интернета, например мы можем получить текст из библиотеки Мошкова:"
   ],
   "metadata": {
    "collapsed": false
   }
  },
  {
   "cell_type": "code",
   "execution_count": 3,
   "outputs": [
    {
     "data": {
      "text/plain": "'<html><head>'"
     },
     "execution_count": 3,
     "metadata": {},
     "output_type": "execute_result"
    }
   ],
   "source": [
    "from urllib import request\n",
    "\n",
    "url = \"http://lib.ru/LITRA/PUSHKIN/dubrowskij.txt\"\n",
    "response = request.urlopen(url)\n",
    "html = response.read().decode(\"koi8-r\")\n",
    "html[:12]"
   ],
   "metadata": {
    "collapsed": false,
    "pycharm": {
     "name": "#%%\n"
    }
   }
  },
  {
   "cell_type": "markdown",
   "source": [
    "Получаем HTML-документ, как и в большинстве случаев при загрузке текстов из Интернета. Для очистки текста используем библиотеку Beautifulsoup:"
   ],
   "metadata": {
    "collapsed": false,
    "pycharm": {
     "name": "#%% md\n"
    }
   }
  },
  {
   "cell_type": "code",
   "execution_count": 4,
   "outputs": [],
   "source": [
    "from bs4 import BeautifulSoup"
   ],
   "metadata": {
    "collapsed": false,
    "pycharm": {
     "name": "#%%\n"
    }
   }
  },
  {
   "cell_type": "code",
   "execution_count": 52,
   "outputs": [],
   "source": [
    "raw = BeautifulSoup(html, 'html.parser').get_text()"
   ],
   "metadata": {
    "collapsed": false,
    "pycharm": {
     "name": "#%%\n"
    }
   }
  },
  {
   "cell_type": "markdown",
   "source": [
    "Преобразуем текст в список токенов NLTK:"
   ],
   "metadata": {
    "collapsed": false,
    "pycharm": {
     "name": "#%% md\n"
    }
   }
  },
  {
   "cell_type": "code",
   "execution_count": 53,
   "outputs": [],
   "source": [
    "tokens = nltk.word_tokenize(raw, \"russian\")"
   ],
   "metadata": {
    "collapsed": false,
    "pycharm": {
     "name": "#%%\n"
    }
   }
  },
  {
   "cell_type": "markdown",
   "source": [
    "Очистим список токенов от шапки и подвала сайта:"
   ],
   "metadata": {
    "collapsed": false,
    "pycharm": {
     "name": "#%% md\n"
    }
   }
  },
  {
   "cell_type": "code",
   "execution_count": 54,
   "outputs": [],
   "source": [
    "tokens = tokens[100:-13]"
   ],
   "metadata": {
    "collapsed": false,
    "pycharm": {
     "name": "#%%\n"
    }
   }
  },
  {
   "cell_type": "code",
   "execution_count": 55,
   "outputs": [
    {
     "name": "stdout",
     "output_type": "stream",
     "text": [
      "Displaying 25 of 100 matches:\n",
      "рея Гавриловича Дубровского . Сей Дубровский , отставной поручик гвардии , был\n",
      "ятельства разлучил и их надолго . Дубровский с расстроенным состоянием принужд\n",
      "гал ему свое покровительство , но Дубровский благодарил его и остался беден и \n",
      "их охоту к таковым покушениям , и Дубровский один остался вне общего закона . \n",
      "я псарнею Кирила Петровича . Один Дубровский молчал и хмурился . Он был горячи\n",
      "а псаря могла отнестися и к ним . Дубровский побледнел , и не сказал ни слова \n",
      "стаюсь покорным ко услугам Андрей Дубровский . По нынешним понятиям об этикете\n",
      "последнюю надежду на примирение . Дубровский объезжал однажды малое свое владе\n",
      "его , они бросились было бежать . Дубровский со своим кучером поймал из них дв\n",
      "лись тут же в добычу победителю . Дубровский был отменно сердит , прежде сего \n",
      "ьскую связь его с их господином . Дубровский видел , что теперь пользовались о\n",
      "орству , ровно через две недели , Дубровский получил из города приглашение дос\n",
      "абашкина . Он увидел , во 1 ) что Дубровский мало знает толку в делах , во 2 )\n",
      "о , 18 ... года , февраля 9 дня , Дубровский получил через городовую полицию п\n",
      "ли неудовольствия . В тот же день Дубровский отправился в город ; на дороге об\n",
      "гордо взглянули друг на друга , и Дубровский заметил злобную улыбку на лице св\n",
      "шеписанный гвардии поручик Андрей Дубровский , почему , представляя при оном п\n",
      "ц спорного имения гвардии поручик Дубровский дал на месте дворянскому заседате\n",
      " помянутый гвардии поручик Андрей Дубровский и представил при учиненном следст\n",
      " Секретарь поднес ему бумагу . Но Дубровский стал неподвижен , потупя голову .\n",
      "осить по апеллации куда следует . Дубровский молчал ... Вдруг он поднял голову\n",
      "же день отправился в Покровское . Дубровский между тем лежал в постеле ; уездн\n",
      "м героем нашей повести . Владимир Дубровский воспитывался в Кадетском корпусе \n",
      "мер около Миколина дня . Владимир Дубровский несколько раз сряду перечитал сии\n",
      "тый преданностию старого кучера , Дубровский замолчал - и предался снова размы\n"
     ]
    }
   ],
   "source": [
    "text = nltk.Text(tokens)\n",
    "text.concordance(\"Дубровский\")"
   ],
   "metadata": {
    "collapsed": false,
    "pycharm": {
     "name": "#%%\n"
    }
   }
  },
  {
   "cell_type": "markdown",
   "source": [
    "Для поиска по токенизированному тексту с помощью регулярных выражений можно воспользоваться конструкцией"
   ],
   "metadata": {
    "collapsed": false
   }
  },
  {
   "cell_type": "code",
   "execution_count": 56,
   "outputs": [
    {
     "name": "stdout",
     "output_type": "stream",
     "text": [
      "выказывал все; бывал навеселе; был ему; предлагал ему; говаривал\n",
      "Дубровскому; высказывал свое; выбрал себе; доложил своему; приказал\n",
      "своему; услышал следующее; был не; сказал ему; приходила ему; повторил\n",
      "ему; напоминала ему; был не; позволял себе; подал ему; прочел\n",
      "следующее; сказал ему; сказал ему; увидел белое; говорила ему; был не;\n",
      "сказал ему; произносил невнятные; стояла крыльце; закричал ему; был\n",
      "уже; шел не; предвещала ему; пришла ему; бежал ему; представил ее;\n",
      "описывала ему; изъявляла ему; пошел далее; говорила ему; свирепствовал\n",
      "еще; производил следствие; приписывал сие; любил ее; любил ее; служила\n",
      "ему; сказала ему; была ему; обнюхивал ее; колол себе; толкал ее; думал\n",
      "уже; произвел еще; стола подле; послала ему; приходил мне; послала\n",
      "ему; рассказала ему; отдал ему; возвратил мне; был не; делал\n",
      "нравственные; танцовал более; пожелал ему; спрашивал себе; поставил\n",
      "ее; судил иначе; забыл самое; был уже; сказал мне; давал ему; почитал\n",
      "уже; кипел уже; успокоивал ее; была еще; ожидал ее; заметила смущение;\n",
      "приняла ее; прочла следующее; стоял уже; получил известие; схватил ее;\n",
      "взял ее; встретил ее; сказал мне; подал ему; ушла скорее; придавала\n",
      "ему; любил английские; слушала льстивые; учил ее; нашел все; подал\n",
      "Марье; позвал ее; позвал ее; был не; покрыла ее; взял ее; поцаловал\n",
      "ее; пугал ее; взял ее; поцаловал ее; отлагала решительное; нашел сие;\n",
      "поцеловал ее; скрыл свое; приказал ее; сидела не; дал строгое;\n",
      "запретил всему; бросила ему; был повидимому; был увертливее; велела\n",
      "мне; сказал ему; сказал ему; выпросил тебе; сказал ему; укалывала ее;\n",
      "упала ему; спешил ее; слышала веселые; окружила ее; схватил оружие;\n",
      "приставил ему\n"
     ]
    }
   ],
   "source": [
    "text.findall(r\"<.*л|.*ла> <.*му|.*е>\")"
   ],
   "metadata": {
    "collapsed": false,
    "pycharm": {
     "name": "#%%\n"
    }
   }
  },
  {
   "cell_type": "markdown",
   "source": [
    "### Нормализация текста\n",
    "\n",
    "В состав NLTK включён SnowballStemmer, поддерживающий русский язык:"
   ],
   "metadata": {
    "collapsed": false
   }
  },
  {
   "cell_type": "code",
   "execution_count": 57,
   "outputs": [],
   "source": [
    "snowball = nltk.SnowballStemmer(\"russian\")"
   ],
   "metadata": {
    "collapsed": false,
    "pycharm": {
     "name": "#%%\n"
    }
   }
  },
  {
   "cell_type": "code",
   "execution_count": 58,
   "outputs": [
    {
     "data": {
      "text/plain": "['.',\n 'ег',\n 'богатств',\n ',',\n 'знатн',\n 'род',\n 'и',\n 'связ',\n 'дава',\n 'ем',\n 'больш',\n 'вес',\n 'в',\n 'губерн',\n ',',\n 'где',\n 'наход',\n 'ег',\n 'имен',\n '.']"
     },
     "execution_count": 58,
     "metadata": {},
     "output_type": "execute_result"
    }
   ],
   "source": [
    "[snowball.stem(i) for i in tokens[20:40]]"
   ],
   "metadata": {
    "collapsed": false,
    "pycharm": {
     "name": "#%%\n"
    }
   }
  },
  {
   "cell_type": "markdown",
   "source": [
    "### Сегментация текста\n",
    "\n",
    "Для разделения текста на предложения использоется метод"
   ],
   "metadata": {
    "collapsed": false,
    "pycharm": {
     "name": "#%% md\n"
    }
   }
  },
  {
   "cell_type": "code",
   "execution_count": 59,
   "outputs": [
    {
     "data": {
      "text/plain": "['Несколько  лет  тому  назад  в  одном  из своих  поместий жил старинный\\nрусской барин, Кирила Петрович Троекуров.',\n 'Его богатство, знатный род и связи\\nдавали ему большой вес в губерниях, где  находилось его имение.',\n 'Соседи рады\\nбыли угождать малейшим его прихотям; губернские чиновники трепетали  при его\\nимени;  Кирила  Петрович принимал знаки  подобострастия как надлежащую дань;\\nдом его  всегда был полон  гостями, готовыми тешить  его барскую праздность,\\nразделяя  шумные,  а  иногда  и  буйные  его  увеселения.',\n 'Никто  не  дерзал\\nотказываться от его приглашения, или в известные  дни не являться  с должным\\nпочтением в село  Покровское.',\n 'В домашнем  быту Кирила Петрович выказывал все\\nпороки человека необразованного.',\n 'Избалованный всем, что только окружало его,\\nон привык давать полную волю всем порывам пылкого своего нрава и всем затеям\\nдовольно ограниченного  ума.',\n 'Не смотря на  необыкновенную  силу  физических\\nспособностей, он раза два в неделю страдал от обжорства и каждый вечер бывал\\nнавеселе.',\n 'В  одном  из флигелей  его  дома  жили  16  горничных,  занимаясь\\nрукоделиями,  свойственными  их   полу.',\n 'Окны  во  флигеле  были  загорожены\\nдеревянною решеткою;  двери  запирались замками, от  коих  ключи хранились у\\nКирила  Петровича.',\n 'Молодые затворницы,  в положеные часы,  сходили в  сад и\\nпрогуливались  под  надзором двух  старух.',\n 'От  времени  до  времени  Кирила\\nПетрович выдавал некоторых из них за  муж и новые поступали  на  их место.',\n 'С\\nкрестьянами и дворовыми обходился он строго и  своенравно; не  смотря на то,\\nони были ему преданы: они тщеславились богатством  и славою своего господина\\nи в свою очередь позволяли себе многое в отношении к их соседам,  надеясь на\\nего сильное покровительство.',\n 'Всегдашние занятия Троекурова состояли  в разъездах  около  пространных\\nего  владений,  в продолжительных  пирах, и  в проказах,  ежедневно при  том\\nизобретаемых и  жертвою  коих бывал обыкновенно какой-нибудь новый знакомец;\\nхотя и старинные приятели не всегда их избегали за исключением одного Андрея\\nГавриловича Дубровского.',\n 'Сей Дубровский, отставной поручик  гвардии, был ему\\nближайшим  соседом  и  владел семидесятью  душами.',\n 'Троекуров,  надменный  в\\nсношениях с  людьми самого высшего  звания, уважал Дубровского, не смотря на\\nего смиренное  состояние.',\n 'Некогда были они товарищами  по службе и Троекуров\\nзнал по опыту нетерпеливость  и решительность его характера.',\n 'Обстоятельства\\nразлучил  и их надолго.',\n 'Дубровский  с расстроенным  состоянием принужден был\\nвыдти  в отставку  и поселиться в остальной своей деревне.',\n 'Кирила Петрович,\\nузнав о том, предлагал  ему свое  покровительство, но Дубровский  благодарил\\nего и остался беден и независим.',\n 'Спустя  несколько  лет Троекуров, отставной\\nгенерал-аншеф,  приехал в свое поместие,  они свидились  и обрадовались друг\\nдругу.']"
     },
     "execution_count": 59,
     "metadata": {},
     "output_type": "execute_result"
    }
   ],
   "source": [
    "sents = nltk.sent_tokenize(raw, \"russian\")[3:]\n",
    "sents[:20]"
   ],
   "metadata": {
    "collapsed": false,
    "pycharm": {
     "name": "#%%\n"
    }
   }
  },
  {
   "cell_type": "markdown",
   "source": [
    "## Категоризация и разметка слов\n",
    "\n",
    "### Использование теггера\n",
    "\n",
    "POS-tagger обрабатывает предложение и устанавливает в соответствие каждому слову его часть речи, например:"
   ],
   "metadata": {
    "collapsed": false,
    "pycharm": {
     "name": "#%% md\n"
    }
   }
  },
  {
   "cell_type": "code",
   "execution_count": 60,
   "outputs": [
    {
     "data": {
      "text/plain": "[('In', 'IN'),\n ('the', 'DT'),\n ('beginning', 'NN'),\n ('God', 'NNP'),\n ('created', 'VBD'),\n ('the', 'DT'),\n ('heaven', 'NN'),\n ('and', 'CC'),\n ('the', 'DT'),\n ('earth', 'NN'),\n ('.', '.')]"
     },
     "execution_count": 60,
     "metadata": {},
     "output_type": "execute_result"
    }
   ],
   "source": [
    "nltk.pos_tag(sent3)"
   ],
   "metadata": {
    "collapsed": false,
    "pycharm": {
     "name": "#%%\n"
    }
   }
  },
  {
   "cell_type": "markdown",
   "source": [
    "Для русского языка необходимо установить теггер, например основанный на перцептроне:"
   ],
   "metadata": {
    "collapsed": false,
    "pycharm": {
     "name": "#%% md\n"
    }
   }
  },
  {
   "cell_type": "code",
   "execution_count": 61,
   "outputs": [
    {
     "name": "stderr",
     "output_type": "stream",
     "text": [
      "[nltk_data] Downloading package averaged_perceptron_tagger_ru to\n",
      "[nltk_data]     /home/boris/nltk_data...\n",
      "[nltk_data]   Package averaged_perceptron_tagger_ru is already up-to-\n",
      "[nltk_data]       date!\n"
     ]
    },
    {
     "data": {
      "text/plain": "True"
     },
     "execution_count": 61,
     "metadata": {},
     "output_type": "execute_result"
    }
   ],
   "source": [
    "nltk.download('averaged_perceptron_tagger_ru')"
   ],
   "metadata": {
    "collapsed": false,
    "pycharm": {
     "name": "#%%\n"
    }
   }
  },
  {
   "cell_type": "markdown",
   "source": [
    "(Предлагается NLTK по умолчанию при указании русскогоо языка)\n"
   ],
   "metadata": {
    "collapsed": false,
    "pycharm": {
     "name": "#%% md\n"
    }
   }
  },
  {
   "cell_type": "code",
   "execution_count": 62,
   "outputs": [
    {
     "data": {
      "text/plain": "[('Все', 'A-PRO=pl'),\n ('овцы', 'S'),\n ('кинулись', 'V'),\n ('к', 'PR'),\n ('ней', 'S-PRO'),\n (',', 'NONLEX'),\n ('лишь', 'PART'),\n ('малыш', 'S'),\n ('не', 'PART'),\n ('справился', 'V'),\n ('с', 'PR'),\n ('разгоном', 'S'),\n (',', 'NONLEX'),\n ('едва', 'ADV'),\n ('сумев', 'V'),\n ('затормозить', 'V'),\n ('.', 'NONLEX')]"
     },
     "execution_count": 62,
     "metadata": {},
     "output_type": "execute_result"
    }
   ],
   "source": [
    "text_ru = nltk.word_tokenize(\"Все овцы кинулись к ней, лишь малыш не справился с разгоном, едва сумев затормозить.\",\n",
    "                             \"russian\")\n",
    "nltk.pos_tag(text_ru, lang=\"rus\")"
   ],
   "metadata": {
    "collapsed": false,
    "pycharm": {
     "name": "#%%\n"
    }
   }
  },
  {
   "cell_type": "markdown",
   "source": [
    "Для того чтобы узнать расшифровку *некоторых* тегов, можно использовать команду"
   ],
   "metadata": {
    "collapsed": false,
    "pycharm": {
     "name": "#%% md\n"
    }
   }
  },
  {
   "cell_type": "code",
   "execution_count": 63,
   "outputs": [
    {
     "name": "stdout",
     "output_type": "stream",
     "text": [
      "$: dollar\n",
      "    $ -$ --$ A$ C$ HK$ M$ NZ$ S$ U.S.$ US$\n",
      "'': closing quotation mark\n",
      "    ' ''\n",
      "(: opening parenthesis\n",
      "    ( [ {\n",
      "): closing parenthesis\n",
      "    ) ] }\n",
      ",: comma\n",
      "    ,\n",
      "--: dash\n",
      "    --\n",
      ".: sentence terminator\n",
      "    . ! ?\n",
      ":: colon or ellipsis\n",
      "    : ; ...\n",
      "CC: conjunction, coordinating\n",
      "    & 'n and both but either et for less minus neither nor or plus so\n",
      "    therefore times v. versus vs. whether yet\n",
      "CD: numeral, cardinal\n",
      "    mid-1890 nine-thirty forty-two one-tenth ten million 0.5 one forty-\n",
      "    seven 1987 twenty '79 zero two 78-degrees eighty-four IX '60s .025\n",
      "    fifteen 271,124 dozen quintillion DM2,000 ...\n",
      "DT: determiner\n",
      "    all an another any both del each either every half la many much nary\n",
      "    neither no some such that the them these this those\n",
      "EX: existential there\n",
      "    there\n",
      "FW: foreign word\n",
      "    gemeinschaft hund ich jeux habeas Haementeria Herr K'ang-si vous\n",
      "    lutihaw alai je jour objets salutaris fille quibusdam pas trop Monte\n",
      "    terram fiche oui corporis ...\n",
      "IN: preposition or conjunction, subordinating\n",
      "    astride among uppon whether out inside pro despite on by throughout\n",
      "    below within for towards near behind atop around if like until below\n",
      "    next into if beside ...\n",
      "JJ: adjective or numeral, ordinal\n",
      "    third ill-mannered pre-war regrettable oiled calamitous first separable\n",
      "    ectoplasmic battery-powered participatory fourth still-to-be-named\n",
      "    multilingual multi-disciplinary ...\n",
      "JJR: adjective, comparative\n",
      "    bleaker braver breezier briefer brighter brisker broader bumper busier\n",
      "    calmer cheaper choosier cleaner clearer closer colder commoner costlier\n",
      "    cozier creamier crunchier cuter ...\n",
      "JJS: adjective, superlative\n",
      "    calmest cheapest choicest classiest cleanest clearest closest commonest\n",
      "    corniest costliest crassest creepiest crudest cutest darkest deadliest\n",
      "    dearest deepest densest dinkiest ...\n",
      "LS: list item marker\n",
      "    A A. B B. C C. D E F First G H I J K One SP-44001 SP-44002 SP-44005\n",
      "    SP-44007 Second Third Three Two * a b c d first five four one six three\n",
      "    two\n",
      "MD: modal auxiliary\n",
      "    can cannot could couldn't dare may might must need ought shall should\n",
      "    shouldn't will would\n",
      "NN: noun, common, singular or mass\n",
      "    common-carrier cabbage knuckle-duster Casino afghan shed thermostat\n",
      "    investment slide humour falloff slick wind hyena override subhumanity\n",
      "    machinist ...\n",
      "NNP: noun, proper, singular\n",
      "    Motown Venneboerger Czestochwa Ranzer Conchita Trumplane Christos\n",
      "    Oceanside Escobar Kreisler Sawyer Cougar Yvette Ervin ODI Darryl CTCA\n",
      "    Shannon A.K.C. Meltex Liverpool ...\n",
      "NNPS: noun, proper, plural\n",
      "    Americans Americas Amharas Amityvilles Amusements Anarcho-Syndicalists\n",
      "    Andalusians Andes Andruses Angels Animals Anthony Antilles Antiques\n",
      "    Apache Apaches Apocrypha ...\n",
      "NNS: noun, common, plural\n",
      "    undergraduates scotches bric-a-brac products bodyguards facets coasts\n",
      "    divestitures storehouses designs clubs fragrances averages\n",
      "    subjectivists apprehensions muses factory-jobs ...\n",
      "PDT: pre-determiner\n",
      "    all both half many quite such sure this\n",
      "POS: genitive marker\n",
      "    ' 's\n",
      "PRP: pronoun, personal\n",
      "    hers herself him himself hisself it itself me myself one oneself ours\n",
      "    ourselves ownself self she thee theirs them themselves they thou thy us\n",
      "PRP$: pronoun, possessive\n",
      "    her his mine my our ours their thy your\n",
      "RB: adverb\n",
      "    occasionally unabatingly maddeningly adventurously professedly\n",
      "    stirringly prominently technologically magisterially predominately\n",
      "    swiftly fiscally pitilessly ...\n",
      "RBR: adverb, comparative\n",
      "    further gloomier grander graver greater grimmer harder harsher\n",
      "    healthier heavier higher however larger later leaner lengthier less-\n",
      "    perfectly lesser lonelier longer louder lower more ...\n",
      "RBS: adverb, superlative\n",
      "    best biggest bluntest earliest farthest first furthest hardest\n",
      "    heartiest highest largest least less most nearest second tightest worst\n",
      "RP: particle\n",
      "    aboard about across along apart around aside at away back before behind\n",
      "    by crop down ever fast for forth from go high i.e. in into just later\n",
      "    low more off on open out over per pie raising start teeth that through\n",
      "    under unto up up-pp upon whole with you\n",
      "SYM: symbol\n",
      "    % & ' '' ''. ) ). * + ,. < = > @ A[fj] U.S U.S.S.R * ** ***\n",
      "TO: \"to\" as preposition or infinitive marker\n",
      "    to\n",
      "UH: interjection\n",
      "    Goodbye Goody Gosh Wow Jeepers Jee-sus Hubba Hey Kee-reist Oops amen\n",
      "    huh howdy uh dammit whammo shucks heck anyways whodunnit honey golly\n",
      "    man baby diddle hush sonuvabitch ...\n",
      "VB: verb, base form\n",
      "    ask assemble assess assign assume atone attention avoid bake balkanize\n",
      "    bank begin behold believe bend benefit bevel beware bless boil bomb\n",
      "    boost brace break bring broil brush build ...\n",
      "VBD: verb, past tense\n",
      "    dipped pleaded swiped regummed soaked tidied convened halted registered\n",
      "    cushioned exacted snubbed strode aimed adopted belied figgered\n",
      "    speculated wore appreciated contemplated ...\n",
      "VBG: verb, present participle or gerund\n",
      "    telegraphing stirring focusing angering judging stalling lactating\n",
      "    hankerin' alleging veering capping approaching traveling besieging\n",
      "    encrypting interrupting erasing wincing ...\n",
      "VBN: verb, past participle\n",
      "    multihulled dilapidated aerosolized chaired languished panelized used\n",
      "    experimented flourished imitated reunifed factored condensed sheared\n",
      "    unsettled primed dubbed desired ...\n",
      "VBP: verb, present tense, not 3rd person singular\n",
      "    predominate wrap resort sue twist spill cure lengthen brush terminate\n",
      "    appear tend stray glisten obtain comprise detest tease attract\n",
      "    emphasize mold postpone sever return wag ...\n",
      "VBZ: verb, present tense, 3rd person singular\n",
      "    bases reconstructs marks mixes displeases seals carps weaves snatches\n",
      "    slumps stretches authorizes smolders pictures emerges stockpiles\n",
      "    seduces fizzes uses bolsters slaps speaks pleads ...\n",
      "WDT: WH-determiner\n",
      "    that what whatever which whichever\n",
      "WP: WH-pronoun\n",
      "    that what whatever whatsoever which who whom whosoever\n",
      "WP$: WH-pronoun, possessive\n",
      "    whose\n",
      "WRB: Wh-adverb\n",
      "    how however whence whenever where whereby whereever wherein whereof why\n",
      "``: opening quotation mark\n",
      "    ` ``\n"
     ]
    }
   ],
   "source": [
    "nltk.help.upenn_tagset()"
   ],
   "metadata": {
    "collapsed": false,
    "pycharm": {
     "name": "#%%\n"
    }
   }
  },
  {
   "cell_type": "markdown",
   "source": [
    "или"
   ],
   "metadata": {
    "collapsed": false,
    "pycharm": {
     "name": "#%% md\n"
    }
   }
  },
  {
   "cell_type": "code",
   "execution_count": 64,
   "outputs": [
    {
     "name": "stdout",
     "output_type": "stream",
     "text": [
      "VBZ: verb, present tense, 3rd person singular\n",
      "    bases reconstructs marks mixes displeases seals carps weaves snatches\n",
      "    slumps stretches authorizes smolders pictures emerges stockpiles\n",
      "    seduces fizzes uses bolsters slaps speaks pleads ...\n"
     ]
    }
   ],
   "source": [
    "nltk.help.upenn_tagset(\"VBZ\")"
   ],
   "metadata": {
    "collapsed": false,
    "pycharm": {
     "name": "#%%\n"
    }
   }
  },
  {
   "cell_type": "markdown",
   "source": [
    "Один из принципов определения части речи заключается в том, что слова, принадлежащие одной части речи, используются в одном и том же контексте.\n",
    "\n",
    "То есть, имея несколько слов с меткой части речи, например"
   ],
   "metadata": {
    "collapsed": false,
    "pycharm": {
     "name": "#%% md\n"
    }
   }
  },
  {
   "cell_type": "code",
   "execution_count": 65,
   "outputs": [],
   "source": [
    "pos_d = {\n",
    "    \"woman\": \"NOUN\",\n",
    "    \"country\": \"NOUN\",\n",
    "    \"you\": \"PRONOUN\",\n",
    "    \"go\": \"VERB\"\n",
    "}\n",
    "\n",
    "pos_w: dict[str, set[str]] = dict()"
   ],
   "metadata": {
    "collapsed": false,
    "pycharm": {
     "name": "#%%\n"
    }
   }
  },
  {
   "cell_type": "code",
   "execution_count": 66,
   "outputs": [
    {
     "name": "stdout",
     "output_type": "stream",
     "text": [
      "<ipykernel.iostream.OutStream object at 0x7fb1a88c3550>\n",
      "<ipykernel.iostream.OutStream object at 0x7fb1a88c3550>\n",
      "<ipykernel.iostream.OutStream object at 0x7fb1a88c3550>\n",
      "<ipykernel.iostream.OutStream object at 0x7fb1a88c3550>\n"
     ]
    }
   ],
   "source": [
    "for word, pos in pos_d.items():\n",
    "    std = sys.stdout\n",
    "    print(std)\n",
    "    io1 = io.StringIO()\n",
    "    sys.stdout = io1\n",
    "    text1.similar(word)\n",
    "    sys.stdout = std\n",
    "    k = io1.getvalue()\n",
    "    pos_w[pos] = pos_w.get(pos, set())\n",
    "    for i in k.split():\n",
    "        pos_w[pos].add(i)"
   ],
   "metadata": {
    "collapsed": false,
    "pycharm": {
     "name": "#%%\n"
    }
   }
  },
  {
   "cell_type": "code",
   "execution_count": 67,
   "outputs": [
    {
     "data": {
      "text/plain": "{'NOUN': {'as',\n  'bird',\n  'boat',\n  'body',\n  'book',\n  'captain',\n  'crew',\n  'day',\n  'devil',\n  'difference',\n  'doubloon',\n  'dutch',\n  'father',\n  'fellow',\n  'french',\n  'hand',\n  'hands',\n  'harris',\n  'have',\n  'heart',\n  'job',\n  'king',\n  'lord',\n  'man',\n  'mariner',\n  'mast',\n  'serpent',\n  'ship',\n  'stone',\n  'vessel',\n  'whale',\n  'whales',\n  'will'},\n 'PRONOUN': {'ahab',\n  'and',\n  'he',\n  'him',\n  'i',\n  'it',\n  'me',\n  'not',\n  'now',\n  'one',\n  'say',\n  'that',\n  'them',\n  'then',\n  'there',\n  'they',\n  'this',\n  'to',\n  'we',\n  'ye'},\n 'VERB': {'all',\n  'and',\n  'are',\n  'as',\n  'be',\n  'do',\n  'have',\n  'him',\n  'in',\n  'it',\n  'me',\n  'now',\n  'on',\n  'say',\n  'see',\n  'take',\n  'them',\n  'were',\n  'what',\n  'when'}}"
     },
     "execution_count": 67,
     "metadata": {},
     "output_type": "execute_result"
    }
   ],
   "source": [
    "pos_w"
   ],
   "metadata": {
    "collapsed": false,
    "pycharm": {
     "name": "#%%\n"
    }
   }
  },
  {
   "cell_type": "markdown",
   "source": [
    "Как видно по результатам, такой способ определения частей речи обладает низкой точностью."
   ],
   "metadata": {
    "collapsed": false,
    "pycharm": {
     "name": "#%% md\n"
    }
   }
  },
  {
   "cell_type": "markdown",
   "source": [
    "### Размеченные корпусы\n",
    "\n",
    "В NLTK размеченные токены представляются в виде кортежа `(слово, метка)`, а в корпусе записываются как `word/tag`.\n",
    "\n",
    "Для перевода строки из корпуса в формат кортежа используется функция"
   ],
   "metadata": {
    "collapsed": false
   }
  },
  {
   "cell_type": "code",
   "execution_count": 68,
   "outputs": [
    {
     "data": {
      "text/plain": "('The', 'AT')"
     },
     "execution_count": 68,
     "metadata": {},
     "output_type": "execute_result"
    }
   ],
   "source": [
    "nltk.tag.str2tuple(\"The/AT\")"
   ],
   "metadata": {
    "collapsed": false,
    "pycharm": {
     "name": "#%%\n"
    }
   }
  },
  {
   "cell_type": "markdown",
   "source": [
    "Brown Corpus — один из примеров размеченных корпусов.\n",
    "\n",
    "Для разметки частей речяи используются следующие сокращения (https://en.wikipedia.org/wiki/List_of_glossing_abbreviations ):\n",
    "\n",
    "| Тег  | Значение        |\n",
    "| ---- | --------------- |\n",
    "| ADJ  | Прилагательное  |\n",
    "| ADP  | Предлог         |\n",
    "| ADV  | Наречие         |\n",
    "| CONJ | Союз            |\n",
    "| DET  | Артикль         |\n",
    "| NOUN | Существительное |\n",
    "| NUM  | Числительное    |\n",
    "| PRT  | Частица         |\n",
    "| PRON | Местоимение     |\n",
    "| VERB | Глагол          |\n",
    "| .    | Пунктуация      |\n",
    "| X    | Другое          |\n",
    "\n",
    "Получим распределение слов по частям речи для английского языка:"
   ],
   "metadata": {
    "collapsed": false,
    "pycharm": {
     "name": "#%% md\n"
    }
   }
  },
  {
   "cell_type": "code",
   "execution_count": 69,
   "outputs": [
    {
     "data": {
      "text/plain": "[('NOUN', 30654),\n ('VERB', 14399),\n ('ADP', 12355),\n ('.', 11928),\n ('DET', 11389),\n ('ADJ', 6706),\n ('ADV', 3349),\n ('CONJ', 2717),\n ('PRON', 2535),\n ('PRT', 2264),\n ('NUM', 2166),\n ('X', 92)]"
     },
     "execution_count": 69,
     "metadata": {},
     "output_type": "execute_result"
    }
   ],
   "source": [
    "brown_news_tagged = nltk.corpus.brown.tagged_words(categories=\"news\", tagset=\"universal\")\n",
    "tag_fd = nltk.FreqDist(tag for _, tag in brown_news_tagged)\n",
    "tag_fd.most_common()"
   ],
   "metadata": {
    "collapsed": false,
    "pycharm": {
     "name": "#%%\n"
    }
   }
  },
  {
   "cell_type": "code",
   "execution_count": 70,
   "outputs": [
    {
     "data": {
      "text/plain": "<Figure size 432x288 with 1 Axes>",
      "image/png": "[encoded data removed]"
     },
     "metadata": {
      "needs_background": "light"
     },
     "output_type": "display_data"
    },
    {
     "data": {
      "text/plain": "<AxesSubplot:xlabel='Samples', ylabel='Cumulative Counts'>"
     },
     "execution_count": 70,
     "metadata": {},
     "output_type": "execute_result"
    }
   ],
   "source": [
    "tag_fd.plot(cumulative=True)"
   ],
   "metadata": {
    "collapsed": false,
    "pycharm": {
     "name": "#%%\n"
    }
   }
  },
  {
   "cell_type": "markdown",
   "source": [
    "Размеченные корпусы позволяют исследовать структуру предложений, например:"
   ],
   "metadata": {
    "collapsed": false,
    "pycharm": {
     "name": "#%% md\n"
    }
   }
  },
  {
   "cell_type": "code",
   "execution_count": 71,
   "outputs": [
    {
     "name": "stdout",
     "output_type": "stream",
     "text": [
      "The\tDET\n",
      "Fulton\tNOUN\n",
      "County\tNOUN\n",
      "Grand\tADJ\n",
      "Jury\tNOUN\n",
      "said\tVERB\n",
      "Friday\tNOUN\n",
      "an\tDET\n",
      "investigation\tNOUN\n",
      "of\tADP\n",
      "Atlanta's\tNOUN\n",
      "recent\tADJ\n",
      "primary\tNOUN\n",
      "election\tNOUN\n",
      "produced\tVERB\n",
      "``\t.\n"
     ]
    }
   ],
   "source": [
    "\n",
    "for word, tag in brown_news_tagged:\n",
    "    print(word, tag, sep='\\t')\n",
    "    if tag == '.':\n",
    "        break"
   ],
   "metadata": {
    "collapsed": false,
    "pycharm": {
     "name": "#%%\n"
    }
   }
  },
  {
   "cell_type": "markdown",
   "source": [
    "### Автоматическая разметка\n",
    "\n",
    "Рассмотрим методы автоматической разметки частей речи, используя тестовый и тренировочный корпусы из `brown`:"
   ],
   "metadata": {
    "collapsed": false
   }
  },
  {
   "cell_type": "code",
   "execution_count": 72,
   "outputs": [],
   "source": [
    "brown_tagged_sents = nltk.corpus.brown.tagged_sents(categories='news')\n",
    "brown_sents = nltk.corpus.brown.sents(categories='news')"
   ],
   "metadata": {
    "collapsed": false,
    "pycharm": {
     "name": "#%%\n"
    }
   }
  },
  {
   "cell_type": "markdown",
   "source": [
    "#### Разметка значениями по умолчанию\n",
    "\n",
    "Простейший способ разметки — присвоение одной и той же метки всем словам.\n",
    " Данный метод может использоваться для получения точности необученной модели и оценки качества её обучения."
   ],
   "metadata": {
    "collapsed": false,
    "pycharm": {
     "name": "#%% md\n"
    }
   }
  },
  {
   "cell_type": "code",
   "execution_count": 73,
   "outputs": [
    {
     "data": {
      "text/plain": "[('The', 'VB'),\n ('Fulton', 'VB'),\n ('County', 'VB'),\n ('Grand', 'VB'),\n ('Jury', 'VB'),\n ('said', 'VB'),\n ('Friday', 'VB'),\n ('an', 'VB'),\n ('investigation', 'VB'),\n ('of', 'VB'),\n (\"Atlanta's\", 'VB'),\n ('recent', 'VB'),\n ('primary', 'VB'),\n ('election', 'VB'),\n ('produced', 'VB'),\n ('``', 'VB'),\n ('no', 'VB'),\n ('evidence', 'VB'),\n (\"''\", 'VB'),\n ('that', 'VB'),\n ('any', 'VB'),\n ('irregularities', 'VB'),\n ('took', 'VB'),\n ('place', 'VB'),\n ('.', 'VB')]"
     },
     "execution_count": 73,
     "metadata": {},
     "output_type": "execute_result"
    }
   ],
   "source": [
    "tagger = nltk.DefaultTagger('VB')\n",
    "tagger.tag(brown_sents[0])"
   ],
   "metadata": {
    "collapsed": false,
    "pycharm": {
     "name": "#%%\n"
    }
   }
  },
  {
   "cell_type": "code",
   "execution_count": 74,
   "outputs": [
    {
     "data": {
      "text/plain": "0.024265568749129822"
     },
     "execution_count": 74,
     "metadata": {},
     "output_type": "execute_result"
    }
   ],
   "source": [
    "tagger.evaluate(brown_tagged_sents)"
   ],
   "metadata": {
    "collapsed": false,
    "pycharm": {
     "name": "#%%\n"
    }
   }
  },
  {
   "cell_type": "markdown",
   "source": [
    "Точность теггера по умолчанию всего 2%, что позволяет сделать вывод о тои, что 2% всех токенов текста являются глаголами.\n",
    "\n",
    "#### Разметка с помощью регулярных выражений\n",
    "\n",
    "Для некоторых, особенно агглютинативных, языков, часть речи можно определить по окончанию с помощью регулярных выражений практически со 100% точностью. Примеры таких языков: тюркские, некоторые финно-угорские языки, японский, грузинский, баскский. Для синтетических языков данный метод также применим, но точность будет ниже.\n",
    "В аналитических языках (английский, французский) часть речи редко зависит от формы слова, следовательно точность разметки будет ниже.\n",
    "\n",
    "##### Примеры:\n",
    "\n",
    "Английский:"
   ],
   "metadata": {
    "collapsed": false,
    "pycharm": {
     "name": "#%% md\n"
    }
   }
  },
  {
   "cell_type": "code",
   "execution_count": 75,
   "outputs": [
    {
     "data": {
      "text/plain": "0.20116554289237623"
     },
     "execution_count": 75,
     "metadata": {},
     "output_type": "execute_result"
    }
   ],
   "source": [
    "patterns_en = [\n",
    "    (r'.*ing$', 'VBG'),  # gerunds\n",
    "    (r'.*ly$', 'ADV'),  # adverbs\n",
    "    (r'.*ed$', 'VBD'),  # simple past\n",
    "    (r'.*es$', 'VBZ'),  # 3rd singular present\n",
    "    (r'.*ould$', 'MD'),  # modals\n",
    "    (r'.*\\'s$', 'NN$'),  # possessive nouns\n",
    "    (r'.*s$', 'NNS'),  # plural nouns\n",
    "    (r'^-?[0-9]+(\\.[0-9]+)?$', 'CD'),  # cardinal numbers\n",
    "    (r'.*', 'NN')  # nouns (default)\n",
    "]\n",
    "\n",
    "regexp_tagger_en = nltk.RegexpTagger(patterns_en)\n",
    "regexp_tagger_en.evaluate(brown_tagged_sents)"
   ],
   "metadata": {
    "collapsed": false,
    "pycharm": {
     "name": "#%%\n"
    }
   }
  },
  {
   "cell_type": "markdown",
   "source": [
    "эсперанто"
   ],
   "metadata": {
    "collapsed": false,
    "pycharm": {
     "name": "#%% md\n"
    }
   }
  },
  {
   "cell_type": "code",
   "execution_count": 76,
   "outputs": [
    {
     "data": {
      "text/plain": "0.8823529411764706"
     },
     "execution_count": 76,
     "metadata": {},
     "output_type": "execute_result"
    }
   ],
   "source": [
    "patterns_eo = [\n",
    "    (r'.*o$', 'NOUN'),\n",
    "    (r'kaj', 'CONJ'),\n",
    "    (r'la', 'ART.DEF'),\n",
    "    (r'.*on$', 'NOUN.acc'),\n",
    "    (r'.*aj?$', 'ADJ'),\n",
    "    (r'.*aj?n$', 'ADJ.acc'),\n",
    "    (r'(de|laŭ)$', 'PREP'),\n",
    "    (r'(Ĝ|M|N)i$', 'PN'),\n",
    "    (r'.*e$', 'ADV'),\n",
    "    (r'.*as$', 'V.PRS'),\n",
    "    (r'.*i$', 'V'),\n",
    "    (r'.*is$', 'V.PST'),\n",
    "    (r'.*os$', 'V.FUT'),\n",
    "    (r'^-?[0-9]+(\\.[0-9]+)?$', 'CD'),  # cardinal numbers\n",
    "    (r'.*', '.')  # nouns (default)\n",
    "]\n",
    "\n",
    "'''\n",
    "Esperanta Vikipedio estas projekto de kunlabora enciklopedio, universala kaj plurlingva, kreita interrete laŭ la vikio-principo. Ĝi celas liveri en Esperanto liberan, objektivan kaj kontroleblan enhavon, kiun ĉiuj povas redakti.\n",
    "'''\n",
    "\n",
    "regexp_tagger_eo = nltk.RegexpTagger(patterns_eo)\n",
    "regexp_tagger_eo.evaluate([[('Esperanta', 'ADJ'),\n",
    "                            ('Vikipedio', 'NOUN'),\n",
    "                            ('estas', 'V.PRS'),\n",
    "                            ('projekto', 'NOUN'),\n",
    "                            ('de', 'PREP'),\n",
    "                            ('kunlabora', 'ADJ'),\n",
    "                            ('enciklopedio', 'NOUN'),\n",
    "                            (',', '.'),\n",
    "                            ('universala', 'ADJ'),\n",
    "                            ('kaj', 'CONJ'),\n",
    "                            ('plurlingva', 'ADJ'),\n",
    "                            (',', '.'),\n",
    "                            ('kreita', 'ADJ'),\n",
    "                            ('interrete', 'ADV'),\n",
    "                            ('laŭ', 'PREP'),\n",
    "                            ('la', 'ART.DEF'),\n",
    "                            ('vikio-principo', 'NOUN'),\n",
    "                            ],\n",
    "                           [\n",
    "                               ('Ĝi', 'PN'),\n",
    "                               ('celas', 'V.PRS'),\n",
    "                               ('liveri', 'V'),\n",
    "                               ('en', 'PREP'),\n",
    "                               ('Esperanto', 'NOUN'),\n",
    "                               ('liberan', 'ADJ.acc'),\n",
    "                               (',', '.'),\n",
    "                               ('objektivan', 'ADJ.acc'),\n",
    "                               ('kaj', 'CONJ'),\n",
    "                               ('kontroleblan', 'ADJ.acc'),\n",
    "                               ('enhavon', 'NOUN.acc'),\n",
    "                               (',', '.'),\n",
    "                               ('kiun', 'CONJ.acc'),\n",
    "                               ('ĉiuj', 'DET'),\n",
    "                               ('povas', 'V.PRS'),\n",
    "                               ('redakti', 'V'),\n",
    "                               ('.', '.')]])"
   ],
   "metadata": {
    "collapsed": false,
    "pycharm": {
     "name": "#%%\n"
    }
   }
  },
  {
   "cell_type": "markdown",
   "source": [
    "Получаем точность 0,88 для агглютинативного языка, при этом использовались простые правила для каждой метки.\n",
    "Но для аналитического языка разметка на основе окончаний даёт точность всего 0,2.\n",
    "\n",
    "### Lookup tagger\n",
    "\n",
    "Lookup tagger, или Unigram Tagger, запоминает метку каждой словоформы из обучающего набора и на тестовом примере подставляет метку тем словоформам,  которые уже видел.\n",
    "\n",
    "Аналогично данный метод хорошо подходит для агглютинативных языков, где метка однозначно выводится из слова, должен хорошо работать с синтетическими языками, где, обычно, часть речи ясна по форме слова, и не подходит для аналитических языков, так как в них часть речи зависит от контекста слова.\n",
    "\n",
    "Также данному методу требуется больший объём данных для обучения.\n",
    "\n",
    "Пример для английского языка:"
   ],
   "metadata": {
    "collapsed": false,
    "pycharm": {
     "name": "#%% md\n"
    }
   }
  },
  {
   "cell_type": "code",
   "execution_count": 77,
   "outputs": [
    {
     "data": {
      "text/plain": "0.45578495136941344"
     },
     "execution_count": 77,
     "metadata": {},
     "output_type": "execute_result"
    }
   ],
   "source": [
    "fd = nltk.FreqDist(nltk.corpus.brown.words(categories='news'))\n",
    "cfd = nltk.ConditionalFreqDist(nltk.corpus.brown.tagged_words(categories='news'))\n",
    "\n",
    "most_freq_words = fd.most_common(100)\n",
    "likely_tags = {word: cfd[word].max() for (word, _) in most_freq_words}\n",
    "\n",
    "unigram_tagger = nltk.UnigramTagger(model=likely_tags)\n",
    "unigram_tagger.evaluate(brown_tagged_sents)"
   ],
   "metadata": {
    "collapsed": false,
    "pycharm": {
     "name": "#%%\n"
    }
   }
  },
  {
   "cell_type": "markdown",
   "source": [
    "### Разметка с помощью N-грам\n",
    "\n",
    "Разделиим корпус на тренировочную и тестовую выборки:"
   ],
   "metadata": {
    "collapsed": false,
    "pycharm": {
     "name": "#%% md\n"
    }
   }
  },
  {
   "cell_type": "code",
   "execution_count": 78,
   "outputs": [],
   "source": [
    "size = int(len(brown_tagged_sents)*0.7)\n",
    "train_sents=brown_tagged_sents[:size]\n",
    "test_sents=brown_tagged_sents[size:]"
   ],
   "metadata": {
    "collapsed": false,
    "pycharm": {
     "name": "#%%\n"
    }
   }
  },
  {
   "cell_type": "markdown",
   "source": [
    "#### Unigram Tagging\n",
    "\n",
    "Unigram-тэггеры основаны на статистическом алгориитме: для каждого токена считается, с какой меткой он встречается чаще всего, и эта метка ставится всем таким словам в тексте.\n",
    "Отличием данного метода от Lookup tagging заключается в подготовительной стадии, на которой каждому токену присваивается наиболее вероятная метка."
   ],
   "metadata": {
    "collapsed": false,
    "pycharm": {
     "name": "#%% md\n"
    }
   }
  },
  {
   "cell_type": "code",
   "execution_count": 79,
   "outputs": [
    {
     "name": "stdout",
     "output_type": "stream",
     "text": [
      "train: 0.9357742402315484\n",
      "test: 0.7986265657785974\n"
     ]
    }
   ],
   "source": [
    "unigram_tagger = nltk.UnigramTagger(train_sents)\n",
    "print(\"train:\",unigram_tagger.evaluate(train_sents))\n",
    "print(\"test:\",unigram_tagger.evaluate(test_sents))"
   ],
   "metadata": {
    "collapsed": false,
    "pycharm": {
     "name": "#%%\n"
    }
   }
  },
  {
   "cell_type": "markdown",
   "source": [
    "#### N-gram tagger\n",
    "\n",
    "N-gram теггеры работают также, как и Unigram, но сопоставляют метку не с одним словом, а с сочетанием текущего и нескольких предыдущих слов.\n",
    "\n",
    "![p](https://www.nltk.org/images/tag-context.png)"
   ],
   "metadata": {
    "collapsed": false,
    "pycharm": {
     "name": "#%% md\n"
    }
   }
  },
  {
   "cell_type": "code",
   "execution_count": 80,
   "outputs": [
    {
     "name": "stdout",
     "output_type": "stream",
     "text": [
      "1-gram tagger accuracy train: 0.9357742402315484\n",
      "1-gram tagger accuracy test: 0.7986265657785974\n",
      "2-gram tagger accuracy train: 0.8009985528219971\n",
      "2-gram tagger accuracy test: 0.09032237553252369\n",
      "3-gram tagger accuracy train: 0.832836468885673\n",
      "3-gram tagger accuracy test: 0.056813123927004515\n",
      "4-gram tagger accuracy train: 0.906671490593343\n",
      "4-gram tagger accuracy test: 0.05172633051440199\n"
     ]
    }
   ],
   "source": [
    "for i in range(1,5):\n",
    "    tagger = nltk.NgramTagger(i, train_sents)\n",
    "    print(f\"{i}-gram tagger accuracy train: {tagger.evaluate(train_sents)}\")\n",
    "    print(f\"{i}-gram tagger accuracy test: {tagger.evaluate(test_sents)}\")"
   ],
   "metadata": {
    "collapsed": false,
    "pycharm": {
     "name": "#%%\n"
    }
   }
  },
  {
   "cell_type": "markdown",
   "source": [
    "Как видим, на тестовом наборе лучше всего работает теггер на основе биграм, при увеличении длины контекста повышается точность на тренировочных данных, но снижается на тестовых, то есть при использовании N-грам, N>2, модель переобучается.\n",
    "\n",
    "### Комбинирование теггеров\n",
    "\n",
    "В неокоторых случаях один теггер не может подобрать метку для какого-либо слова(например биграммный теггер не может подобрать метку для первого слова в предложении), в этом случае можно указать другой теггер, который будет помечать такие слова:"
   ],
   "metadata": {
    "collapsed": false
   }
  },
  {
   "cell_type": "code",
   "execution_count": 81,
   "outputs": [
    {
     "data": {
      "text/plain": "0.8344248744197876"
     },
     "execution_count": 81,
     "metadata": {},
     "output_type": "execute_result"
    }
   ],
   "source": [
    "t0 = nltk.DefaultTagger('NN')\n",
    "t1 = nltk.UnigramTagger(train_sents, backoff=t0)\n",
    "t2 = nltk.BigramTagger(train_sents, backoff=t1)\n",
    "t2.evaluate(test_sents)"
   ],
   "metadata": {
    "collapsed": false,
    "pycharm": {
     "name": "#%%\n"
    }
   }
  },
  {
   "cell_type": "markdown",
   "source": [
    "Обученные теггеры, также как и другие объекты python, могут быть сериализованы для повторного использования с помощью модуля `pickle`:"
   ],
   "metadata": {
    "collapsed": false,
    "pycharm": {
     "name": "#%% md\n"
    }
   }
  },
  {
   "cell_type": "code",
   "execution_count": 82,
   "outputs": [],
   "source": [
    "import pickle\n",
    "\n",
    "with open('t2.pkl', 'wb') as f:\n",
    "    pickle.dump(t2, f)"
   ],
   "metadata": {
    "collapsed": false,
    "pycharm": {
     "name": "#%%\n"
    }
   }
  },
  {
   "cell_type": "markdown",
   "source": [
    "Использование предобученной модели:"
   ],
   "metadata": {
    "collapsed": false,
    "pycharm": {
     "name": "#%% md\n"
    }
   }
  },
  {
   "cell_type": "code",
   "execution_count": 83,
   "outputs": [
    {
     "data": {
      "text/plain": "[('The', 'AT'), ('human', 'NN'), ('goes', 'VBZ'), ('to', 'TO'), ('work', 'VB')]"
     },
     "execution_count": 83,
     "metadata": {},
     "output_type": "execute_result"
    }
   ],
   "source": [
    "inp = open('t2.pkl','rb')\n",
    "bigram_tagger: nltk.tag.sequential.BigramTagger = pickle.load(inp)\n",
    "inp.close()\n",
    "\n",
    "bigram_tagger.tag([\"The\", \"human\", \"goes\", \"to\", \"work\"])"
   ],
   "metadata": {
    "collapsed": false,
    "pycharm": {
     "name": "#%%\n"
    }
   }
  },
  {
   "cell_type": "markdown",
   "source": [
    "Ещё один метод разметки основан на использовании грамматик, например если один теггер вывел последовательность `TO NN NNS`, то применяется правило преобразования в `TO VB NNS` по правилам английского языка, то есть использууется контекстно-зависимая грамматика:"
   ],
   "metadata": {
    "collapsed": false,
    "pycharm": {
     "name": "#%% md\n"
    }
   }
  },
  {
   "cell_type": "code",
   "execution_count": 84,
   "outputs": [
    {
     "name": "stdout",
     "output_type": "stream",
     "text": [
      "Loading tagged data from treebank... \n",
      "Read testing data (200 sents/5251 wds)\n",
      "Read training data (800 sents/19933 wds)\n",
      "Read baseline data (800 sents/19933 wds) [reused the training set]\n",
      "Trained baseline tagger\n",
      "    Accuracy on test set: 0.8366\n",
      "Training tbl tagger...\n",
      "TBL train (fast) (seqs: 800; tokens: 19933; tpls: 24; min score: 3; min acc: None)\n",
      "Finding initial useful rules...\n",
      "    Found 12799 useful rules.\n",
      "\n",
      "           B      |\n",
      "   S   F   r   O  |        Score = Fixed - Broken\n",
      "   c   i   o   t  |  R     Fixed = num tags changed incorrect -> correct\n",
      "   o   x   k   h  |  u     Broken = num tags changed correct -> incorrect\n",
      "   r   e   e   e  |  l     Other = num tags changed incorrect -> incorrect\n",
      "   e   d   n   r  |  e\n",
      "------------------+-------------------------------------------------------\n",
      "  23  23   0   0  | POS->VBZ if Pos:PRP@[-2,-1]\n",
      "  18  19   1   0  | NN->VB if Pos:-NONE-@[-2] & Pos:TO@[-1]\n",
      "  14  14   0   0  | VBP->VB if Pos:MD@[-2,-1]\n",
      "  12  12   0   0  | VBP->VB if Pos:TO@[-1]\n",
      "  11  11   0   0  | VBD->VBN if Pos:VBD@[-1]\n",
      "  11  11   0   0  | IN->WDT if Pos:-NONE-@[1] & Pos:VBP@[2]\n",
      "  10  11   1   0  | VBN->VBD if Pos:PRP@[-1]\n",
      "   9  10   1   0  | VBD->VBN if Pos:VBZ@[-1]\n",
      "   8   8   0   0  | NN->VB if Pos:MD@[-1]\n",
      "   7   7   0   1  | VB->NN if Pos:DT@[-1]\n",
      "   7   7   0   0  | VB->VBP if Pos:PRP@[-1]\n",
      "   7   7   0   0  | IN->WDT if Pos:-NONE-@[1] & Pos:VBZ@[2]\n",
      "   7   8   1   0  | IN->RB if Word:as@[2]\n",
      "   6   6   0   0  | VBD->VBN if Pos:VBP@[-2,-1]\n",
      "   6   6   0   1  | IN->WDT if Pos:-NONE-@[1] & Pos:VBD@[2]\n",
      "   5   5   0   0  | POS->VBZ if Pos:-NONE-@[-1]\n",
      "   5   5   0   0  | VB->VBP if Pos:NNS@[-1]\n",
      "   5   5   0   0  | VBD->VBN if Word:be@[-2,-1]\n",
      "   4   4   0   0  | POS->VBZ if Pos:``@[-2]\n",
      "   4   4   0   0  | VBP->VB if Pos:VBD@[-2,-1]\n",
      "   4   6   2   3  | RP->RB if Pos:CD@[1,2]\n",
      "   4   4   0   0  | RB->JJ if Pos:DT@[-1] & Pos:NN@[1]\n",
      "   4   4   0   0  | NN->VBP if Pos:NNS@[-2] & Pos:RB@[-1]\n",
      "   4   5   1   0  | VBN->VBD if Pos:NNP@[-2] & Pos:NNP@[-1]\n",
      "   4   4   0   0  | IN->WDT if Pos:-NONE-@[1] & Pos:MD@[2]\n",
      "   4   8   4   0  | VBD->VBN if Word:*@[1]\n",
      "   4   4   0   0  | JJS->RBS if Word:most@[0] & Word:the@[-1] & Pos:DT@[-1]\n",
      "   3   3   0   0  | VBD->VBN if Pos:VBN@[-1]\n",
      "   3   4   1   0  | VBN->VB if Pos:TO@[-1]\n",
      "   3   4   1   1  | IN->RB if Pos:.@[1]\n",
      "   3   3   0   0  | JJ->RB if Pos:VBD@[1]\n",
      "   3   3   0   0  | PRP$->PRP if Pos:TO@[1]\n",
      "   3   3   0   0  | NN->VBP if Pos:NNS@[-1] & Pos:DT@[1]\n",
      "   3   3   0   0  | VBP->VB if Word:n't@[-2,-1]\n",
      "Trained tbl tagger in 1.99 seconds\n",
      "    Accuracy on test set: 0.8572\n",
      "Tagging the test data\n"
     ]
    }
   ],
   "source": [
    "from nltk.tbl import demo as tbl_demo\n",
    "tbl_demo.demo()"
   ],
   "metadata": {
    "collapsed": false,
    "pycharm": {
     "name": "#%%\n"
    }
   }
  },
  {
   "cell_type": "markdown",
   "source": [
    "## Извлечение информации из текста\n",
    "\n",
    "В тексте информация представляется разными способами и для её извлечения применяются методы обработки естественного языка.\n",
    "\n",
    "В случае, если данные представлены в таблице, например `csv`-файл:\n",
    "\n",
    "```csv\n",
    "Org,Location\n",
    "Omnicom,New York\n",
    "DDB Needham,New York\n",
    "Kaplan Thaler Group,New York\n",
    "BBDO South,Atlanta\n",
    "Georgia-Pacific,Atlanta\n",
    "```\n",
    "\n",
    "то для получения компаний из Атланты достаточно выполнить запрос pangas:"
   ],
   "metadata": {
    "collapsed": false,
    "pycharm": {
     "name": "#%% md\n"
    }
   }
  },
  {
   "cell_type": "code",
   "execution_count": 5,
   "outputs": [],
   "source": [
    "import pandas as pd"
   ],
   "metadata": {
    "collapsed": false,
    "pycharm": {
     "name": "#%%\n"
    }
   }
  },
  {
   "cell_type": "code",
   "execution_count": 86,
   "outputs": [
    {
     "data": {
      "text/plain": "3         BBDO South\n4    Georgia-Pacific\nName: Org, dtype: object"
     },
     "execution_count": 86,
     "metadata": {},
     "output_type": "execute_result"
    }
   ],
   "source": [
    "df = pd.read_csv(io.StringIO(\"\"\"Org,Location\n",
    "Omnicom,New York\n",
    "DDB Needham,New York\n",
    "Kaplan Thaler Group,New York\n",
    "BBDO South,Atlanta\n",
    "Georgia-Pacific,Atlanta\"\"\"))\n",
    "\n",
    "df[df[\"Location\"]==\"Atlanta\"][\"Org\"]"
   ],
   "metadata": {
    "collapsed": false,
    "pycharm": {
     "name": "#%%\n"
    }
   }
  },
  {
   "cell_type": "markdown",
   "source": [
    "но классические методы не работают, если информация будет представлена в виде текста на естественном языке, например:"
   ],
   "metadata": {
    "collapsed": false,
    "pycharm": {
     "name": "#%% md\n"
    }
   }
  },
  {
   "cell_type": "code",
   "execution_count": 87,
   "outputs": [],
   "source": [
    "ieer = nltk.corpus.ieer\n",
    "rt = ieer.raw('NYT_19980315')\n",
    "bs = BeautifulSoup(rt, 'lxml')"
   ],
   "metadata": {
    "collapsed": false,
    "pycharm": {
     "name": "#%%\n"
    }
   }
  },
  {
   "cell_type": "code",
   "execution_count": 88,
   "outputs": [
    {
     "name": "stdout",
     "output_type": "stream",
     "text": [
      "The fourth Wells account moving to another agency is the\n",
      "packaged paper-products division of Georgia-Pacific Corp., which\n",
      "arrived at Wells only last fall. Like Hertz and the History\n",
      "Channel, it is also leaving for an Omnicom-owned agency, the BBDO\n",
      "South unit of BBDO Worldwide.\n",
      "\t   BBDO South in Atlanta, which handles corporate advertising for\n",
      "Georgia-Pacific, will assume additional duties for brands like\n",
      "Angel Soft toilet tissue and Sparkle paper towels, said Ken Haldin,\n",
      "a spokesman for Georgia-Pacific in Atlanta.\n"
     ]
    }
   ],
   "source": [
    "body = bs.contents[0].contents[0].contents[0].contents[21].contents[9].contents[1].text[5745:6264]\n",
    "print(body)"
   ],
   "metadata": {
    "collapsed": false,
    "pycharm": {
     "name": "#%%\n"
    }
   }
  },
  {
   "cell_type": "markdown",
   "source": [
    "В этом тексте содержится та же информация, что и в csv файле, но извлечь её автоматически с использованием классических алгоритмов невозможно.\n",
    "\n",
    "Для извлечения информации разобьём текст на предложения, токены и присвоим каждому токену метку части речи:"
   ],
   "metadata": {
    "collapsed": false,
    "pycharm": {
     "name": "#%% md\n"
    }
   }
  },
  {
   "cell_type": "code",
   "execution_count": 89,
   "outputs": [
    {
     "name": "stderr",
     "output_type": "stream",
     "text": [
      "<>:5: SyntaxWarning: \"is\" with a literal. Did you mean \"==\"?\n",
      "<>:5: SyntaxWarning: \"is\" with a literal. Did you mean \"==\"?\n",
      "/tmp/ipykernel_14452/120868889.py:5: SyntaxWarning: \"is\" with a literal. Did you mean \"==\"?\n",
      "  sents = [nltk.pos_tag(sent, lang=\"eng\" if language is \"english\" else \"\") for sent in sents]\n"
     ]
    }
   ],
   "source": [
    "def parse(text: str, language: str = \"english\") ->list[tuple[str, str]]:\n",
    "    assert language in {\"english\"}\n",
    "    sents = nltk.sent_tokenize(text, language)\n",
    "    sents = [nltk.word_tokenize(sent, language) for sent in sents]\n",
    "    sents = [nltk.pos_tag(sent, lang=\"eng\" if language is \"english\" else \"\") for sent in sents]\n",
    "    return sents"
   ],
   "metadata": {
    "collapsed": false,
    "pycharm": {
     "name": "#%%\n"
    }
   }
  },
  {
   "cell_type": "code",
   "execution_count": 90,
   "outputs": [
    {
     "data": {
      "text/plain": "[[('The', 'DT'),\n  ('fourth', 'JJ'),\n  ('Wells', 'NNP'),\n  ('account', 'NN'),\n  ('moving', 'VBG'),\n  ('to', 'TO'),\n  ('another', 'DT'),\n  ('agency', 'NN'),\n  ('is', 'VBZ'),\n  ('the', 'DT'),\n  ('packaged', 'VBN'),\n  ('paper-products', 'NNS'),\n  ('division', 'NN'),\n  ('of', 'IN'),\n  ('Georgia-Pacific', 'NNP'),\n  ('Corp.', 'NNP'),\n  (',', ','),\n  ('which', 'WDT'),\n  ('arrived', 'VBD'),\n  ('at', 'IN'),\n  ('Wells', 'NNP'),\n  ('only', 'RB'),\n  ('last', 'JJ'),\n  ('fall', 'NN'),\n  ('.', '.')],\n [('Like', 'IN'),\n  ('Hertz', 'NNP'),\n  ('and', 'CC'),\n  ('the', 'DT'),\n  ('History', 'NNP'),\n  ('Channel', 'NNP'),\n  (',', ','),\n  ('it', 'PRP'),\n  ('is', 'VBZ'),\n  ('also', 'RB'),\n  ('leaving', 'VBG'),\n  ('for', 'IN'),\n  ('an', 'DT'),\n  ('Omnicom-owned', 'JJ'),\n  ('agency', 'NN'),\n  (',', ','),\n  ('the', 'DT'),\n  ('BBDO', 'NNP'),\n  ('South', 'NNP'),\n  ('unit', 'NN'),\n  ('of', 'IN'),\n  ('BBDO', 'NNP'),\n  ('Worldwide', 'NNP'),\n  ('.', '.')],\n [('BBDO', 'NNP'),\n  ('South', 'NNP'),\n  ('in', 'IN'),\n  ('Atlanta', 'NNP'),\n  (',', ','),\n  ('which', 'WDT'),\n  ('handles', 'VBZ'),\n  ('corporate', 'JJ'),\n  ('advertising', 'NN'),\n  ('for', 'IN'),\n  ('Georgia-Pacific', 'NNP'),\n  (',', ','),\n  ('will', 'MD'),\n  ('assume', 'VB'),\n  ('additional', 'JJ'),\n  ('duties', 'NNS'),\n  ('for', 'IN'),\n  ('brands', 'NNS'),\n  ('like', 'IN'),\n  ('Angel', 'NNP'),\n  ('Soft', 'NNP'),\n  ('toilet', 'NN'),\n  ('tissue', 'NN'),\n  ('and', 'CC'),\n  ('Sparkle', 'NNP'),\n  ('paper', 'NN'),\n  ('towels', 'NNS'),\n  (',', ','),\n  ('said', 'VBD'),\n  ('Ken', 'NNP'),\n  ('Haldin', 'NNP'),\n  (',', ','),\n  ('a', 'DT'),\n  ('spokesman', 'NN'),\n  ('for', 'IN'),\n  ('Georgia-Pacific', 'NNP'),\n  ('in', 'IN'),\n  ('Atlanta', 'NNP'),\n  ('.', '.')]]"
     },
     "execution_count": 90,
     "metadata": {},
     "output_type": "execute_result"
    }
   ],
   "source": [
    "tokens = parse(body)\n",
    "tokens"
   ],
   "metadata": {
    "collapsed": false,
    "pycharm": {
     "name": "#%%\n"
    }
   }
  },
  {
   "cell_type": "markdown",
   "source": [
    "Далее, для выполнения поиска по тексту, необходимо построить синтаксическое дерево в соответствии с некоторой грамматикой:"
   ],
   "metadata": {
    "collapsed": false,
    "pycharm": {
     "name": "#%% md\n"
    }
   }
  },
  {
   "cell_type": "code",
   "execution_count": 91,
   "outputs": [],
   "source": [
    "grammar = '''\n",
    "NP: {<DT>?<JJ>*<NN>}\n",
    "'''\n",
    "parser = nltk.RegexpParser(grammar)\n",
    "result = parser.parse(tokens[0])\n",
    "result.draw() # открывает новое окно"
   ],
   "metadata": {
    "collapsed": false,
    "pycharm": {
     "name": "#%%\n"
    }
   }
  },
  {
   "cell_type": "markdown",
   "source": [
    "### Определение и оценка блоков\n",
    "\n",
    "В корпусе с размеченными синтаксическими деревьями `nltk.corpus.conll для описания структуры синтаксического дерева используется нотация IOB [2]:"
   ],
   "metadata": {
    "collapsed": false,
    "pycharm": {
     "name": "#%% md\n"
    }
   }
  },
  {
   "cell_type": "code",
   "execution_count": 92,
   "outputs": [
    {
     "name": "stdout",
     "output_type": "stream",
     "text": [
      "(S\n",
      "  (NP This/DT)\n",
      "  (VP compares/VBZ)\n",
      "  (PP with/IN)\n",
      "  (NP a/DT 1.6/CD %/NN rise/NN)\n",
      "  (PP in/IN)\n",
      "  (NP the/DT second/NN)\n",
      "  (PP from/IN)\n",
      "  (NP the/DT first/JJ quarter/NN)\n",
      "  and/CC\n",
      "  (NP a/DT 5.4/CD %/NN increase/NN)\n",
      "  (PP from/IN)\n",
      "  (NP the/DT second/JJ quarter/NN)\n",
      "  (PP of/IN)\n",
      "  (NP 1988/CD)\n",
      "  ./.)\n"
     ]
    },
    {
     "data": {
      "text/plain": "Tree('S', [Tree('NP', [('This', 'DT')]), Tree('VP', [('compares', 'VBZ')]), Tree('PP', [('with', 'IN')]), Tree('NP', [('a', 'DT'), ('1.6', 'CD'), ('%', 'NN'), ('rise', 'NN')]), Tree('PP', [('in', 'IN')]), Tree('NP', [('the', 'DT'), ('second', 'NN')]), Tree('PP', [('from', 'IN')]), Tree('NP', [('the', 'DT'), ('first', 'JJ'), ('quarter', 'NN')]), ('and', 'CC'), Tree('NP', [('a', 'DT'), ('5.4', 'CD'), ('%', 'NN'), ('increase', 'NN')]), Tree('PP', [('from', 'IN')]), Tree('NP', [('the', 'DT'), ('second', 'JJ'), ('quarter', 'NN')]), Tree('PP', [('of', 'IN')]), Tree('NP', [('1988', 'CD')]), ('.', '.')])",
      "image/png": "[encoded data removed]"
     },
     "execution_count": 92,
     "metadata": {},
     "output_type": "execute_result"
    }
   ],
   "source": [
    "conll2000: nltk.corpus.util.LazyCorpusLoader = nltk.corpus.conll2000\n",
    "print(conll2000.chunked_sents('train.txt')[20])\n",
    "conll2000.chunked_sents('train.txt')[20]"
   ],
   "metadata": {
    "collapsed": false,
    "pycharm": {
     "name": "#%%\n"
    }
   }
  },
  {
   "cell_type": "markdown",
   "source": [
    "CoNLL 2000 группирует словосочетания по следующим категориям:\n",
    "    именные сочетания,\n",
    "    глагольные сочетания и\n",
    "    причастные обороты.\n",
    "Для решения поставленной выше задачи излечения местоположения компании из текста"
   ],
   "metadata": {
    "collapsed": false,
    "pycharm": {
     "name": "#%% md\n"
    }
   }
  },
  {
   "cell_type": "code",
   "execution_count": 94,
   "outputs": [
    {
     "name": "stdout",
     "output_type": "stream",
     "text": [
      "The fourth Wells account moving to another agency is the\n",
      "packaged paper-products division of Georgia-Pacific Corp., which\n",
      "arrived at Wells only last fall. Like Hertz and the History\n",
      "Channel, it is also leaving for an Omnicom-owned agency, the BBDO\n",
      "South unit of BBDO Worldwide.\n",
      "\t   BBDO South in Atlanta, which handles corporate advertising for\n",
      "Georgia-Pacific, will assume additional duties for brands like\n",
      "Angel Soft toilet tissue and Sparkle paper towels, said Ken Haldin,\n",
      "a spokesman for Georgia-Pacific in Atlanta.\n"
     ]
    }
   ],
   "source": [
    "print(body)"
   ],
   "metadata": {
    "collapsed": false,
    "pycharm": {
     "name": "#%%\n"
    }
   }
  },
  {
   "cell_type": "markdown",
   "source": [
    "Основной интерес представляют именные словосочетания, для их фильтрации можно использовать"
   ],
   "metadata": {
    "collapsed": false,
    "pycharm": {
     "name": "#%% md\n"
    }
   }
  },
  {
   "cell_type": "code",
   "execution_count": 96,
   "outputs": [
    {
     "name": "stdout",
     "output_type": "stream",
     "text": [
      "(S\n",
      "  (NP This/DT)\n",
      "  compares/VBZ\n",
      "  with/IN\n",
      "  (NP a/DT 1.6/CD %/NN rise/NN)\n",
      "  in/IN\n",
      "  (NP the/DT second/NN)\n",
      "  from/IN\n",
      "  (NP the/DT first/JJ quarter/NN)\n",
      "  and/CC\n",
      "  (NP a/DT 5.4/CD %/NN increase/NN)\n",
      "  from/IN\n",
      "  (NP the/DT second/JJ quarter/NN)\n",
      "  of/IN\n",
      "  (NP 1988/CD)\n",
      "  ./.)\n"
     ]
    },
    {
     "data": {
      "text/plain": "Tree('S', [Tree('NP', [('This', 'DT')]), ('compares', 'VBZ'), ('with', 'IN'), Tree('NP', [('a', 'DT'), ('1.6', 'CD'), ('%', 'NN'), ('rise', 'NN')]), ('in', 'IN'), Tree('NP', [('the', 'DT'), ('second', 'NN')]), ('from', 'IN'), Tree('NP', [('the', 'DT'), ('first', 'JJ'), ('quarter', 'NN')]), ('and', 'CC'), Tree('NP', [('a', 'DT'), ('5.4', 'CD'), ('%', 'NN'), ('increase', 'NN')]), ('from', 'IN'), Tree('NP', [('the', 'DT'), ('second', 'JJ'), ('quarter', 'NN')]), ('of', 'IN'), Tree('NP', [('1988', 'CD')]), ('.', '.')])",
      "image/png": "[encoded data removed]"
     },
     "execution_count": 96,
     "metadata": {},
     "output_type": "execute_result"
    }
   ],
   "source": [
    "print(conll2000.chunked_sents('train.txt', chunk_types=['NP'])[20])\n",
    "conll2000.chunked_sents('train.txt', chunk_types=['NP'])[20]"
   ],
   "metadata": {
    "collapsed": false,
    "pycharm": {
     "name": "#%%\n"
    }
   }
  },
  {
   "cell_type": "markdown",
   "source": [
    "#### обучение chunker'ов\n",
    "\n",
    "Перед тем, как обучать chunker'ы, посмотрим точность тривиального парсера, не создающего сегментов:"
   ],
   "metadata": {
    "collapsed": false,
    "pycharm": {
     "name": "#%% md\n"
    }
   }
  },
  {
   "cell_type": "code",
   "execution_count": 101,
   "outputs": [
    {
     "name": "stdout",
     "output_type": "stream",
     "text": [
      "ChunkParse score:\n",
      "    IOB Accuracy:  43.4%%\n",
      "    Precision:      0.0%%\n",
      "    Recall:         0.0%%\n",
      "    F-Measure:      0.0%%\n"
     ]
    }
   ],
   "source": [
    "cp = nltk.RegexpParser(\"\")\n",
    "test_sents =conll2000.chunked_sents('test.txt', chunk_types=['NP'])\n",
    "train_sents =conll2000.chunked_sents('train.txt', chunk_types=['NP'])\n",
    "print(cp.evaluate(test_sents))"
   ],
   "metadata": {
    "collapsed": false,
    "pycharm": {
     "name": "#%%\n"
    }
   }
  },
  {
   "cell_type": "markdown",
   "source": [
    "Если предположить, что именные словосочетания начинаются с артикля, числительного или прилагательного (DT,  JJ, CD):"
   ],
   "metadata": {
    "collapsed": false,
    "pycharm": {
     "name": "#%% md\n"
    }
   }
  },
  {
   "cell_type": "code",
   "execution_count": 100,
   "outputs": [
    {
     "name": "stdout",
     "output_type": "stream",
     "text": [
      "ChunkParse score:\n",
      "    IOB Accuracy:  87.4%%\n",
      "    Precision:     69.7%%\n",
      "    Recall:        67.5%%\n",
      "    F-Measure:     68.6%%\n"
     ]
    }
   ],
   "source": [
    "grammar = r\"NP: {<[CDJNP].*>+}\"\n",
    "cp = nltk.RegexpParser(grammar)\n",
    "print(cp.evaluate(test_sents))"
   ],
   "metadata": {
    "collapsed": false,
    "pycharm": {
     "name": "#%%\n"
    }
   }
  },
  {
   "cell_type": "markdown",
   "source": [
    "Если использовать разметку на основе N-грам:"
   ],
   "metadata": {
    "collapsed": false,
    "pycharm": {
     "name": "#%% md\n"
    }
   }
  },
  {
   "cell_type": "code",
   "execution_count": 116,
   "outputs": [],
   "source": [
    "class NgramChunker(nltk.ChunkParserI):\n",
    "    def __init__(self, train_sents: nltk.collections.LazyMap, n: int):\n",
    "        train_data = [\n",
    "            [\n",
    "                (t, c) for _, t, c in nltk.chunk.tree2conlltags(sent)\n",
    "            ]\n",
    "            for sent in train_sents\n",
    "        ]\n",
    "        self.tagger = nltk.NgramTagger(n, train_data)\n",
    "\n",
    "    def parse(self, tokens):\n",
    "        pos_tags = [pos for (_, pos) in tokens]\n",
    "        tagged_pos_tags = self.tagger.tag(pos_tags)\n",
    "        chunk_tags = [t for (_, t) in tagged_pos_tags]\n",
    "        conll_tags = [(w, p, t) for ((w, p), t) in zip(tokens, chunk_tags)]\n",
    "        return nltk.chunk.conlltags2tree(conll_tags)"
   ],
   "metadata": {
    "collapsed": false,
    "pycharm": {
     "name": "#%%\n"
    }
   }
  },
  {
   "cell_type": "code",
   "execution_count": 146,
   "outputs": [
    {
     "name": "stdout",
     "output_type": "stream",
     "text": [
      "1-gram chunker result:\n",
      "ChunkParse score:\n",
      "    IOB Accuracy:  92.9%%\n",
      "    Precision:     79.9%%\n",
      "    Recall:        86.8%%\n",
      "    F-Measure:     83.2%%\n",
      "2-gram chunker result:\n",
      "ChunkParse score:\n",
      "    IOB Accuracy:  93.3%%\n",
      "    Precision:     82.3%%\n",
      "    Recall:        86.8%%\n",
      "    F-Measure:     84.5%%\n",
      "3-gram chunker result:\n",
      "ChunkParse score:\n",
      "    IOB Accuracy:  93.3%%\n",
      "    Precision:     82.5%%\n",
      "    Recall:        86.8%%\n",
      "    F-Measure:     84.6%%\n",
      "4-gram chunker result:\n",
      "ChunkParse score:\n",
      "    IOB Accuracy:  93.0%%\n",
      "    Precision:     82.5%%\n",
      "    Recall:        86.7%%\n",
      "    F-Measure:     84.5%%\n"
     ]
    }
   ],
   "source": [
    "for n in range(1,5):\n",
    "    print(f\"{n}-gram chunker result:\")\n",
    "    print(NgramChunker(train_sents, n).evaluate(test_sents))"
   ],
   "metadata": {
    "collapsed": false,
    "pycharm": {
     "name": "#%%\n"
    }
   }
  },
  {
   "cell_type": "markdown",
   "source": [
    "Наилучшие результаты у chunk'ера на основе биграм."
   ],
   "metadata": {
    "collapsed": false,
    "pycharm": {
     "name": "#%% md\n"
    }
   }
  },
  {
   "cell_type": "markdown",
   "source": [
    "### Рекурсия в языкоых структурах\n",
    "\n",
    "В предложениях на естественных языках часто встречаются рекурсивные структуры, например сложносочинённые предложения состоят из нескольких предложений, которые тоже могут быть сложными.\n",
    "\n",
    "Возьмём, например, простую грамматику:"
   ],
   "metadata": {
    "collapsed": false,
    "pycharm": {
     "name": "#%% md\n"
    }
   }
  },
  {
   "cell_type": "code",
   "execution_count": 151,
   "outputs": [
    {
     "data": {
      "text/plain": "Tree('S', [('Mary', 'NP'), ('saw', 'VBD'), Tree('CLAUSE', [Tree('NP', [('the', 'AT'), ('cat', 'NN')]), Tree('VP', [('sit', 'VB'), Tree('PP', [('on', 'IN'), Tree('NP', [('the', 'AT'), ('mat', 'NN')])])])])])",
      "image/png": "[encoded data removed]"
     },
     "execution_count": 151,
     "metadata": {},
     "output_type": "execute_result"
    }
   ],
   "source": [
    " grammar = r\"\"\"\n",
    " NP: {<(A|D)T|JJ|NN.*>+}\n",
    " PP: {<IN><NP>}\n",
    " VP: {<VB.*><NP|PP|CLAUSE>+$}\n",
    " CLAUSE: {<NP><VP>}\n",
    " \"\"\"\n",
    "\n",
    "cp = nltk.RegexpParser(grammar)\n",
    "\n",
    "sentence = t2.tag(nltk.word_tokenize(\"Mary saw the cat sit on the mat\"))\n",
    "cp.parse(sentence)"
   ],
   "metadata": {
    "collapsed": false,
    "pycharm": {
     "name": "#%%\n"
    }
   }
  },
  {
   "cell_type": "markdown",
   "source": [
    "Дерево построено верно, но для более сложной структуры:"
   ],
   "metadata": {
    "collapsed": false,
    "pycharm": {
     "name": "#%% md\n"
    }
   }
  },
  {
   "cell_type": "code",
   "execution_count": 152,
   "outputs": [
    {
     "data": {
      "text/plain": "Tree('S', [('John', 'NP'), ('thinks', 'VBZ'), ('Mary', 'NP'), ('saw', 'VBD'), Tree('CLAUSE', [Tree('NP', [('the', 'AT'), ('cat', 'NN')]), Tree('VP', [('sit', 'VB'), Tree('PP', [('on', 'IN'), Tree('NP', [('the', 'AT'), ('mat', 'NN')])])])])])",
      "image/png": "[encoded data removed]"
     },
     "execution_count": 152,
     "metadata": {},
     "output_type": "execute_result"
    }
   ],
   "source": [
    "sentence = t2.tag(nltk.word_tokenize(\"John thinks Mary saw the cat sit on the mat\"))\n",
    "cp.parse(sentence)"
   ],
   "metadata": {
    "collapsed": false,
    "pycharm": {
     "name": "#%%\n"
    }
   }
  },
  {
   "cell_type": "markdown",
   "source": [
    "не учитывается придаточное первого уровня.\n",
    "Для исправления увеличим глубину рекурсивного разбора:"
   ],
   "metadata": {
    "collapsed": false,
    "pycharm": {
     "name": "#%% md\n"
    }
   }
  },
  {
   "cell_type": "code",
   "execution_count": 154,
   "outputs": [
    {
     "data": {
      "text/plain": "Tree('S', [('John', 'NP'), ('thinks', 'VBZ'), Tree('CLAUSE', [('Mary', 'NP'), Tree('VP', [('saw', 'VBD'), Tree('CLAUSE', [Tree('NP', [('the', 'AT'), ('cat', 'NN')]), Tree('VP', [('sit', 'VB'), Tree('PP', [('on', 'IN'), Tree('NP', [('the', 'AT'), ('mat', 'NN')])])])])])])])",
      "image/png": "[encoded data removed]"
     },
     "execution_count": 154,
     "metadata": {},
     "output_type": "execute_result"
    }
   ],
   "source": [
    "cp2 = nltk.RegexpParser(grammar, loop=2)\n",
    "cp2.parse(sentence)"
   ],
   "metadata": {
    "collapsed": false,
    "pycharm": {
     "name": "#%%\n"
    }
   }
  },
  {
   "cell_type": "markdown",
   "source": [
    "получаем верное дерево разбора.\n",
    "\n",
    "### Распознавание именнованных сущностей\n",
    "\n",
    "Для распознавания именованных сущностей в  NLTK встроен метод `nltk.ne_chunk`:"
   ],
   "metadata": {
    "collapsed": false,
    "pycharm": {
     "name": "#%% md\n"
    }
   }
  },
  {
   "cell_type": "code",
   "execution_count": 171,
   "outputs": [
    {
     "data": {
      "text/plain": "Tree('S', [('The', 'DT'), ('fourth', 'JJ'), ('Wells', 'NNP'), ('account', 'NN'), ('moving', 'VBG'), ('to', 'TO'), ('another', 'DT'), ('agency', 'NN'), ('is', 'VBZ'), ('the', 'DT'), ('packaged', 'VBN'), ('paper-products', 'NNS'), ('division', 'NN'), ('of', 'IN'), Tree('ORGANIZATION', [('Georgia-Pacific', 'NNP'), ('Corp.', 'NNP')]), (',', ','), ('which', 'WDT'), ('arrived', 'VBD'), ('at', 'IN'), Tree('ORGANIZATION', [('Wells', 'NNP')]), ('only', 'RB'), ('last', 'JJ'), ('fall', 'NN'), ('.', '.')])",
      "image/png": "[encoded data removed]"
     },
     "execution_count": 171,
     "metadata": {},
     "output_type": "execute_result"
    }
   ],
   "source": [
    "tokens = [nltk.word_tokenize(i) for i in nltk.sent_tokenize(body)]\n",
    "\n",
    "tagged_sents = nltk.pos_tag_sents(tokens)"
   ],
   "metadata": {
    "collapsed": false,
    "pycharm": {
     "name": "#%%\n"
    }
   }
  },
  {
   "cell_type": "code",
   "execution_count": 175,
   "outputs": [
    {
     "name": "stdout",
     "output_type": "stream",
     "text": [
      "(S\n",
      "  The/DT\n",
      "  fourth/JJ\n",
      "  Wells/NNP\n",
      "  account/NN\n",
      "  moving/VBG\n",
      "  to/TO\n",
      "  another/DT\n",
      "  agency/NN\n",
      "  is/VBZ\n",
      "  the/DT\n",
      "  packaged/VBN\n",
      "  paper-products/NNS\n",
      "  division/NN\n",
      "  of/IN\n",
      "  (ORGANIZATION Georgia-Pacific/NNP Corp./NNP)\n",
      "  ,/,\n",
      "  which/WDT\n",
      "  arrived/VBD\n",
      "  at/IN\n",
      "  (ORGANIZATION Wells/NNP)\n",
      "  only/RB\n",
      "  last/JJ\n",
      "  fall/NN\n",
      "  ./.)\n",
      "(S\n",
      "  Like/IN\n",
      "  (PERSON Hertz/NNP)\n",
      "  and/CC\n",
      "  the/DT\n",
      "  (ORGANIZATION History/NNP Channel/NNP)\n",
      "  ,/,\n",
      "  it/PRP\n",
      "  is/VBZ\n",
      "  also/RB\n",
      "  leaving/VBG\n",
      "  for/IN\n",
      "  an/DT\n",
      "  Omnicom-owned/JJ\n",
      "  agency/NN\n",
      "  ,/,\n",
      "  the/DT\n",
      "  (ORGANIZATION BBDO/NNP South/NNP)\n",
      "  unit/NN\n",
      "  of/IN\n",
      "  (ORGANIZATION BBDO/NNP Worldwide/NNP)\n",
      "  ./.)\n",
      "(S\n",
      "  (ORGANIZATION BBDO/NNP South/NNP)\n",
      "  in/IN\n",
      "  (GPE Atlanta/NNP)\n",
      "  ,/,\n",
      "  which/WDT\n",
      "  handles/VBZ\n",
      "  corporate/JJ\n",
      "  advertising/NN\n",
      "  for/IN\n",
      "  Georgia-Pacific/NNP\n",
      "  ,/,\n",
      "  will/MD\n",
      "  assume/VB\n",
      "  additional/JJ\n",
      "  duties/NNS\n",
      "  for/IN\n",
      "  brands/NNS\n",
      "  like/IN\n",
      "  (PERSON Angel/NNP Soft/NNP)\n",
      "  toilet/NN\n",
      "  tissue/NN\n",
      "  and/CC\n",
      "  (GPE Sparkle/NNP)\n",
      "  paper/NN\n",
      "  towels/NNS\n",
      "  ,/,\n",
      "  said/VBD\n",
      "  (PERSON Ken/NNP Haldin/NNP)\n",
      "  ,/,\n",
      "  a/DT\n",
      "  spokesman/NN\n",
      "  for/IN\n",
      "  Georgia-Pacific/NNP\n",
      "  in/IN\n",
      "  (GPE Atlanta/NNP)\n",
      "  ./.)\n"
     ]
    }
   ],
   "source": [
    "ne_chunked = []\n",
    "for i in tagged_sents:\n",
    "    ne_chunked.append(nltk.ne_chunk(i))\n",
    "    print(ne_chunked[-1])"
   ],
   "metadata": {
    "collapsed": false,
    "pycharm": {
     "name": "#%%\n"
    }
   }
  },
  {
   "cell_type": "markdown",
   "source": [
    "Теперь мы можем извлечь отношения сущностей, например отношения ORG in LOC:\n",
    "\n",
    "Пример на размеченных данных:"
   ],
   "metadata": {
    "collapsed": false,
    "pycharm": {
     "name": "#%% md\n"
    }
   }
  },
  {
   "cell_type": "code",
   "execution_count": 178,
   "outputs": [
    {
     "name": "stdout",
     "output_type": "stream",
     "text": [
      "[ORG: 'WHYY'] 'in' [LOC: 'Philadelphia']\n",
      "[ORG: 'McGlashan &AMP; Sarrail'] 'firm in' [LOC: 'San Mateo']\n",
      "[ORG: 'Freedom Forum'] 'in' [LOC: 'Arlington']\n",
      "[ORG: 'Brookings Institution'] ', the research group in' [LOC: 'Washington']\n",
      "[ORG: 'Idealab'] ', a self-described business incubator based in' [LOC: 'Los Angeles']\n",
      "[ORG: 'Open Text'] ', based in' [LOC: 'Waterloo']\n",
      "[ORG: 'WGBH'] 'in' [LOC: 'Boston']\n",
      "[ORG: 'Bastille Opera'] 'in' [LOC: 'Paris']\n",
      "[ORG: 'Omnicom'] 'in' [LOC: 'New York']\n",
      "[ORG: 'DDB Needham'] 'in' [LOC: 'New York']\n",
      "[ORG: 'Kaplan Thaler Group'] 'in' [LOC: 'New York']\n",
      "[ORG: 'BBDO South'] 'in' [LOC: 'Atlanta']\n",
      "[ORG: 'Georgia-Pacific'] 'in' [LOC: 'Atlanta']\n"
     ]
    }
   ],
   "source": [
    "IN = re.compile(r'.*\\bin\\b(?!\\b.+ing)')\n",
    "for doc in nltk.corpus.ieer.parsed_docs('NYT_19980315'):\n",
    "    for rel in nltk.sem.extract_rels('ORG', 'LOC', doc, 'ieer', IN):\n",
    "        print(nltk.sem.rtuple(rel))"
   ],
   "metadata": {
    "collapsed": false,
    "pycharm": {
     "name": "#%%\n"
    }
   }
  },
  {
   "cell_type": "markdown",
   "source": [
    "## Анализ структуры предложений\n",
    "\n",
    "Контекстно свободая грамматика может быть неоднозначой, например:"
   ],
   "metadata": {
    "collapsed": false,
    "pycharm": {
     "name": "#%% md\n"
    }
   }
  },
  {
   "cell_type": "code",
   "execution_count": 30,
   "outputs": [],
   "source": [
    "sent = nltk.word_tokenize(\"While hunting in Africa I shot an elephant in my pajamas\")"
   ],
   "metadata": {
    "collapsed": false,
    "pycharm": {
     "name": "#%%\n"
    }
   }
  },
  {
   "cell_type": "code",
   "execution_count": 50,
   "outputs": [],
   "source": [
    "groucho_grammar = nltk.CFG.fromstring(\"\"\"\n",
    "S -> NP VP\n",
    "PP -> P NP\n",
    "NP -> Det N | Det N PP | 'I'\n",
    "VP -> V NP | VP PP\n",
    "Det -> 'an' | 'my'\n",
    "N -> 'elephant' | 'pajamas'\n",
    "V -> 'shot'\n",
    "P -> 'in'\n",
    "\"\"\")"
   ],
   "metadata": {
    "collapsed": false,
    "pycharm": {
     "name": "#%%\n"
    }
   }
  },
  {
   "cell_type": "code",
   "execution_count": 51,
   "outputs": [
    {
     "name": "stdout",
     "output_type": "stream",
     "text": [
      "(S\n",
      "  (NP I)\n",
      "  (VP\n",
      "    (VP (V shot) (NP (Det an) (N elephant)))\n",
      "    (PP (P in) (NP (Det my) (N pajamas)))))\n",
      "(S\n",
      "  (NP I)\n",
      "  (VP\n",
      "    (V shot)\n",
      "    (NP (Det an) (N elephant) (PP (P in) (NP (Det my) (N pajamas))))))\n"
     ]
    }
   ],
   "source": [
    "sent = ['I', 'shot', 'an', 'elephant', 'in', 'my', 'pajamas']\n",
    "parser = nltk.ChartParser(groucho_grammar)#%% md\n",
    "for tree in parser.parse(sent):\n",
    "    print(tree)## Список литературы"
   ],
   "metadata": {
    "collapsed": false,
    "pycharm": {
     "name": "#%%\n"
    }
   }
  },
  {
   "cell_type": "markdown",
   "source": [
    "Получаем два корректных дерева разбора.\n",
    "\n",
    "### Грамматики зависимостей\n",
    "\n",
    "В предложении все слова связаны друг с другом отношениями, запишем граммитику зависимостей для предложения выше:"
   ],
   "metadata": {
    "collapsed": false,
    "pycharm": {
     "name": "#%% md\n"
    }
   }
  },
  {
   "cell_type": "code",
   "execution_count": 53,
   "outputs": [
    {
     "name": "stdout",
     "output_type": "stream",
     "text": [
      "Dependency grammar with 7 productions\n",
      "  'shot' -> 'I'\n",
      "  'shot' -> 'elephant'\n",
      "  'shot' -> 'in'\n",
      "  'elephant' -> 'an'\n",
      "  'elephant' -> 'in'\n",
      "  'in' -> 'pajamas'\n",
      "  'pajamas' -> 'my'\n"
     ]
    }
   ],
   "source": [
    "groucho_dep_grammar = nltk.DependencyGrammar.fromstring('''\n",
    "'shot' -> 'I' | 'elephant' | 'in'\n",
    "'elephant' -> 'an' | 'in'\n",
    "'in' -> 'pajamas'\n",
    "'pajamas' -> 'my'\n",
    "''')\n",
    "print(groucho_dep_grammar)"
   ],
   "metadata": {
    "collapsed": false,
    "pycharm": {
     "name": "#%%\n"
    }
   }
  },
  {
   "cell_type": "markdown",
   "source": [
    "построим дерево разбора:"
   ],
   "metadata": {
    "collapsed": false,
    "pycharm": {
     "name": "#%% md\n"
    }
   }
  },
  {
   "cell_type": "code",
   "execution_count": 54,
   "outputs": [
    {
     "name": "stdout",
     "output_type": "stream",
     "text": [
      "(shot I (elephant an (in (pajamas my))))\n",
      "(shot I (elephant an) (in (pajamas my)))\n"
     ]
    }
   ],
   "source": [
    "pdp = nltk.ProjectiveDependencyParser(groucho_dep_grammar)\n",
    "trees = pdp.parse(sent)\n",
    "for tree in trees:\n",
    "    print(tree)"
   ],
   "metadata": {
    "collapsed": false,
    "pycharm": {
     "name": "#%%\n"
    }
   }
  },
  {
   "cell_type": "markdown",
   "source": [
    "## Анализ значений предложений\n",
    "\n",
    "### Понимание естественного чзыка\n",
    "\n",
    "Допустим. что у нас есть таблица в базе данных, состоящая из полей\n",
    "\"город\",\n",
    "\"страна\" и\n",
    "\"численность населения\".\n",
    "И нам нужно выдавать ответы на запросы, описанные естественным языком, например: \"Which country is Moscow in?\".\n",
    "\n",
    "В NLTK включён парсер для конвертации естественного языка в SQL:"
   ],
   "metadata": {
    "collapsed": false,
    "pycharm": {
     "name": "#%% md\n"
    }
   }
  },
  {
   "cell_type": "code",
   "execution_count": 5,
   "outputs": [
    {
     "name": "stdout",
     "output_type": "stream",
     "text": [
      "% start S\n",
      "S[SEM=(?np + WHERE + ?vp)] -> NP[SEM=?np] VP[SEM=?vp]\n",
      "VP[SEM=(?v + ?pp)] -> IV[SEM=?v] PP[SEM=?pp]\n",
      "VP[SEM=(?v + ?ap)] -> IV[SEM=?v] AP[SEM=?ap]\n",
      "NP[SEM=(?det + ?n)] -> Det[SEM=?det] N[SEM=?n]\n",
      "PP[SEM=(?p + ?np)] -> P[SEM=?p] NP[SEM=?np]\n",
      "AP[SEM=?pp] -> A[SEM=?a] PP[SEM=?pp]\n",
      "NP[SEM='Country=\"greece\"'] -> 'Greece'\n",
      "NP[SEM='Country=\"china\"'] -> 'China'\n",
      "Det[SEM='SELECT'] -> 'Which' | 'What'\n",
      "N[SEM='City FROM city_table'] -> 'cities'\n",
      "IV[SEM=''] -> 'are'\n",
      "A[SEM=''] -> 'located'\n",
      "P[SEM=''] -> 'in'\n"
     ]
    }
   ],
   "source": [
    "nltk.data.show_cfg(\"grammars/book_grammars/sql0.fcfg\")"
   ],
   "metadata": {
    "collapsed": false,
    "pycharm": {
     "name": "#%%\n"
    }
   }
  },
  {
   "cell_type": "markdown",
   "source": [
    "Транслируем по этой грамматике предложение в SQL-запрос:"
   ],
   "metadata": {
    "collapsed": false,
    "pycharm": {
     "name": "#%% md\n"
    }
   }
  },
  {
   "cell_type": "code",
   "execution_count": 37,
   "outputs": [
    {
     "name": "stdout",
     "output_type": "stream",
     "text": [
      "Trees found: 1\n",
      "(S[SEM=(SELECT, City FROM city_table, WHERE, , , Country=\"china\")]\n",
      "  (NP[SEM=(SELECT, City FROM city_table)]\n",
      "    (Det[SEM='SELECT'] What)\n",
      "    (N[SEM='City FROM city_table'] cities))\n",
      "  (VP[SEM=(, , Country=\"china\")]\n",
      "    (IV[SEM=''] are)\n",
      "    (AP[SEM=(, Country=\"china\")]\n",
      "      (A[SEM=''] located)\n",
      "      (PP[SEM=(, Country=\"china\")]\n",
      "        (P[SEM=''] in)\n",
      "        (NP[SEM='Country=\"china\"'] China)))))\n"
     ]
    }
   ],
   "source": [
    "cp = nltk.load_parser(\"grammars/book_grammars/sql0.fcfg\")\n",
    "query = \"What cities are located in China\"\n",
    "trees = list(cp.parse(nltk.word_tokenize(query)))\n",
    "print(\"Trees found:\", len(trees))\n",
    "answer = trees[0]\n",
    "print(answer)"
   ],
   "metadata": {
    "collapsed": false,
    "pycharm": {
     "name": "#%%\n"
    }
   }
  },
  {
   "cell_type": "markdown",
   "source": [
    "Для каждого узла дерева разбора установлено свойство, отраэжающее соответствующую часть SQL запроса, значит полный запрос содержится в корне дерева:"
   ],
   "metadata": {
    "collapsed": false,
    "pycharm": {
     "name": "#%% md\n"
    }
   }
  },
  {
   "cell_type": "code",
   "execution_count": 39,
   "outputs": [
    {
     "data": {
      "text/plain": "'SELECT City FROM city_table WHERE Country=\"china\"'"
     },
     "execution_count": 39,
     "metadata": {},
     "output_type": "execute_result"
    }
   ],
   "source": [
    "q = ' '.join(s for s in answer.label()['SEM'] if s)\n",
    "q"
   ],
   "metadata": {
    "collapsed": false,
    "pycharm": {
     "name": "#%%\n"
    }
   }
  },
  {
   "cell_type": "markdown",
   "source": [
    "Сгенерирован валидный SQL-запрос, который можно направить в базу данных\n",
    "\n",
    "Такая генерация возможно благодаря трансформации деревьев синтаксического разбора предложений стандартными етодами, применяемыми в обычных трансляторах для языков программирования."
   ],
   "metadata": {
    "collapsed": false,
    "pycharm": {
     "name": "#%% md\n"
    }
   }
  },
  {
   "cell_type": "markdown",
   "source": [
    "## Список литературы\n",
    "\n",
    "1. Bird S., Klein E., Loper E. Natural Language Processing with Python – Analyzing Text with the Natural Language Toolkit. URL: http://www.nltk.org/book/.\n",
    "2. Inside–outside–beginning (tagging) // Wikipedia. 2021."
   ],
   "metadata": {
    "collapsed": false
   }
  }
 ],
 "metadata": {
  "kernelspec": {
   "name": "pycharm-4f222ca7",
   "language": "python",
   "display_name": "PyCharm (udv)"
  },
  "language_info": {
   "codemirror_mode": {
    "name": "ipython",
    "version": 2
   },
   "file_extension": ".py",
   "mimetype": "text/x-python",
   "name": "python",
   "nbconvert_exporter": "python",
   "pygments_lexer": "ipython2",
   "version": "2.7.6"
  }
 },
 "nbformat": 4,
 "nbformat_minor": 0
}