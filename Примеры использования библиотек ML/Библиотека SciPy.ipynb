{
 "cells": [
  {
   "cell_type": "markdown",
   "id": "9ae2ccf2",
   "metadata": {},
   "source": [
    "# SciPy"
   ]
  },
  {
   "cell_type": "markdown",
   "id": "75e37d3a",
   "metadata": {},
   "source": [
    "SciPy – библиотека Python с открытым исходным кодом, предназначенная для решения научных и математических проблем.  \n",
    "Документация: [SciPy User Guide](https://docs.scipy.org/doc/scipy/tutorial/index.html)"
   ]
  },
  {
   "cell_type": "markdown",
   "id": "23f420c8",
   "metadata": {},
   "source": [
    "Основной структурой данных в SciPy является многомерный массив, реализуемый NumPy."
   ]
  },
  {
   "cell_type": "code",
   "execution_count": 1,
   "id": "787df51c",
   "metadata": {},
   "outputs": [],
   "source": [
    "import numpy as np"
   ]
  },
  {
   "cell_type": "markdown",
   "id": "be36251d",
   "metadata": {},
   "source": [
    "SciPy состоит из модулей (подпакетов), охватывающих различные области научных вычислений:\n",
    "* cluster - алгоритмы кластеризации.\n",
    "* constants - физические и математические константы.\n",
    "* fftpack - процедуры быстрого преобразования Фурье.\n",
    "* integrate - интегрирование и решение обыкновенных дифференциальных уравнений.\n",
    "* interpolate - интерполяция и сглаживающие сплайны.\n",
    "* io - ввод и вывод.\n",
    "* linalg - линейная алгебра.\n",
    "* ndimage - обработка N-мерных изображений.\n",
    "* odr - ортогональная дистанционная регрессия.\n",
    "* optimize - процедуры оптимизации и поиска корней.\n",
    "* signal - обработка сигналов.\n",
    "* sparse - разреженные матрицы и связанные процедуры.\n",
    "* spatial - структуры и алгоритмы пространственных данных.\n",
    "* special - специальные функции.\n",
    "* stats - статистические распределения и функции.\n",
    "\n",
    "Ниже будут рассмотрены некоторые из них."
   ]
  },
  {
   "cell_type": "markdown",
   "id": "ccc6e434",
   "metadata": {},
   "source": [
    "## Модуль interpolate\n",
    "---"
   ]
  },
  {
   "cell_type": "code",
   "execution_count": 2,
   "id": "0b954384",
   "metadata": {},
   "outputs": [],
   "source": [
    "from scipy import interpolate"
   ]
  },
  {
   "cell_type": "markdown",
   "id": "677a07bf",
   "metadata": {},
   "source": [
    "Интерполяция – нахождение неизвестных промежуточных значений некоторой функции по имеющемуся дискретному набору ее известных значений. Модуль **interpolate** содержит сплайновые функции и классы, одномерные и многомерные интерполяционные классы:\n",
    "* Одномерная интерполяция: **interp1d** - интерполяция одномерной функции, и другие.\n",
    "* Многомерная интерполяция: **interp2d** - интерполяция по двумерной сетке, **griddata** - интерполяция неструктурированных данных, и другие.\n",
    "* Одномерные сплайны: **UnivariateSpline** - одномерный сглаживающий сплайн, соответствующий заданному набору точек, и другие.\n",
    "* Двумерные сплайны: **SmoothBivariateSpline** - гладкая аппроксимация двумерных сплайнов, **RectBivariateSpline** - аппроксимация двумерных сплайнов на прямоугольной сетке, и другие."
   ]
  },
  {
   "cell_type": "markdown",
   "id": "ce2d79ec",
   "metadata": {},
   "source": [
    "### Одномерная интерполяция"
   ]
  },
  {
   "cell_type": "markdown",
   "id": "d0b2dba9",
   "metadata": {},
   "source": [
    "Одномерная интерполяция – построение кривой, которая бы полностью соответствовала набору двумерных точек данных."
   ]
  },
  {
   "cell_type": "markdown",
   "id": "7c461dd8",
   "metadata": {},
   "source": [
    "Для примера рассмотрим простую функцию, например, экспоненту – $e^{−x/3}$. Выполним интерполяцию с помощью функции **interp1d**, которой передаются два массива значений - координаты точек на плоскости."
   ]
  },
  {
   "cell_type": "code",
   "execution_count": 3,
   "id": "3b272def",
   "metadata": {},
   "outputs": [],
   "source": [
    "x = np.arange(0, 10, 2)\n",
    "y = np.exp(-x / 3.0)\n",
    "\n",
    "f = interpolate.interp1d(x, y)"
   ]
  },
  {
   "cell_type": "markdown",
   "id": "1644206f",
   "metadata": {},
   "source": [
    "Используем возвращенную интерполяционную функцию для получения новых значений. "
   ]
  },
  {
   "cell_type": "code",
   "execution_count": 4,
   "id": "f90751f0",
   "metadata": {},
   "outputs": [],
   "source": [
    "xnew = np.arange(0, 8, 0.1)\n",
    "ynew = f(xnew)"
   ]
  },
  {
   "cell_type": "markdown",
   "id": "6ce49516",
   "metadata": {},
   "source": [
    "Построим график. Синие точки – известные значения функции, красная линия – интерполированные значения."
   ]
  },
  {
   "cell_type": "code",
   "execution_count": 5,
   "id": "c8d35277",
   "metadata": {},
   "outputs": [],
   "source": [
    "%matplotlib inline\n",
    "import matplotlib.pyplot as plt"
   ]
  },
  {
   "cell_type": "code",
   "execution_count": 6,
   "id": "e500d656",
   "metadata": {},
   "outputs": [
    {
     "data": {
      "image/png": "[encoded data removed]",
      "text/plain": [
       "<Figure size 432x288 with 1 Axes>"
      ]
     },
     "metadata": {
      "needs_background": "light"
     },
     "output_type": "display_data"
    }
   ],
   "source": [
    "plt.plot(x, y, 'o', xnew, ynew, 'r-')\n",
    "plt.show()"
   ]
  },
  {
   "cell_type": "markdown",
   "id": "5ebf7ad0",
   "metadata": {},
   "source": [
    "По умолчанию тип интерполяции (kind) равен linear. Можно задать его вручную, например, quadratic. В этом случае график получится более гладким."
   ]
  },
  {
   "cell_type": "code",
   "execution_count": 7,
   "id": "706d9877",
   "metadata": {},
   "outputs": [],
   "source": [
    "f = interpolate.interp1d(x, y, kind='quadratic')\n",
    "\n",
    "xnew = np.arange(0, 8, 0.1)\n",
    "ynew = f(xnew)"
   ]
  },
  {
   "cell_type": "code",
   "execution_count": 8,
   "id": "dd239d5c",
   "metadata": {},
   "outputs": [
    {
     "data": {
      "image/png": "[encoded data removed]",
      "text/plain": [
       "<Figure size 432x288 with 1 Axes>"
      ]
     },
     "metadata": {
      "needs_background": "light"
     },
     "output_type": "display_data"
    }
   ],
   "source": [
    "plt.plot(x, y, 'o', xnew, ynew, 'r-')\n",
    "plt.show()"
   ]
  },
  {
   "cell_type": "markdown",
   "id": "9d9b0b6d",
   "metadata": {},
   "source": [
    "### Двумерная интерполяция"
   ]
  },
  {
   "cell_type": "markdown",
   "id": "237ee5ca",
   "metadata": {},
   "source": [
    "Многомерная интерполяция (пространственная интерполяция) – это тип интерполяции функции, проходящей через точки в пространстве, а не на плоскости."
   ]
  },
  {
   "cell_type": "markdown",
   "id": "13442ab6",
   "metadata": {},
   "source": [
    "Создадим двумерную сетку. Выполним интерполяцию с помощью функции **interp2d**, которой передаем три массива значений (координаты точек в пространстве) и тип интерполяции."
   ]
  },
  {
   "cell_type": "code",
   "execution_count": 9,
   "id": "9a256a2a",
   "metadata": {},
   "outputs": [],
   "source": [
    "x = np.arange(-5.01, 5.01, 0.25)\n",
    "y = np.arange(-5.01, 5.01, 0.25)\n",
    "xx, yy = np.meshgrid(x, y)\n",
    "z = np.sin(xx**2 + yy**2)\n",
    "\n",
    "f = interpolate.interp2d(x, y, z, kind='cubic')"
   ]
  },
  {
   "cell_type": "markdown",
   "id": "f46b0386",
   "metadata": {},
   "source": [
    "Используем возвращенную интерполяционную функцию для получения новых значений."
   ]
  },
  {
   "cell_type": "code",
   "execution_count": 10,
   "id": "071495f5",
   "metadata": {},
   "outputs": [],
   "source": [
    "xnew = np.arange(-5.01, 5.01, 1e-2)\n",
    "ynew = np.arange(-5.01, 5.01, 1e-2)\n",
    "znew = f(xnew, ynew)"
   ]
  },
  {
   "cell_type": "markdown",
   "id": "96eb4efb",
   "metadata": {},
   "source": [
    "Построим результат. Синие точки – известные значения, красная линия – интерполированные."
   ]
  },
  {
   "cell_type": "code",
   "execution_count": 11,
   "id": "1d92c3a7",
   "metadata": {},
   "outputs": [
    {
     "data": {
      "image/png": "[encoded data removed]",
      "text/plain": [
       "<Figure size 432x288 with 1 Axes>"
      ]
     },
     "metadata": {
      "needs_background": "light"
     },
     "output_type": "display_data"
    }
   ],
   "source": [
    "plt.plot(x, z[0, :], 'bo', xnew, znew[0, :], 'r-')\n",
    "plt.show()"
   ]
  },
  {
   "cell_type": "markdown",
   "id": "c8a8699e",
   "metadata": {},
   "source": [
    "## Модуль linalg\n",
    "---"
   ]
  },
  {
   "cell_type": "code",
   "execution_count": 12,
   "id": "69ec3069",
   "metadata": {},
   "outputs": [],
   "source": [
    "from scipy import linalg"
   ]
  },
  {
   "cell_type": "markdown",
   "id": "fb2f01d6",
   "metadata": {},
   "source": [
    "Модуль **linalg** содержит функции линейной алгебры:\n",
    "* Базовые функции для работы с матрицами: **inv** - нахождение обратной матрицы, **solve** - решение системы линейных уравнений, **det** - нахождение определителя матрицы, **norm** - матричная или векторная норма, и другие.\n",
    "* Нахождение собственных векторов: **eig** - нахождение собственных значений квадратной матрицы, и другие.\n",
    "* Матричные разложения: **lu** - LU-разложение, **svd** - SVD-разложение, **qr** - QR-разложение, и другие.\n",
    "* Матричные функции: **expm** - экспонента от матрицы, **logm** - логарифм от матрицы, **cosm** - косинус от матрицы, **sqrtm** - квадратный корень от матрицы, и другие.\n",
    "* И другие функции."
   ]
  },
  {
   "cell_type": "markdown",
   "id": "4d70f854",
   "metadata": {},
   "source": [
    "### Решение системы уравнений"
   ]
  },
  {
   "cell_type": "markdown",
   "id": "c5511dff",
   "metadata": {},
   "source": [
    "Решим простую систему уравнений:\n",
    "$$\\begin{cases}\n",
    "  3x + 2y = 2, \n",
    "  \\\\\n",
    "  x - y = 4,\n",
    "  \\\\\n",
    "  5y + z = -1.\n",
    "  \\end{cases}$$"
   ]
  },
  {
   "cell_type": "markdown",
   "id": "4e79834a",
   "metadata": {},
   "source": [
    "Первая строчка (**a**) задает матрицу системы, вторая строчка (**b**) – столбец свободных членов. Нужно найти такой вектор **x**, при умножении которого на матрицу **a** в ответе получится **b**."
   ]
  },
  {
   "cell_type": "code",
   "execution_count": 13,
   "id": "4e9b6cf3",
   "metadata": {},
   "outputs": [],
   "source": [
    "a = np.array([[3, 2, 0], [1, -1, 0], [0, 5, 1]])\n",
    "b = np.array([2, 4, -1])"
   ]
  },
  {
   "cell_type": "markdown",
   "id": "056af2a2",
   "metadata": {},
   "source": [
    "Воспользуемся функцией **solve**, которая принимает два аргумента: матрицу системы и столбец свободных членов. "
   ]
  },
  {
   "cell_type": "code",
   "execution_count": 14,
   "id": "3e96d3e8",
   "metadata": {},
   "outputs": [
    {
     "name": "stdout",
     "output_type": "stream",
     "text": [
      "[ 2. -2.  9.]\n"
     ]
    }
   ],
   "source": [
    "x = linalg.solve(a, b)\n",
    "print(x)"
   ]
  },
  {
   "cell_type": "markdown",
   "id": "c7184504",
   "metadata": {},
   "source": [
    "Для проверки полученного результата, умножим матрицу **a** на полученный **x**. Получившийся вектор совпадет с заданным."
   ]
  },
  {
   "cell_type": "code",
   "execution_count": 15,
   "id": "89a03081",
   "metadata": {},
   "outputs": [
    {
     "name": "stdout",
     "output_type": "stream",
     "text": [
      "[ 2.  4. -1.]\n"
     ]
    }
   ],
   "source": [
    "print(np.dot(a, x))"
   ]
  },
  {
   "cell_type": "markdown",
   "id": "ff7d6483",
   "metadata": {},
   "source": [
    "### Матричное разложение"
   ]
  },
  {
   "cell_type": "markdown",
   "id": "05410777",
   "metadata": {},
   "source": [
    "Рассмотрим сингулярное разложение матрицы, или SVD разложение, которое часто используется в анализе данных. Сингулярное разложение матриц – это представление исходной матрицы произведением трех других: ортогональной, диагональной и снова ортогональной."
   ]
  },
  {
   "cell_type": "markdown",
   "id": "54408162",
   "metadata": {},
   "source": [
    "Сначала сгенерируем матрицу из случайных чисел размером 4 х 3. Далее с помощью функции **svd** сделаем разложение на 3 матрицы. Получим матрицы следующего вида: ортогональная 4 х 4, диагональная размера 3 и ортогональная 3 х 3 соответственно."
   ]
  },
  {
   "cell_type": "code",
   "execution_count": 16,
   "id": "2f360a6e",
   "metadata": {
    "scrolled": true
   },
   "outputs": [
    {
     "name": "stdout",
     "output_type": "stream",
     "text": [
      "(4, 4) (3,) (3, 3)\n"
     ]
    }
   ],
   "source": [
    "X = np.random.randn(4, 3)\n",
    "U, D, V = linalg.svd(X)\n",
    "print(U.shape, D.shape, V.shape)"
   ]
  },
  {
   "cell_type": "markdown",
   "id": "5e039b43",
   "metadata": {},
   "source": [
    "## Модуль optimize\n",
    "---"
   ]
  },
  {
   "cell_type": "code",
   "execution_count": 17,
   "id": "46caa6fe",
   "metadata": {},
   "outputs": [],
   "source": [
    "from scipy import optimize"
   ]
  },
  {
   "cell_type": "markdown",
   "id": "f84ba368",
   "metadata": {},
   "source": [
    "Модуль **optimize** содержит несколько наиболее часто используемых оптимизационных алгоритмов:\n",
    "* Оптимизация скалярных одномерных функций - **minimize_scalar**.\n",
    "* Неограниченная и ограниченная оптимизация многомерных скалярных функций - **minimize**. Поддерживаются различные методы: Бройдена-Флетчера-Гольдфарба-Шанно (**BFGS**), Нелдера-Мида (**Nelder-Mead**), сопряженных градиентов (**Newton-CG**), и другие.\n",
    "* Глобальная оптимизация: дифференциальная эволюция - **differential_evolution**, перебор - **brute**, и другие.\n",
    "* Оптимизация методом наименьших квадратов - **least_squares**.\n",
    "* И другие функции."
   ]
  },
  {
   "cell_type": "markdown",
   "id": "14b45045",
   "metadata": {},
   "source": [
    "### Глобальная оптимизация"
   ]
  },
  {
   "cell_type": "markdown",
   "id": "7ad68a4f",
   "metadata": {},
   "source": [
    "Для примера используем функцию Розенброка, которая часто используется для тестирования оптимизационных алгоритмов. У нее минимум в точке (1, 1). "
   ]
  },
  {
   "cell_type": "code",
   "execution_count": 18,
   "id": "1ab99ab3",
   "metadata": {},
   "outputs": [
    {
     "name": "stdout",
     "output_type": "stream",
     "text": [
      "0.0\n"
     ]
    }
   ],
   "source": [
    "def f(x):\n",
    "    return 0.5 * (1 - x[0])**2 + (x[1] - x[0]**2)**2\n",
    "    \n",
    "print(f([1, 1]))"
   ]
  },
  {
   "cell_type": "markdown",
   "id": "78a21ed5",
   "metadata": {},
   "source": [
    "Для начала применим примитивный метод – перебор (**brute**). Точка минимума находится достаточно точно, но не все функции могут быть вычислены так же быстро. Процесс можно ускорить, использовав другой метод."
   ]
  },
  {
   "cell_type": "code",
   "execution_count": 19,
   "id": "ebe7b9f7",
   "metadata": {},
   "outputs": [
    {
     "name": "stdout",
     "output_type": "stream",
     "text": [
      "[0.99999324 1.00001283]\n"
     ]
    }
   ],
   "source": [
    "result = optimize.brute(f, ((-5, 5), (-5, 5)))\n",
    "print(result)"
   ]
  },
  {
   "cell_type": "markdown",
   "id": "9bee5cfc",
   "metadata": {},
   "source": [
    "В случае, если функция плохая (в ней есть разрывы, она не гладкая), подойдет дифференциальная эволюция (**differential_evolution**), это генетический алгоритм. В результате находится точка минимума, но требуется достаточно большое количество итераций (115). "
   ]
  },
  {
   "cell_type": "code",
   "execution_count": 20,
   "id": "2bc8c62e",
   "metadata": {},
   "outputs": [
    {
     "name": "stdout",
     "output_type": "stream",
     "text": [
      "     fun: 7.395570986446986e-32\n",
      " message: 'Optimization terminated successfully.'\n",
      "    nfev: 3483\n",
      "     nit: 115\n",
      " success: True\n",
      "       x: array([1., 1.])\n"
     ]
    }
   ],
   "source": [
    "print(optimize.differential_evolution(f, ((-5, 5), (-5, 5))))"
   ]
  },
  {
   "cell_type": "markdown",
   "id": "4f6385c7",
   "metadata": {},
   "source": [
    "### Функция minimize"
   ]
  },
  {
   "cell_type": "markdown",
   "id": "deaaf291",
   "metadata": {},
   "source": [
    "Если у функции есть градиент, можно воспользоваться градиентными методами. Для этого сначала определим градиент функции Розенброка. Функция **check_grad** позволяет проверить правильность определенного градиента. В данном случае расхождение незначительное."
   ]
  },
  {
   "cell_type": "code",
   "execution_count": 21,
   "id": "877a86ef",
   "metadata": {},
   "outputs": [
    {
     "name": "stdout",
     "output_type": "stream",
     "text": [
      "2.384185791015625e-07\n"
     ]
    }
   ],
   "source": [
    "def g(x):\n",
    "    return np.array((-2 * 0.5 * (1 - x[0]) - 4 * x[0] * (x[1] - x[0]**2), 2 * (x[1] - x[0]**2)))\n",
    "\n",
    "print(optimize.check_grad(f, g, [2, 2]))"
   ]
  },
  {
   "cell_type": "markdown",
   "id": "d86bb93f",
   "metadata": {},
   "source": [
    "Один из популярных градиентных методов – bfgs, он достаточно хорошо решает задачу оптимизации. Воспользуемся функцией **minimize**, передав ей функцию Розенброка и начальное приближение, то есть вектор, с которого начнется некоторый оптимизационный процесс. Также передадим необходимый метод (method) и градиент (jac). Для нахождения точки минимума потребовалось гораздо меньше итераций (8)."
   ]
  },
  {
   "cell_type": "code",
   "execution_count": 22,
   "id": "baffbf56",
   "metadata": {},
   "outputs": [
    {
     "name": "stdout",
     "output_type": "stream",
     "text": [
      "      fun: 1.8414093407262628e-11\n",
      " hess_inv: array([[0.95489113, 1.90006768],\n",
      "       [1.90006768, 4.27872719]])\n",
      "      jac: array([9.88085521e-07, 2.41739812e-06])\n",
      "  message: 'Optimization terminated successfully.'\n",
      "     nfev: 9\n",
      "      nit: 8\n",
      "     njev: 9\n",
      "   status: 0\n",
      "  success: True\n",
      "        x: array([1.00000582, 1.00001285])\n"
     ]
    }
   ],
   "source": [
    "print(optimize.minimize(f, [2, 2], method='BFGS', jac=g))"
   ]
  },
  {
   "cell_type": "markdown",
   "id": "48f81f36",
   "metadata": {},
   "source": [
    "Функции **minimize** не обязательно указывать, какой метод использовать, или передавать градиент. При необходимости она оценит градиент самостоятельно и выберет один из методов по умолчанию (bfgs, slsqp). Результат практически полностью совпадает."
   ]
  },
  {
   "cell_type": "code",
   "execution_count": 23,
   "id": "102fbd20",
   "metadata": {},
   "outputs": [
    {
     "name": "stdout",
     "output_type": "stream",
     "text": [
      "      fun: 1.7838045907468558e-11\n",
      " hess_inv: array([[0.95489061, 1.90006632],\n",
      "       [1.90006632, 4.27872378]])\n",
      "      jac: array([9.88093227e-07, 2.41749084e-06])\n",
      "  message: 'Optimization terminated successfully.'\n",
      "     nfev: 27\n",
      "      nit: 8\n",
      "     njev: 9\n",
      "   status: 0\n",
      "  success: True\n",
      "        x: array([1.00000573, 1.00001265])\n"
     ]
    }
   ],
   "source": [
    "print(optimize.minimize(f, [2, 2]))"
   ]
  },
  {
   "cell_type": "markdown",
   "id": "ab39e415",
   "metadata": {},
   "source": [
    "## Модуль stats\n",
    "---"
   ]
  },
  {
   "cell_type": "code",
   "execution_count": 24,
   "id": "0e35b1c5",
   "metadata": {},
   "outputs": [],
   "source": [
    "from scipy import stats"
   ]
  },
  {
   "cell_type": "markdown",
   "id": "d99ce217",
   "metadata": {},
   "source": [
    "Модуль **stats** содержит вероятностные распределения, корреляционные функции и другие статистические функции:\n",
    "* Вероятностные распределения: непрерывные (**expon**, **gamma**, **norm**), мультивариативные (**dirichlet**), дискретные (**bernoulli**, **binom**, **poisson**).\n",
    "* Сводная статистика: **describe** - описательная статистика, **mode** - значения моды, **variation** - коэффициент вариации, и другие.\n",
    "* Частотная статистика: **cumfreq** - кумулятивная частотная гистограмма, и другие.\n",
    "* Корреляционные функции: **pearsonr** - коэффициент корреляции Пирсона, **sprearmanr** - коэффициент корреляции Спирмана, и другие.\n",
    "* Статистические тесты: **ttest_ind** - Т-критерий для средних значений двух независимых выборок оценок, **wilcoxon** - критерий знаковых рангов Вилкоксона, **binomtest** - тест на то, что вероятность успеха равна p, и другие.\n",
    "* И другие функции."
   ]
  },
  {
   "cell_type": "markdown",
   "id": "51233013",
   "metadata": {},
   "source": [
    "### Вероятностные распределения"
   ]
  },
  {
   "cell_type": "markdown",
   "id": "8dc39fa0",
   "metadata": {},
   "source": [
    "Рассмотрим на примере нормального распределения (**norm**). Сгенерируем выборку (**norm.rvs**), построим ее гистограмму и плотность вероятности (**norm.pdf**)."
   ]
  },
  {
   "cell_type": "code",
   "execution_count": 25,
   "id": "19db5411",
   "metadata": {},
   "outputs": [
    {
     "data": {
      "image/png": "[encoded data removed]",
      "text/plain": [
       "<Figure size 432x288 with 1 Axes>"
      ]
     },
     "metadata": {
      "needs_background": "light"
     },
     "output_type": "display_data"
    }
   ],
   "source": [
    "sample = stats.norm.rvs(size=1000)\n",
    "x = np.linspace(-3, 3, 1000) \n",
    "\n",
    "plt.hist(sample, bins=30, density=True, alpha=0.3)\n",
    "plt.plot(x, stats.norm.pdf(x), color='red')\n",
    "plt.show()"
   ]
  },
  {
   "cell_type": "markdown",
   "id": "3c908452",
   "metadata": {},
   "source": [
    "### Корреляционные функции"
   ]
  },
  {
   "cell_type": "markdown",
   "id": "12516655",
   "metadata": {},
   "source": [
    "Рассмотрим на примере функции **pearsonr**, которая вычисляет коэффициент корреляции Пирсона и значение p для проверки отсутствия корреляции. Коэффициент корреляции Пирсона измеряет линейную связь между двумя наборами данных. Корреляция -1 или +1 подразумевает точную линейную зависимость. Положительные корреляции означают, что с увеличением x увеличивается и y. Отрицательные корреляции означают, что по мере увеличения x y уменьшается. p-значение примерно указывает на вероятность того, что некоррелированная система произведет наборы данных, которые имеют корреляцию Пирсона, по крайней мере, столь же экстремальную, как корреляция, вычисленная на основе этих наборов данных."
   ]
  },
  {
   "cell_type": "markdown",
   "id": "4018459a",
   "metadata": {},
   "source": [
    "Посмотрим, есть ли корреляция между заданным массивом и массивом случайно сгенерированных чисел из диапазона (0, 1). Судя по результату (-0.71), имеется некая обратная линейная зависимость, что можно заметить, посмотрев на элементы сгенерированного массива."
   ]
  },
  {
   "cell_type": "code",
   "execution_count": 26,
   "id": "f401f971",
   "metadata": {},
   "outputs": [
    {
     "name": "stdout",
     "output_type": "stream",
     "text": [
      "[0.88093872 0.23778179 0.40816805 0.69174193 0.58540412 0.08314148\n",
      " 0.04715318 0.1319308  0.43543605 0.18697981]\n"
     ]
    },
    {
     "data": {
      "text/plain": [
       "(-0.7198925627636783, 0.018893991086011707)"
      ]
     },
     "execution_count": 26,
     "metadata": {},
     "output_type": "execute_result"
    }
   ],
   "source": [
    "a = [0, 0, 0, 0, 0, 1, 1, 1, 1, 1]\n",
    "b = np.random.rand(10)\n",
    "print(b)\n",
    "\n",
    "stats.pearsonr(a, b)"
   ]
  },
  {
   "cell_type": "markdown",
   "id": "ffc5d014",
   "metadata": {},
   "source": [
    "### Статистические тесты"
   ]
  },
  {
   "cell_type": "markdown",
   "id": "d675f5d6",
   "metadata": {},
   "source": [
    "Рассмотрим на примере функции **wilcoxon**, которая вычисляет критерий знаковых рангов Вилкоксона. Он проверяет нулевую гипотезу о том, что две связанные парные выборки происходят из одного и того же распределения. В частности, он проверяет, является ли распределение разностей x - y симметричным относительно нуля."
   ]
  },
  {
   "cell_type": "markdown",
   "id": "c83e5a4f",
   "metadata": {},
   "source": [
    "Рассмотрим следующий пример. Разница в высоте между перекрестными и самоопыляющимися растениями кукурузы представлена следующим образом:"
   ]
  },
  {
   "cell_type": "code",
   "execution_count": 27,
   "id": "731f1805",
   "metadata": {},
   "outputs": [],
   "source": [
    "d = [6, 8, 14, 16, 23, 24, 28, 29, 41, -48, 49, 56, 60, -67, 75]"
   ]
  },
  {
   "cell_type": "markdown",
   "id": "b451b67f",
   "metadata": {},
   "source": [
    "Перекрестно опыленные растения кажутся выше. Чтобы проверить нулевую гипотезу об отсутствии разницы в высоте, можем применить двусторонний тест:"
   ]
  },
  {
   "cell_type": "code",
   "execution_count": 28,
   "id": "4ec86fdc",
   "metadata": {},
   "outputs": [
    {
     "data": {
      "text/plain": [
       "(24.0, 0.041259765625)"
      ]
     },
     "execution_count": 28,
     "metadata": {},
     "output_type": "execute_result"
    }
   ],
   "source": [
    "w, p = stats.wilcoxon(d)\n",
    "w, p"
   ]
  },
  {
   "cell_type": "markdown",
   "id": "b287b22f",
   "metadata": {},
   "source": [
    "Следовательно, при уровне достоверности 5% мы бы отклонили нулевую гипотезу (т.к. p < 0.05), сделав вывод о разнице в росте между группами. Чтобы подтвердить, что медиана различий может считаться положительной, применим тест с указанием альтернативной гипотезы:"
   ]
  },
  {
   "cell_type": "code",
   "execution_count": 29,
   "id": "33321bb6",
   "metadata": {},
   "outputs": [
    {
     "data": {
      "text/plain": [
       "(96.0, 0.0206298828125)"
      ]
     },
     "execution_count": 29,
     "metadata": {},
     "output_type": "execute_result"
    }
   ],
   "source": [
    "w, p = stats.wilcoxon(d, alternative='greater')\n",
    "w, p"
   ]
  },
  {
   "cell_type": "markdown",
   "id": "5a4af61b",
   "metadata": {},
   "source": [
    "Это показывает, что нулевая гипотеза о том, что медиана отрицательна, может быть отклонена с уровнем достоверности 5% в пользу альтернативы, согласно которой медиана больше нуля."
   ]
  },
  {
   "cell_type": "markdown",
   "id": "54fee74f",
   "metadata": {},
   "source": [
    "---\n",
    "*При создании ноутбука был использован SciPy версии 1.6.2.*"
   ]
  }
 ],
 "metadata": {
  "kernelspec": {
   "display_name": "Python 3",
   "language": "python",
   "name": "python3"
  },
  "language_info": {
   "codemirror_mode": {
    "name": "ipython",
    "version": 3
   },
   "file_extension": ".py",
   "mimetype": "text/x-python",
   "name": "python",
   "nbconvert_exporter": "python",
   "pygments_lexer": "ipython3",
   "version": "3.8.8"
  }
 },
 "nbformat": 4,
 "nbformat_minor": 5
}
