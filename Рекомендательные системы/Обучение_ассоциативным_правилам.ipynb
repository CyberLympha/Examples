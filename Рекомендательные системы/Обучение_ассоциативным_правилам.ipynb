{
  "nbformat": 4,
  "nbformat_minor": 0,
  "metadata": {
    "colab": {
      "name": "Ширшов–Обучение ассоциативным правилам.ipynb",
      "provenance": [],
      "collapsed_sections": [
        "OgjVfDNF5p2d",
        "Gf7jQDgB56Fj",
        "mt-2UcwA6GZL",
        "1VtWZ1OJ6icc",
        "zmjTADs46rSA",
        "ONz1V1HCQ2pf",
        "y6wedeueWHBt",
        "k8w8l6_Fgmxv"
      ]
    },
    "kernelspec": {
      "name": "python3",
      "display_name": "Python 3"
    },
    "language_info": {
      "name": "python"
    }
  },
  "cells": [
    {
      "cell_type": "markdown",
      "metadata": {
        "id": "MI3HqJIDya4K"
      },
      "source": [
        "# **Обучение ассоциативным правилам**\n",
        "\n",
        "**Обучение ассоциативным правилам(поиск ассоциативных правил)** – нахождение закономерности между связанными событиями. Примером такой закономерности служит правило, указывающее, что из события X следует событие Y с некоторой вероятностью. Установление таких зависимостей дает возможность находить очень простые и интуитивно понятные правила. Пример утверждения такого правила: «Покупатель, приобретающий \"Хлеб\", приобретет и \"Молоко\" с вероятностью 75%».\n",
        "\n",
        "Впервые задача поиска ассоциативных правил (association rule mining) была предложена для нахождения типичных шаблонов покупок, совершаемых в супермаркетах, поэтому иногда ее еще называют анализом рыночной корзины (market basket analysis).\n",
        "Данная зада была разработа для определния часто встречающихся паттернов (транзакций) для ритейлов."
      ]
    },
    {
      "cell_type": "markdown",
      "metadata": {
        "id": "XNM-nLprZLuz"
      },
      "source": [
        "# **Ассоциативные правила**"
      ]
    },
    {
      "cell_type": "markdown",
      "metadata": {
        "id": "5Xj-w_zczVsp"
      },
      "source": [
        "Выделяют три вида правил:\n",
        "\n",
        "\n",
        "*   полезные правила, содержащие действительную информацию, которая ранее была неизвестна, но имеет логическое объяснение;\n",
        "*   тривиальные правила, содержащие действительную и легко объяснимую информацию, отражающую известные законы в исследуемой области, и поэтому не приносящие какой-либо пользы;\n",
        "*   непонятные правила, содержащие информацию, которая не может быть объяснена (такие правила или получают на основе аномальных исходных данных, или они содержат глубоко скрытые закономерности, и поэтому для интерпретации непонятных правил нужен дополнительный анализ)."
      ]
    },
    {
      "cell_type": "markdown",
      "metadata": {
        "id": "hEtvHsO4BTC7"
      },
      "source": [
        "**Транзакция** — это набор товаров, ккупленных покупателем за один визит. У транзакции есть идентификатор и в этой транзакции у нас присутствуют какие-то товары из доступного нам списка. По итогу получается база данных, состоящая из покупательских транзакций."
      ]
    },
    {
      "cell_type": "markdown",
      "metadata": {
        "id": "rBGunJjfZVFf"
      },
      "source": [
        "Задача поиска ассоциативных правил ставится следующим образом:\n",
        "\n",
        "Пусть I = {i1,i2,i3,...,in} – множество (набор) товаров, называемых объектами. Пусть D {t1,t2,t3,...,tn} — множество транзакций, называемых базой данных, где каждая транзакция T — это набор элементов из I,T⊆I.\n"
      ]
    },
    {
      "cell_type": "markdown",
      "metadata": {
        "id": "kWTdcmbuZWw6"
      },
      "source": [
        "**Ассоциативным правилом** называется импликация X⇒Y, где X⊆I, Y⊆I и X∩Y=⊘."
      ]
    },
    {
      "cell_type": "markdown",
      "metadata": {
        "id": "8iRThH9blwLG"
      },
      "source": [
        "# **Частотные критерии:**"
      ]
    },
    {
      "cell_type": "markdown",
      "metadata": {
        "id": "OgjVfDNF5p2d"
      },
      "source": [
        "# **Поддержка(Support)**"
      ]
    },
    {
      "cell_type": "markdown",
      "metadata": {
        "id": "P_iLt0DP5vrQ"
      },
      "source": [
        "**Поддержка(Support)** ассоциативного правила показывает то, как часто в базе данных вместе встречаются X и Y (доля строк в базе данных, в которых одновременно присутствуют X и Y)."
      ]
    },
    {
      "cell_type": "markdown",
      "metadata": {
        "id": "RP4dNlGdZ7L5"
      },
      "source": [
        "![1.jpg](data:image/jpeg;base64,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)"
      ]
    },
    {
      "cell_type": "markdown",
      "metadata": {
        "id": "JQ5UleCd52nb"
      },
      "source": [
        "Наборы, встречаемость которых выше заданного порога считаются часто встречающимися."
      ]
    },
    {
      "cell_type": "markdown",
      "metadata": {
        "id": "yJDB1BFe7Lmm"
      },
      "source": [
        "**Пример.**\n",
        "\n",
        "Дан микродатасет, в котором указаны номера транзакций, а также в бинарном виде представлено, что покупалось на каждой транзакции.\n"
      ]
    },
    {
      "cell_type": "markdown",
      "metadata": {
        "id": "-UAMG_Cy9QnJ"
      },
      "source": [
        "![u1m8hpkx5vziilevx8hvxsqgb10.png](data:image/png;base64,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)"
      ]
    },
    {
      "cell_type": "markdown",
      "metadata": {
        "id": "fffQCYl59T-J"
      },
      "source": [
        "1 - товар куплен; 0 - товар не куплен."
      ]
    },
    {
      "cell_type": "markdown",
      "metadata": {
        "id": "rc49Ccz_9b6p"
      },
      "source": [
        "Посчитаем поддержку, когда вместе встречаются в транзакция Пиво и Подгузники.\n",
        "\n",
        "X = {Пиво}, Y = {Подгузники}.\n",
        "\n",
        "Support(X⇒Y) = 3/5 = 60%"
      ]
    },
    {
      "cell_type": "markdown",
      "metadata": {
        "id": "Gf7jQDgB56Fj"
      },
      "source": [
        "# **Достоверность (Confidence)** "
      ]
    },
    {
      "cell_type": "markdown",
      "metadata": {
        "id": "1GtOy6Mp58IA"
      },
      "source": [
        "**Достоверность (Confidence)** показывает, как часто в записях базы данных, содержащих X, одновременно присутствует Y, т.е.оценивает вероятность того, что из наличия записи набора X следует наличие в ней набора Y."
      ]
    },
    {
      "cell_type": "markdown",
      "metadata": {
        "id": "USZGafvLZ7hj"
      },
      "source": [
        "![2.jpg](data:image/jpeg;base64,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)"
      ]
    },
    {
      "cell_type": "markdown",
      "metadata": {
        "id": "EOMi3nE3-Odj"
      },
      "source": [
        "**Пример.**\n",
        "\n",
        "На том же самом микродата сете посчитаем достоверность для правила: «Кто покупает пиво, тот покупает и подгузники»."
      ]
    },
    {
      "cell_type": "markdown",
      "metadata": {
        "id": "1BLEPBhp-fbG"
      },
      "source": [
        "X = {Пиво}, Y = {Подгузники}.\n",
        "\n",
        "Support(X⇒Y) = 3/5\n",
        "\n",
        "Support(X) = 4/5\n",
        "\n",
        "Confidence(X⇒Y) = 3/4 = 75%"
      ]
    },
    {
      "cell_type": "markdown",
      "metadata": {
        "id": "mt-2UcwA6GZL"
      },
      "source": [
        "# **Улучшение (Lift)**"
      ]
    },
    {
      "cell_type": "markdown",
      "metadata": {
        "id": "_Af2bnMe6I9Y"
      },
      "source": [
        "**Улучшение (Lift)** отражает то, как часто товары X и Y появляются вместе, одновременно учитывая, с какой частотой появляется каждый из них. "
      ]
    },
    {
      "cell_type": "markdown",
      "metadata": {
        "id": "qU3B8L1lZ7p2"
      },
      "source": [
        "![3.jpg](data:image/jpeg;base64,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)"
      ]
    },
    {
      "cell_type": "markdown",
      "metadata": {
        "id": "lyBHcD_Q6Ox_"
      },
      "source": [
        "Если лифт > 1, это позволяет нам знать степень, насколько события связаны друг с другом, и делает эти правила потенциально полезными для предсказания следствия в будущих наборах данных.\n",
        "\n",
        "Если лифт < 1, это означает, что объекты заменяют друг друга. Это означает, что наличие одного объекта имеет отрицательный эффект на присутствие второго объекта, и наоборот.\n",
        "\n",
        "Если правило имеет лифт 1, это означает, что транзакции с X и Y независимы и правил их совместной покупки нет."
      ]
    },
    {
      "cell_type": "markdown",
      "metadata": {
        "id": "Arl0v5f__Mea"
      },
      "source": [
        "**Пример.**\n",
        "\n",
        "Определим зависимость покупки пива и покупки подгузников.\n",
        "\n"
      ]
    },
    {
      "cell_type": "markdown",
      "metadata": {
        "id": "tefSn8vE_g28"
      },
      "source": [
        "X = {Пиво}, Y = {Подгузники}.\n",
        "\n",
        "Support(X⇒Y) = 3/5\n",
        "\n",
        "Confidence(X⇒Y) = 3/4 \n",
        "\n",
        "Lift(X⇒Y) = 5/4 = 1,25"
      ]
    },
    {
      "cell_type": "markdown",
      "metadata": {
        "id": "jZtmE8tg_6lS"
      },
      "source": [
        "Полученный результат дает понять, что объекты связаны друг с другом."
      ]
    },
    {
      "cell_type": "markdown",
      "metadata": {
        "id": "1VtWZ1OJ6icc"
      },
      "source": [
        "# **Уверенность (conviction)** "
      ]
    },
    {
      "cell_type": "markdown",
      "metadata": {
        "id": "Xo-G8k9f6nyH"
      },
      "source": [
        "**Уверенность (conviction)** характеризует ошибки ассоциативного правила. Чем результат действия больше единицы, чем более надежно правило. Если значение равно бесконечности, то правило тривиальное."
      ]
    },
    {
      "cell_type": "markdown",
      "metadata": {
        "id": "OosV4HoWezxq"
      },
      "source": [
        "![4.jpg](data:image/jpeg;base64,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)"
      ]
    },
    {
      "cell_type": "markdown",
      "metadata": {
        "id": "tALSkACSCdvT"
      },
      "source": [
        "**Пример.**\n",
        "\n",
        "Проверим надежность правила «Кто покупает пиво, тот покупает и подгузники»."
      ]
    },
    {
      "cell_type": "markdown",
      "metadata": {
        "id": "Szy1xOYGC31s"
      },
      "source": [
        "X = {Пиво}, Y = {Подгузники}.\n",
        "\n",
        "Support(X⇒Y) = 3/5\n",
        "\n",
        "Confidence(X⇒Y) = 3/4\n",
        "\n",
        "1 - 3/5 = 2/5\n",
        "\n",
        "1 - 3/4 = 1/4\n",
        "\n",
        "Conviction(X⇒Y) = 2*4/5 = 1,6"
      ]
    },
    {
      "cell_type": "markdown",
      "metadata": {
        "id": "9UCJDH7cDQMt"
      },
      "source": [
        "Полученные результат выше единицы, можно сделать выводы, что правило является надежным."
      ]
    },
    {
      "cell_type": "markdown",
      "metadata": {
        "id": "zmjTADs46rSA"
      },
      "source": [
        "# **Усиление (leverage)**"
      ]
    },
    {
      "cell_type": "markdown",
      "metadata": {
        "id": "F2CukH5m6xpF"
      },
      "source": [
        "**Усиление (leverage)** — разность между наблюдаемой частотой, с которой условие и следствие появляются совместно (т.е. поддержкой ассоциации), и произведением частот появления (поддержек) условия и следствия по отдельности."
      ]
    },
    {
      "cell_type": "markdown",
      "metadata": {
        "id": "q-UhkEgTrinR"
      },
      "source": [
        "![5.jpg](data:image/jpeg;base64,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)"
      ]
    },
    {
      "cell_type": "markdown",
      "metadata": {
        "id": "3kiJ-OFSEubF"
      },
      "source": [
        "**Пример.**\n",
        "\n",
        "Посчитаем разность между частотой, с которой покупка пива и покупка подгузников появляются совместно,и произведение частот поддержек покупки пива и покупки подгузников. "
      ]
    },
    {
      "cell_type": "markdown",
      "metadata": {
        "id": "1ARHP1fdFTVa"
      },
      "source": [
        "X = {Пиво}, Y = {Подгузники}.\n",
        "\n",
        "Support(X⇒Y) = 3/5 = 60%\n",
        "\n",
        "Support(X) = 3/5\n",
        "\n",
        "Support(Y) = 3/5\n",
        "\n",
        "Leverage(X⇒Y) = 3/5 - 9/25 = 6/25 = 0,24"
      ]
    },
    {
      "cell_type": "markdown",
      "metadata": {
        "id": "vUnYipSx61hZ"
      },
      "source": [
        "# **Концепция поиска ассоциативных правил**"
      ]
    },
    {
      "cell_type": "markdown",
      "metadata": {
        "id": "pRp7aQWzZ7zT"
      },
      "source": [
        "Таким образом, основной задачей поиска ассоциативных правил является нахождение следующих взаимосвязей: если в транзакции присутствует набор элементов X, то можно предположить, что набор элементов Y может также встретиться в этой транзакции.\n",
        "\n",
        "Алгоритмы нахождения ассоциативных правил разработаны в первую очередь для\n",
        "определения всех возможных комбинаций (правил) X⇒Y с поддержкой и достоверностью\n",
        "больше, чем заранее определенных пользователем порогов, которые обозначают как минимальная поддержка и достоверность – minsupport и minconfidence."
      ]
    },
    {
      "cell_type": "markdown",
      "metadata": {
        "id": "AMuiAz4_xQhj"
      },
      "source": [
        "Поиск ассоциативных правил состоит из двух подзадач:\n",
        "\n",
        "\n",
        "1.   Нахождение всех наборов элементов, которые удовлетворяют порогу minsupport. Такие наборы элементов называются часто встречающимися.\n",
        "2.   Генерация правил из наборов элементов, найденных согласно п.1. с достоверностью, удовлетворяющей порогу minconfidence.\n",
        "\n"
      ]
    },
    {
      "cell_type": "markdown",
      "metadata": {
        "id": "7vMumxoVu6OI"
      },
      "source": [
        "# **Основные алгоритмы поиска ассоциативных правил**"
      ]
    },
    {
      "cell_type": "markdown",
      "metadata": {
        "id": "ONz1V1HCQ2pf"
      },
      "source": [
        "# **Алгоритм Apriori**"
      ]
    },
    {
      "cell_type": "markdown",
      "metadata": {
        "id": "nnfJk3xou-Tm"
      },
      "source": [
        "В 1994-ом году был придуман основной и наболее популярный алгоритм поиска ассоциативных правил, называемый Apriori. Для того чтобы было возможно применить алгоритм, необходимо подать на вход алгоритму бинарную матрицу, где каждая ее строка это отдельная транзакция.\n"
      ]
    },
    {
      "cell_type": "markdown",
      "metadata": {
        "id": "AxK2pi39Q8Pl"
      },
      "source": [
        "Пример бинарной базы данных транзакций:\n",
        "\n"
      ]
    },
    {
      "cell_type": "markdown",
      "metadata": {
        "id": "dRtxE8ltRHkt"
      },
      "source": [
        "![Бин.матрица.jpg](data:image/jpeg;base64,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)"
      ]
    },
    {
      "cell_type": "markdown",
      "metadata": {
        "id": "Nm4s5v6GRLcg"
      },
      "source": [
        "Количество столбцов в таблице равно количеству элементов, присутствующих во множестве транзакций  DD. Каждая запись соответствует транзакции, где в соответствующем столбце стоит 1, если элемент присутствует в транзакции, и 0 — в противном случае.\n",
        "\n",
        "Все элементы таблицы упорядочены в алфавитном порядке (если это числа, они должны быть упорядочены в числовом порядке).\n",
        "\n",
        "Получив на вход отсортированную в лексикографическом порядке бинарную базу данных, алгоритм Apriori подсчитывает частоту встреч в транзакциях индивидуальных элементов, затем расширяет их на более крупные наборы. Часто встречающиеся наборы впоследствии используются для формирования ассоциативных правил. "
      ]
    },
    {
      "cell_type": "markdown",
      "metadata": {
        "id": "kxYxxZJCRsmO"
      },
      "source": [
        "Выявление часто встречающихся наборов элементов — операция, требующая много вычислительных ресурсов и, соответственно, времени. Примитивный подход к решению данной задачи — простой перебор всех возможных наборов элементов.\n",
        "\n",
        "Для ускорения работы алгоритма Apriori использует одно из свойств поддержки, гласящее: поддержка любого набора элементов не может превышать минимальной поддержки любого из его подмножеств:\n",
        "\n",
        "Support(X) ≤ Support(x), где x − набор с минимальной поддержкой из подмножества набора X. \n",
        "\n",
        "Или другими словами можно сказать, что любой набор X будет часто\n",
        "встречающимся, если все его x подмножества тоже часто встречающиеся. \n",
        "\n",
        "Это свойство носит название анти-монотонности и служит для снижения размерности пространства поиска "
      ]
    },
    {
      "cell_type": "markdown",
      "metadata": {
        "id": "CKMYNgjjUgPi"
      },
      "source": [
        "Также предварительно задаются значения параметров минимальной\n",
        "поддержки (minsupport) и минимальной достоверности (minconfidence). Наборы, имеющие значение меньше заданных порогов, рассматриваться алгоритмом изначально не будут по свойству анти-монотонности, что также ускоряет процесс поиска частоты и ассоциативных правил."
      ]
    },
    {
      "cell_type": "markdown",
      "metadata": {
        "id": "XSXCkNVxU8hI"
      },
      "source": [
        "**Алгоритм по шагам:**\n",
        "\n",
        "1.   Выявляются все часто встречающиеся одноэлементные наборы.\n",
        "2.   Генерируется список кандидатов - список наборов, которые могут удовлетворить нашим требованиям, то есть могут являться часто встречающимися.\n",
        "3.   По свойству анти-монотонности отсеиваются неподходящие наборы.\n",
        "4.   Отбираются кандидаты, поддержка которых больше или равна заданной minsupport.\n",
        "5.   Пункты 2-4 повторяются до тех пор, пока не будут составлены все возможные наборы."
      ]
    },
    {
      "cell_type": "markdown",
      "metadata": {
        "id": "XBLuvQtYXM_U"
      },
      "source": [
        "**Достоинства алгоритма:**\n",
        "1.   Простота;\n",
        "2.   Быстрое уменьшение числа сгенерированных кандидатов, при установке высокой\n",
        "минимальной поддержки или относительно\n",
        "разреженном базовом наборе.\n"
      ]
    },
    {
      "cell_type": "markdown",
      "metadata": {
        "id": "6tozckFXXVyS"
      },
      "source": [
        "**Недостатки алгоритма:**\n",
        "1.   Многократное сканирование базового набора;\n",
        "2.   Большое число сгененированных кандидатов, при слишком большом наборе данных\n",
        "или при слишком низкой поддержке. Так при применении этого алгоритма к набору, содержащему шаблон из 100 элементов необходимо сгенерировать порядка 2^100 кандидатов и выполнить над ними все необходимые проверки."
      ]
    },
    {
      "cell_type": "markdown",
      "metadata": {
        "id": "y6wedeueWHBt"
      },
      "source": [
        "# **Алгоритм FP-Growth**"
      ]
    },
    {
      "cell_type": "markdown",
      "metadata": {
        "id": "kuiRy1xWWLwN"
      },
      "source": [
        "FP-Growth — одним из наиболее эффективных процедур поиска ассоциативных правил, который позволяет не только избежать затратной процедуры генерации кандидатов, но и уменьшить необходимое число проходов по Базе данных до двух. \n",
        "\n",
        "В основе алгоритма лежит предобработка Базы данных транзакций, в процессе которой она трансформируется в компактную древовидную структуру, называемую дерево популярных предметных наборов."
      ]
    },
    {
      "cell_type": "markdown",
      "metadata": {
        "id": "H-84adDCdBBy"
      },
      "source": [
        "**Алгоритм по шагам:**\n",
        "1. Производится сканирования входного набора, и все элементы каждой транзакции сортируются в порядке убывания поддержки этих элементов во всем базовом наборе.\n",
        "2. Фильтрация. Производится удаление тех элементов, которые ниже минимальной поддержки.\n",
        "3. Построение префиксного FP-tree из оставшихся элементов.\n",
        "4. Извлечение частных предметных наборов."
      ]
    },
    {
      "cell_type": "markdown",
      "metadata": {
        "id": "PRz66AzNdbQ8"
      },
      "source": [
        "Узлом FP-tree является структура, которая хранит значение узла, ссылки на все дочерние элементы и его значение поддержки для текущего узла."
      ]
    },
    {
      "cell_type": "markdown",
      "metadata": {
        "id": "4d4eCYZSdotw"
      },
      "source": [
        "**Построение префиксного дерева:**\n",
        "1. Построение корневого узла.\n",
        "2. Для каждого элемента каждой отсортированной транзакции из входного набора строятся узлы по следующему правилу: если для очередного элемента в текущем узле есть потомок, содержащий этот элемент, то новый узел не создается, а поддержка этого потомка увеличивается на 1, в противном случае создается новый узел-потомок с поддержкой 1. Текущим узлом при этом становится найденный или построенный узел."
      ]
    },
    {
      "cell_type": "markdown",
      "metadata": {
        "id": "k8i-dK-zd91o"
      },
      "source": [
        "**Извлечение частных предметных наборов:**\n",
        "\n",
        "Условное поддерево множества X – это FP-tree, содержащее только\n",
        "транзакции, в которые входит множество X.\n",
        "\n",
        "Для каждого элемента в дереве начиная с элемента с наименьшей поддержкой необходимо выполнить:\n",
        "\n",
        "1. Добавить этот элемент во множество X.\n",
        "2. Построить условное дерево по этому элементу. В случае если такое дерево оказывается пустым, то записать в результат элементы множества X (они и будут очередным популярным набором), иначе выполнить этот алгоритм для построенного условного дерева.\n",
        "3. Исключить элемент из множества X.\n",
        "4. Исключить элемент из дерева.\n",
        "\n",
        "Таким образом, дерево проходится рекурсивно снизу вверх полностью, и при этом\n",
        "генерируются все возможные популярные наборы.\n"
      ]
    },
    {
      "cell_type": "markdown",
      "metadata": {
        "id": "8_uXHkd8Y4kX"
      },
      "source": [
        "**К основным преимуществам данного метода относятся:**\n",
        "\n",
        "1. Сжатие БД транзакций в компактную структуру, которая обеспечивает наиболее эффективное и полное извлечение частых предметных наборов.\n",
        "2. При построении FP-дерева используется технология «разделай и влавствуй», которая позволяет выполнить декомпозицию одной сложной задачи на множество более простых.\n",
        "3. Позволяет избежать затратной процедуры генерации кандидатов, характерной для алгоритма Apriori.\n",
        "\n",
        "\n",
        "\n"
      ]
    },
    {
      "cell_type": "markdown",
      "metadata": {
        "id": "v02-DcxMf5kR"
      },
      "source": [
        "**Недостатки алгоритма:**\n",
        "1. Построение дерева – затратная по времени операция.\n",
        "2. В некоторых случаях, вследствие большого числа узлов и связей, размер FP-дерева может намного превышать размер входного набора данных.\n"
      ]
    },
    {
      "cell_type": "markdown",
      "metadata": {
        "id": "k8w8l6_Fgmxv"
      },
      "source": [
        "# **Алгоритм Elcat**"
      ]
    },
    {
      "cell_type": "markdown",
      "metadata": {
        "id": "fFlR5jfwgsQm"
      },
      "source": [
        "Алгоритм Elcat преобразует горизонтальное представление множеств в вертикальное (TID-множества). При таком представлении поддержка равна отношению мощности множества к общему числу транзакций.\n",
        "\n",
        "После преобразования в вертикальное представление множеств, шаги алгоритма Elcat аналогичны соответствующим шагам алгоритма Apriori, кроме функции вычисления поддержки кандидата, которая теперь не требует сканирования\n",
        "базы.\n"
      ]
    },
    {
      "cell_type": "markdown",
      "metadata": {
        "id": "oj0AlASek-uy"
      },
      "source": [
        "**Достоинства алгоритма:**\n",
        "1. Поддержка для любого элемента рассчитывается без сканирования базового набора\n",
        "2. Число сканирований базового набора сокращено до одного раза."
      ]
    },
    {
      "cell_type": "markdown",
      "metadata": {
        "id": "SWanhfeolKyV"
      },
      "source": [
        "**Недостатки алгоритма:**\n",
        "1. TID-множества могут оказаться слишком большими, поэтому операции с ними могут занимать длительное время.\n",
        "2. Большое число сгенерированных кандидатов, при малом уровне минимальной поддержки.\n"
      ]
    },
    {
      "cell_type": "markdown",
      "metadata": {
        "id": "MFqV0w9Plij3"
      },
      "source": [
        ""
      ]
    },
    {
      "cell_type": "markdown",
      "metadata": {
        "id": "G8fXZ1RMxozr"
      },
      "source": [
        "# **Где применяется поиск ассоциативных правил**"
      ]
    },
    {
      "cell_type": "markdown",
      "metadata": {
        "id": "kO4fRuCfxxOk"
      },
      "source": [
        "Помимо анализа рыночной корзины поиск ассоциативных правил применим к\n",
        "другим сферам, таким как биоинформатика, медицинские исследования, Web майнинг,\n",
        "анализ научных данных, анализа текста, анализ данных по переписи населения, анализ и прогнозирование сбоев телекоммуникационного оборудования и т.д."
      ]
    },
    {
      "cell_type": "markdown",
      "metadata": {
        "id": "0zM8_y_Ml8Wm"
      },
      "source": [
        "# **Пример алгоритма Apriori на Python**"
      ]
    },
    {
      "cell_type": "markdown",
      "metadata": {
        "id": "2uxeLiRvuj2x"
      },
      "source": [
        "В данном примере каждая транзакция представляет собой несколько строк, которые необходимо объединить по номеру транзакции в одно струку."
      ]
    },
    {
      "cell_type": "markdown",
      "metadata": {
        "id": "hWc7_pSnuR1I"
      },
      "source": [
        "Подключение библиотек."
      ]
    },
    {
      "cell_type": "code",
      "metadata": {
        "colab": {
          "base_uri": "https://localhost:8080/"
        },
        "id": "sVYo5HKEun66",
        "outputId": "589c64e7-f363-44ed-fc43-0d23904a7630"
      },
      "source": [
        "import pandas as pd\n",
        "!pip install apyori\n",
        "from apyori import apriori"
      ],
      "execution_count": null,
      "outputs": [
        {
          "output_type": "stream",
          "text": [
            "Collecting apyori\n",
            "  Downloading apyori-1.1.2.tar.gz (8.6 kB)\n",
            "Building wheels for collected packages: apyori\n",
            "  Building wheel for apyori (setup.py) ... \u001b[?25l\u001b[?25hdone\n",
            "  Created wheel for apyori: filename=apyori-1.1.2-py3-none-any.whl size=5975 sha256=4c80fc7f50ea4f4873afd478fb8a7a7f538d0b7ebfd973e271b8605c2205ef18\n",
            "  Stored in directory: /root/.cache/pip/wheels/cb/f6/e1/57973c631d27efd1a2f375bd6a83b2a616c4021f24aab84080\n",
            "Successfully built apyori\n",
            "Installing collected packages: apyori\n",
            "Successfully installed apyori-1.1.2\n"
          ],
          "name": "stdout"
        }
      ]
    },
    {
      "cell_type": "markdown",
      "metadata": {
        "id": "YvNGIA7cux-H"
      },
      "source": [
        "Загрузка данных."
      ]
    },
    {
      "cell_type": "code",
      "metadata": {
        "colab": {
          "base_uri": "https://localhost:8080/",
          "height": 511
        },
        "id": "MCVP1dKBvEar",
        "outputId": "b294c2b8-177d-461a-e604-4ff130c80cc0"
      },
      "source": [
        "df = pd.read_excel('transactions1.xls')\n",
        "df.head(15)"
      ],
      "execution_count": 8,
      "outputs": [
        {
          "output_type": "execute_result",
          "data": {
            "text/html": [
              "<div>\n",
              "<style scoped>\n",
              "    .dataframe tbody tr th:only-of-type {\n",
              "        vertical-align: middle;\n",
              "    }\n",
              "\n",
              "    .dataframe tbody tr th {\n",
              "        vertical-align: top;\n",
              "    }\n",
              "\n",
              "    .dataframe thead th {\n",
              "        text-align: right;\n",
              "    }\n",
              "</style>\n",
              "<table border=\"1\" class=\"dataframe\">\n",
              "  <thead>\n",
              "    <tr style=\"text-align: right;\">\n",
              "      <th></th>\n",
              "      <th>Транзакция</th>\n",
              "      <th>Продукт</th>\n",
              "    </tr>\n",
              "  </thead>\n",
              "  <tbody>\n",
              "    <tr>\n",
              "      <th>0</th>\n",
              "      <td>12383</td>\n",
              "      <td>Аналгетик</td>\n",
              "    </tr>\n",
              "    <tr>\n",
              "      <th>1</th>\n",
              "      <td>12563</td>\n",
              "      <td>Дезодорант</td>\n",
              "    </tr>\n",
              "    <tr>\n",
              "      <th>2</th>\n",
              "      <td>12635</td>\n",
              "      <td>Лекало</td>\n",
              "    </tr>\n",
              "    <tr>\n",
              "      <th>3</th>\n",
              "      <td>12782</td>\n",
              "      <td>Набор ручек</td>\n",
              "    </tr>\n",
              "    <tr>\n",
              "      <th>4</th>\n",
              "      <td>12824</td>\n",
              "      <td>Карандаши</td>\n",
              "    </tr>\n",
              "    <tr>\n",
              "      <th>5</th>\n",
              "      <td>12824</td>\n",
              "      <td>Конфеты</td>\n",
              "    </tr>\n",
              "    <tr>\n",
              "      <th>6</th>\n",
              "      <td>12905</td>\n",
              "      <td>Зубная паста</td>\n",
              "    </tr>\n",
              "    <tr>\n",
              "      <th>7</th>\n",
              "      <td>12938</td>\n",
              "      <td>Парфюм</td>\n",
              "    </tr>\n",
              "    <tr>\n",
              "      <th>8</th>\n",
              "      <td>12944</td>\n",
              "      <td>Журнал</td>\n",
              "    </tr>\n",
              "    <tr>\n",
              "      <th>9</th>\n",
              "      <td>12944</td>\n",
              "      <td>Зубная паста</td>\n",
              "    </tr>\n",
              "    <tr>\n",
              "      <th>10</th>\n",
              "      <td>12944</td>\n",
              "      <td>Парфюм</td>\n",
              "    </tr>\n",
              "    <tr>\n",
              "      <th>11</th>\n",
              "      <td>13001</td>\n",
              "      <td>Аналгетик</td>\n",
              "    </tr>\n",
              "    <tr>\n",
              "      <th>12</th>\n",
              "      <td>13001</td>\n",
              "      <td>Журнал</td>\n",
              "    </tr>\n",
              "    <tr>\n",
              "      <th>13</th>\n",
              "      <td>13007</td>\n",
              "      <td>Журнал</td>\n",
              "    </tr>\n",
              "    <tr>\n",
              "      <th>14</th>\n",
              "      <td>13007</td>\n",
              "      <td>Карандаши</td>\n",
              "    </tr>\n",
              "  </tbody>\n",
              "</table>\n",
              "</div>"
            ],
            "text/plain": [
              "    Транзакция       Продукт\n",
              "0        12383     Аналгетик\n",
              "1        12563    Дезодорант\n",
              "2        12635        Лекало\n",
              "3        12782   Набор ручек\n",
              "4        12824     Карандаши\n",
              "5        12824       Конфеты\n",
              "6        12905  Зубная паста\n",
              "7        12938        Парфюм\n",
              "8        12944        Журнал\n",
              "9        12944  Зубная паста\n",
              "10       12944        Парфюм\n",
              "11       13001     Аналгетик\n",
              "12       13001        Журнал\n",
              "13       13007        Журнал\n",
              "14       13007     Карандаши"
            ]
          },
          "metadata": {
            "tags": []
          },
          "execution_count": 8
        }
      ]
    },
    {
      "cell_type": "markdown",
      "metadata": {
        "id": "M8Co0xAXyutE"
      },
      "source": [
        "Объединение транзакций по номеру транзакции."
      ]
    },
    {
      "cell_type": "code",
      "metadata": {
        "colab": {
          "base_uri": "https://localhost:8080/"
        },
        "id": "FbXeVAzeyYqL",
        "outputId": "2df79095-d881-4c5b-a0a6-986691860263"
      },
      "source": [
        "transactions = df.groupby(['Транзакция'])['Продукт'].apply(list).values.tolist()\n",
        "transactions[:15]"
      ],
      "execution_count": 14,
      "outputs": [
        {
          "output_type": "execute_result",
          "data": {
            "text/plain": [
              "[['Аналгетик'],\n",
              " ['Дезодорант'],\n",
              " ['Лекало'],\n",
              " ['Набор ручек'],\n",
              " ['Карандаши', 'Конфеты'],\n",
              " ['Зубная паста'],\n",
              " ['Парфюм'],\n",
              " ['Журнал', 'Зубная паста', 'Парфюм'],\n",
              " ['Аналгетик', 'Журнал'],\n",
              " ['Журнал', 'Карандаши', 'Конфеты', 'Поздравительная открытка'],\n",
              " ['Мыло'],\n",
              " ['Зубная паста'],\n",
              " ['Зубная паста'],\n",
              " ['Набор ручек'],\n",
              " ['Зубная паста']]"
            ]
          },
          "metadata": {
            "tags": []
          },
          "execution_count": 14
        }
      ]
    },
    {
      "cell_type": "markdown",
      "metadata": {
        "id": "yHyqSA1wz2q5"
      },
      "source": [
        "Создаем правила."
      ]
    },
    {
      "cell_type": "code",
      "metadata": {
        "id": "-DdYCwQ5z5JU"
      },
      "source": [
        "rules = list(apriori(transactions, min_support=0.002,  min_confidence=0.75, min_lift=1.1, min_length=2))"
      ],
      "execution_count": 38,
      "outputs": []
    },
    {
      "cell_type": "markdown",
      "metadata": {
        "id": "MKIrHjCx17rp"
      },
      "source": [
        "Вывод."
      ]
    },
    {
      "cell_type": "code",
      "metadata": {
        "colab": {
          "base_uri": "https://localhost:8080/"
        },
        "id": "zc9zYGlu0CLf",
        "outputId": "e4f40541-658e-41ba-ffc7-999951b91bcd"
      },
      "source": [
        "rules"
      ],
      "execution_count": 39,
      "outputs": [
        {
          "output_type": "execute_result",
          "data": {
            "text/plain": [
              "[RelationRecord(items=frozenset({'Поздравительная открытка', 'Парфюм', 'Конфеты', 'Журнал'}), support=0.002246517897259248, ordered_statistics=[OrderedStatistic(items_base=frozenset({'Поздравительная открытка', 'Парфюм', 'Журнал'}), items_add=frozenset({'Конфеты'}), confidence=0.75, lift=4.359619849100406)])]"
            ]
          },
          "metadata": {
            "tags": []
          },
          "execution_count": 39
        }
      ]
    },
    {
      "cell_type": "markdown",
      "metadata": {
        "id": "4a-7LWDy2AYr"
      },
      "source": [
        "Оформление вывода в читаемом виде."
      ]
    },
    {
      "cell_type": "code",
      "metadata": {
        "colab": {
          "base_uri": "https://localhost:8080/"
        },
        "id": "q_eX3qb42E7G",
        "outputId": "6a963064-2bcb-4ac3-81e3-35a013a8bdce"
      },
      "source": [
        "for item in rules:\n",
        "    pair = item[2][0]\n",
        "    base = [x for x in pair.items_base]\n",
        "    add = [x for x in pair.items_add]\n",
        "    base_str = ', '.join(base)\n",
        "    add_str = ', '.join(add)\n",
        "    print('({}) ==> ({}) support = {}, confidence = {}, lift = {}'.format(base_str, add_str, str(round(item[1],3)), str(round(item[2][0][2],3)), str(round(item[2][0][3],3))))"
      ],
      "execution_count": 40,
      "outputs": [
        {
          "output_type": "stream",
          "text": [
            "(Поздравительная открытка, Парфюм, Журнал) ==> (Конфеты) support = 0.002, confidence = 0.75, lift = 4.36\n"
          ],
          "name": "stdout"
        }
      ]
    },
    {
      "cell_type": "markdown",
      "metadata": {
        "id": "PL5A_IUP6_W9"
      },
      "source": [
        "Можно сделать выводы, то был получен более менее логичный ответ, что припокупке поздравительной открытки, парфюма и журнала будут куплены конфеты."
      ]
    }
  ]
}