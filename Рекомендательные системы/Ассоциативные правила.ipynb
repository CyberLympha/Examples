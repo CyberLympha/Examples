{
 "cells": [
  {
   "cell_type": "markdown",
   "metadata": {},
   "source": [
    "# Обучение ассоциативным правилам\n",
    "\n",
    "Анализ правил ассоциации-это метод определения базовых отношений между различными элементами. Возьмем, к примеру, супермаркет, где покупатели могут купить самые разные товары. Обычно в том, что покупают клиенты, есть определенная закономерность. Например, матери с младенцами покупают детские товары, такие как молоко и подгузники. Девушки могут покупать косметику, в то время как холостяки могут покупать пиво, чипсы и т. Д. Короче говоря, транзакции включают в себя шаблон. Большая прибыль может быть получена, если можно определить взаимосвязь между товарами, приобретенными в разных транзакциях.\n",
    "\n",
    "Например, если товары A и B чаще покупаются вместе, то можно предпринять несколько шагов для увеличения прибыли. Например:\n",
    "\n",
    "A и B можно разместить вместе, чтобы, когда клиент покупает один из продуктов, ему не нужно было далеко уходить, чтобы купить другой продукт.\n",
    "Люди, которые покупают один из продуктов, могут быть нацелены с помощью рекламной кампании на покупку другого.\n",
    "Коллективные скидки могут быть предложены на эти товары, если клиент покупает их оба.\n",
    "И A, и B могут быть упакованы вместе.\n",
    "Процесс выявления ассоциаций между продуктами называется анализом правил ассоциации.\n"
   ]
  },
  {
   "cell_type": "markdown",
   "metadata": {},
   "source": [
    "## Априорный алгоритм для обучения ассоциативным правилам\n",
    "\n",
    "Для реализации анализа правил ассоциации были разработаны различные статистические алгоритмы, и Apriori является одним из таких алгоритмов.\n",
    "\n",
    "Существует три основных компонента априорного алгоритма:\n",
    "\n",
    "Support\n",
    "\n",
    "Confidence\n",
    "\n",
    "Lift\n",
    "\n",
    "   Support относится к популярности элемента по умолчанию и может быть рассчитана путем нахождения количества транзакций, содержащих конкретный элемент, деленного на общее количество транзакций.\n",
    "   Confidence относится к вероятности того, что товар B также будет куплен, если будет куплен товар A. Его можно рассчитать, найдя количество транзакций, в которых A и B покупаются вместе, разделенное на общее количество транзакций, в которых A покупается.\n",
    "   Lift(A -> B) относится к увеличению коэффициента продажи B при продаже A. Подъемная сила(A –> B) может быть рассчитана путем деления уверенности(A -> B) на поддержку(B). "
   ]
  },
  {
   "cell_type": "markdown",
   "metadata": {},
   "source": [
    "### Реализация алгоритма априори с помощью Python"
   ]
  },
  {
   "cell_type": "code",
   "execution_count": 21,
   "metadata": {
    "scrolled": true
   },
   "outputs": [
    {
     "name": "stdout",
     "output_type": "stream",
     "text": [
      "Collecting apriori\n",
      "  Downloading apriori-1.0.0.tar.gz (1.8 kB)\n",
      "Building wheels for collected packages: apriori\n",
      "  Building wheel for apriori (setup.py): started\n",
      "  Building wheel for apriori (setup.py): finished with status 'done'\n",
      "  Created wheel for apriori: filename=apriori-1.0.0-py3-none-any.whl size=2484 sha256=0f5f599a2d28f3d6c7d1b44d2e3b9b64589a11ef7c5231eda70a29d194c4b664\n",
      "  Stored in directory: c:\\users\\user\\appdata\\local\\pip\\cache\\wheels\\5b\\68\\dc\\04db1838d64a3011a9b737e6f458894dc1f5cbadd128d54c1c\n",
      "Successfully built apriori\n",
      "Installing collected packages: apriori\n",
      "Successfully installed apriori-1.0.0\n"
     ]
    }
   ],
   "source": [
    " !pip install apriori"
   ]
  },
  {
   "cell_type": "code",
   "execution_count": null,
   "metadata": {},
   "outputs": [],
   "source": [
    "#импорт библиотек \n",
    "import numpy as np\n",
    "import matplotlib.pyplot as plt\n",
    "import pandas as pd\n",
    "from apyori import apriori"
   ]
  },
  {
   "cell_type": "code",
   "execution_count": null,
   "metadata": {},
   "outputs": [],
   "source": [
    "#импорт датасета\n",
    "store_data = pd.read_csv('https://gist.githubusercontent.com/Harsh-Git-Hub/2979ec48043928ad9033d8469928e751/raw/72de943e040b8bd0d087624b154d41b2ba9d9b60/retail_dataset.csv', sep=',')\n",
    "store_data.head()"
   ]
  },
  {
   "cell_type": "code",
   "execution_count": null,
   "metadata": {},
   "outputs": [],
   "source": [
    "#обработка данных\n",
    "records = []\n",
    "for i in range(0, 8):\n",
    "    records.append([str(store_data.values[i,j]) for j in range(0, 3)])\n",
    "\n",
    "for i,j in enumerate(records):\n",
    "    while 'nan' in records[i]: records[i].remove('nan')"
   ]
  },
  {
   "cell_type": "code",
   "execution_count": null,
   "metadata": {},
   "outputs": [],
   "source": [
    "#Применение Априори\n",
    "association_rules = apriori(records, min_support=0.0045, min_confidence=0.2, min_lift=3, min_length=2)\n",
    "association_results = list(association_rules)"
   ]
  },
  {
   "cell_type": "code",
   "execution_count": 30,
   "metadata": {},
   "outputs": [
    {
     "name": "stdout",
     "output_type": "stream",
     "text": [
      "3\n",
      "RelationRecord(items=frozenset({'Milk', 'Bagel'}), support=0.125, ordered_statistics=[OrderedStatistic(items_base=frozenset({'Bagel'}), items_add=frozenset({'Milk'}), confidence=1.0, lift=8.0), OrderedStatistic(items_base=frozenset({'Milk'}), items_add=frozenset({'Bagel'}), confidence=1.0, lift=8.0)])\n",
      "Rule: ['Bagel'] -> ['Milk']\n",
      "Support: 0.125\n",
      "Confidence: 1.0\n",
      "Lift: 8.0\n",
      "=====================================\n",
      "Rule: ['Bagel'] -> ['Milk', 'Bread']\n",
      "Support: 0.125\n",
      "Confidence: 1.0\n",
      "Lift: 8.0\n",
      "=====================================\n",
      "Rule: ['Pencil'] -> ['Meat', 'Wine']\n",
      "Support: 0.125\n",
      "Confidence: 0.5\n",
      "Lift: 4.0\n",
      "=====================================\n"
     ]
    }
   ],
   "source": [
    "#просмотр результатов\n",
    "print(len(association_results))\n",
    "print(association_results[0])\n",
    "\n",
    "for item in association_results:\n",
    "# первый индекс внутреннего списка\n",
    "# Содержит базовый элемент и добавляет элемент\n",
    "    pair = item[0]\n",
    "    items = [x for x in pair]\n",
    "\n",
    "    print(\"Rule: \" + str(list(item.ordered_statistics[0].items_base)) + \" -> \" + str(list(item.ordered_statistics[0].items_add)))\n",
    "    #второй индекс внутреннего списка\n",
    "    print(\"Support: \" + str(item[1]))\n",
    "    #третий индекс списка, расположенный на 0-м месте\n",
    "    #третьего индекса внутреннего списка\n",
    "    print(\"Confidence: \" + str(item[2][0][2]))\n",
    "    print(\"Lift: \" + str(item[2][0][3]))\n",
    "    print(\"=====================================\")"
   ]
  },
  {
   "cell_type": "markdown",
   "metadata": {},
   "source": [
    "### Вывод\n",
    "Алгоритмы анализа правил ассоциации, такие как Apriori, очень полезны для поиска простых ассоциаций между нашими элементами данных. Они просты в реализации и обладают высокой объяснимостью. Однако для более продвинутой информации, например, используемой Google или Amazon и т.д., Используются более сложные алгоритмы, такие как рекомендательные системы. Тем не менее, вы, вероятно, можете видеть, что этот метод-очень простой способ получить базовые ассоциации, если это все, что вам нужно для использования.\n"
   ]
  },
  {
   "cell_type": "code",
   "execution_count": null,
   "metadata": {},
   "outputs": [],
   "source": []
  }
 ],
 "metadata": {
  "kernelspec": {
   "display_name": "Python 3",
   "language": "python",
   "name": "python3"
  },
  "language_info": {
   "codemirror_mode": {
    "name": "ipython",
    "version": 3
   },
   "file_extension": ".py",
   "mimetype": "text/x-python",
   "name": "python",
   "nbconvert_exporter": "python",
   "pygments_lexer": "ipython3",
   "version": "3.8.3"
  }
 },
 "nbformat": 4,
 "nbformat_minor": 4
}
