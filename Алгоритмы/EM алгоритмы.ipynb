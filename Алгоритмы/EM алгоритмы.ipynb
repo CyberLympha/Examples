{
 "cells": [
  {
   "cell_type": "markdown",
   "metadata": {
    "id": "OLyTNB2QPYId"
   },
   "source": [
    "**EM Алгоритм**"
   ]
  },
  {
   "cell_type": "markdown",
   "metadata": {
    "id": "jIosI3bWPjx9"
   },
   "source": [
    "EM-алгоритм (англ. Expectation-maximization (EM) algorithm) — алгоритм, используемый в математической статистике для нахождения оценок максимального правдоподобия параметров вероятностных моделей, в случае, когда модель зависит от некоторых скрытых переменных. Каждая итерация алгоритма состоит из двух шагов. \n"
   ]
  },
  {
   "cell_type": "markdown",
   "metadata": {
    "id": "rOOixqsMX7u8"
   },
   "source": [
    "На шаге «ожидание» (E-шаге) вычисляется оценка (ожидаемое значение) параметров распределения и соответствующее ей значение функции логарифмического правдоподобия. На шаге «максимизация» (M-шаге) производится максимизация функции логарифмического правдоподобия и соответствующее изменение параметров распределения. Алгоритм работает «до сходимости», т.е. пока приращение функции логарифмического правдоподобия на некоторой итерации не станет меньше заданного значения."
   ]
  },
  {
   "cell_type": "markdown",
   "metadata": {
    "id": "kZdtDiDeYYbE"
   },
   "source": [
    "EM-алгоритм даёт локально-оптимальное решение, что с точки зрения задачи кластеризации делает его эвристическим, т.е. дающим неточное и не единственное решение, но приемлемое в большинстве практически значимых случаев. Следовательно, формируемая с помощью алгоритма кластерная структура не является точной и единственно возможной, а является наиболее «правдоподобной»."
   ]
  },
  {
   "cell_type": "markdown",
   "metadata": {
    "id": "YAe5o19tYg1l"
   },
   "source": [
    "Предполагается, что данные в каждом кластере подчиняются определенному закону распределения, а именно, нормальному. С учетом этого предположения можно определить параметры распределения — математическое ожидание и дисперсию, которые соответствуют закону распределения значений признаков в кластере, наилучшим образом «подходящему» к исходным данным."
   ]
  },
  {
   "cell_type": "markdown",
   "metadata": {
    "id": "vtywvVh7YuFU"
   },
   "source": [
    "В основе алгоритма лежит предположение, что любое наблюдение исходного набора данных принадлежит ко всем формируемым кластерам, но с разной вероятностью. Тогда задача будет заключаться в «подгонке» распределений смеси к данным, а затем в определении вероятностей принадлежности наблюдения к каждому кластеру. Эти вероятности и будут результатом работы алгоритма. "
   ]
  },
  {
   "cell_type": "markdown",
   "metadata": {
    "id": "cRHqyBVIXSGt"
   },
   "source": [
    "Алгоритм основан на методике итеративного вычисления оценок максимального правдоподобия, предложенной в 1977 г."
   ]
  },
  {
   "cell_type": "markdown",
   "metadata": {
    "id": "pLggQj-PSdDH"
   },
   "source": [
    "Следует отметить, что кластеризация является лишь одним из приложений EM-алгоритма, который представляет собой более общую статистическую методику для оценки параметров статистических распределений с использованием максимизации функции логарифмического правдоподобия в ситуации, когда обычными методами этого сделать не удается. В качестве причин этого указывается наличие скрытых (ненаблюдаемых) переменных, а также неполнота данных, когда в исходных наборах имеют место значения, которые неизвестны, но тем не менее участвуют в формировании статистических распределений, используемых в качестве модели данных."
   ]
  },
  {
   "cell_type": "markdown",
   "metadata": {
    "id": "D7kuvTYB0tX9"
   },
   "source": [
    "Рассмотрим функцию:"
   ]
  },
  {
   "cell_type": "markdown",
   "metadata": {
    "id": "sbndq0-D9ao0"
   },
   "source": [
    "![image.png](data:image/png;base64,iVBORw0KGgoAAAANSUhEUgAAApoAAAArCAYAAADYBSgGAAAgAElEQVR4Ae3dBZAkubEG4Avb5zMz22dmZmZmZqYzM9thZjozMzMzMzOzz8zM7H7xVbx/QqtVdVfPds/MnqWInqpSSanULymVSqVq9pn10BHoCHQEOgIdgY5AR6Aj0BFYAwL7rIFmJ9kR6Ah0BDoCHYGOQEegI9ARmHVFs3eCjkBHoCPQEegIdAQ6Ah2BtSDQFc21wNqJdgQ6Ah2BjkBHoCPQEegIdEWz94GOQEegI9AR6Ah0BDoCHYG1INAVzbXA2ol2BDoCHYGOQEegI9AR6Ah0RbP3gY5AR6Aj0BHoCHQEOgIdgbUg0BXNtcDaiXYEOgIdgY5AicB///vf2Xve854yavL9QQcdtEvar371q7s894edhcBXvvKV2ac//emdxVTnZtsQ6IrmtkHfC+4IdAQ6Av8bCFAyn/SkJ83ud7/7zdwvE6S/0IUuNPv3v/89ZPN8tatdbfbe9753GTI97RYi8M53vnN2mtOcZlYvELaQhV7UDkJgyxVNQuLd7373tkJAQP3nP//ZVh62snCYsySot+vBqe7qZPX8vxDe//73zz73uc81q1q3seeDW9iMNUz/ODhisTe1Lfxf+9rXzs5ylrPM/vjHPy7NuvwXvehFd1E0b3KTm2zaOro0A2vMMLV//utf/5p96UtfWiMny5Emi+5///vPzfSEJzxhdvGLX3xTbT6X8P/oS+Ngu3WnQP+BD3xg9opXvCKPC69LKZoqusyvLp2Cc4tb3GJ25StfeUuEP15/8IMfzN73vvftolw997nPnV3wghecGbw7ISyDqbTLBnn22Wefoc6ptzgWAr/tVDyV7YefXHO/qJ4UjzOc4QxzLRt/+tOfhvbfKW1d10ld61+JQ/1O+73hDW+oyQw0vPPT1rH+7JZwCyNSD9f8yuLTzqlj0pdp3Is3qV396ldfWm6c97znHfKicXAMwS7XYBhsd0K9P/nJT86OdaxjzcjdzQR1ueQlL7nRpz3r55tZeGym/HXlwf/pTne62a9+9auFRfz0pz+dnehEJ1q6/y8kPCGBPmQOLWWoNrjwhS88tw3ku+pVrzq7+c1vvi18l1XDy3bPdfgpx6X78lfyW9/jf5HuhBZ9h8uC9OsMyjrrWc86M7anhKUUzRvd6EbDFoZtjCm/urImi8td7nIbAmMKg5tNo2wTk0n3Gte4xux617ve7Lvf/e5ADkjXvOY1h7iax82Wt9l8Oj+hOQXPpFlWiVBfOBAU7uVH65jHPOYQbztrOwJeUifXGod5bfOb3/xmdrzjHW/2zGc+s8k62o94xCNmhz/84YdtNrRZD3ZaeNzjHrcLBsEDvyUesR68/e1vnx3jGMeYffSjH92tKuoMs52gaOI3dSmvxqLwnOc8Z3b0ox99du5zn3u3dOpRBv3zspe97KaE5z/+8Y9hgtYXarplGXvjPUWl7icl1rlX92Vlxqrw0B+1+aUudalN46/d1DN18Hz2s599R47nqbiRRfvvv//si1/84qQsP/nJT4ZxvZV9WFkvf/nLZyc+8YmH8Xee85xnF4saWUTWzJOrLF/STFVIJoGxZCJWQEoxPrZTNn7729+ene9855ud+cxnnp3iFKeYHf/4x58d5ShHme27777DGJlXrUW6k7HBnUT96D33vve9d1kYzKO92Xfa/wQnOMGkhdJSiqYORbgRYCrEdOq5/LG2nPKUp5wd7WhH22Vi+OEPfzgoBnw31h0IN2Cf85znHHgwYCglD33oQzeEnQGOx6c97WnrZmcufbzB713vetcGrs9+9rOHwRtc4f7CF75wWP3C/Ze//OVcmvVLZZQDLGU+61nPGuK3S9HEp+0gggB/fu7Vd57wwr+BZ7XcUka9h5c2/8QnPjHAQaGzAmulr/HaqmeKvy1B9dZfKc1pc9dHP/rRwzsT0mc+85kNtu50pzsNE22rLnVbb2Ta4hu8acvICu2lTrbchPRB8ep/6UtfekjPclKGVciNj33sY0MZ2znZlXVa1T0sYWr8wvDyl7/8gGHZh+5617vOjnjEIw5bmN/5zndWVfRkOg7t4G2z1kwF6UsWJRYNebZIfuxjHzuZj52UkFLA4GI+mhq2WtE0PimZ2u41r3nNwObjH//4QYZG4Rc5TxZ5r+2ucpWrbKtVM/MJhVl9Sv6n4r+KdJF5L3jBCwY+GAw++9nPzr71rW9tGMFa5SySgTCOvqMMz+a+des2yrrLXe4yO+CAAxbOq0spmkAgrDSW39e+9rUWLjMdkpKHEcGVMLz2ta+9kKEmwSUilUUA4Y8ZOeVbEUfxDLk73OEOO0b50DkyKZsoWoFyrAN95CMfab0ejYNJa4ApR/x2KpqY/tnPfjbwYRt8ihDgYD4Ph9/97nez05/+9Lv4EEWZHcN2FLw1vmCVhD+Fvwza6y1vecvw7jCHOcxuSjefVPne9KY3ldmG+7G23i3hSAT89UP9cU8DGtoUry0/WrzytfOeP1cdvNc3xxYUdfqxZ3RudatbTRKIYzR2cvxtb3vbAUNW4lb4+Mc/PryniK6iXVtltOLg/qAHPWgo29bvZgOeTcqlonnc4x539pjHPGazJLc1H2MM+VVuRS9i6Mc//vGAI0y3Ivz+978flaFvfOMbN1jIQqIli5LogQ984MD7pz71qURt6ko23fCGN9zQK5Ylkvl1yhyzLO2p6bXfHe94xwEPStqiIP083cn7Aw88cKBHIRXE0XdYT92vM3z9618fyl60iF9a0bQyNTEwmY4JLSsIW9Wp5F/+8pfByvmyl71snXUeaAObL4vGCX/40MlqK+uHP/zhoS7r1vynVBqvGQi1MpR6oKNerHXLBPXXZvUA007i0dzOwJKHj+te97obfWaMH3UxUM9xjnNstG+ZFlYmNxPTj370o41Xz3jGM4Yyamw3EmzDDYslwVm2LzZYYeHh17LswuBc5zpXU+iOtfXU6uFFuTVPU/OX6Sz00DrZyU7WpKc/nva0px3SfOMb3yizDveRGw972MN2e7dshIkQL7FwL5t/p6bX3vBVtzGLpbZk8ZDmHe94x5ZVRbnGIbmGz80GdFgwS0WTLN8bFU04MLhc4QpXWAqOrVQ04R0ZGuUFs5GhT37yk3fhfUwWJVHmGbtKexLICwrUZvtS5td6HtwTnpbNC9vIvFiK59GIDBzTnUp9J3SUYVvemHG/zqAt4LrID3dpRfPGN77xILCuda1r7cK/LbBUSsfynPCqV71q8EP4+9//nqjRKxqb7Ujy3e1udxv4Y5JO0LFYVoAfHr2T3klITrZlfPJt5VX5GQilMoRHE0QGB6VsWcWwppF6RQCM0cOTcv3m4ZN0SaO8RXnCg7Q3uMENhjqWfSbv6yvLCDwIwlawwrLNdrOb3WyX13e/+92HfF/4whd2iZ/ygMfUrUzfiivfz7tH05Z4rRzEQqCOZT+oacGKi0ptFUG37C91vkXP6iT/ntQtZVgQoUVWpP/mnasx6j0cWuWRG94vWi2jVbeR5zKgf9jDHnbUp7dMuzfdf+9735uLYepijMNyzKc56VZ5fdvb3jaU+ZCHPGQhWe1Vyoyy/bSdw0Slosm3bWzrvOxLNd2FjKw5QbbAH/WoRy1VkkWz9itxKQmIr+s9lrbM17qPDK2Vh8hQCmcZIov++c9/ltEb92QU3p2L2CxPiOkf61I0YYd+2Qc3KlDdSFtinbxlXJVl4zE7wkc+8pFnzhksCvN0J+W19B0HYOFd6zuLysp7dMu6aLN57cYHvDUXhZ7rUoqmwk91qlMNlSitgBrHwA9zfA7CmKuOeLGLXWzjfclA7uV96lOfOjvb2c42/FgevvnNbzYtPslTX522OvShD73bgaPvf//7A89Ou4fH5GXW56iuDtsZ8NVSNMWzCoQ/PmwtK9c83rWBjhcaSTumaCrTdtuVrnSl2eEOd7jBedlEVSs16PAdtAVw7GMfe3AYf/WrXz0ojng+4xnPuJsilbJztWKzjYS/KS4Bmbzi6xc6ruppixStcitHvbW9eINQsEJ8wAMesJA/Qtdg1jZcLSi68V2iIL/5zW8uWVjqvm5HfOLRj8/uvJBt99JqK/1YW8+jVb7LpFCPkzLNlHt8ZEt3TCGIiwtFVPo6kBtcB+p+W6bDJ19xfRAd7fr5z39+dv3rX3+XsY4+GXTnO9+5WVZJc2+6f8lLXjL0lzEMU5ccFIDpVoXsfs3zz9QuFhyskw4N2a3QB1m/uLsI2niKoulwwkUucpHBHcNJbos2llxjly/hL37xi62q+mg5kV9TZF1JxDhXt3qcwEabmpe5oZBNGcMnPelJZ/e61712ycP/307K2PhGf5EMrbfAx2RR+EeT0nPUox51tNyknXelyK5D0UQXhic84QmHg08OPZn/aow8P//5zx/8nbluyKOP2r112Mg8Ueep65MxwY2lbss6rffKGNOdSn2nLNcn8Mwh0Xf+/Oc/z574xCfOtP28Mr17+tOfPrvOda4z7C4qW1+KXmKh0ZLFi9pfvZZSNH/+858PFTjUoQ41AGyiNCEazJybW5UIo/ysxgLmrXZUjALBgsEqpfGW8cngowRgDW5A8yXx4xMj3sq65lEDnPzkJ28CWPNLYWVlmvJTvnKtSMpOUNPMszRpUEodLFwpa3hvNXDyLrqqc4uGeohXVgI+PFs46MjyJo7JX3sm5EQhH8Pf/va3sw996EMDPQocBY0TOH/JeUH74IGyOQWnWGZapzVhdJKTnGSgp1+mnQiDIx3pSMNJP2nUKZZ517GQQyTo4M0K33fhKNFw0Df1nSl8j5WReHyhCwuTRd1Pky7XWEYyGSd+rK3zftFVXfCwp3WSn080Wtqs9bOo9N4YrIP8xoMJdAwLmLFcaxMLU36gTnPavWjJDTLoEpe4xKSxlL6z7HVPcatxWPR8m9vcZsCw5eOavPDLdh3FdKsCeat9ycJWwJfxf4QjHGEwMsCODI8cjLVfvIXsPIumvmAeeutb3zrITF8p4F5DDlA6zS+2eKXbzhD5ZfwuE2yR1oomXMy75LW56XnPe96At8WUBX+UGrJYUPcciKF0tII0pz71qQc6LRm63377zf7617/ukjWyyFhpjVVx2kJfME9sNuBtFYpmaXklx40NCzH3MKVI++wUXNNf1CH+5BQrB3Jj4XXA2T8jIIta9U99vbv1rW894MAKuCjgx1gY051Kfcc8EFkVF4foO9k5gn/GVF023p7ylKfMHFSSJkYoZd/+9rcfxp6+03LbS/vXc1FZxlKKpo/uYtaECAA/vprixvyoNJT/EHDTm960LHfjXsNSMmolJgNy3mp4g8j/W3Luec97DrzoIH6slRo0HeJ1r3tdmWW4zwkwlrVFgVDkR0jhYN2yWlSGFSK/lbGffIsCHCJg1R3/rlY+8E2HX0Sn9V4natFIZ1JOQpTyBz/4wYkarjo9xR8/eMEvLND1LiGWQ7TnDbqkJxTRMNDRXBTSL3LQq0yfbWcW6mBosD384Q8fyigPQ1CGlctPtxXwwpfK4E3QJvJQQAkr9y0fy6SfeoWn7z2iZ7BPwQ1/rH0EXJl+rK2n8oIuPqa0xTyadiPQIR/ue9/7NhVNfnbS1BYSdCM3tGUr4C+W8NLvkrBDs3UwhgzitzRlLGlrfbL1o9CIZ/mpfxbjWxXUw6dSxjAMHzk8Jp3Fo7od5zjHGb5N6VS6+PQhMuhMZzrTIN/Epz+499NmU32powSPuavEtcIEnpDJ1aSWPuiK33mKpsWZdpFWG+O1bGc7QeJYu8ug3vnJm/vyyqLkuQ7SJ0/5rsxbxkvLTcu4dT8WuEPUoaVoUqqveMUrbvBGVqmjbXn03fuVfpYW1rB12LAVKOXy+ApEKUPN7+IdMKl599ySRSV9u2Pyjyk6Zdqxe+25CkUz/cKVou6rDIlL2fwn8fv6179+iIqLinokZA4wL9aYJE15VUYW34wyi4KxMKY76WPRd7STH13ElwyiR0TfcbALj35jir760cFSD1f1NwfiW17PrYXqlPZfStGMP4DOirjKAoPAZ91qBUwymY+dsAKQCjzykY/cyI6uwS3et6emBPwYdPKUio94VqcxWrGotQ4jTCl3VWnwmQ5SKjfqwrpYDgSTKUVuaoCn+pc05K0VTTyYjKVtrVzCH2siWlkd//rXv95gJSfqWsrDRqL/v8FXaI459uOpXClF2fvDH/5QkxsGAd6lKYNtOPFWZmVAe16wlYdHwZXwddBMPs/4WkRjHn3v5Gf5xR+/05TnnfYp+0JJSzqWB+1V5nGPVt3WZV73FHW0618UNdf6neepE4UtGHyY/Ev+wsdLX/rS4T3XjBaG4sgNE3MrpB/ku5xJc4973GOgy32nDmQQnlh/tjO0cK3j4E8ZMFmM/QcO/2VHfcYwTB2z0NJ3uY5oj8g9k1V5IvzLX/7yYM2xQE+7uOJBWRS2RX1LucpgDZGntWVNoclCoVzsGdfycH1Iv1G+rcp5iqaFo/GSA2i3u93tNvLjJ/NMKRvQJ38ucIELDMoGBZsiY9HHoqVNpMFPeAmmynMIy3dgM4l7J95z5FqZz72FuHEbbEMvVxO78rRLGdSrtmgqq/xvQbFwcSEQ9POWf/O89ssuTokTWpGht7zlLXfDQr3sPNSyqOQ/ljwLnUWhHgueKdX6oPYZk01jmKY8eWGb+scS19o1iRxUJ+mzWGNgSjA3o0f5XFS2PNnS5gYSHkIrV64/mdulGdOdlDem72ShVepO0pd9MeXlCluLtQSYq1t8uuUX16qnuNZcFFqukxVNxGJ1iaaMgHgMtRjwXmMQhD4gWgd5YlIvT0OKt3IuV7V13vpZHj4ptPKyEfnQ4c+WWYtHZm/vdaztDHiLcNKgCeLxlzrluVSmk3bsqoOVNJIunYkQFpSRTprOnrRohL9Y0SLYsuqTlpDVblP+1RwrMr78xnyW8MbXLyGTZn2wDH/xCSwHTIkrYbXZEGf81pbsZmnijXVc/dXTcxkotmVfKN+pr9Vx3a/H2rrM657lOta62kqPH3GUPBZnFslY7iiIiwIeKJjojC0gMvHY9pa+DvoiS4PdiDrAKXKj3DIW73AfpaTGEg0yCE+lYlPTXvczvmzjWqzrrxRjCsO8XRGTfqkMhsd8MHsMQ+mUF7lN+U8QD4sSX3H800rlJemNKenLQ5Z517pqU9ZoefiI1SEWI64uZfubaOXhr5+Ar0WKZtJGppU7YfJnp6XcxqeIKYsckwYfFtHmkSiq4qQpeVSWZ3mMUXNODnZQ1KXnu17nkd6uinEbeR6+Xb33WTb5WdrK0FI0y/fKigV52W35kk6237VDAr4i+23J10HZLVlUpssCcEzOl2n198imXMkTv0Me8pDDIoTCyxpPIY9sWrSbkDoE+yjV4uu2Sj/KDggMLCqMtQR6kLaqlfK8r6/GuPTcOurypFWGxUTm3nm6kzpE35EvIQtI80KrjKRbdM1OY6msjuVR/qL2n6xoqhiQbIWVPg4Kz3/caTEin+0dnaEOGMz2WamYWIUpa8oWTWiiJY9OUwIf5YMTbytEgI5N6GWeMSuQvPWv9NGc0uB4zkCold6yPrYkawUcfWmSLkIvvHsPmwywxGcwRdEseUhnT1rvdCZ0KCmC71/yIXXijPUCHf8qzgCcUueUb7JpKc7K9K7s7JmgWkIl2zOl/2a20x3cmcJT6ltfKdPqXio2dZplntWN6wWa+qjnMmhnfml1fNKIJwTrrfuxtk6+RVd08TRW7qL83ut/VuLotJQ6PMb3eExIK994MNHUwbvIjdJyme+x6outtiaD8FTmqWnnuR7PU59b5YbmKq/KMd7UJ+O3RT+WZTiWbepeXpO1YPzpby0l0/vIyXmyviwffxYqyijHb9IYR96xXJYhecoxjFfWz3kWTTSUmQmyrAfrafpLqYQpq/SVU47/JFbvZOBzrF1TDwoYJZPS6doKaOjvxm3ZFmVanzGi7NXK+SJFk2w3L7CyjvFaljN2jz/1LfGPDLUIafGtvJYsKsswl6M7dUekzJt7dbT43Gz9Mr9mHvQdcDyJr0MMVOY8dVamxYe5zmJBfVi9W7K7puVZ/iy8xhbf5hgL8GCMz3m6E94p30nvGhk3pu+0eKvj0IGJMRPadZryWZpF7T9Z0QzwKrZMQwPLwHUqsg7eAQuYJU0n2sXX390i5MYqLr7uNCZrAPjvK2P5IohNJIuC1YIOtqyPZhSzefTxl4EwjxcrfVsAqY+rNlF3/5aNT2I9ecPW+wyw8KEc8Zmo0MrkVX/jCw0nB6XPSWfb68oySTnERaDXZaSs1jXb7K0tF7ygXStScWwm/OoQIRls8Gwlvd9++w2+aWV679Q/act37sU7qcpdRNrgUvo2se6VLh/yUbLGaKYM9KzIYanN6/TecyxnoXDfCvxu5K+32KQXv0w7lPTxIn/NU5lm0X18uce+tZtxr5zSwlTSlcZWt//mVGPgHcWDoC/fxd96TJCTQcr829/+VhbVvNeXYk1Z5krZ3YqgfSIv6kVhyocTf3qWGFt/ZUg7O4jlsIhdp3kW/1ga60VsSbO8R5+/GLxbX4iIjC/dAuRh0fPpl3LhqR5kT3YxPHMn4pNWBvnVte6/5JS48j/D6TfwS/+RlxJTj0fv5U26sjz3fNtMyCZ48rdUcOu0yqCQojfmK1fnyXNL0TR2KCbkcb4TS/FJoCzWCzU8UPbG6lPLULRijXzxi18c0rtcS1k0Rjfb1vnqxy4EJj5od4uhsTIWkcl4QUegzFPOa/3DO7t22snCRXlw44KnXzKKmYcY3MRPCQ7FoufXWnxrK4uU0mKMz0W6k/ZK4P5H32lZTPE5j1cyBD7a2O6JsUDJDtbyluMlZbqW7V/Gl/eTFE2FxDJYbkuWhMbuMcpyQ5sP00mLrgkDwAkGqmcNUg7aCDqrqnSU5HFFy/9i94mCPBv8AGulT944OZcr3bzbqitc8JiBwKKpPvl5756iS6hRvoTUmeIrcPqGW+2wK7/4Egdx3BXER9FEw0DChw5cptcRpVWWcgWLDx3b6UQ8U9z44KCB/ryARiyk8iW9q3cReOVnitAz0eHDtkcdbMt4l37DMk7JbJ1qjuWDEE3ZJb18NoYyoz7pk/FHtTXmhLN3CTBQ/lgflU5ZsWRKG6zE+8E5pxtrZT/luMbfpxRMoY9u2XZlvkX3sJc/bbwoff1eHaKUq0dNx/sscPSdsQlXOtufLKM1Dc+sCrZTpRPEZcHl0yR1kI4M4odX06vT7g3PlEPtlLZWv/zUL7KCTIyCVtZLGnmNM9u/+vn5z3/+3U4UJ0+2VMv+nndj14yhlrtFZE8mSrxnzF/mMpfZaFe08UrRrC2a9bcoWU7VifKQ/s/n02lzfSNxNb/o8zEj99yXAV9ouraCeL7f8Bs79FTmS7sZv8uEWtFUrnrijdJjTnAfNybv8VRvgZNN0ukfrUB+e1/LUAvqMQzGZFHoy2eb14GuGt+kmXLVfuo8xsc8GvLkQEv6gThuExZZTpIniA+eLMwCvvUjbi7klx9ZTcmfUqfIPNhSUFMHeZ1nML+QZ5lflCnNPN3J2PYpovBH3/HFjVqXiYuIslsLReWQp9775JxDze5Lf1QuNmNGxkXtj7+5iiYQDL4oQArnUJ64gDXUdM4fx+1NKq0GYbX06RmaNItEJvT6dFuEEB5ap/IUn8/tWLma7KwG0qla7OGfUNM489K18q4qTrlWeyXGwbe8Mtmru18Uw3y+Ils1cTmorSrqKV/qmHaNoCKQlGUwCAQ2XxSdz6eLlEcQu5YTjQGTg1bhzdWExarU6h+s0qlX8uQ5V33FO4KpVkTwbnvIvzmtg3d836ziWX4tYkxoLT5MDsoweFr9Mv8CktLCqsZPkUAiaGzRW1lTgsu8U/poLA+2jvGpfD+O3U4YBhPXUujUdY0wqA+x1W1d51v0rD7KLuu1KI/3yi0PQaCRfhVlgmDUxhH4Sa/+rRAfKjsTdTBBcKt40YteNPxy8GTfffdt8q4++pPt0mXrVpe9nc/GIAwzduGcceNqnFLOWW9Z8sbqKl5eiz1jmmLh2QKslSc7P/U748GE2wrZfWhZmNHBr4NwjBf81zLu63/GIG1L0azp5j+MqRMfRwquq/4V2VfzibYdL7zUdZNWv57n7+a9vLCr+anL8owPcmnZrc1a0cQr+cHyRinig+pZfS14HabVV8o6KZuyhNf42dc8Sm+BKL/+Y7431tRzLIzJoqTXvyz4W5bDpJlyxT/9YB4vLTrmNdZmbhHqrr3Mueigyf3BP3OAlz4ET+WUCwdptZn89c88yULf4isyb2y8pu+gaSzVNObpTqW+41ue+G65JpgjwnP91QV4KdPOnf9WxfBmHjLfUWLtOGSXAFatsKj95ZmraErAauXAjMaqf61CW3E5cNNaRakkU62OT8iZ2IFicipBNwAILp01q61WWZQtvhRx8G6lSRylR1kU0+0K6hhrYI3v2DOhI+jElKAIEwdldJYSN+k8q2c6Sl2miUJZ5YRhW4Eyp/Py49IPSrq2QAwwBw3Cvys3Acqe8loCCq/S2abLiVpli1N+aIWfsszURbkGaCtIT+ATHhTuOn/yOAmrrLEVsnwmV8KH1ZCw1I8psL5BFyxDz1UeFgu8lViWabwfa9c6fox39FjnTAY1H/KUbV2WPeVe+8ifPjUlT9KU/JftmPGaNk1/S3ppW8EWFeXDJ59awfillHDByEeDYd/CTZnq5bu2e3Mg+OFV4hscc/WNv0Xtl3Y2wSRwu4FRaQXLu5w6rukaI/W2fPLomxZkYwsJ78kL740rFhTl12NHukWKpjbPiW3zBLr8Lz/4wQ+OYiEP321KR75ikfGTPqS+Y4etvGMAsPNgcT3mwxg8XNGlDGYXqnw3757Mh034ktYODuWSwQFGfgw2XJFKq1lJ15ixA0VGzwv6mXHFGlaW2cozJouSNguORWUm/dhV/SiMi/ip80fe1NfQcWVYMM+ZU8179ZSci3MAAAc/SURBVBY/A4HdUspgxpkrZdwcaB6J9bMsn9GGsYPuYx6Rpx67nvFW93t05ulO3ttypytZrNVjs+RDOryXB7nL9/oFdy4KJnkNEy5Q+hdfVtiPhUXtL99CRXOM+DLxAKAcMO0uCrH4UGzqgI7BVlrV6jTLPJukKGpTvqG5DN2tSKsj6GA6jwAbnaL2GfROWrjN6yzL8szcj2ZrBYWWVbHBt8oyw6NJRNkGwJ4E20wmkXkDdFn6aM1TNJel10rvIJTv1rX+08OetnXG2CoxadVhSpy68EGz2FnET+QGZakVuEiYpBbRaeU9OMalncuvgcDbqVfbnCaeMuRrD6XsDY0yrszjPctq+V/jyvflPTlBAWNZqn1o0akVTdbp8lu/0liUkDlj/JTlqSv/ZspDabniPweDBOlaFk3xfEnjukIWk0nz3F1Ck9xheV5GNrYUzdBb9orXcoGxbP4yfSmLtEErHHjggQM2FKo9Cdo1lsg9obNsXvWigNb/1jh0zIHanmFl1UHZU3WnRWWbl7L7uSjt1Pdl+8/LsyWKJgYoBwRBvdUX5gxcoJpUNFpLWLAGsWiOdejQmnK1guWvxeS9CnpTylx1Gv4hfKfwz/IGt9aqCLbeLSPYFvEavw/uDnXgB2KrxMGpdWCLpsFHedhsgAmBq1+uMuijPrGzjnqHTyvu0pKdeNd1tHVJf6vvWQB8d25MbqTOkRutw0WEIVcF1rceZoNVhVWLTLBQpQDoN36MAeLtjBxwwAFDP9YGUaTsPDEC8I+k1Ek7r6/n0A/ryFhQbnay+IvW9DzXiqYt3dJHE494YSlEb17wnkIovQVKAosUJbPkVVrpSpoMEw7qUaASL690rYONoZ+r+pBfy5x3WJWiqWxtC69VhHmyCH3lsRqzernfG4M21t7+k1lLL4kLW+nnucp6LtKdppTlSxvGzCp1AOUuav/wtmWKpsZimi2P74cJVz46NG6D1c894ZYg/yEOcYilBmfytq6cbOedRm/l2WlxMLEFDa+cuG0NZumkWWUnQzO+GZRcqzkDjoWEBcDJt4MOOmhtkLE8OOg15cPwLSb4/+Fx1Zj4vFM5UbXK3pM4p+0pXra2WmEdbd0qZ6vi1MeW1pjcoChFbvAXbskNkz9rf2tsbFU9dlI5MHNAjrLhx50Azn4sdMYtiyb5CzNb260fC49DAvKNBfktivjGttKxsGiztGHuy7Zyz28sYxUdz1GQs3tCxsXvt8xf82abXlr1y8/cZJfA91nLvMqSNrxTZPOvYvmvJ+Tf/km7//77b+w05X19pWTyA2wpLnVaz6tSNMlqX3Mo69gqb0qcHSWyaJ6/qa1jaVoGiSll7JQ0xoT5Ql/mksFFwUKDAmrBZQG2Ckxb9dX35ulOrTxlXPqwRd8qQ+aiV77ylQvJbpmiiRMNkf9pXnMWoZcry1x8u5J2yvfvknbeVRm1s++89HvDO5/iMQgiEEue09H4XxA0Edhlms3co+ukO7+P+9znPoPfjwHnXwKua9CVfGrHMctema51j7918DimALZ4WDYO3ra8CPa6nT1rWxOnyW5Vbbwsj+tIr275rFhNH94m7fxquUGpoCQdnPCoMdjpzyY4/8+ctb8O2jZtxzfUtnK9xWqc2jJNG8pDIU265M81J6/rsvLMwq2ftH4UbPQT3JeKpjMA+MBTOcFSRMT7jA25tCigyxo0dQG0KkXTHFrWbxGfY+/RsItA5ozRg5FDlxS0dcjaMd7WFa8OlCuGBIdmHBziA6w/jWGwKl6UPaY7TSmDn+gq20BfZwCwgJhS9y1VNAGCQdaJ7QxWB1PA2U4elymbckHwcraOz2aZX10JBD/K5tRVdEljp97bAjSI/heC7xFSmloCo2xj7dxKszdjpD6bkRusNwensb43tiH8yad5Ssm8eslfK5oWHhTFdQdll4rmKsvTpykrFJVFwcFGO0g7pS878Uyhnidn/LtSX3ShJPew5wiYtzcjA/e85N0paFtz0dT+uOWK5u4s95g9RSAreVcdoIeOQEegI7CTEGBgsMUYK+QyvLUUTUrr3q5oLoPB3pZWe1sc2N3qoSPQFc3eBzoCHYGOQEdg7QhQPvhTLhsomhbRsZ642mbP87L0lkmvDJ8R24qyluFrp6e1s8a1YJ7Fc6fXofO3OgS6ork6LDuljkBHoCPQEegIdAQ6Ah2BAoGuaBZg9NuOQEegI9AR6Ah0BDoCHYHVIdAVzdVh2Sl1BDoCHYGOQEegI9AR6AgUCHRFswCj33YEOgIdgY5AR6Aj0BHoCKwOga5org7LTqkj0BHoCHQEOgIdgY5AR6BAoCuaBRj9tiPQEegIdAQ6Ah2BjkBHYHUIdEVzdVh2Sh2BjkBHoCPQEegIdAQ6AgUCXdEswOi3HYGOQEegI9AR6Ah0BDoCq0OgK5qrw7JT6gh0BDoCHYGOQEegI9ARKBDoimYBRr/tCHQEOgIdgY5AR6Aj0BFYHQL/B45HLqwcBz96AAAAAElFTkSuQmCC)"
   ]
  },
  {
   "cell_type": "markdown",
   "metadata": {
    "id": "TvjVZsS09rys"
   },
   "source": [
    "где q — распределение вероятностей ненаблюдаемых переменных Z; pZ|X(· |x;θ) — условное распределение ненаблюдаемых переменных при фиксированных наблюдаемых x и параметрах θ; H — энтропия и DKL — расстояние Кульбака-Лейблера."
   ]
  },
  {
   "cell_type": "markdown",
   "metadata": {
    "id": "KAQ1IoUR9yzM"
   },
   "source": [
    "Тогда шаги EM-алгоритма можно представить как:\n",
    "\n"
   ]
  },
  {
   "cell_type": "markdown",
   "metadata": {
    "id": "7NnHWXpQ97rk"
   },
   "source": [
    "E(xpectation) шаг: Выбираем q, чтобы максимизировать F:"
   ]
  },
  {
   "cell_type": "markdown",
   "metadata": {
    "id": "nbkokzRe9-VE"
   },
   "source": [
    "![image.png](data:image/png;base64,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)"
   ]
  },
  {
   "cell_type": "markdown",
   "metadata": {
    "id": "BVWqrAMy-Ik2"
   },
   "source": [
    "M(aximization) шаг: Выбираем θ, чтобы максимизировать F:\n"
   ]
  },
  {
   "cell_type": "markdown",
   "metadata": {
    "id": "KvcDSDR2-LhV"
   },
   "source": [
    "![image.png](data:image/png;base64,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)"
   ]
  },
  {
   "cell_type": "markdown",
   "metadata": {
    "id": "5MGVG9kS-PJs"
   },
   "source": [
    "Реализация"
   ]
  },
  {
   "cell_type": "markdown",
   "metadata": {
    "id": "ie8fkhIzRUOm"
   },
   "source": [
    "EM алгоритм реализован в модуле sklearn.mixture "
   ]
  },
  {
   "cell_type": "code",
   "execution_count": 1,
   "metadata": {
    "colab": {
     "base_uri": "https://localhost:8080/"
    },
    "executionInfo": {
     "elapsed": 1804,
     "status": "ok",
     "timestamp": 1626424006989,
     "user": {
      "displayName": "XYPMA",
      "photoUrl": "https://lh3.googleusercontent.com/a-/AOh14GjsN0k93AajzvJDChjTYPnuNRgagbkt_Y9Kd3-G6w=s64",
      "userId": "03658562800388449117"
     },
     "user_tz": -300
    },
    "id": "5ScVsPS3gZSa",
    "outputId": "52be92a0-bf4d-48ce-b643-248f4e5705ba"
   },
   "outputs": [
    {
     "name": "stdout",
     "output_type": "stream",
     "text": [
      "--2021-07-16 08:26:46--  https://cdn.analyticsvidhya.com/wp-content/uploads/2019/10/Clustering_gmm.csv\n",
      "Resolving cdn.analyticsvidhya.com (cdn.analyticsvidhya.com)... 104.22.55.101, 172.67.38.119, 104.22.54.101, ...\n",
      "Connecting to cdn.analyticsvidhya.com (cdn.analyticsvidhya.com)|104.22.55.101|:443... connected.\n",
      "HTTP request sent, awaiting response... 200 OK\n",
      "Length: 18385 (18K) [text/csv]\n",
      "Saving to: ‘Clustering_gmm.csv’\n",
      "\n",
      "Clustering_gmm.csv  100%[===================>]  17.95K  --.-KB/s    in 0s      \n",
      "\n",
      "2021-07-16 08:26:48 (105 MB/s) - ‘Clustering_gmm.csv’ saved [18385/18385]\n",
      "\n"
     ]
    }
   ],
   "source": [
    "!wget https://cdn.analyticsvidhya.com/wp-content/uploads/2019/10/Clustering_gmm.csv"
   ]
  },
  {
   "cell_type": "code",
   "execution_count": 2,
   "metadata": {
    "executionInfo": {
     "elapsed": 268,
     "status": "ok",
     "timestamp": 1626424012434,
     "user": {
      "displayName": "XYPMA",
      "photoUrl": "https://lh3.googleusercontent.com/a-/AOh14GjsN0k93AajzvJDChjTYPnuNRgagbkt_Y9Kd3-G6w=s64",
      "userId": "03658562800388449117"
     },
     "user_tz": -300
    },
    "id": "Ni1Uh1DUr11k"
   },
   "outputs": [],
   "source": [
    "import pandas as pd\n",
    "import matplotlib.pyplot as plt"
   ]
  },
  {
   "cell_type": "code",
   "execution_count": 3,
   "metadata": {
    "colab": {
     "base_uri": "https://localhost:8080/"
    },
    "executionInfo": {
     "elapsed": 9,
     "status": "ok",
     "timestamp": 1626424015288,
     "user": {
      "displayName": "XYPMA",
      "photoUrl": "https://lh3.googleusercontent.com/a-/AOh14GjsN0k93AajzvJDChjTYPnuNRgagbkt_Y9Kd3-G6w=s64",
      "userId": "03658562800388449117"
     },
     "user_tz": -300
    },
    "id": "BAJktqO3srto",
    "outputId": "d73c54ad-134c-40b0-f74a-acf8d1c5f00c"
   },
   "outputs": [
    {
     "name": "stdout",
     "output_type": "stream",
     "text": [
      "        Weight      Height\n",
      "0    67.062924  176.086355\n",
      "1    68.804094  178.388669\n",
      "2    60.930863  170.284496\n",
      "3    59.733843  168.691992\n",
      "4    65.431230  173.763679\n",
      "..         ...         ...\n",
      "495  59.976983  169.679741\n",
      "496  66.423814  174.625574\n",
      "497  53.604698  161.919208\n",
      "498  50.433644  160.794875\n",
      "499  60.224392  169.689709\n",
      "\n",
      "[500 rows x 2 columns]\n"
     ]
    }
   ],
   "source": [
    "data = pd.read_csv('Clustering_gmm.csv')\n",
    "print(data)"
   ]
  },
  {
   "cell_type": "markdown",
   "metadata": {
    "id": "yhTMGH0JIxTn"
   },
   "source": [
    "Отображение данных"
   ]
  },
  {
   "cell_type": "code",
   "execution_count": 4,
   "metadata": {
    "colab": {
     "base_uri": "https://localhost:8080/",
     "height": 404
    },
    "executionInfo": {
     "elapsed": 359,
     "status": "ok",
     "timestamp": 1626424021378,
     "user": {
      "displayName": "XYPMA",
      "photoUrl": "https://lh3.googleusercontent.com/a-/AOh14GjsN0k93AajzvJDChjTYPnuNRgagbkt_Y9Kd3-G6w=s64",
      "userId": "03658562800388449117"
     },
     "user_tz": -300
    },
    "id": "JqC09AGEw29n",
    "outputId": "4bfd1c55-68a7-4765-9363-d3c4c6bd5096"
   },
   "outputs": [
    {
     "data": {
      "image/png": "[encoded data removed]",
      "text/plain": [
       "<Figure size 432x432 with 1 Axes>"
      ]
     },
     "metadata": {
      "needs_background": "light",
      "tags": []
     },
     "output_type": "display_data"
    }
   ],
   "source": [
    "plt.figure(figsize=(6,6))\n",
    "plt.scatter(data[\"Weight\"],data[\"Height\"])\n",
    "plt.xlabel('Weight')\n",
    "plt.ylabel('Height')\n",
    "plt.title('Распределение данных')\n",
    "plt.show()"
   ]
  },
  {
   "cell_type": "markdown",
   "metadata": {
    "id": "dKRr2rVKI2CD"
   },
   "source": [
    "EM алгоритм"
   ]
  },
  {
   "cell_type": "code",
   "execution_count": 5,
   "metadata": {
    "colab": {
     "base_uri": "https://localhost:8080/"
    },
    "executionInfo": {
     "elapsed": 1183,
     "status": "ok",
     "timestamp": 1626424026855,
     "user": {
      "displayName": "XYPMA",
      "photoUrl": "https://lh3.googleusercontent.com/a-/AOh14GjsN0k93AajzvJDChjTYPnuNRgagbkt_Y9Kd3-G6w=s64",
      "userId": "03658562800388449117"
     },
     "user_tz": -300
    },
    "id": "Lz-3RBNGNHL3",
    "outputId": "ae91da40-060d-4f1c-dfa6-365ed0810aa0"
   },
   "outputs": [
    {
     "data": {
      "text/plain": [
       "GaussianMixture(covariance_type='full', init_params='kmeans', max_iter=100,\n",
       "                means_init=None, n_components=4, n_init=1, precisions_init=None,\n",
       "                random_state=None, reg_covar=1e-06, tol=0.001, verbose=0,\n",
       "                verbose_interval=10, warm_start=False, weights_init=None)"
      ]
     },
     "execution_count": 5,
     "metadata": {
      "tags": []
     },
     "output_type": "execute_result"
    }
   ],
   "source": [
    "from sklearn.mixture import GaussianMixture\n",
    "x = data\n",
    "gmm = GaussianMixture(n_components=4)\n",
    "gmm.fit(x)"
   ]
  },
  {
   "cell_type": "markdown",
   "metadata": {
    "id": "5QGMOxacNlec"
   },
   "source": [
    "Вероятность попадания точек в разные кластеры"
   ]
  },
  {
   "cell_type": "code",
   "execution_count": 6,
   "metadata": {
    "colab": {
     "base_uri": "https://localhost:8080/"
    },
    "executionInfo": {
     "elapsed": 345,
     "status": "ok",
     "timestamp": 1626424029939,
     "user": {
      "displayName": "XYPMA",
      "photoUrl": "https://lh3.googleusercontent.com/a-/AOh14GjsN0k93AajzvJDChjTYPnuNRgagbkt_Y9Kd3-G6w=s64",
      "userId": "03658562800388449117"
     },
     "user_tz": -300
    },
    "id": "VoamDoZSNIAE",
    "outputId": "a57240e1-6d98-40de-f553-a1b74af2ca9b"
   },
   "outputs": [
    {
     "name": "stdout",
     "output_type": "stream",
     "text": [
      "[[0.    1.    0.    0.   ]\n",
      " [0.    1.    0.    0.   ]\n",
      " [1.    0.    0.    0.   ]\n",
      " [1.    0.    0.    0.   ]\n",
      " [0.002 0.998 0.    0.   ]]\n"
     ]
    }
   ],
   "source": [
    "probs = gmm.predict_proba(x)\n",
    "print(probs[:5].round(3))"
   ]
  },
  {
   "cell_type": "code",
   "execution_count": 7,
   "metadata": {
    "colab": {
     "base_uri": "https://localhost:8080/",
     "height": 265
    },
    "executionInfo": {
     "elapsed": 349,
     "status": "ok",
     "timestamp": 1626424036570,
     "user": {
      "displayName": "XYPMA",
      "photoUrl": "https://lh3.googleusercontent.com/a-/AOh14GjsN0k93AajzvJDChjTYPnuNRgagbkt_Y9Kd3-G6w=s64",
      "userId": "03658562800388449117"
     },
     "user_tz": -300
    },
    "id": "VD8y_KnDxHRe",
    "outputId": "9add7b41-b78a-45b6-c2d0-e704d51854ee"
   },
   "outputs": [
    {
     "data": {
      "image/png": "[encoded data removed]",
      "text/plain": [
       "<Figure size 432x288 with 1 Axes>"
      ]
     },
     "metadata": {
      "needs_background": "light",
      "tags": []
     },
     "output_type": "display_data"
    }
   ],
   "source": [
    "labels = gmm.predict(x)\n",
    "frame = pd.DataFrame(x)\n",
    "frame['cluster'] = labels\n",
    "frame.columns = ['Weight', 'Height', 'cluster']\n",
    "\n",
    "color=['blue','green','cyan', 'black']\n",
    "for k in range(0,4):\n",
    "    x = frame[frame[\"cluster\"]==k]\n",
    "    plt.scatter(x[\"Weight\"],x[\"Height\"],c=color[k])\n",
    "plt.show()\n"
   ]
  },
  {
   "cell_type": "markdown",
   "metadata": {
    "id": "sXhMCinQI7Qs"
   },
   "source": [
    "Сравнение EM алгоритма с KMeans (алгоритм кластеризации, построенный на идее EM-алгоритма).\n",
    "\n"
   ]
  },
  {
   "cell_type": "code",
   "execution_count": 10,
   "metadata": {
    "colab": {
     "base_uri": "https://localhost:8080/",
     "height": 265
    },
    "executionInfo": {
     "elapsed": 730,
     "status": "ok",
     "timestamp": 1626424098811,
     "user": {
      "displayName": "XYPMA",
      "photoUrl": "https://lh3.googleusercontent.com/a-/AOh14GjsN0k93AajzvJDChjTYPnuNRgagbkt_Y9Kd3-G6w=s64",
      "userId": "03658562800388449117"
     },
     "user_tz": -300
    },
    "id": "R7eJ8MtlxbKG",
    "outputId": "39d760e5-7685-462d-f3e8-d6ce38b67721"
   },
   "outputs": [
    {
     "data": {
      "image/png": "[encoded data removed]",
      "text/plain": [
       "<Figure size 432x288 with 1 Axes>"
      ]
     },
     "metadata": {
      "needs_background": "light",
      "tags": []
     },
     "output_type": "display_data"
    }
   ],
   "source": [
    "from sklearn.cluster import KMeans\n",
    "y = data\n",
    "kmeans = KMeans(n_clusters=4)\n",
    "kmeans.fit(y)\n",
    "\n",
    "pred = kmeans.predict(y)\n",
    "frame = pd.DataFrame(y)\n",
    "frame['cluster'] = pred\n",
    "frame.columns = ['Weight', 'Height', 'cluster']\n",
    "\n",
    "color=['blue','green','cyan', 'black']\n",
    "for k in range(0,4):\n",
    "    y = frame[frame[\"cluster\"]==k]\n",
    "    plt.scatter(y[\"Weight\"],y[\"Height\"],c=color[k])\n",
    "plt.show()"
   ]
  },
  {
   "cell_type": "markdown",
   "metadata": {
    "id": "t31wMly9RRJk"
   },
   "source": [
    "Среди преимуществ EM-алгоритма можно выделить следующие: наличие формальной статистической основы, линейное увеличение сложности при росте объема данных(масштабируемость), устойчивость к шумам и пропускам в данных, возможность построения желаемого числа кластеров. быстрая сходимость при удачной инициализации.\n",
    "\n",
    "Однако алгоритм имеет и ряд недостатков. Во-первых, предположение о нормальности всех переменных модели (измерений данных) является нереалистичным, что делает алгоритм эвристическим. Во-вторых, при неудачной инициализации сходимость алгоритма может оказаться медленной."
   ]
  }
 ],
 "metadata": {
  "colab": {
   "authorship_tag": "ABX9TyMBZXAYFEPasheQcjFvbzsj",
   "collapsed_sections": [],
   "name": "em-algorithm.ipynb",
   "provenance": []
  },
  "kernelspec": {
   "display_name": "Python 3",
   "language": "python",
   "name": "python3"
  },
  "language_info": {
   "codemirror_mode": {
    "name": "ipython",
    "version": 3
   },
   "file_extension": ".py",
   "mimetype": "text/x-python",
   "name": "python",
   "nbconvert_exporter": "python",
   "pygments_lexer": "ipython3",
   "version": "3.9.2"
  }
 },
 "nbformat": 4,
 "nbformat_minor": 1
}
