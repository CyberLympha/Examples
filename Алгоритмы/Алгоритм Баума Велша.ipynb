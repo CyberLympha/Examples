{
 "cells": [
  {
   "cell_type": "markdown",
   "metadata": {},
   "source": [
    "# Алгоритм Баума - Велша"
   ]
  },
  {
   "cell_type": "markdown",
   "metadata": {},
   "source": [
    "Алгоритм для нахождения неизвестных параметров скрытой марковской модели. Он использует алгоритм прямого-обратного хода и является частным случаем обобщённого EM-алгоритма."
   ]
  },
  {
   "cell_type": "markdown",
   "metadata": {},
   "source": [
    "## Описание"
   ]
  },
  {
   "cell_type": "markdown",
   "metadata": {},
   "source": [
    "Исходные данные: λ = (A, B, π) со случайными начальными условиями. "
   ]
  },
  {
   "cell_type": "markdown",
   "metadata": {},
   "source": [
    "Пусть Qt  — это дискретная случайная переменная, принимающая одно из N значений (1 … N). Будем полагать, что данная модель Маркова, определенная как P(Qt∣Qt−1) независима от t. Тогда можно задать P(Qt∣Qt−1) как независящую от времени стохастическую матрицу перемещений $$A=\\left\\{a_{ij}\\right\\}=\\rho\\left( Q_{t}=j \\mid Q_{t-1} = i \\right)$$ Особый случай для времени t=1 определяется начальным распределением $$\\pi_{i}=P\\left(Q_{1}=i\\right)$$.\n",
    "\n",
    "Будем считать, что мы в состоянии j в момент времени t, если Qt=j. Последовательность заданных состояний определяется как q={q1…qT}, где qt ∈ {1…N} является состоянием в момент времени t.\n",
    "\n",
    "Наблюдение может иметь одно из L возможных значений, Qt ∈ {o1…oL}. Вероятность заданного вектора наблюдений в момент времени t для состояния j определяется как $$b_{j}\\left(o_{t}\\right) = P\\left( O_{t} = o_{t} \\mid Q_{t} = j\\right) \\left(B=\\left\\{b_{ij}\\right\\} - это\\: матрица\\: L\\: на\\: N\\right)$$ Заданная последовательность наблюдений O выражается как\n",
    "$$O = \\left(O_{1}=o_{1}, \\: ...\\:, O_{T}=o_{T}\\right)$$\n",
    "\n",
    "Следовательно, мы можем описать скрытую модель Маркова с помощью λ=(A,B,π). При заданном векторе наблюдений O алгоритм Баума-Велша находит $$\\lambda^{*} = \\max_{\\lambda} P\\left(O\\mid\\lambda\\right)$$  λ максимизирует вероятность наблюдений O.\n",
    "\n",
    "\n"
   ]
  },
  {
   "cell_type": "markdown",
   "metadata": {},
   "source": [
    "## Реализация на python"
   ]
  },
  {
   "cell_type": "code",
   "execution_count": 5,
   "metadata": {},
   "outputs": [],
   "source": [
    "import pandas as pd\n",
    "import numpy as np"
   ]
  },
  {
   "cell_type": "markdown",
   "metadata": {},
   "source": [
    "### Прямая процедура"
   ]
  },
  {
   "cell_type": "code",
   "execution_count": 6,
   "metadata": {},
   "outputs": [],
   "source": [
    "def forward(V, a, b, initial_distribution):\n",
    "    alpha = np.zeros((V.shape[0], a.shape[0]))\n",
    "    alpha[0, :] = initial_distribution * b[:, V[0]]\n",
    " \n",
    "    for t in range(1, V.shape[0]):\n",
    "        for j in range(a.shape[0]):\n",
    "            alpha[t, j] = alpha[t - 1] @ a[:, j] * b[j, V[t]]\n",
    " \n",
    "    return alpha"
   ]
  },
  {
   "cell_type": "markdown",
   "metadata": {},
   "source": [
    "### Обратная процедура"
   ]
  },
  {
   "cell_type": "code",
   "execution_count": 7,
   "metadata": {},
   "outputs": [],
   "source": [
    "def backward(V, a, b):\n",
    "    beta = np.zeros((V.shape[0], a.shape[0]))\n",
    " \n",
    "    # beta от T = 1\n",
    "    beta[V.shape[0] - 1] = np.ones((a.shape[0]))\n",
    " \n",
    "    # Обратный цикл от T-2 до 0\n",
    "    for t in range(V.shape[0] - 2, -1, -1):\n",
    "        for j in range(a.shape[0]):\n",
    "            beta[t, j] = (beta[t + 1] * b[:, V[t + 1]]) @ a[j, :]\n",
    " \n",
    "    return beta"
   ]
  },
  {
   "cell_type": "markdown",
   "metadata": {},
   "source": [
    "### Алгоритм"
   ]
  },
  {
   "cell_type": "code",
   "execution_count": 8,
   "metadata": {},
   "outputs": [],
   "source": [
    "def baum_welch(V, a, b, initial_distribution, n_iter=100):\n",
    "    M = a.shape[0] # кол-во неизвестных параметров\n",
    "    T = len(V) # кол-во временных интервалов\n",
    "\n",
    "    for n in range(n_iter):\n",
    "        \n",
    "        alpha = forward(V, a, b, initial_distribution)\n",
    "        beta = backward(V, a, b)\n",
    "        # в каждой итерации вычисляем alpha и beta \n",
    "\n",
    "        xi = np.zeros((M, M, T - 1)) # 3 мерная матрица со сторонами i, j и T\n",
    "        for t in range(T - 1):\n",
    "            denominator = (alpha[t, :].T @ a * b[:, V[t + 1]].T) @ beta[t + 1, :]\n",
    "            # Берем скалярное произведение между alpha во время t и вероятностями перехода (матрицей a),\n",
    "            # которое умножаем на вероятности выделения для наблюдения O во время t, и, берем скалярное произведение на beta\n",
    "            for i in range(M):\n",
    "                numerator = alpha[t, i] * a[i, :] * b[:, V[t + 1]].T * beta[t + 1, :].T # Вычисление делителя для ξᵢⱼ(t)\n",
    "                xi[i, :, t] = numerator / denominator #  деление числителя на знаменатель \n",
    "                \n",
    "\n",
    "        gamma = np.sum(xi, axis=1) # Вычислим истинные значения gamma\n",
    "        \n",
    "        a = np.sum(xi, 2) / np.sum(gamma, axis=1).reshape((-1, 1)) # Делаем шаг максимилизации\n",
    "\n",
    "        # Добавляем дополнительный T элемент\n",
    "        gamma = np.hstack((gamma, np.sum(xi[:, :, T - 2], axis=0).reshape((-1, 1)))) # Добавлем последний элемент gamma\n",
    "        # еще раз, в качестве последнего\n",
    "        K = b.shape[1] # Кол-во уникальных наблюдений\n",
    "        denominator = np.sum(gamma, axis=1) # Вычисляем знаменатель, который включает суммирование gamma по размерности 1\n",
    "        for l in range(K):\n",
    "            b[:, l] = np.sum(gamma[:, V == l], axis=1) # Вычисляем bⱼₖ, перебирая уникальные наблюдаемые значения\n",
    "\n",
    "        b = np.divide(b, denominator.reshape((-1, 1))) # Последний шаг - разделение числитель на знаменатель\n",
    "\n",
    "    return a, b"
   ]
  },
  {
   "cell_type": "code",
   "execution_count": null,
   "metadata": {},
   "outputs": [],
   "source": []
  }
 ],
 "metadata": {
  "kernelspec": {
   "display_name": "Python 3",
   "language": "python",
   "name": "python3"
  },
  "language_info": {
   "codemirror_mode": {
    "name": "ipython",
    "version": 3
   },
   "file_extension": ".py",
   "mimetype": "text/x-python",
   "name": "python",
   "nbconvert_exporter": "python",
   "pygments_lexer": "ipython3",
   "version": "3.7.4"
  }
 },
 "nbformat": 4,
 "nbformat_minor": 4
}
