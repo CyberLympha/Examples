{
 "cells": [
  {
   "cell_type": "markdown",
   "source": [
    "# Сеть Коско\n",
    "\n",
    "Согласно [1] нейронная сеть Коско, или двунаправлленная ассоциативная память\n",
    "(Biderectional associative memory, BAM) — тип рекуррентой нейронной сети,\n",
    "предложеный Бартом Коско в [2].\n",
    "\n",
    "Интерпретация двунаправленной ассоциативной памяти с помощью нейронных сетей —\n",
    "двухслойная иерархия симметрично соединённых нейронов. Когда нейроны\n",
    "активируются, сеть быстро переходит в стабильное состояние реверберации с двумя\n",
    "паттернами. Стабильная ревербеация соответствует локальному минимуму энергии\n",
    "[2]. При обучении или использовании адаптивной сети Коско стабильная\n",
    "реверберация паттерна $\\left(A_i, B_i\\right)$ помещает информацию в\n",
    "долгосрочную память соединения $M_i$.\n",
    "\n",
    "Данная нейронная сеть состоит из двух слоёв [3]: количество $K$ нейронов\n",
    "первого слоя равно количеству бинарных входных элементов, а количество нейронов\n",
    " $M$ выходного слоя равно числу выходных элементов.\n",
    "\n",
    "Значения входных и выходных элементов принадлежат множеству $\\{-1; 1\\}$.\n",
    "\n",
    "Сеть Коско решает задачу класификации и позволяет определить класс входных\n",
    "данных из известных ей классов либо дать заключение, что вход не принадлежит ни\n",
    "одному из известных  классов.\n",
    "\n",
    "Данная нейронная сеть задаётся матрицей весов $W$ [5]. Входной вектор\n",
    "обрабатывается матрицей весов $W$, в результате и подаётся на вход функции\n",
    "активации $F$, в результате получаем выходной вектор $B=F\\left(AW\\right)$.\n",
    "Затем выход рекуррентно подаётся на вход сети: $A=F\\left(BW^T\\right)$. Данная\n",
    " операция повторяется до стабилизации входных и выходных значений."
   ],
   "metadata": {
    "collapsed": false
   }
  },
  {
   "cell_type": "markdown",
   "source": [
    "Ассоциации хранятся в матрице весов $W$.\n",
    "\n",
    "Если имеются обучающие выборки ассоциаций $A$ и $B$, то матрица весовых коэффициентов $W$ может быть найдена как сумма произведений:\n",
    "\n",
    "$$W=\\sum_i A_i^T B_i$$"
   ],
   "metadata": {
    "collapsed": false
   }
  },
  {
   "cell_type": "code",
   "execution_count": 1,
   "outputs": [],
   "source": [
    "import numpy as np\n",
    "import random\n",
    "from sklearn.datasets import fetch_openml\n",
    "from sklearn.model_selection import train_test_split\n",
    "import typing"
   ],
   "metadata": {
    "collapsed": false,
    "pycharm": {
     "name": "#%%\n"
    }
   }
  },
  {
   "cell_type": "markdown",
   "source": [
    "Реализация [5]"
   ],
   "metadata": {
    "collapsed": false
   }
  },
  {
   "cell_type": "code",
   "execution_count": 2,
   "outputs": [],
   "source": [
    "class BAM:\n",
    "    K: int\n",
    "    M: int\n",
    "    w: np.ndarray\n",
    "\n",
    "    def __init__(self, M: int, K: int):\n",
    "        \"\"\"\n",
    "\n",
    "        :param M: число выходных нейронов\n",
    "        :param K: число входных нейронов\n",
    "        \"\"\"\n",
    "        self.M = M\n",
    "        self.K = K\n",
    "\n",
    "    def predict(self, A: np.ndarray, depth=3, mode='encrypt') -> np.ndarray:\n",
    "        A1 = A\n",
    "        B1 = self.activation(A1.dot(self.w if mode == 'encrypt' else self.w.T))\n",
    "\n",
    "        while True:\n",
    "            # print(A1.shape)\n",
    "            # print(B1.shape)\n",
    "            A2 = self.activation(B1.dot(self.w.T if mode == 'encrypt' else self.w))\n",
    "            B2 = self.activation(A2.dot(self.w if mode == 'encrypt' else self.w.T))\n",
    "            if depth <= 0 or ((A1 == A2).all() and (B1 == B2).all()):\n",
    "                return np.vectorize(self.bipolar)(B2)\n",
    "            A1, B1 = A2, B2\n",
    "            depth -= 1\n",
    "\n",
    "    def activation(self, X: np.ndarray, l=10.0) -> np.ndarray:\n",
    "        return 2/(1+np.exp(-l*X))-1\n",
    "\n",
    "    def fit(self, A: list[np.ndarray], B:list[np.ndarray]) -> typing.NoReturn:\n",
    "        self.w = np.zeros((self.M, self.K))\n",
    "\n",
    "        for i in range(len(A)):\n",
    "            # print(A[i].shape)\n",
    "            # print(B[i].shape)\n",
    "            k = A[i].T.dot(B[i])\n",
    "            print(k)\n",
    "            # print(self.w.shape)\n",
    "            self.w += k\n",
    "            # if i > 1:\n",
    "            #     break\n",
    "\n",
    "    @staticmethod\n",
    "    def bipolar(x: float) -> int:\n",
    "        return 1 if x>0 else -1"
   ],
   "metadata": {
    "collapsed": false,
    "pycharm": {
     "name": "#%%\n"
    }
   }
  },
  {
   "cell_type": "markdown",
   "source": [
    "## Примеры использования\n",
    "\n",
    "### 1 Шифр подстановки\n",
    "\n",
    "Допустим необходимо закодировать сообщение \"00011011\" используя сследующую таблицу подстановки:\n",
    "\n",
    "00 -> 000\n",
    "01 -> 101\n",
    "10 -> 110\n",
    "11 -> 001"
   ],
   "metadata": {
    "collapsed": false
   }
  },
  {
   "cell_type": "code",
   "execution_count": 3,
   "outputs": [
    {
     "data": {
      "text/plain": "[-1, -1, -1]"
     },
     "execution_count": 3,
     "metadata": {},
     "output_type": "execute_result"
    }
   ],
   "source": [
    "[BAM.bipolar(int(i)) for i in \"000\"]"
   ],
   "metadata": {
    "collapsed": false,
    "pycharm": {
     "name": "#%%\n"
    }
   }
  },
  {
   "cell_type": "code",
   "execution_count": 4,
   "outputs": [],
   "source": [
    "X_train = [np.array([[BAM.bipolar(int(j)) for j in i]]) for i in [\"00\",\"01\",\"10\", \"11\"]]\n",
    "y_train = [np.array([[BAM.bipolar(int(j)) for j in i]]) for i in [\"000\",\"011\",\"101\", \"110\"]]"
   ],
   "metadata": {
    "collapsed": false,
    "pycharm": {
     "name": "#%%\n"
    }
   }
  },
  {
   "cell_type": "code",
   "execution_count": 5,
   "outputs": [
    {
     "name": "stdout",
     "output_type": "stream",
     "text": [
      "[[1 1 1]\n",
      " [1 1 1]]\n",
      "[[ 1 -1 -1]\n",
      " [-1  1  1]]\n",
      "[[ 1 -1  1]\n",
      " [-1  1 -1]]\n",
      "[[ 1  1 -1]\n",
      " [ 1  1 -1]]\n"
     ]
    }
   ],
   "source": [
    "bam = BAM(2, 3)\n",
    "bam.fit(X_train, y_train)"
   ],
   "metadata": {
    "collapsed": false,
    "pycharm": {
     "name": "#%%\n"
    }
   }
  },
  {
   "cell_type": "code",
   "execution_count": 6,
   "outputs": [],
   "source": [
    "def get_accuracy(nn: BAM, X:list[np.ndarray], y:list[np.ndarray], depth=3, /, verbose=True, mode = 'encrypt'):\n",
    "    MSE = 0\n",
    "    for i in range(len(y)):\n",
    "        yi = nn.predict(X[i], depth, mode=mode)\n",
    "        # print(y[i],yi)\n",
    "        try:\n",
    "            if (yi-y[i]).all:\n",
    "                MSE +=  1\n",
    "            elif verbose:\n",
    "                print(X[i], yi, y[i])\n",
    "        except:\n",
    "            if yi==y[i]:\n",
    "                MSE +=  1\n",
    "    return (MSE / len(y))\n",
    "\n",
    "\n",
    "# def get_MSE(nn, X, y, depth=3):\n",
    "#     MSE = 0.0\n",
    "#     for i in range(len(y)):\n",
    "#         yi = nn.predict(X[i], depth)[0]\n",
    "#         k: np.ndarray = yi - y[i][0]\n",
    "#         MSE += k.sum()**2\n",
    "#     return (MSE / len(y))**.5"
   ],
   "metadata": {
    "collapsed": false,
    "pycharm": {
     "name": "#%%\n"
    }
   }
  },
  {
   "cell_type": "code",
   "execution_count": 7,
   "outputs": [
    {
     "name": "stdout",
     "output_type": "stream",
     "text": [
      "train\n",
      "1.0\n"
     ]
    }
   ],
   "source": [
    "print(\"train\")\n",
    "for i in range(1,):\n",
    "    print(get_accuracy(bam, X_train, y_train, i))"
   ],
   "metadata": {
    "collapsed": false,
    "pycharm": {
     "name": "#%%\n"
    }
   }
  },
  {
   "cell_type": "markdown",
   "source": [
    "попробуем закодировать, а затем декодировать сообщение"
   ],
   "metadata": {
    "collapsed": false
   }
  },
  {
   "cell_type": "code",
   "execution_count": 8,
   "outputs": [],
   "source": [
    "message = [np.array([[BAM.bipolar(int(j)) for j in i]]) for i in [\"00\",\"01\",\"10\", \"11\", \"10\"]]"
   ],
   "metadata": {
    "collapsed": false,
    "pycharm": {
     "name": "#%%\n"
    }
   }
  },
  {
   "cell_type": "code",
   "execution_count": 9,
   "outputs": [
    {
     "data": {
      "text/plain": "[array([[-1, -1, -1]]),\n array([[-1,  1, -1]]),\n array([[ 1, -1, -1]]),\n array([[ 1,  1, -1]]),\n array([[ 1, -1, -1]])]"
     },
     "execution_count": 9,
     "metadata": {},
     "output_type": "execute_result"
    }
   ],
   "source": [
    "ciphred = [bam.predict(np.array(i), 3) for i in message]\n",
    "ciphred"
   ],
   "metadata": {
    "collapsed": false,
    "pycharm": {
     "name": "#%%\n"
    }
   }
  },
  {
   "cell_type": "code",
   "execution_count": 10,
   "outputs": [
    {
     "name": "stdout",
     "output_type": "stream",
     "text": [
      "[array([[-1, -1]]), array([[-1,  1]]), array([[ 1, -1]]), array([[1, 1]]), array([[ 1, -1]])]\n",
      "(1, 2) (1, 2)\n",
      "(1, 2) (1, 2)\n",
      "(1, 2) (1, 2)\n",
      "(1, 2) (1, 2)\n",
      "(1, 2) (1, 2)\n",
      "0\n"
     ]
    }
   ],
   "source": [
    "deciphred = [bam.predict(i, 3, mode='decrypt') for i in ciphred]\n",
    "print(deciphred)\n",
    "n_err = 0\n",
    "for i in range(len(message)):\n",
    "    print(message[i].shape, deciphred[i].shape)\n",
    "    n_err += abs(message[i][0,0]-deciphred[i][0,0])\n",
    "    n_err += abs(message[i][0,1]-deciphred[i][0,1])\n",
    "print(n_err)"
   ],
   "metadata": {
    "collapsed": false,
    "pycharm": {
     "name": "#%%\n"
    }
   }
  },
  {
   "cell_type": "markdown",
   "source": [
    "### 2\n",
    "\n",
    "Использование сети Коско для кодирования/декодирования зашумлённых сигналов.\n",
    "\n",
    "В работе [4] рассматривается использование сетей Коско для шифрования данных без пересылки ключа.\n",
    "\n",
    "Допустим необходимо переслать строку"
   ],
   "metadata": {
    "collapsed": false
   }
  },
  {
   "cell_type": "code",
   "execution_count": 50,
   "outputs": [],
   "source": [
    "text_to_transfer = \"A similar operation is to be applied on the receiver side as well, the integer value is to be fed to the inverse g(x) function and the value thus obtained is used to define the target values, than dot operation between the targets formed and transform of key provides us with the required input data. It is converted from binary to ASCII values and finally to the corresponding character. Hence we successfully created encrypted data and later decrypted it at receiver side itself, without transferring the data itself. The algorithm can be summarized as follows:\""
   ],
   "metadata": {
    "collapsed": false,
    "pycharm": {
     "name": "#%%\n"
    }
   }
  },
  {
   "cell_type": "markdown",
   "source": [
    "Договоримся на сторонах о функции `g(s)`, например:"
   ],
   "metadata": {
    "collapsed": false,
    "pycharm": {
     "name": "#%% md\n"
    }
   }
  },
  {
   "cell_type": "code",
   "execution_count": 51,
   "outputs": [],
   "source": [
    "def g(s):\n",
    "    return 2*s**2+3*s+5"
   ],
   "metadata": {
    "collapsed": false,
    "pycharm": {
     "name": "#%%\n"
    }
   }
  },
  {
   "cell_type": "markdown",
   "source": [
    "**На стороне отправителя** необходимо выполнить следующие операции:\n",
    "\n",
    "Выберем число бит шифрованого текста, коорым хотим кодировать один бит исходного текста, например"
   ],
   "metadata": {
    "collapsed": false,
    "pycharm": {
     "name": "#%% md\n"
    }
   }
  },
  {
   "cell_type": "code",
   "execution_count": 52,
   "outputs": [
    {
     "data": {
      "text/plain": "563"
     },
     "execution_count": 52,
     "metadata": {},
     "output_type": "execute_result"
    }
   ],
   "source": [
    "s = len(text_to_transfer)\n",
    "\n",
    "t = s\n",
    "while t < 9:# Возможно только если s==2\n",
    "    t+=s\n",
    "t"
   ],
   "metadata": {
    "collapsed": false,
    "pycharm": {
     "name": "#%%\n"
    }
   }
  },
  {
   "cell_type": "markdown",
   "source": [
    "Сформируем единичную матрицу порядка `t`:"
   ],
   "metadata": {
    "collapsed": false,
    "pycharm": {
     "name": "#%% md\n"
    }
   }
  },
  {
   "cell_type": "code",
   "execution_count": 53,
   "outputs": [],
   "source": [
    "out = np.eye(t).reshape(t,t,1)"
   ],
   "metadata": {
    "collapsed": false,
    "pycharm": {
     "name": "#%%\n"
    }
   }
  },
  {
   "cell_type": "markdown",
   "source": [
    "переведём сообщение в двоичный вид, использую s бит на символ"
   ],
   "metadata": {
    "collapsed": false,
    "pycharm": {
     "name": "#%% md\n"
    }
   }
  },
  {
   "cell_type": "code",
   "execution_count": 54,
   "outputs": [],
   "source": [
    "input_msg: list[int] = []\n",
    "for ii in text_to_transfer:\n",
    "    input_msg += [int(i) for i in bin(ord(ii))[2:].zfill(s)]"
   ],
   "metadata": {
    "collapsed": false,
    "pycharm": {
     "name": "#%%\n"
    }
   }
  },
  {
   "cell_type": "code",
   "execution_count": 55,
   "outputs": [],
   "source": [
    "col = len(input_msg) // t\n",
    "input_message: np.ndarray = np.array(input_msg).reshape((t, col,1))"
   ],
   "metadata": {
    "collapsed": false,
    "pycharm": {
     "name": "#%%\n"
    }
   }
  },
  {
   "cell_type": "markdown",
   "source": [
    "Динамически генерируем ключ"
   ],
   "metadata": {
    "collapsed": false,
    "pycharm": {
     "name": "#%% md\n"
    }
   }
  },
  {
   "cell_type": "code",
   "execution_count": 56,
   "outputs": [
    {
     "name": "stdout",
     "output_type": "stream",
     "text": [
      "1\n"
     ]
    }
   ],
   "source": [
    "num = np.random.randint(1,5)\n",
    "out = np.roll(out, num, 0)\n",
    "print(num)"
   ],
   "metadata": {
    "collapsed": false,
    "pycharm": {
     "name": "#%%\n"
    }
   }
  },
  {
   "cell_type": "markdown",
   "source": [
    "Рассчитаем матрицу весовых коэффициентов"
   ],
   "metadata": {
    "collapsed": false,
    "pycharm": {
     "name": "#%% md\n"
    }
   }
  },
  {
   "cell_type": "code",
   "execution_count": 57,
   "outputs": [],
   "source": [
    "weight = np.zeros((col, t))\n",
    "\n",
    "for i in range(t):\n",
    "    k = np.dot(input_message[i], out[i].T)\n",
    "    weight += k"
   ],
   "metadata": {
    "collapsed": false,
    "pycharm": {
     "name": "#%%\n"
    }
   }
  },
  {
   "cell_type": "markdown",
   "source": [
    "Передаём получателю ключ `g(t)`, `num` и матрицу `weight`.\n",
    "\n",
    "На этапе разработки прогаммы значение `t` легко получить из `w.shape`, однако при передаче по сети матрица передаётся в линейном виде последовательностью t*col символов, так как результат - состовное число, которое может иметь несколько разложений на множители.\n",
    "\n",
    "Чтобы найти `t`, необходимо знать функцию `g(t)`."
   ],
   "metadata": {
    "collapsed": false,
    "pycharm": {
     "name": "#%% md\n"
    }
   }
  },
  {
   "cell_type": "code",
   "execution_count": 58,
   "outputs": [],
   "source": [
    "key1=g(t)\n",
    "key2=g(num)\n",
    "key3=weight"
   ],
   "metadata": {
    "collapsed": false,
    "pycharm": {
     "name": "#%%\n"
    }
   }
  },
  {
   "cell_type": "markdown",
   "source": [
    "***\n"
   ],
   "metadata": {
    "collapsed": false,
    "pycharm": {
     "name": "#%% md\n"
    }
   }
  },
  {
   "cell_type": "markdown",
   "source": [
    "На стороне получателя:\n",
    "\n",
    "1. Получим `t` из `key1` и `num` из `key2`"
   ],
   "metadata": {
    "collapsed": false,
    "pycharm": {
     "name": "#%% md\n"
    }
   }
  },
  {
   "cell_type": "code",
   "execution_count": 59,
   "outputs": [],
   "source": [
    "D1=(9-8*(2-key1))**.5\n",
    "\n",
    "t1 = (-3-D1)/4\n",
    "t2 = (-3+D1)/4\n",
    "\n",
    "t = int(t1 if t1>0 and t1.is_integer() else t2)\n",
    "\n",
    "\n",
    "D2=(9-8*(2-key2))**.5\n",
    "\n",
    "num1 = (-3-D2)/4\n",
    "num2 = (-3+D2)/4\n",
    "\n",
    "num = int(num1 if num1>0 and num1.is_integer() else num2)"
   ],
   "metadata": {
    "collapsed": false,
    "pycharm": {
     "name": "#%%\n"
    }
   }
  },
  {
   "cell_type": "code",
   "execution_count": 60,
   "outputs": [
    {
     "name": "stdout",
     "output_type": "stream",
     "text": [
      "563 1\n"
     ]
    }
   ],
   "source": [
    "print(t,num)"
   ],
   "metadata": {
    "collapsed": false,
    "pycharm": {
     "name": "#%%\n"
    }
   }
  },
  {
   "cell_type": "code",
   "source": [
    "out_r: np.ndarray = np.eye(t).reshape(t, t, 1)\n",
    "out_r = np.roll(out_r, num, 0)"
   ],
   "metadata": {
    "collapsed": false,
    "pycharm": {
     "name": "#%%\n"
    }
   },
   "execution_count": 61,
   "outputs": []
  },
  {
   "cell_type": "markdown",
   "source": [
    "Расшифровываем сообщение:"
   ],
   "metadata": {
    "collapsed": false,
    "pycharm": {
     "name": "#%% md\n"
    }
   }
  },
  {
   "cell_type": "code",
   "execution_count": 64,
   "outputs": [],
   "source": [
    "\n",
    "msg = []\n",
    "\n",
    "for i in range(t):\n",
    "    k = np.dot(weight, out_r[i]).T\n",
    "    msg.append([int(i) for i in k.tolist()[0]])"
   ],
   "metadata": {
    "collapsed": false,
    "pycharm": {
     "name": "#%%\n"
    }
   }
  },
  {
   "cell_type": "markdown",
   "source": [
    "Декодируем байты в символы:"
   ],
   "metadata": {
    "collapsed": false,
    "pycharm": {
     "name": "#%% md\n"
    }
   }
  },
  {
   "cell_type": "code",
   "execution_count": 67,
   "outputs": [
    {
     "data": {
      "text/plain": "'A similar operation is to be applied on the receiver side as well, the integer value is to be fed to the inverse g(x) function and the value thus obtained is used to define the target values, than dot operation between the targets formed and transform of key provides us with the required input data. It is converted from binary to ASCII values and finally to the corresponding character. Hence we successfully created encrypted data and later decrypted it at receiver side itself, without transferring the data itself. The algorithm can be summarized as follows:'"
     },
     "execution_count": 67,
     "metadata": {},
     "output_type": "execute_result"
    }
   ],
   "source": [
    "k = []\n",
    "for i in msg:\n",
    "    n = 0\n",
    "    for j in i:\n",
    "        n = 2 * n + j\n",
    "    k.append(chr(n))\n",
    "print(''.join(k))"
   ],
   "metadata": {
    "collapsed": false,
    "pycharm": {
     "name": "#%%\n"
    }
   }
  },
  {
   "cell_type": "markdown",
   "source": [
    "В результате получаем исходное сообщение."
   ],
   "metadata": {
    "collapsed": false,
    "pycharm": {
     "name": "#%% md\n"
    }
   }
  },
  {
   "cell_type": "markdown",
   "source": [
    "В данном примере кодируется весь текст, однако на практике возможно применение разделение текста на сегменты переменной длины, что затруднит декодирование текста третьими лицами.\n",
    "\n",
    "Также сам текст сообщения не передаётся, а передаётся лишь матрица весов нейронной сети."
   ],
   "metadata": {
    "collapsed": false
   }
  },
  {
   "cell_type": "markdown",
   "source": [
    "## Литература\n",
    "\n",
    "1. Нейронная сеть Коско // Википедия. 2019. URL: https://ru.wikipedia.org/w/index.php?title=%D0%9D%D0%B5%D0%B9%D1%80%D0%BE%D0%BD%D0%BD%D0%B0%D1%8F_%D1%81%D0%B5%D1%82%D1%8C_%D0%9A%D0%BE%D1%81%D0%BA%D0%BE&oldid=99902385 (дата доступа: 05.07.2021).\n",
    "\n",
    "2. Kosko B. Bidirectional associative memories // IEEE Trans. Syst., Man, Cybern. 1988. Vol. 18, № 1. P. 49–60. URL: http://ieeexplore.ieee.org/document/87054/ (accessed: 05.07.2021).\n",
    "\n",
    "3. Гетероассоциативная память // Искусственный интеллект, искусственный разум, системы искусственного интеллекта [Электронный ресурс]. URL: https://neuronus.com/theory/nn/961-geteroassotsiativnaya-pamyat.html (дата обращения: 05.07.2021).\n",
    "\n",
    "4. Pandey K. Bidirectional Associative Memory Neural Network for Data Encryption and Decryption // International Journal for Research in Applied Science and Engineering Technology. 2018. Vol. 6. P. 1744–1750. doi:10.22214/ijraset.2018.6257.\n",
    "\n",
    "5. Яхъяева Г.Э. Нечеткие множества и нейронные сети: учеб. пособие. Москва: Интернет-Университет Информ. Технологий БИНОМ. Лаб. знаний, 2006. 314 p. URL: https://intuit.ru/studies/courses/88/88/info (дата обращения: 08.07.2021)."
   ],
   "metadata": {
    "collapsed": false
   }
  }
 ],
 "metadata": {
  "kernelspec": {
   "display_name": "Python 3",
   "language": "python",
   "name": "python3"
  },
  "language_info": {
   "codemirror_mode": {
    "name": "ipython",
    "version": 3
   },
   "file_extension": ".py",
   "mimetype": "text/x-python",
   "name": "python",
   "nbconvert_exporter": "python",
   "pygments_lexer": "ipython3",
   "version": "3.9.5"
  }
 },
 "nbformat": 4,
 "nbformat_minor": 1
}