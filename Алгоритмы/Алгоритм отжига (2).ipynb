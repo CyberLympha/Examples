{
 "cells": [
  {
   "cell_type": "markdown",
   "id": "2d39408f",
   "metadata": {},
   "source": [
    "# Алгоритм отжига\n",
    "**Алгоритм имитации отжига** (англ. Simulated annealing) — общий алгоритмический метод решения задачи глобальной оптимизации, особенно дискретной и комбинаторной оптимизации.\n",
    "\n",
    "Алгоритм основывается на имитации физического процесса, который происходит при кристаллизации вещества, в том числе при отжиге металлов. Предполагается, что атомы уже выстроились в кристаллическую решётку, но ещё допустимы переходы отдельных атомов из одной ячейки в другую. Предполагается, что процесс протекает при постепенно понижающейся температуре. \n",
    "\n",
    "Алгоритм позволяет нам с большой вероятностью избежать «застревания» в локальном минимуме.\n"
   ]
  },
  {
   "cell_type": "markdown",
   "id": "ab3cb6ed",
   "metadata": {},
   "source": [
    "## Пример использования алгоритма отжига\n"
   ]
  },
  {
   "cell_type": "markdown",
   "id": "1e678b55",
   "metadata": {},
   "source": [
    "Импортирование библиотек"
   ]
  },
  {
   "cell_type": "code",
   "execution_count": 171,
   "id": "3873ded4",
   "metadata": {},
   "outputs": [],
   "source": [
    "from numpy import asarray\n",
    "from numpy import exp\n",
    "from numpy.random import randn\n",
    "from numpy.random import rand\n",
    "from numpy.random import seed\n",
    "from matplotlib import pyplot"
   ]
  },
  {
   "cell_type": "markdown",
   "id": "8afac436",
   "metadata": {},
   "source": [
    "Входные данные:"
   ]
  },
  {
   "cell_type": "markdown",
   "id": "c29c1b75",
   "metadata": {},
   "source": [
    "Seed - генератор псевдослучайных чисел;"
   ]
  },
  {
   "cell_type": "markdown",
   "id": "ca5814ac",
   "metadata": {},
   "source": [
    "bounds - границы;"
   ]
  },
  {
   "cell_type": "markdown",
   "id": "13822110",
   "metadata": {},
   "source": [
    "n_iterations - количество итераций;"
   ]
  },
  {
   "cell_type": "markdown",
   "id": "411a0036",
   "metadata": {},
   "source": [
    "step_size - максимальный шаг;"
   ]
  },
  {
   "cell_type": "markdown",
   "id": "92ac9499",
   "metadata": {},
   "source": [
    "temp - начальная температура;"
   ]
  },
  {
   "cell_type": "code",
   "execution_count": 172,
   "id": "47164149",
   "metadata": {},
   "outputs": [],
   "source": [
    "seed(1)\n",
    "bounds = asarray([[-5.0, 5.0]])\n",
    "n_iterations = 1000\n",
    "step_size = 0.1\n",
    "temp = 10"
   ]
  },
  {
   "cell_type": "markdown",
   "id": "c4b4bc16",
   "metadata": {},
   "source": [
    "Обозначим основную функцию. Будем использовать функцию x^2"
   ]
  },
  {
   "cell_type": "code",
   "execution_count": 173,
   "id": "0fd7a0f9",
   "metadata": {},
   "outputs": [],
   "source": [
    "def objective(x):\n",
    "\treturn x[0]**2.0"
   ]
  },
  {
   "cell_type": "markdown",
   "id": "0ce22f6a",
   "metadata": {},
   "source": [
    "Начало алгоритма с генерацией и оцениванием начальной точки"
   ]
  },
  {
   "cell_type": "markdown",
   "id": "1ff1795d",
   "metadata": {},
   "source": [
    "Запуск алгоритма и вычисление лучших точек"
   ]
  },
  {
   "cell_type": "code",
   "execution_count": 174,
   "id": "f17c8540",
   "metadata": {},
   "outputs": [],
   "source": [
    "def simulated_annealing(objective, bounds, n_iterations, step_size, temp):\n",
    "\tbest = bounds[:, 0] + rand(len(bounds)) * (bounds[:, 1] - bounds[:, 0])\n",
    "\tbest_eval = objective(best)\n",
    "\tcurr, curr_eval = best, best_eval\n",
    "\tscores = list()\n",
    "\tfor i in range(n_iterations):\n",
    "\t\tcandidate = curr + randn(len(bounds)) * step_size\n",
    "\t\tcandidate_eval = objective(candidate)\n",
    "\t\tif candidate_eval < best_eval:\n",
    "\t\t\tbest, best_eval = candidate, candidate_eval\n",
    "\t\t\tscores.append(best_eval)\n",
    "\t\t\tprint('>%d f(%s) = %.5f' % (i, best, best_eval))\n",
    "\t\tdiff = candidate_eval - curr_eval\n",
    "\t\tt = temp / float(i + 1)\n",
    "\t\tmetropolis = exp(-diff / t)\n",
    "\t\tif diff < 0 or rand() < metropolis:\n",
    "\t\t\tcurr, curr_eval = candidate, candidate_eval\n",
    "\treturn [best, best_eval, scores]"
   ]
  },
  {
   "cell_type": "markdown",
   "id": "b34fe907",
   "metadata": {},
   "source": [
    "Значения для графика"
   ]
  },
  {
   "cell_type": "code",
   "execution_count": 176,
   "id": "f9a9d04b",
   "metadata": {},
   "outputs": [
    {
     "name": "stdout",
     "output_type": "stream",
     "text": [
      ">34 f([-0.78753544]) = 0.62021\n",
      ">35 f([-0.76914239]) = 0.59158\n",
      ">37 f([-0.68574854]) = 0.47025\n",
      ">39 f([-0.64797564]) = 0.41987\n",
      ">40 f([-0.58914623]) = 0.34709\n",
      ">41 f([-0.55446029]) = 0.30743\n",
      ">42 f([-0.41775702]) = 0.17452\n",
      ">43 f([-0.35038542]) = 0.12277\n",
      ">50 f([-0.15799045]) = 0.02496\n",
      ">66 f([-0.11089772]) = 0.01230\n",
      ">67 f([-0.09238208]) = 0.00853\n",
      ">72 f([-0.09145261]) = 0.00836\n",
      ">75 f([-0.05129162]) = 0.00263\n",
      ">93 f([-0.02854417]) = 0.00081\n",
      ">144 f([0.00864136]) = 0.00007\n",
      ">149 f([0.00753953]) = 0.00006\n",
      ">167 f([-0.00640394]) = 0.00004\n",
      ">225 f([-0.00044965]) = 0.00000\n",
      ">503 f([-0.00036261]) = 0.00000\n",
      ">512 f([0.00013605]) = 0.00000\n",
      "Конец\n",
      "f([0.00013605]) = 0.000000\n"
     ]
    }
   ],
   "source": [
    "best, score, scores = simulated_annealing(objective, bounds, n_iterations, step_size, temp)\n",
    "print('Конец')\n",
    "print('f(%s) = %f' % (best, score))"
   ]
  },
  {
   "cell_type": "markdown",
   "id": "ee8d2d2c",
   "metadata": {},
   "source": [
    "График"
   ]
  },
  {
   "cell_type": "code",
   "execution_count": 175,
   "id": "d7c102b3",
   "metadata": {},
   "outputs": [
    {
     "data": {
      "image/png": "[encoded data removed]",
      "text/plain": [
       "<Figure size 432x288 with 1 Axes>"
      ]
     },
     "metadata": {
      "needs_background": "light"
     },
     "output_type": "display_data"
    }
   ],
   "source": [
    "pyplot.plot(scores, '.-')\n",
    "pyplot.xlabel('Improvement Number')\n",
    "pyplot.ylabel('Evaluation f(x)')\n",
    "pyplot.show()"
   ]
  }
 ],
 "metadata": {
  "kernelspec": {
   "display_name": "Python 3",
   "language": "python",
   "name": "python3"
  },
  "language_info": {
   "codemirror_mode": {
    "name": "ipython",
    "version": 3
   },
   "file_extension": ".py",
   "mimetype": "text/x-python",
   "name": "python",
   "nbconvert_exporter": "python",
   "pygments_lexer": "ipython3",
   "version": "3.8.8"
  }
 },
 "nbformat": 4,
 "nbformat_minor": 5
}
