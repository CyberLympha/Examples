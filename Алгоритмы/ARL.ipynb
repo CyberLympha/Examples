{
 "cells": [
  {
   "cell_type": "markdown",
   "id": "harmful-hammer",
   "metadata": {},
   "source": [
    "# Associations Rules Learning"
   ]
  },
  {
   "cell_type": "code",
   "execution_count": 2,
   "id": "possible-battlefield",
   "metadata": {},
   "outputs": [],
   "source": [
    "import pandas as pd\n",
    "import numpy as np"
   ]
  },
  {
   "cell_type": "code",
   "execution_count": 13,
   "id": "organic-brooklyn",
   "metadata": {},
   "outputs": [
    {
     "data": {
      "text/html": [
       "<div>\n",
       "<style scoped>\n",
       "    .dataframe tbody tr th:only-of-type {\n",
       "        vertical-align: middle;\n",
       "    }\n",
       "\n",
       "    .dataframe tbody tr th {\n",
       "        vertical-align: top;\n",
       "    }\n",
       "\n",
       "    .dataframe thead th {\n",
       "        text-align: right;\n",
       "    }\n",
       "</style>\n",
       "<table border=\"1\" class=\"dataframe\">\n",
       "  <thead>\n",
       "    <tr style=\"text-align: right;\">\n",
       "      <th></th>\n",
       "      <th>Молоко</th>\n",
       "      <th>Вода</th>\n",
       "      <th>Сахар</th>\n",
       "    </tr>\n",
       "  </thead>\n",
       "  <tbody>\n",
       "    <tr>\n",
       "      <th>0</th>\n",
       "      <td>1</td>\n",
       "      <td>1</td>\n",
       "      <td>0</td>\n",
       "    </tr>\n",
       "    <tr>\n",
       "      <th>1</th>\n",
       "      <td>0</td>\n",
       "      <td>1</td>\n",
       "      <td>1</td>\n",
       "    </tr>\n",
       "    <tr>\n",
       "      <th>2</th>\n",
       "      <td>1</td>\n",
       "      <td>1</td>\n",
       "      <td>1</td>\n",
       "    </tr>\n",
       "    <tr>\n",
       "      <th>3</th>\n",
       "      <td>0</td>\n",
       "      <td>0</td>\n",
       "      <td>1</td>\n",
       "    </tr>\n",
       "    <tr>\n",
       "      <th>4</th>\n",
       "      <td>0</td>\n",
       "      <td>1</td>\n",
       "      <td>1</td>\n",
       "    </tr>\n",
       "  </tbody>\n",
       "</table>\n",
       "</div>"
      ],
      "text/plain": [
       "   Молоко  Вода  Сахар\n",
       "0       1     1      0\n",
       "1       0     1      1\n",
       "2       1     1      1\n",
       "3       0     0      1\n",
       "4       0     1      1"
      ]
     },
     "execution_count": 13,
     "metadata": {},
     "output_type": "execute_result"
    }
   ],
   "source": [
    "np.random.seed(1)\n",
    "m = np.random.choice([0,1], size=(5,3))\n",
    "df = pd.DataFrame(m, columns=['Молоко','Вода','Сахар'])\n",
    "df"
   ]
  },
  {
   "cell_type": "markdown",
   "id": "fitted-cable",
   "metadata": {},
   "source": [
    "# Основные метрики"
   ]
  },
  {
   "cell_type": "markdown",
   "id": "intense-delhi",
   "metadata": {},
   "source": [
    "## Support (поддержка)\n",
    "\n",
    "$$\n",
    "supp (\\text{вода} \\vee \\text{сахар}) = \\frac{\\text{сколько раз встретилось сочетание}}{\\text{сколько всего сэмплов}}\n",
    "=\n",
    "\\frac{3}{5}\n",
    "$$\n"
   ]
  },
  {
   "cell_type": "markdown",
   "id": "insured-bread",
   "metadata": {},
   "source": [
    "## Confidence (уверенность)\n",
    "\n",
    "Кто покупает сахар, тот покупает и воду.\n",
    "\n",
    "$$\n",
    "confidence (\\text{вода} \\vee \\text{сахар}) = \\frac{supp(\\text{вода} \\vee \\text{сахар})}{supp(\\text{вода})}\n",
    "=\n",
    "\\frac{\\frac{3}{5}}{\\frac{4}{5}} = \\frac{3}{4}\n",
    "$$\n"
   ]
  },
  {
   "cell_type": "markdown",
   "id": "animal-dispute",
   "metadata": {},
   "source": [
    "## Lift (независимость)\n",
    "\n",
    "$$\n",
    "lift (\\text{вода} \\vee \\text{сахар}) = \n",
    "\\frac{supp(\\text{вода} \\vee \\text{сахар})}{supp(\\text{вода}) supp(\\text{сахар})}\n",
    "=\n",
    "\\frac{\\frac{3}{5}}{\\frac{4}{5}\\frac{4}{5}}\n",
    "=\\frac{15}{16}\n",
    "=\n",
    "\\frac{p(\\text{вода}|\\text{сахар})}{p(\\text{вода})}\n",
    "=\n",
    "\\frac{\n",
    "\\frac{3}{4}\n",
    "}\n",
    "{\n",
    "\\frac{4}{5}\n",
    "}\n",
    "$$\n"
   ]
  },
  {
   "cell_type": "markdown",
   "id": "joint-output",
   "metadata": {},
   "source": [
    "## Conviction (убедительность)\n",
    "\n",
    "$$\n",
    "conv (\\text{вода} \\vee \\text{сахар}) = \n",
    "\\frac{1 - supp(\\text{вода}}{1 - conf(\\text{вода} \\vee \\text{сахар})}\n",
    "=\n",
    "\\frac{1 - \\frac{4}{5}}{1 - \\frac{3}{4}}\n",
    "=\n",
    "\\frac{\\frac{1}{5}}{\\frac{1}{4}}\n",
    "=\n",
    "\\frac{4}{5}\n",
    "$$\n"
   ]
  },
  {
   "cell_type": "markdown",
   "id": "norman-convenience",
   "metadata": {},
   "source": [
    "# Алгоритмы"
   ]
  },
  {
   "cell_type": "markdown",
   "id": "flush-visibility",
   "metadata": {},
   "source": [
    "## брутфорс"
   ]
  },
  {
   "cell_type": "markdown",
   "id": "after-consolidation",
   "metadata": {},
   "source": [
    "## брутфорс"
   ]
  },
  {
   "cell_type": "markdown",
   "id": "adopted-commonwealth",
   "metadata": {},
   "source": [
    "## брутфорс"
   ]
  },
  {
   "cell_type": "markdown",
   "id": "unavailable-framework",
   "metadata": {},
   "source": [
    "## брутфорс"
   ]
  },
  {
   "cell_type": "code",
   "execution_count": null,
   "id": "amended-schedule",
   "metadata": {},
   "outputs": [],
   "source": []
  },
  {
   "cell_type": "code",
   "execution_count": null,
   "id": "digital-customs",
   "metadata": {},
   "outputs": [],
   "source": []
  }
 ],
 "metadata": {
  "kernelspec": {
   "display_name": "Python 3",
   "language": "python",
   "name": "python3"
  },
  "language_info": {
   "codemirror_mode": {
    "name": "ipython",
    "version": 3
   },
   "file_extension": ".py",
   "mimetype": "text/x-python",
   "name": "python",
   "nbconvert_exporter": "python",
   "pygments_lexer": "ipython3",
   "version": "3.9.2"
  }
 },
 "nbformat": 4,
 "nbformat_minor": 5
}
