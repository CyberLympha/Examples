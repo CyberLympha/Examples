{
 "cells": [
  {
   "cell_type": "code",
   "execution_count": 1,
   "id": "brief-landing",
   "metadata": {},
   "outputs": [],
   "source": [
    "import gym\n",
    "import acme\n",
    "import acme.tf.networks as networks\n",
    "import acme.agents.tf.r2d2 as r2d2\n",
    "import dm_env\n",
    "import functools\n",
    "import numpy as np\n",
    "import imageio\n",
    "import base64\n",
    "import IPython"
   ]
  },
  {
   "cell_type": "code",
   "execution_count": 2,
   "id": "lyric-strength",
   "metadata": {},
   "outputs": [],
   "source": [
    "level = 'TimePilot-v4' # environment name \n",
    "num_episodes = 10_000 # maximum episodes \n",
    "max_episode_len = 10_000 # maximum length of one episode  "
   ]
  },
  {
   "cell_type": "code",
   "execution_count": 3,
   "id": "residential-moscow",
   "metadata": {},
   "outputs": [],
   "source": [
    "def make_environment(level, max_episode_len: int = None, evaluation: bool = False) -> dm_env.Environment:\n",
    "    env = gym.make(level, full_action_space=False) # Create an environment with a standard Gym function\n",
    "    if max_episode_len is None:\n",
    "        max_episode_len = 108000 if evaluation else 50000\n",
    "    return acme.wrappers.wrap_all(env, [ # Wrapper to bring Gym environment to Acme environment \n",
    "      acme.wrappers.GymAtariAdapter,\n",
    "      functools.partial(\n",
    "          acme.wrappers.AtariWrapper,\n",
    "          to_float=True,\n",
    "          max_episode_len=max_episode_len,\n",
    "          zero_discount_on_life_loss=True,\n",
    "      ),\n",
    "      acme.wrappers.SinglePrecisionWrapper, \n",
    "      acme.wrappers.ObservationActionRewardWrapper,  # Adds the previous action and reward to the new observation \n",
    "\n",
    "  ])"
   ]
  },
  {
   "cell_type": "code",
   "execution_count": 4,
   "id": "wired-demonstration",
   "metadata": {},
   "outputs": [],
   "source": [
    "def render(env) -> np.array:\n",
    "    return env.environment.render(mode='rgb_array')"
   ]
  },
  {
   "cell_type": "code",
   "execution_count": 5,
   "id": "growing-conviction",
   "metadata": {},
   "outputs": [],
   "source": [
    "def display_video(frames, filename=None):\n",
    "    filename = r'videos/{0}.mp4'.format(filename)\n",
    "    with imageio.get_writer(filename, fps=10) as video:\n",
    "        for frame in frames:\n",
    "            video.append_data(frame)\n",
    "    video = open(filename, 'rb').read()\n",
    "    b64_video = base64.b64encode(video)\n",
    "    video_tag = ('<video  width=\"640\" height=\"480\" controls alt=\"test\" '\n",
    "               'src=\"data:video/mp4;base64,{0}\">').format(b64_video.decode())\n",
    "    return IPython.display.HTML(video_tag)"
   ]
  },
  {
   "cell_type": "code",
   "execution_count": 6,
   "id": "maritime-implementation",
   "metadata": {},
   "outputs": [
    {
     "name": "stderr",
     "output_type": "stream",
     "text": [
      "/home/akozhevnikov/.local/lib/python3.9/site-packages/ale_py/roms/__init__.py:94: DeprecationWarning: Automatic importing of atari-py roms won't be supported in future releases of ale-py. Please migrate over to using `ale-import-roms` OR an ALE-supported ROM package. To make this warning disappear you can run `ale-import-roms --import-from-pkg atari_py.atari_roms`.For more information see: https://github.com/mgbellemare/Arcade-Learning-Environment#rom-management\n",
      "  _RESOLVED_ROMS = _resolve_roms()\n",
      "/home/akozhevnikov/.local/lib/python3.9/site-packages/gym/logger.py:34: UserWarning: \u001b[33mWARN: obs_type \"image\" should be replaced with the image type, one of: rgb, grayscale\u001b[0m\n",
      "  warnings.warn(colorize(\"%s: %s\" % (\"WARN\", msg % args), \"yellow\"))\n"
     ]
    }
   ],
   "source": [
    "env = make_environment(level, max_episode_len) # Creating an environment \n",
    "env_spec = acme.make_environment_spec(env) # get information about the environment (the size of the spaces of observations, actions, rewards...) "
   ]
  },
  {
   "cell_type": "code",
   "execution_count": 7,
   "id": "median-throat",
   "metadata": {},
   "outputs": [],
   "source": [
    "# Load the already prepared neural network architecture from Acme \n",
    "network = networks.R2D2AtariNetwork(env_spec.actions.num_values)\n",
    "# env_spec - environment information \n",
    "# network - neural network used as agent policy \n",
    "# burn_in_length - number of frames on which the hidden LSTM layer is initialized \n",
    "# trace_length - number of frames on which LSTM learns  \n",
    "# длина всей сохраняемой траектории = burn_in_length + trace_length\n",
    "agent = r2d2.R2D2(env_spec, network, burn_in_length=40, trace_length=40, replay_period=1)"
   ]
  },
  {
   "cell_type": "code",
   "execution_count": 8,
   "id": "elementary-specific",
   "metadata": {},
   "outputs": [
    {
     "name": "stdout",
     "output_type": "stream",
     "text": [
      "INFO:tensorflow:Assets written to: /home/akozhevnikov/acme/394911ee-5454-11ec-9912-87ea4df561ef/snapshots/network/assets\n"
     ]
    },
    {
     "name": "stderr",
     "output_type": "stream",
     "text": [
      "INFO:tensorflow:Assets written to: /home/akozhevnikov/acme/394911ee-5454-11ec-9912-87ea4df561ef/snapshots/network/assets\n"
     ]
    }
   ],
   "source": [
    "loop = acme.EnvironmentLoop(env, agent)\n",
    "loop.run(num_episodes=num_episodes) # start the learning loop"
   ]
  },
  {
   "cell_type": "code",
   "execution_count": 9,
   "id": "matched-egypt",
   "metadata": {},
   "outputs": [],
   "source": [
    "frames = []\n",
    "num_steps = max_episode_len\n",
    "timestep = env.reset() # Сбрасываем состояние среды на изначальное\n",
    "\n",
    "for _ in range(num_steps):\n",
    "    frames.append(render(env)) # Save the current frame \n",
    "    if timestep.step_type == dm_env.StepType.LAST: # If the game is over - stop \n",
    "        break\n",
    "    action = agent.select_action(timestep.observation) # Agent chooses a new action \n",
    "    timestep = env.step(action) #  get a new state from the environment depending on the action of the agent "
   ]
  },
  {
   "cell_type": "code",
   "execution_count": 10,
   "id": "superior-rhythm",
   "metadata": {},
   "outputs": [
    {
     "name": "stderr",
     "output_type": "stream",
     "text": [
      "WARNING:imageio_ffmpeg:IMAGEIO FFMPEG_WRITER WARNING: input image is not divisible by macro_block_size=16, resizing from (160, 210) to (160, 224) to ensure video compatibility with most codecs and players. To prevent resizing, make your input image divisible by the macro_block_size or set the macro_block_size to 1 (risking incompatibility).\n"
     ]
    },
    {
     "data": {
      "text/html": [
       "<video  width=\"640\" height=\"480\" controls alt=\"test\" src=\"data:video/mp4;base64,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\">"
      ],
      "text/plain": [
       "<IPython.core.display.HTML object>"
      ]
     },
     "execution_count": 10,
     "metadata": {},
     "output_type": "execute_result"
    }
   ],
   "source": [
    "display_video(frames, filename='test')"
   ]
  },
  {
   "cell_type": "code",
   "execution_count": null,
   "id": "beginning-bradford",
   "metadata": {},
   "outputs": [],
   "source": []
  }
 ],
 "metadata": {
  "kernelspec": {
   "display_name": "Python 3",
   "language": "python",
   "name": "python3"
  },
  "language_info": {
   "codemirror_mode": {
    "name": "ipython",
    "version": 3
   },
   "file_extension": ".py",
   "mimetype": "text/x-python",
   "name": "python",
   "nbconvert_exporter": "python",
   "pygments_lexer": "ipython3",
   "version": "3.9.2"
  }
 },
 "nbformat": 4,
 "nbformat_minor": 5
}
