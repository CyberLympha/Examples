{
 "cells": [
  {
   "cell_type": "markdown",
   "metadata": {
    "id": "YE1NsVj7J0Er"
   },
   "source": [
    "# MuseGAN\n",
    "[Hao-Wen Dong](https://salu133445.github.io/), [Wen-Yi Hsiao](https://github.com/wayne391), [ Li-Chia Yang](https://richardyang40148.github.io/), [Yi-Hsuan Yang](http://mac.citi.sinica.edu.tw/~yang/)\n",
    "\n",
    "MuseGAN — это проект по генерации музыки. Цель авторов этого проекта в создании полифонической (с равноправием отдельных \"треков\" (инструментов) в мультитрековой музыке) музыки из нескольких треков (инструментов). \n",
    "\n",
    "Предоставленные модели могут генерировать музыку, как с нуля, так и с трека данного пользователем. Нам понадобится второй способ.\n",
    "\n",
    "Модель натренирована с данных, собранных из [Lakh Pianoroll Dataset](https://salu133445.github.io/lakh-pianoroll-dataset/) чтобы генерировать куски популярных песен, состоящих из треков баса, ударных, гитары, пианино и струнных."
   ]
  },
  {
   "cell_type": "markdown",
   "metadata": {
    "id": "iXzesDf6J0Ev"
   },
   "source": [
    "## Аннотация\n",
    "\n",
    "Генерация музыки имеет несколько значимых отличий от генерации картинок и видео. Во-первых, музыка - это искусство времени, потому требуется временн**а**я модель (temporal model). Во-вторых, музыка обычно исполняется несколькими инструментами/треками с их собственной временной динамикой, но вместе они взаимозависимо раскрываются со временем. В-третьих, ноты чаще всего сгруппирированы в аккорды, арпеджио (последовательно идущие звуки аккорда) или мелодии в полифонической музыке, и тем самым введение хронологического порядка нот не подходит. Предлагаются три GAN модели (Generative Adversarial Networks - \"Генеративно-состязательные сети\") для символьной генерации мультитрековой музыки. Эти модели, отличающиеся друг от друга исходными предположениями и, соответственно, архитектурами сетей, называются импровизирующая модель (\"джемящая\", jamming model), композиторская модель (the composer model) и гибридная модель (the hybrid model). Вышеупомянутые модели были натренированы на датасете, состоящем из более ста тысяч тактов (кусков) из рок-музыки, применённых для генерации пианороллов (piano roll) в виде пяти треков: баса, ударных, гитары, пианино и струнных. В дополнение к субъективной человеческой оценке, несколько интра-трековых и интер-трековых объективных метрик также были добавлены для оценки результатов генерации. Данные модели могут генерировать связную музыку из четырёх тактов прямо с нуля (т.е. без созданных человеком входных данных). Также модели были расширены для генерации музыки \"руками\" человека и ИИ: получив трек, созданный человеком, модель может сгенерировать четыре дополнительных трека для аккомпонемента."
   ]
  },
  {
   "cell_type": "markdown",
   "metadata": {
    "id": "3SCgahLQJ0Ex"
   },
   "source": [
    "## Модель\n",
    "\n",
    "Модель MuseGAN состоит из двух частей: мультитрековая модель (multitrack model) и временн**а**я модель (temporal model). Мультитрековая модель ответственна за взаимозависимость треков, в то время как временная модель справляется с временной зависимостью. Предоставлены три мультитрековых модели, в соотвествии с тремя распространёнными композиционными подходами. Для временной модели, предоставлены модель для генерации с нуля, и другая для аккомпанирования треку, заранее данной пользователем.\n",
    "\n",
    "### Моделирование взаимозависимости треков в мультитреке\n",
    "\n",
    "По опыту авторов, есть два общепринятых способа создавать музыку:\n",
    "\n",
    "- Когда группа музыкантов играет на различных инструментах, они могут создавать музыку импровизируя без предопределённой аранжировки, т.е. джемминг.\n",
    "- Композитор аранжирует инструменты, зная гармоничную структуру и инструментровку. Музыканты будут играть музыку, следя за композицией.\n",
    "\n",
    "Три модели были созданы по соотношению к этим трём подходам к созданию музыки:\n",
    "\n",
    "#### Импровизирующая (джемящая) модель\n",
    "\n",
    "Несколько генераторов работают независимо и генерируют музыку их собственного трека из личного случайного вектора $z_i$ ($i = 1..M)$, где $M$ означает количество генераторов (или треков). Эти генераторы получают критику (т.е. обратносвязные надзорные сигналы) от различных дискриминаторов.\n",
    "\n",
    "<p align=\"center\">\n",
    "    <img src=\"https://salu133445.github.io/musegan/figs/multitrack1.png\" width=\"400px\">\n",
    "</p>\n",
    "\n",
    "#### Композиторская модель\n",
    "\n",
    "Один генератор создаёт мультиканальный пианоролл (pianoroll), с каждым каналом представляющим определённый трек. Эта модель требует только один общий случайный вектор $z$ (на который можно смотреть как на замысел композитора) и один дискриминатор, который изучает все $M$ треков чтобы сказать, реальна ли вводная музыка. \n",
    "\n",
    "<p align=\"center\">\n",
    "    <img src=\"https://salu133445.github.io/musegan/figs/multitrack2.png\" width=\"400px\">\n",
    "</p>\n",
    "\n",
    "#### Гибридная модель\n",
    "\n",
    "Комбинируя идеи джемминга и композиции, гибридная модель требует $M$ генераторов и каждый берёт на вход интер-трековый случайный вектор $z$ и интра-трековый случайный вектор $z_i$. Ожидаемо что интер-трековый случайный вектор может координировать генерацию различных музыкантов, названных $G_i$, прямо как это делает композитор. Вдобавок, используется только один дискриминатор для оценки всех $M$ треков.\n",
    "\n",
    "> Основное отличие между композиторской моделью и гибридной моделью лежит в гибкости — в гибридной модели можно использовать различные архитектуры сетей (например, числов слоёв, размер фильтра) и различные входные данные для M генераторов. Следовательно, можно например варьировать генерацию одного определённого трека без потери интер-трековой взаимозависимости.\n",
    "\n",
    "<p align=\"center\">\n",
    "    <img src=\"https://salu133445.github.io/musegan/figs/multitrack3.png\" width=\"400px\">\n",
    "</p>\n",
    "\n",
    "### Моделирование временн**о**й структуры\n",
    "\n",
    "#### Генерация с нуля\n",
    "\n",
    "Первый метод заключается в генерации музыкальных фраз фиксированной длины путём взгляда на последовательность такта как на другое измерение для роста генератора. Генератор состоит из двух подсетей, *генератора временной структуры $G_{temp}$ (temporal structure generator)* и *тактовый генератор $G_{bar}$ (bar generator)*. $G_{temp}$ сопоставляет вектор шума к последовательности некоторых скрытых (latent) векторов, в которых должна хранится информация о времени и использована $G_{bar}$'ом для генерации пианороллов последовательно (т.е. такт за тактом).\n",
    "\n",
    "<p align=\"center\">\n",
    "    <img src=\"https://salu133445.github.io/musegan/figs/temporal1.png\" width=\"600px\">\n",
    "</p>\n",
    "\n",
    "#### Генерация на основе трека\n",
    "\n",
    "Второй метод основывается на том что такт одного определённого трека дан человеком и модель пытается выучить временн**у**ю структуру лежащую в основе того трека и сгенерировать оставшиеся треки (и завершить мелодию). *Основывающийся на треке генератор $G°$ (track-conditional generator)* генирирует такты один за другим с *условным тактовым генератором, $G°_{bar}$ (conditional bar generator)*, который берёт на вход основывающий трек и случайный шум. Для того чтоб достигнуть такую условную генерацию с высоко-размерными условиями, дополнительный энкодер $E$ натренирован чтобы сопоставлять условие к пространству $z$.\n",
    ">Учтите что энкодер должен извлекать интер-трековые признаки (features), вместо интра-трековых, из поданного трека, поскольку интра-трековые признаки не будут полезны для генерирования других треков.\n",
    "\n",
    "<p align=\"center\">\n",
    "    <img src=\"https://salu133445.github.io/musegan/figs/temporal2.png\" width=\"600px\">\n",
    "</p>\n",
    "\n",
    "### MuseGAN\n",
    "\n",
    "MuseGAN, интеграция и расширение предоставленных мультитрековой и временной моделей, берёт на вход четыре разных типа случайных векторов:\n",
    "- интер-трековый, независимый от времени случайный вектор $z$;\n",
    "- интер-трековый, зависимый от времени случайный вектор $z_t$;\n",
    "- $M$ интра-трековых, независимых от времени случайных векторов $z_i$;\n",
    "- $M$ интра-трековых, зависимых от времени случайных векторов $z_{i,t}$.\n",
    "\n",
    "<p align=\"center\">\n",
    "    <img src=\"https://salu133445.github.io/musegan/figs/musegan-generator.png\" width=\"600px\">\n",
    "</p>\n",
    "\n",
    "Для $i$-ого трека ($i=1..M$), *общий* генератор временных структур $G_{temp}$ и *приватный* генератор временных структур $G_{temp, i}$ берут зависимые от времени случайные вектора $z_t$ и $z_{i,t}$ соответственно, как и их входные данные, и каждый из них выводит ряд скрытых векторов содержащих интер-трековую и интра-трековую соответственно временную информацию. Выходящий ряд (скрытых векторов) вместе с независимыми от времени случайными векторами $z$ и $z_i$ объединяются и подаются тактовому генератору $G_{bar}$ который потом генерирует пианороллы последовательно.\n",
    "\n",
    "Ниже представлена диаграмма всей системы.\n",
    "\n",
    "<p align=\"center\">\n",
    "    <img src=\"https://salu133445.github.io/musegan/figs/musegan.png\" width=\"800px\">\n",
    "</p>"
   ]
  },
  {
   "cell_type": "markdown",
   "metadata": {
    "id": "-7MnYsZj5P7c"
   },
   "source": [
    "## Данные\n",
    "\n",
    "### Lakh Pianoroll Dataset\n",
    "\n",
    "В данном проекте используется *подчищенная* (со слов авторов) версия датасета [Lakh Pianoroll Dataset](https://salu133445.github.io/lakh-pianoroll-dataset/) (LPD). LPD содержит 174154 уникальных [мультитрековых пианороллов](https://salu133445.github.io/lakh-pianoroll-dataset/representation) (pianoroll), собранных из MIDI-файлов из [Lakh MIDI Dataset](https://colinraffel.com/projects/lmd/) (LMD), когда же подчищенная версия содержит 21425 пианороллов, которые в размере 4/4 и были сопоставлены к определённым записям в [Million Song Dataset](https://labrosa.ee.columbia.edu/millionsong/) (MSD).\n",
    "\n",
    "### Данные для обучения\n",
    "\n",
    "- Используется *тайминг символов*, который отбрасывает информацию о темпе (больше информации [тут](https://salu133445.github.io/lakh-pianoroll-dataset/representation);\n",
    "- Отбрасывается информация о скорости (поскольку используются основанные на двоичных значениях пианороллы);\n",
    "- 84 возможностей для высоты звука (от \"До\" первой октавы (C1) до \"Си\" седьмой (B7));\n",
    "- Треки объединены в пять категорий: Бас (Bass), Ударные (Drums), Гитара (Guitar), Пианино (Piano) и Струнные (Strings);\n",
    "- Берутся мелодии лишь с тэгом \"рок\" (`rock`)\n",
    "- Собраны музыкально имеющие смысл 4-тактовые фразы для временной модели, с делением пианороллов `структурными особенностями (features)`, предложенными в [1].\n",
    "\n",
    "В результате, размер выходного тензора — 4 (такты) × 96 (временные шаги) × 84 (высота (тональность)) × 5 (треков (инструментов)).\n",
    "\n",
    "Ниже представлены два примера пианороллов, которые есть в данных для обучения MuseGAN. Треки (сверху вниз): Бас, Ударные, Гитара, Струнные, Пианино.\n",
    "\n",
    "<p align=\"center\">\n",
    "    <img src=\"https://salu133445.github.io/musegan/figs/train_samples.png\" width=\"600px\">\n",
    "</p>\n",
    "\n",
    "### Источники\n",
    "\n",
    "1. Joan Serrá, Meinard Müller, Peter Grosche and Josep Ll. Arcos, “Unsupervised Detection of Music Boundaries by Time Series Structure Features,” in AAAI Conference on Artificial Intelligence (AAAI), 2012\n"
   ]
  },
  {
   "cell_type": "markdown",
   "metadata": {
    "id": "YgHlmB6vdha9"
   },
   "source": [
    "---\n",
    "## Работа с MuseGAN\n",
    "\n",
    "MuseGAN требует Tensorflow 1.x версии. В Google Colab, к счастью, есть возможность переключиться на первую версию (при помощи `%tensorflow_version 1.x`)."
   ]
  },
  {
   "cell_type": "code",
   "execution_count": 1,
   "metadata": {
    "colab": {
     "base_uri": "https://localhost:8080/",
     "height": 54
    },
    "id": "Si9ktpYEkUsN",
    "outputId": "72a71433-aa21-458c-baf4-3bba377524d7"
   },
   "outputs": [
    {
     "name": "stdout",
     "output_type": "stream",
     "text": [
      "TensorFlow 1.x selected.\n"
     ]
    },
    {
     "data": {
      "application/vnd.google.colaboratory.intrinsic+json": {
       "type": "string"
      },
      "text/plain": [
       "'1.15.2'"
      ]
     },
     "execution_count": 1,
     "metadata": {
      "tags": []
     },
     "output_type": "execute_result"
    }
   ],
   "source": [
    "%tensorflow_version 1.x\n",
    "import tensorflow as tf\n",
    "tf.__version__"
   ]
  },
  {
   "cell_type": "markdown",
   "metadata": {
    "id": "LkFSVVyPkr5d"
   },
   "source": [
    "Также тут есть большая часть необходимых библиотек, кроме\n",
    "```\n",
    "absl-py\n",
    "grpcio\n",
    "pypianoroll==0.5.3\n",
    "```\n",
    "<font color=\"gray\">\n",
    "(и других, но я не помню каких).\n",
    "</font>\n"
   ]
  },
  {
   "cell_type": "markdown",
   "metadata": {
    "id": "dkymJbihla1R"
   },
   "source": [
    "\n",
    "Для начала, скачаем данные и модель."
   ]
  },
  {
   "cell_type": "code",
   "execution_count": 3,
   "metadata": {
    "colab": {
     "base_uri": "https://localhost:8080/"
    },
    "id": "mJ7xkQAPk2R0",
    "outputId": "8c0afc89-84d2-42e6-9724-4320a0474044"
   },
   "outputs": [
    {
     "name": "stdout",
     "output_type": "stream",
     "text": [
      "/content/drive/MyDrive/musegan/musegan-main\n"
     ]
    }
   ],
   "source": [
    "%cd ./drive/MyDrive/musegan/musegan-main"
   ]
  },
  {
   "cell_type": "code",
   "execution_count": 4,
   "metadata": {
    "colab": {
     "base_uri": "https://localhost:8080/"
    },
    "id": "C-57O7UbKbBX",
    "outputId": "98d3a83e-308f-4dff-e654-7f34231531b4"
   },
   "outputs": [
    {
     "name": "stdout",
     "output_type": "stream",
     "text": [
      "Downloading...\n",
      "From: https://drive.google.com/uc?id=14rrC5bSQkB9VYWrvt2IhsCjOKYrguk3S\n",
      "To: /content/drive/MyDrive/musegan/musegan-main/data/train_x_lpd_5_phr.npz\n",
      "103MB [00:01, 91.2MB/s] \n"
     ]
    }
   ],
   "source": [
    " !./scripts/download_data.sh"
   ]
  },
  {
   "cell_type": "code",
   "execution_count": 5,
   "metadata": {
    "colab": {
     "base_uri": "https://localhost:8080/"
    },
    "id": "b2MbwUysJ0Ey",
    "outputId": "814857d7-3702-4656-ce61-c5ffb9bcf34f"
   },
   "outputs": [
    {
     "name": "stdout",
     "output_type": "stream",
     "text": [
      "Downloading...\n",
      "From: https://drive.google.com/uc?id=19RYAbj_utCDMpU7PurkjsH4e_Vy8H-Uy\n",
      "To: /content/drive/MyDrive/musegan/musegan-main/exp/pretrained_models.tar.gz\n",
      "429MB [00:03, 110MB/s]\n",
      "Decompressing archive.\n",
      "Successfully decompressed.\n"
     ]
    }
   ],
   "source": [
    "!./scripts/download_models.sh"
   ]
  },
  {
   "cell_type": "markdown",
   "metadata": {
    "id": "glXJM7T2m03z"
   },
   "source": [
    "Есть два скрипта для получения результатов из предобученной модели:\n",
    "- `run_inference.sh`\n",
    "- `run_interpolation.sh`\n",
    "\n",
    "По словам одного из авторов, первый, inference script, генерирует несколько образцов из входных шумов, взятых из скрытого пространства (который использовался при обучении). Потому получаются буквально случайные образцы. (Изображения предоставлены одним из авторов)\n",
    "\n",
    "<img src=\"https://user-images.githubusercontent.com/22392791/59755147-62c68980-92c2-11e9-87e7-3b98dfb1d3b2.png\">\n",
    "\n",
    "Второй же, interpolation script, генерирует образцы так же, только входные шумы взяты из скрытого пространства уже как сеть (grid). Таким образом можно наблюдать как сгенерированые образцы меняются с изменением входных данных.\n",
    "\n",
    "<img src=\"https://user-images.githubusercontent.com/22392791/59755092-4e828c80-92c2-11e9-8dd1-d6cf28d0ddbd.png\">\n",
    "\n",
    "Запустим оба и взглянем на результаты."
   ]
  },
  {
   "cell_type": "code",
   "execution_count": 10,
   "metadata": {
    "colab": {
     "base_uri": "https://localhost:8080/"
    },
    "id": "T-rCpN51vaUM",
    "outputId": "8c7a9ed3-4a94-4d19-d33b-d82ef553ef9c"
   },
   "outputs": [
    {
     "name": "stdout",
     "output_type": "stream",
     "text": [
      "musegan.inference    INFO     Using parameters:\n",
      "{'beat_resolution': 12,\n",
      " 'condition_track_idx': None,\n",
      " 'data_shape': [4, 48, 84, 5],\n",
      " 'is_accompaniment': False,\n",
      " 'is_conditional': False,\n",
      " 'latent_dim': 128,\n",
      " 'nets': {'discriminator': 'default', 'generator': 'default'},\n",
      " 'use_binary_neurons': False}\n",
      "musegan.inference    INFO     Using configurations:\n",
      "{'adam': {'beta1': 0.5, 'beta2': 0.9},\n",
      " 'batch_size': 64,\n",
      " 'checkpoint_dir': './exp/default//model',\n",
      " 'colormap': [[1.0, 0.0, 0.0],\n",
      "              [1.0, 0.5, 0.0],\n",
      "              [0.0, 1.0, 0.0],\n",
      "              [0.0, 0.0, 1.0],\n",
      "              [0.0, 0.5, 1.0]],\n",
      " 'columns': 5,\n",
      " 'config': './exp/default//config.yaml',\n",
      " 'data_filename': 'train_x_lpd_5_phr',\n",
      " 'data_root': None,\n",
      " 'data_source': 'sa',\n",
      " 'evaluate_steps': 100,\n",
      " 'gan_loss_type': 'wasserstein',\n",
      " 'gpu': '0',\n",
      " 'initial_learning_rate': 0.001,\n",
      " 'learning_rate_schedule': {'end': 50000, 'end_value': 0.0, 'start': 45000},\n",
      " 'log_loss_steps': 100,\n",
      " 'lower': -2,\n",
      " 'midi': {'is_drums': [1, 0, 0, 0, 0],\n",
      "          'lowest_pitch': 24,\n",
      "          'programs': [0, 0, 25, 33, 48],\n",
      "          'tempo': 100},\n",
      " 'n_dis_updates_per_gen_update': 5,\n",
      " 'n_jobs': 20,\n",
      " 'params': './exp/default//params.yaml',\n",
      " 'result_dir': './exp/default//results/inference',\n",
      " 'rows': 5,\n",
      " 'runs': 10,\n",
      " 'sample_grid': [8, 8],\n",
      " 'save_array_samples': True,\n",
      " 'save_checkpoint_steps': 10000,\n",
      " 'save_image_samples': True,\n",
      " 'save_pianoroll_samples': True,\n",
      " 'save_samples_steps': 100,\n",
      " 'save_summaries_steps': 0,\n",
      " 'slope_schedule': {'end': 50000, 'end_value': 5.0, 'start': 10000},\n",
      " 'steps': 50000,\n",
      " 'upper': 2,\n",
      " 'use_gradient_penalties': True,\n",
      " 'use_learning_rate_decay': True,\n",
      " 'use_random_transpose': False,\n",
      " 'use_slope_annealing': False,\n",
      " 'use_train_test_split': False}\n",
      "WARNING:tensorflow:From /content/drive/My Drive/musegan/musegan-main/scripts/../src/inference.py:80: The name tf.placeholder is deprecated. Please use tf.compat.v1.placeholder instead.\n",
      "\n",
      "tensorflow           WARNING  From /content/drive/My Drive/musegan/musegan-main/scripts/../src/inference.py:80: The name tf.placeholder is deprecated. Please use tf.compat.v1.placeholder instead.\n",
      "\n",
      "WARNING:tensorflow:From /content/drive/My Drive/musegan/musegan-main/src/musegan/model.py:30: The name tf.variable_scope is deprecated. Please use tf.compat.v1.variable_scope instead.\n",
      "\n",
      "tensorflow           WARNING  From /content/drive/My Drive/musegan/musegan-main/src/musegan/model.py:30: The name tf.variable_scope is deprecated. Please use tf.compat.v1.variable_scope instead.\n",
      "\n",
      "WARNING:tensorflow:From /content/drive/My Drive/musegan/musegan-main/src/musegan/model.py:30: The name tf.AUTO_REUSE is deprecated. Please use tf.compat.v1.AUTO_REUSE instead.\n",
      "\n",
      "tensorflow           WARNING  From /content/drive/My Drive/musegan/musegan-main/src/musegan/model.py:30: The name tf.AUTO_REUSE is deprecated. Please use tf.compat.v1.AUTO_REUSE instead.\n",
      "\n",
      "musegan.model        INFO     Building model.\n",
      "musegan.model        INFO     Building training nodes.\n",
      "WARNING:tensorflow:From /content/drive/My Drive/musegan/musegan-main/src/musegan/model.py:77: The name tf.train.get_or_create_global_step is deprecated. Please use tf.compat.v1.train.get_or_create_global_step instead.\n",
      "\n",
      "tensorflow           WARNING  From /content/drive/My Drive/musegan/musegan-main/src/musegan/model.py:77: The name tf.train.get_or_create_global_step is deprecated. Please use tf.compat.v1.train.get_or_create_global_step instead.\n",
      "\n",
      "WARNING:tensorflow:From /content/drive/My Drive/musegan/musegan-main/src/musegan/model.py:78: The name tf.get_variable is deprecated. Please use tf.compat.v1.get_variable instead.\n",
      "\n",
      "tensorflow           WARNING  From /content/drive/My Drive/musegan/musegan-main/src/musegan/model.py:78: The name tf.get_variable is deprecated. Please use tf.compat.v1.get_variable instead.\n",
      "\n",
      "WARNING:tensorflow:From /content/drive/My Drive/musegan/musegan-main/src/musegan/presets/ops.py:16: conv3d_transpose (from tensorflow.python.layers.convolutional) is deprecated and will be removed in a future version.\n",
      "Instructions for updating:\n",
      "Use `tf.keras.layers.Conv3DTranspose` instead.\n",
      "tensorflow           WARNING  From /content/drive/My Drive/musegan/musegan-main/src/musegan/presets/ops.py:16: conv3d_transpose (from tensorflow.python.layers.convolutional) is deprecated and will be removed in a future version.\n",
      "Instructions for updating:\n",
      "Use `tf.keras.layers.Conv3DTranspose` instead.\n",
      "WARNING:tensorflow:From /tensorflow-1.15.2/python3.7/tensorflow_core/python/layers/convolutional.py:1453: Layer.apply (from tensorflow.python.keras.engine.base_layer) is deprecated and will be removed in a future version.\n",
      "Instructions for updating:\n",
      "Please use `layer.__call__` method instead.\n",
      "tensorflow           WARNING  From /tensorflow-1.15.2/python3.7/tensorflow_core/python/layers/convolutional.py:1453: Layer.apply (from tensorflow.python.keras.engine.base_layer) is deprecated and will be removed in a future version.\n",
      "Instructions for updating:\n",
      "Please use `layer.__call__` method instead.\n",
      "WARNING:tensorflow:From /content/drive/My Drive/musegan/musegan-main/src/musegan/presets/ops.py:21: batch_normalization (from tensorflow.python.layers.normalization) is deprecated and will be removed in a future version.\n",
      "Instructions for updating:\n",
      "Use keras.layers.BatchNormalization instead.  In particular, `tf.control_dependencies(tf.GraphKeys.UPDATE_OPS)` should not be used (consult the `tf.keras.layers.batch_normalization` documentation).\n",
      "tensorflow           WARNING  From /content/drive/My Drive/musegan/musegan-main/src/musegan/presets/ops.py:21: batch_normalization (from tensorflow.python.layers.normalization) is deprecated and will be removed in a future version.\n",
      "Instructions for updating:\n",
      "Use keras.layers.BatchNormalization instead.  In particular, `tf.control_dependencies(tf.GraphKeys.UPDATE_OPS)` should not be used (consult the `tf.keras.layers.batch_normalization` documentation).\n",
      "WARNING:tensorflow:From /content/drive/My Drive/musegan/musegan-main/src/musegan/presets/ops.py:12: conv3d (from tensorflow.python.layers.convolutional) is deprecated and will be removed in a future version.\n",
      "Instructions for updating:\n",
      "Use `tf.keras.layers.Conv3D` instead.\n",
      "tensorflow           WARNING  From /content/drive/My Drive/musegan/musegan-main/src/musegan/presets/ops.py:12: conv3d (from tensorflow.python.layers.convolutional) is deprecated and will be removed in a future version.\n",
      "Instructions for updating:\n",
      "Use `tf.keras.layers.Conv3D` instead.\n",
      "WARNING:tensorflow:From /content/drive/My Drive/musegan/musegan-main/src/musegan/presets/ops.py:8: dense (from tensorflow.python.layers.core) is deprecated and will be removed in a future version.\n",
      "Instructions for updating:\n",
      "Use keras.layers.Dense instead.\n",
      "tensorflow           WARNING  From /content/drive/My Drive/musegan/musegan-main/src/musegan/presets/ops.py:8: dense (from tensorflow.python.layers.core) is deprecated and will be removed in a future version.\n",
      "Instructions for updating:\n",
      "Use keras.layers.Dense instead.\n",
      "musegan.model        INFO     Building losses.\n",
      "WARNING:tensorflow:From /content/drive/My Drive/musegan/musegan-main/src/musegan/model.py:130: The name tf.random_uniform is deprecated. Please use tf.random.uniform instead.\n",
      "\n",
      "tensorflow           WARNING  From /content/drive/My Drive/musegan/musegan-main/src/musegan/model.py:130: The name tf.random_uniform is deprecated. Please use tf.random.uniform instead.\n",
      "\n",
      "musegan.model        INFO     Building training ops.\n",
      "WARNING:tensorflow:From /content/drive/My Drive/musegan/musegan-main/src/musegan/model.py:22: The name tf.train.polynomial_decay is deprecated. Please use tf.compat.v1.train.polynomial_decay instead.\n",
      "\n",
      "tensorflow           WARNING  From /content/drive/My Drive/musegan/musegan-main/src/musegan/model.py:22: The name tf.train.polynomial_decay is deprecated. Please use tf.compat.v1.train.polynomial_decay instead.\n",
      "\n",
      "WARNING:tensorflow:From /content/drive/My Drive/musegan/musegan-main/src/musegan/model.py:157: The name tf.add_to_collection is deprecated. Please use tf.compat.v1.add_to_collection instead.\n",
      "\n",
      "tensorflow           WARNING  From /content/drive/My Drive/musegan/musegan-main/src/musegan/model.py:157: The name tf.add_to_collection is deprecated. Please use tf.compat.v1.add_to_collection instead.\n",
      "\n",
      "WARNING:tensorflow:From /content/drive/My Drive/musegan/musegan-main/src/musegan/model.py:158: The name tf.GraphKeys is deprecated. Please use tf.compat.v1.GraphKeys instead.\n",
      "\n",
      "tensorflow           WARNING  From /content/drive/My Drive/musegan/musegan-main/src/musegan/model.py:158: The name tf.GraphKeys is deprecated. Please use tf.compat.v1.GraphKeys instead.\n",
      "\n",
      "WARNING:tensorflow:From /content/drive/My Drive/musegan/musegan-main/src/musegan/model.py:159: The name tf.assign is deprecated. Please use tf.compat.v1.assign instead.\n",
      "\n",
      "tensorflow           WARNING  From /content/drive/My Drive/musegan/musegan-main/src/musegan/model.py:159: The name tf.assign is deprecated. Please use tf.compat.v1.assign instead.\n",
      "\n",
      "WARNING:tensorflow:From /content/drive/My Drive/musegan/musegan-main/src/musegan/model.py:162: The name tf.train.AdamOptimizer is deprecated. Please use tf.compat.v1.train.AdamOptimizer instead.\n",
      "\n",
      "tensorflow           WARNING  From /content/drive/My Drive/musegan/musegan-main/src/musegan/model.py:162: The name tf.train.AdamOptimizer is deprecated. Please use tf.compat.v1.train.AdamOptimizer instead.\n",
      "\n",
      "WARNING:tensorflow:From /content/drive/My Drive/musegan/musegan-main/src/musegan/model.py:174: The name tf.trainable_variables is deprecated. Please use tf.compat.v1.trainable_variables instead.\n",
      "\n",
      "tensorflow           WARNING  From /content/drive/My Drive/musegan/musegan-main/src/musegan/model.py:174: The name tf.trainable_variables is deprecated. Please use tf.compat.v1.trainable_variables instead.\n",
      "\n",
      "WARNING:tensorflow:From /content/drive/My Drive/musegan/musegan-main/src/musegan/model.py:177: The name tf.get_collection is deprecated. Please use tf.compat.v1.get_collection instead.\n",
      "\n",
      "tensorflow           WARNING  From /content/drive/My Drive/musegan/musegan-main/src/musegan/model.py:177: The name tf.get_collection is deprecated. Please use tf.compat.v1.get_collection instead.\n",
      "\n",
      "WARNING:tensorflow:From /content/drive/My Drive/musegan/musegan-main/src/musegan/model.py:178: The name tf.assign_add is deprecated. Please use tf.compat.v1.assign_add instead.\n",
      "\n",
      "tensorflow           WARNING  From /content/drive/My Drive/musegan/musegan-main/src/musegan/model.py:178: The name tf.assign_add is deprecated. Please use tf.compat.v1.assign_add instead.\n",
      "\n",
      "musegan.model        INFO     Building summaries.\n",
      "musegan.model        INFO     Building prediction nodes.\n",
      "WARNING:tensorflow:From /content/drive/My Drive/musegan/musegan-main/src/musegan/model.py:261: py_func (from tensorflow.python.ops.script_ops) is deprecated and will be removed in a future version.\n",
      "Instructions for updating:\n",
      "tf.py_func is deprecated in TF V2. Instead, there are two\n",
      "    options available in V2.\n",
      "    - tf.py_function takes a python function which manipulates tf eager\n",
      "    tensors instead of numpy arrays. It's easy to convert a tf eager tensor to\n",
      "    an ndarray (just call tensor.numpy()) but having access to eager tensors\n",
      "    means `tf.py_function`s can use accelerators such as GPUs as well as\n",
      "    being differentiable using a gradient tape.\n",
      "    - tf.numpy_function maintains the semantics of the deprecated tf.py_func\n",
      "    (it is not differentiable, and manipulates numpy arrays). It drops the\n",
      "    stateful argument making all functions stateful.\n",
      "    \n",
      "tensorflow           WARNING  From /content/drive/My Drive/musegan/musegan-main/src/musegan/model.py:261: py_func (from tensorflow.python.ops.script_ops) is deprecated and will be removed in a future version.\n",
      "Instructions for updating:\n",
      "tf.py_func is deprecated in TF V2. Instead, there are two\n",
      "    options available in V2.\n",
      "    - tf.py_function takes a python function which manipulates tf eager\n",
      "    tensors instead of numpy arrays. It's easy to convert a tf eager tensor to\n",
      "    an ndarray (just call tensor.numpy()) but having access to eager tensors\n",
      "    means `tf.py_function`s can use accelerators such as GPUs as well as\n",
      "    being differentiable using a gradient tape.\n",
      "    - tf.numpy_function maintains the semantics of the deprecated tf.py_func\n",
      "    (it is not differentiable, and manipulates numpy arrays). It drops the\n",
      "    stateful argument making all functions stateful.\n",
      "    \n",
      "WARNING:tensorflow:From /content/drive/My Drive/musegan/musegan-main/scripts/../src/inference.py:128: The name tf.ConfigProto is deprecated. Please use tf.compat.v1.ConfigProto instead.\n",
      "\n",
      "tensorflow           WARNING  From /content/drive/My Drive/musegan/musegan-main/scripts/../src/inference.py:128: The name tf.ConfigProto is deprecated. Please use tf.compat.v1.ConfigProto instead.\n",
      "\n",
      "WARNING:tensorflow:From /content/drive/My Drive/musegan/musegan-main/scripts/../src/inference.py:132: The name tf.train.Saver is deprecated. Please use tf.compat.v1.train.Saver instead.\n",
      "\n",
      "tensorflow           WARNING  From /content/drive/My Drive/musegan/musegan-main/scripts/../src/inference.py:132: The name tf.train.Saver is deprecated. Please use tf.compat.v1.train.Saver instead.\n",
      "\n",
      "WARNING:tensorflow:From /content/drive/My Drive/musegan/musegan-main/scripts/../src/inference.py:135: The name tf.Session is deprecated. Please use tf.compat.v1.Session instead.\n",
      "\n",
      "tensorflow           WARNING  From /content/drive/My Drive/musegan/musegan-main/scripts/../src/inference.py:135: The name tf.Session is deprecated. Please use tf.compat.v1.Session instead.\n",
      "\n",
      "2021-07-28 10:54:05.820374: I tensorflow/core/platform/profile_utils/cpu_utils.cc:94] CPU Frequency: 2299995000 Hz\n",
      "2021-07-28 10:54:05.820884: I tensorflow/compiler/xla/service/service.cc:168] XLA service 0x55a09a1bd480 initialized for platform Host (this does not guarantee that XLA will be used). Devices:\n",
      "2021-07-28 10:54:05.820925: I tensorflow/compiler/xla/service/service.cc:176]   StreamExecutor device (0): Host, Default Version\n",
      "2021-07-28 10:54:05.846501: I tensorflow/stream_executor/platform/default/dso_loader.cc:44] Successfully opened dynamic library libcuda.so.1\n",
      "2021-07-28 10:54:05.861536: E tensorflow/stream_executor/cuda/cuda_driver.cc:318] failed call to cuInit: CUDA_ERROR_NO_DEVICE: no CUDA-capable device is detected\n",
      "2021-07-28 10:54:05.861622: I tensorflow/stream_executor/cuda/cuda_diagnostics.cc:156] kernel driver does not appear to be running on this host (8defbf21c7dd): /proc/driver/nvidia/version does not exist\n",
      "musegan.inference    INFO     Restoring the latest checkpoint.\n",
      "INFO:tensorflow:Restoring parameters from /content/drive/MyDrive/musegan/musegan-main/exp/default/model/model.ckpt-300450\n",
      "tensorflow           INFO     Restoring parameters from /content/drive/MyDrive/musegan/musegan-main/exp/default/model/model.ckpt-300450\n"
     ]
    }
   ],
   "source": [
    "!./scripts/run_inference.sh \"./exp/default/\" \"0\""
   ]
  },
  {
   "cell_type": "code",
   "execution_count": 11,
   "metadata": {
    "colab": {
     "base_uri": "https://localhost:8080/"
    },
    "id": "YX1TTolPwsw_",
    "outputId": "2ecb69e4-c1e4-4d11-968e-260444b72414"
   },
   "outputs": [
    {
     "name": "stdout",
     "output_type": "stream",
     "text": [
      "musegan.interpolation INFO     Using parameters:\n",
      "{'beat_resolution': 12,\n",
      " 'condition_track_idx': None,\n",
      " 'data_shape': [4, 48, 84, 5],\n",
      " 'is_accompaniment': False,\n",
      " 'is_conditional': False,\n",
      " 'latent_dim': 128,\n",
      " 'nets': {'discriminator': 'default', 'generator': 'default'},\n",
      " 'use_binary_neurons': False}\n",
      "musegan.interpolation INFO     Using configurations:\n",
      "{'adam': {'beta1': 0.5, 'beta2': 0.9},\n",
      " 'batch_size': 64,\n",
      " 'checkpoint_dir': './exp/default//model',\n",
      " 'colormap': [[1.0, 0.0, 0.0],\n",
      "              [1.0, 0.5, 0.0],\n",
      "              [0.0, 1.0, 0.0],\n",
      "              [0.0, 0.0, 1.0],\n",
      "              [0.0, 0.5, 1.0]],\n",
      " 'columns': 5,\n",
      " 'config': './exp/default//config.yaml',\n",
      " 'data_filename': 'train_x_lpd_5_phr',\n",
      " 'data_root': None,\n",
      " 'data_source': 'sa',\n",
      " 'evaluate_steps': 100,\n",
      " 'gan_loss_type': 'wasserstein',\n",
      " 'gpu': '0',\n",
      " 'initial_learning_rate': 0.001,\n",
      " 'learning_rate_schedule': {'end': 50000, 'end_value': 0.0, 'start': 45000},\n",
      " 'log_loss_steps': 100,\n",
      " 'lower': 0.0,\n",
      " 'midi': {'is_drums': [1, 0, 0, 0, 0],\n",
      "          'lowest_pitch': 24,\n",
      "          'programs': [0, 0, 25, 33, 48],\n",
      "          'tempo': 100},\n",
      " 'mode': 'lerp',\n",
      " 'n_dis_updates_per_gen_update': 5,\n",
      " 'n_jobs': 20,\n",
      " 'params': './exp/default//params.yaml',\n",
      " 'result_dir': './exp/default//results/interpolation',\n",
      " 'rows': 5,\n",
      " 'runs': 10,\n",
      " 'sample_grid': [8, 8],\n",
      " 'save_array_samples': True,\n",
      " 'save_checkpoint_steps': 10000,\n",
      " 'save_image_samples': True,\n",
      " 'save_pianoroll_samples': True,\n",
      " 'save_samples_steps': 100,\n",
      " 'save_summaries_steps': 0,\n",
      " 'slope_schedule': {'end': 50000, 'end_value': 5.0, 'start': 10000},\n",
      " 'steps': 50000,\n",
      " 'upper': 1.0,\n",
      " 'use_gradient_penalties': True,\n",
      " 'use_learning_rate_decay': True,\n",
      " 'use_random_transpose': False,\n",
      " 'use_slope_annealing': False,\n",
      " 'use_train_test_split': False}\n",
      "WARNING:tensorflow:From /content/drive/My Drive/musegan/musegan-main/scripts/../src/interpolation.py:122: The name tf.placeholder is deprecated. Please use tf.compat.v1.placeholder instead.\n",
      "\n",
      "tensorflow           WARNING  From /content/drive/My Drive/musegan/musegan-main/scripts/../src/interpolation.py:122: The name tf.placeholder is deprecated. Please use tf.compat.v1.placeholder instead.\n",
      "\n",
      "WARNING:tensorflow:From /content/drive/My Drive/musegan/musegan-main/src/musegan/model.py:30: The name tf.variable_scope is deprecated. Please use tf.compat.v1.variable_scope instead.\n",
      "\n",
      "tensorflow           WARNING  From /content/drive/My Drive/musegan/musegan-main/src/musegan/model.py:30: The name tf.variable_scope is deprecated. Please use tf.compat.v1.variable_scope instead.\n",
      "\n",
      "WARNING:tensorflow:From /content/drive/My Drive/musegan/musegan-main/src/musegan/model.py:30: The name tf.AUTO_REUSE is deprecated. Please use tf.compat.v1.AUTO_REUSE instead.\n",
      "\n",
      "tensorflow           WARNING  From /content/drive/My Drive/musegan/musegan-main/src/musegan/model.py:30: The name tf.AUTO_REUSE is deprecated. Please use tf.compat.v1.AUTO_REUSE instead.\n",
      "\n",
      "musegan.model        INFO     Building model.\n",
      "musegan.model        INFO     Building training nodes.\n",
      "WARNING:tensorflow:From /content/drive/My Drive/musegan/musegan-main/src/musegan/model.py:77: The name tf.train.get_or_create_global_step is deprecated. Please use tf.compat.v1.train.get_or_create_global_step instead.\n",
      "\n",
      "tensorflow           WARNING  From /content/drive/My Drive/musegan/musegan-main/src/musegan/model.py:77: The name tf.train.get_or_create_global_step is deprecated. Please use tf.compat.v1.train.get_or_create_global_step instead.\n",
      "\n",
      "WARNING:tensorflow:From /content/drive/My Drive/musegan/musegan-main/src/musegan/model.py:78: The name tf.get_variable is deprecated. Please use tf.compat.v1.get_variable instead.\n",
      "\n",
      "tensorflow           WARNING  From /content/drive/My Drive/musegan/musegan-main/src/musegan/model.py:78: The name tf.get_variable is deprecated. Please use tf.compat.v1.get_variable instead.\n",
      "\n",
      "WARNING:tensorflow:From /content/drive/My Drive/musegan/musegan-main/src/musegan/presets/ops.py:16: conv3d_transpose (from tensorflow.python.layers.convolutional) is deprecated and will be removed in a future version.\n",
      "Instructions for updating:\n",
      "Use `tf.keras.layers.Conv3DTranspose` instead.\n",
      "tensorflow           WARNING  From /content/drive/My Drive/musegan/musegan-main/src/musegan/presets/ops.py:16: conv3d_transpose (from tensorflow.python.layers.convolutional) is deprecated and will be removed in a future version.\n",
      "Instructions for updating:\n",
      "Use `tf.keras.layers.Conv3DTranspose` instead.\n",
      "WARNING:tensorflow:From /tensorflow-1.15.2/python3.7/tensorflow_core/python/layers/convolutional.py:1453: Layer.apply (from tensorflow.python.keras.engine.base_layer) is deprecated and will be removed in a future version.\n",
      "Instructions for updating:\n",
      "Please use `layer.__call__` method instead.\n",
      "tensorflow           WARNING  From /tensorflow-1.15.2/python3.7/tensorflow_core/python/layers/convolutional.py:1453: Layer.apply (from tensorflow.python.keras.engine.base_layer) is deprecated and will be removed in a future version.\n",
      "Instructions for updating:\n",
      "Please use `layer.__call__` method instead.\n",
      "WARNING:tensorflow:From /content/drive/My Drive/musegan/musegan-main/src/musegan/presets/ops.py:21: batch_normalization (from tensorflow.python.layers.normalization) is deprecated and will be removed in a future version.\n",
      "Instructions for updating:\n",
      "Use keras.layers.BatchNormalization instead.  In particular, `tf.control_dependencies(tf.GraphKeys.UPDATE_OPS)` should not be used (consult the `tf.keras.layers.batch_normalization` documentation).\n",
      "tensorflow           WARNING  From /content/drive/My Drive/musegan/musegan-main/src/musegan/presets/ops.py:21: batch_normalization (from tensorflow.python.layers.normalization) is deprecated and will be removed in a future version.\n",
      "Instructions for updating:\n",
      "Use keras.layers.BatchNormalization instead.  In particular, `tf.control_dependencies(tf.GraphKeys.UPDATE_OPS)` should not be used (consult the `tf.keras.layers.batch_normalization` documentation).\n",
      "WARNING:tensorflow:From /content/drive/My Drive/musegan/musegan-main/src/musegan/presets/ops.py:12: conv3d (from tensorflow.python.layers.convolutional) is deprecated and will be removed in a future version.\n",
      "Instructions for updating:\n",
      "Use `tf.keras.layers.Conv3D` instead.\n",
      "tensorflow           WARNING  From /content/drive/My Drive/musegan/musegan-main/src/musegan/presets/ops.py:12: conv3d (from tensorflow.python.layers.convolutional) is deprecated and will be removed in a future version.\n",
      "Instructions for updating:\n",
      "Use `tf.keras.layers.Conv3D` instead.\n",
      "WARNING:tensorflow:From /content/drive/My Drive/musegan/musegan-main/src/musegan/presets/ops.py:8: dense (from tensorflow.python.layers.core) is deprecated and will be removed in a future version.\n",
      "Instructions for updating:\n",
      "Use keras.layers.Dense instead.\n",
      "tensorflow           WARNING  From /content/drive/My Drive/musegan/musegan-main/src/musegan/presets/ops.py:8: dense (from tensorflow.python.layers.core) is deprecated and will be removed in a future version.\n",
      "Instructions for updating:\n",
      "Use keras.layers.Dense instead.\n",
      "musegan.model        INFO     Building losses.\n",
      "WARNING:tensorflow:From /content/drive/My Drive/musegan/musegan-main/src/musegan/model.py:130: The name tf.random_uniform is deprecated. Please use tf.random.uniform instead.\n",
      "\n",
      "tensorflow           WARNING  From /content/drive/My Drive/musegan/musegan-main/src/musegan/model.py:130: The name tf.random_uniform is deprecated. Please use tf.random.uniform instead.\n",
      "\n",
      "musegan.model        INFO     Building training ops.\n",
      "WARNING:tensorflow:From /content/drive/My Drive/musegan/musegan-main/src/musegan/model.py:22: The name tf.train.polynomial_decay is deprecated. Please use tf.compat.v1.train.polynomial_decay instead.\n",
      "\n",
      "tensorflow           WARNING  From /content/drive/My Drive/musegan/musegan-main/src/musegan/model.py:22: The name tf.train.polynomial_decay is deprecated. Please use tf.compat.v1.train.polynomial_decay instead.\n",
      "\n",
      "WARNING:tensorflow:From /content/drive/My Drive/musegan/musegan-main/src/musegan/model.py:157: The name tf.add_to_collection is deprecated. Please use tf.compat.v1.add_to_collection instead.\n",
      "\n",
      "tensorflow           WARNING  From /content/drive/My Drive/musegan/musegan-main/src/musegan/model.py:157: The name tf.add_to_collection is deprecated. Please use tf.compat.v1.add_to_collection instead.\n",
      "\n",
      "WARNING:tensorflow:From /content/drive/My Drive/musegan/musegan-main/src/musegan/model.py:158: The name tf.GraphKeys is deprecated. Please use tf.compat.v1.GraphKeys instead.\n",
      "\n",
      "tensorflow           WARNING  From /content/drive/My Drive/musegan/musegan-main/src/musegan/model.py:158: The name tf.GraphKeys is deprecated. Please use tf.compat.v1.GraphKeys instead.\n",
      "\n",
      "WARNING:tensorflow:From /content/drive/My Drive/musegan/musegan-main/src/musegan/model.py:159: The name tf.assign is deprecated. Please use tf.compat.v1.assign instead.\n",
      "\n",
      "tensorflow           WARNING  From /content/drive/My Drive/musegan/musegan-main/src/musegan/model.py:159: The name tf.assign is deprecated. Please use tf.compat.v1.assign instead.\n",
      "\n",
      "WARNING:tensorflow:From /content/drive/My Drive/musegan/musegan-main/src/musegan/model.py:162: The name tf.train.AdamOptimizer is deprecated. Please use tf.compat.v1.train.AdamOptimizer instead.\n",
      "\n",
      "tensorflow           WARNING  From /content/drive/My Drive/musegan/musegan-main/src/musegan/model.py:162: The name tf.train.AdamOptimizer is deprecated. Please use tf.compat.v1.train.AdamOptimizer instead.\n",
      "\n",
      "WARNING:tensorflow:From /content/drive/My Drive/musegan/musegan-main/src/musegan/model.py:174: The name tf.trainable_variables is deprecated. Please use tf.compat.v1.trainable_variables instead.\n",
      "\n",
      "tensorflow           WARNING  From /content/drive/My Drive/musegan/musegan-main/src/musegan/model.py:174: The name tf.trainable_variables is deprecated. Please use tf.compat.v1.trainable_variables instead.\n",
      "\n",
      "WARNING:tensorflow:From /content/drive/My Drive/musegan/musegan-main/src/musegan/model.py:177: The name tf.get_collection is deprecated. Please use tf.compat.v1.get_collection instead.\n",
      "\n",
      "tensorflow           WARNING  From /content/drive/My Drive/musegan/musegan-main/src/musegan/model.py:177: The name tf.get_collection is deprecated. Please use tf.compat.v1.get_collection instead.\n",
      "\n",
      "WARNING:tensorflow:From /content/drive/My Drive/musegan/musegan-main/src/musegan/model.py:178: The name tf.assign_add is deprecated. Please use tf.compat.v1.assign_add instead.\n",
      "\n",
      "tensorflow           WARNING  From /content/drive/My Drive/musegan/musegan-main/src/musegan/model.py:178: The name tf.assign_add is deprecated. Please use tf.compat.v1.assign_add instead.\n",
      "\n",
      "musegan.model        INFO     Building summaries.\n",
      "musegan.model        INFO     Building prediction nodes.\n",
      "WARNING:tensorflow:From /content/drive/My Drive/musegan/musegan-main/src/musegan/model.py:261: py_func (from tensorflow.python.ops.script_ops) is deprecated and will be removed in a future version.\n",
      "Instructions for updating:\n",
      "tf.py_func is deprecated in TF V2. Instead, there are two\n",
      "    options available in V2.\n",
      "    - tf.py_function takes a python function which manipulates tf eager\n",
      "    tensors instead of numpy arrays. It's easy to convert a tf eager tensor to\n",
      "    an ndarray (just call tensor.numpy()) but having access to eager tensors\n",
      "    means `tf.py_function`s can use accelerators such as GPUs as well as\n",
      "    being differentiable using a gradient tape.\n",
      "    - tf.numpy_function maintains the semantics of the deprecated tf.py_func\n",
      "    (it is not differentiable, and manipulates numpy arrays). It drops the\n",
      "    stateful argument making all functions stateful.\n",
      "    \n",
      "tensorflow           WARNING  From /content/drive/My Drive/musegan/musegan-main/src/musegan/model.py:261: py_func (from tensorflow.python.ops.script_ops) is deprecated and will be removed in a future version.\n",
      "Instructions for updating:\n",
      "tf.py_func is deprecated in TF V2. Instead, there are two\n",
      "    options available in V2.\n",
      "    - tf.py_function takes a python function which manipulates tf eager\n",
      "    tensors instead of numpy arrays. It's easy to convert a tf eager tensor to\n",
      "    an ndarray (just call tensor.numpy()) but having access to eager tensors\n",
      "    means `tf.py_function`s can use accelerators such as GPUs as well as\n",
      "    being differentiable using a gradient tape.\n",
      "    - tf.numpy_function maintains the semantics of the deprecated tf.py_func\n",
      "    (it is not differentiable, and manipulates numpy arrays). It drops the\n",
      "    stateful argument making all functions stateful.\n",
      "    \n",
      "WARNING:tensorflow:From /content/drive/My Drive/musegan/musegan-main/scripts/../src/interpolation.py:170: The name tf.ConfigProto is deprecated. Please use tf.compat.v1.ConfigProto instead.\n",
      "\n",
      "tensorflow           WARNING  From /content/drive/My Drive/musegan/musegan-main/scripts/../src/interpolation.py:170: The name tf.ConfigProto is deprecated. Please use tf.compat.v1.ConfigProto instead.\n",
      "\n",
      "WARNING:tensorflow:From /content/drive/My Drive/musegan/musegan-main/scripts/../src/interpolation.py:174: The name tf.train.Saver is deprecated. Please use tf.compat.v1.train.Saver instead.\n",
      "\n",
      "tensorflow           WARNING  From /content/drive/My Drive/musegan/musegan-main/scripts/../src/interpolation.py:174: The name tf.train.Saver is deprecated. Please use tf.compat.v1.train.Saver instead.\n",
      "\n",
      "WARNING:tensorflow:From /content/drive/My Drive/musegan/musegan-main/scripts/../src/interpolation.py:177: The name tf.Session is deprecated. Please use tf.compat.v1.Session instead.\n",
      "\n",
      "tensorflow           WARNING  From /content/drive/My Drive/musegan/musegan-main/scripts/../src/interpolation.py:177: The name tf.Session is deprecated. Please use tf.compat.v1.Session instead.\n",
      "\n",
      "2021-07-28 10:57:38.796079: I tensorflow/core/platform/profile_utils/cpu_utils.cc:94] CPU Frequency: 2299995000 Hz\n",
      "2021-07-28 10:57:38.796346: I tensorflow/compiler/xla/service/service.cc:168] XLA service 0x55c52f6baf40 initialized for platform Host (this does not guarantee that XLA will be used). Devices:\n",
      "2021-07-28 10:57:38.796384: I tensorflow/compiler/xla/service/service.cc:176]   StreamExecutor device (0): Host, Default Version\n",
      "2021-07-28 10:57:38.798780: I tensorflow/stream_executor/platform/default/dso_loader.cc:44] Successfully opened dynamic library libcuda.so.1\n",
      "2021-07-28 10:57:38.810684: E tensorflow/stream_executor/cuda/cuda_driver.cc:318] failed call to cuInit: CUDA_ERROR_NO_DEVICE: no CUDA-capable device is detected\n",
      "2021-07-28 10:57:38.810742: I tensorflow/stream_executor/cuda/cuda_diagnostics.cc:156] kernel driver does not appear to be running on this host (8defbf21c7dd): /proc/driver/nvidia/version does not exist\n",
      "musegan.interpolation INFO     Restoring the latest checkpoint.\n",
      "INFO:tensorflow:Restoring parameters from /content/drive/My Drive/musegan/musegan-main/exp/default/model/model.ckpt-300450\n",
      "tensorflow           INFO     Restoring parameters from /content/drive/My Drive/musegan/musegan-main/exp/default/model/model.ckpt-300450\n"
     ]
    }
   ],
   "source": [
    "!./scripts/run_interpolation.sh \"./exp/default/\" \"0\""
   ]
  },
  {
   "cell_type": "markdown",
   "metadata": {
    "id": "z22sDLa1wTNF"
   },
   "source": [
    "Полученные результаты находятся в `./exp/default/results`, в папках `inference` и `interpolation` соответственно. В каждой папке находятся три папки с тремя разными видами тех же результатов:\n",
    "- `arrays` с файлами `.npy` - массивами numpy;\n",
    "- `images` с файлами `.png` - изображениями пианороллов;\n",
    "- `pianorolls` с файлами `.npz` - мультитрековыми пианороллами, которые можно конвертировать в MIDI-файлы с помощью `pypianoroll`.\n",
    "\n",
    "Сконвертируем все \"`.npz`\" в \"`.mid`\" рядом с оригинальными файлами."
   ]
  },
  {
   "cell_type": "code",
   "execution_count": 14,
   "metadata": {
    "id": "-JFemfkD0IW5"
   },
   "outputs": [],
   "source": [
    "from pypianoroll import Multitrack\n",
    "import os\n",
    "for subdir, dirs, files in os.walk(\"./exp/default/results/\"):\n",
    "    for f in files:\n",
    "        if f.endswith(\".npz\"):\n",
    "            m = Multitrack(os.path.join(subdir, f))\n",
    "            m.write((os.path.join(subdir, f))[:-3]+\"mid\")"
   ]
  },
  {
   "cell_type": "markdown",
   "metadata": {
    "id": "iIoTo8Cz_ORa"
   },
   "source": [
    "Результаты выложил на [свой GitHub](https://github.com/littlebomb/musegan-results). \n",
    "\n",
    "Пример инференсного результата в виде изоображения:\n",
    "\n",
    "<img src=\"https://github.com/littlebomb/musegan-results/raw/main/inference/images/fake_x_colored/fake_x_colored_0.png\">\n",
    "\n",
    "И интерполяционного:\n",
    "\n",
    "<img src=\"https://github.com/littlebomb/musegan-results/raw/main/interpolation/images/fake_x_colored/fake_x_colored_0.png\">"
   ]
  },
  {
   "cell_type": "markdown",
   "metadata": {
    "id": "41NmQVAZFf57"
   },
   "source": [
    "---\n",
    "\n",
    "## Литература\n",
    "1. MuseGAN [Электронный ресурс]. URL: https://salu133445.github.io/musegan (дата обращения 28.07.2021).\n",
    "2. salu133445/musegan: An AI for Music Generation [Электронный ресурс]. URL: https://github.com/salu133445/musegan (дата обращения 28.07.2021)."
   ]
  }
 ],
 "metadata": {
  "colab": {
   "collapsed_sections": [],
   "name": "Untitled.ipynb",
   "provenance": [],
   "toc_visible": true
  },
  "kernelspec": {
   "display_name": "Python 3",
   "language": "python",
   "name": "python3"
  },
  "language_info": {
   "codemirror_mode": {
    "name": "ipython",
    "version": 3
   },
   "file_extension": ".py",
   "mimetype": "text/x-python",
   "name": "python",
   "nbconvert_exporter": "python",
   "pygments_lexer": "ipython3",
   "version": "3.8.10"
  }
 },
 "nbformat": 4,
 "nbformat_minor": 4
}
