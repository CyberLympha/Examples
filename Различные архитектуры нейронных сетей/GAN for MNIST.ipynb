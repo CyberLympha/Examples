{
 "cells": [
  {
   "cell_type": "code",
   "execution_count": 1,
   "metadata": {
    "id": "Zuk5TFCsQq6f"
   },
   "outputs": [],
   "source": [
    "import tensorflow as tf\n",
    "import tensorflow.keras.layers as L\n",
    "from tensorflow.keras.models import Sequential, Model\n",
    "from tensorflow.keras.datasets import mnist"
   ]
  },
  {
   "cell_type": "code",
   "execution_count": 2,
   "metadata": {
    "id": "GpRfPcs3Q_3A"
   },
   "outputs": [],
   "source": [
    "import matplotlib.pyplot as plt\n",
    "import numpy as np"
   ]
  },
  {
   "cell_type": "markdown",
   "metadata": {
    "id": "lhtNqSoGRZcf"
   },
   "source": [
    "# Загрузка и предобработка данных"
   ]
  },
  {
   "cell_type": "code",
   "execution_count": 3,
   "metadata": {
    "id": "gjFLaI6sRRJe"
   },
   "outputs": [],
   "source": [
    "(X_train, _), (_, _) = mnist.load_data()"
   ]
  },
  {
   "cell_type": "code",
   "execution_count": 4,
   "metadata": {
    "colab": {
     "base_uri": "https://localhost:8080/"
    },
    "id": "S0eqfKN5RVhN",
    "outputId": "2c33a048-60b3-4e83-bcd3-c3b09385af95"
   },
   "outputs": [
    {
     "data": {
      "text/plain": [
       "(60000, 28, 28)"
      ]
     },
     "execution_count": 4,
     "metadata": {},
     "output_type": "execute_result"
    }
   ],
   "source": [
    "X_train.shape"
   ]
  },
  {
   "cell_type": "code",
   "execution_count": 5,
   "metadata": {
    "colab": {
     "base_uri": "https://localhost:8080/"
    },
    "id": "mjvzIjhgRXWl",
    "outputId": "7f259876-0843-4c22-e74c-936b087e23bb"
   },
   "outputs": [
    {
     "data": {
      "text/plain": [
       "((60000, 784), 1.0, -1.0)"
      ]
     },
     "execution_count": 5,
     "metadata": {},
     "output_type": "execute_result"
    }
   ],
   "source": [
    "X_train_p = (X_train.astype(np.float32) - 127.5) / 127.5\n",
    "X_train_p = X_train_p.reshape(X_train.shape[0], -1)\n",
    "X_train_p.shape, np.max(X_train_p), np.min(X_train_p)"
   ]
  },
  {
   "cell_type": "markdown",
   "metadata": {
    "id": "tdZXRxD3RcnB"
   },
   "source": [
    "# Постройка модели"
   ]
  },
  {
   "cell_type": "code",
   "execution_count": 6,
   "metadata": {
    "id": "eN7p0oIVRiBt"
   },
   "outputs": [],
   "source": [
    "RANDOM_SIZE = 100\n",
    "IMG_SIZE = 784"
   ]
  },
  {
   "cell_type": "code",
   "execution_count": 7,
   "metadata": {
    "id": "N68nzkxY-xtm"
   },
   "outputs": [],
   "source": [
    "adam = tf.keras.optimizers.Adam(learning_rate=0.0002, beta_1=0.5)"
   ]
  },
  {
   "cell_type": "code",
   "execution_count": 8,
   "metadata": {
    "id": "rcLalPItRfdt"
   },
   "outputs": [],
   "source": [
    "generator = Sequential()\n",
    "generator.add(L.Dense(256, input_dim=RANDOM_SIZE))\n",
    "generator.add(L.LeakyReLU(0.2))\n",
    "generator.add(L.Dense(512))\n",
    "generator.add(L.LeakyReLU(0.2))\n",
    "generator.add(L.Dense(1024))\n",
    "generator.add(L.LeakyReLU(0.2))\n",
    "generator.add(L.Dense(784, activation='tanh'))\n",
    "generator.compile(loss='binary_crossentropy', optimizer=adam)"
   ]
  },
  {
   "cell_type": "code",
   "execution_count": 9,
   "metadata": {
    "id": "Re7-1FreSDUE"
   },
   "outputs": [],
   "source": [
    "discriminator = Sequential()\n",
    "discriminator.add(L.Dense(1024, input_dim=IMG_SIZE))\n",
    "discriminator.add(L.LeakyReLU(0.2))\n",
    "discriminator.add(L.Dropout(0.3))\n",
    "discriminator.add(L.Dense(512))\n",
    "discriminator.add(L.LeakyReLU(0.2))\n",
    "discriminator.add(L.Dropout(0.3))\n",
    "discriminator.add(L.Dense(256))\n",
    "discriminator.add(L.LeakyReLU(0.2))\n",
    "discriminator.add(L.Dropout(0.3))\n",
    "discriminator.add(L.Dense(1, activation='sigmoid'))\n",
    "discriminator.compile(loss='binary_crossentropy', optimizer=adam)"
   ]
  },
  {
   "cell_type": "code",
   "execution_count": 10,
   "metadata": {
    "id": "Q7nzVIOETIp8"
   },
   "outputs": [],
   "source": [
    "discriminator.trainable = False\n",
    "ganInput = L.Input(shape=(RANDOM_SIZE,))\n",
    "x = generator(ganInput)\n",
    "ganOutput = discriminator(x)\n",
    "gan = Model(inputs=ganInput, outputs=ganOutput)"
   ]
  },
  {
   "cell_type": "code",
   "execution_count": 11,
   "metadata": {
    "id": "Q7nzVIOETIp8"
   },
   "outputs": [],
   "source": [
    "gan.compile(loss='binary_crossentropy', optimizer=adam)"
   ]
  },
  {
   "cell_type": "code",
   "execution_count": 12,
   "metadata": {
    "id": "YFSCEgh5UhIJ"
   },
   "outputs": [],
   "source": [
    "def train(epochs=1, batch_size=128):\n",
    " \n",
    "  batchCount = int(X_train_p.shape[0] / batch_size)\n",
    "\n",
    "  for epoch in range(1, epochs+1):\n",
    "    print(\"-\"*10, \"Epoch: {}\".format(epoch), \"-\"*10)\n",
    "\n",
    "    for _ in range(batchCount):\n",
    "      # обучение дискриминатора\n",
    "      idxs = np.random.choice(len(X_train_p), size=batch_size, replace=False)\n",
    "      fake = generator.predict(np.random.normal(0, 1, size=(batch_size, RANDOM_SIZE)))\n",
    "      labels = np.r_[np.ones(shape=batch_size)*0.95, np.zeros(shape=batch_size)]\n",
    "      X = np.r_[X_train_p[idxs], fake]\n",
    "      discriminator.trainable = True\n",
    "      dloss = discriminator.train_on_batch(X, labels)\n",
    "\n",
    "      # обучение генератора\n",
    "      labels = np.ones(shape=batch_size)\n",
    "      X = np.random.normal(0, 1, size=(batch_size, RANDOM_SIZE))\n",
    "      discriminator.trainable = False\n",
    "      gloss = gan.train_on_batch(X, labels)\n",
    "\n",
    "    # оценка ошибок и периодическое сохранение картинок\n",
    "    gLoss.append(gloss)\n",
    "    dLoss.append(dloss)\n",
    "\n",
    "    if epoch % 4 == 0:\n",
    "      print(\"Эпоха {}\".format(epoch))\n",
    "      print(\"gloss {}, dloss {}\".format(gloss, dloss))\n",
    "      noise = np.random.normal(0, 1, size=(1, RANDOM_SIZE))\n",
    "      imgs = generator.predict(noise)      \n",
    "      plt.imshow(imgs.reshape(28,28))\n",
    "      plt.savefig(\"./img-{}\".format(epoch))\n",
    "      discriminator.save(\"./discriminator.h5\")\n",
    "      generator.save(\"./generator.h5\")"
   ]
  },
  {
   "cell_type": "code",
   "execution_count": 13,
   "metadata": {},
   "outputs": [],
   "source": [
    "generator.load_weights(\"./generator-epoch-90.h5\")\n",
    "discriminator.load_weights(\"./discriminator-epoch-90.h5\")"
   ]
  },
  {
   "cell_type": "code",
   "execution_count": 14,
   "metadata": {
    "colab": {
     "base_uri": "https://localhost:8080/",
     "height": 810
    },
    "id": "oZLU1SN5xZcw",
    "outputId": "4c64d5e1-e9ec-4cdc-bb2a-8846848327e8"
   },
   "outputs": [
    {
     "name": "stdout",
     "output_type": "stream",
     "text": [
      "---------- Epoch: 1 ----------\n",
      "---------- Epoch: 2 ----------\n",
      "---------- Epoch: 3 ----------\n",
      "---------- Epoch: 4 ----------\n",
      "Эпоха 4\n",
      "gloss 0.7865690588951111, dloss 0.6127843856811523\n",
      "---------- Epoch: 5 ----------\n",
      "---------- Epoch: 6 ----------\n",
      "---------- Epoch: 7 ----------\n",
      "---------- Epoch: 8 ----------\n",
      "Эпоха 8\n",
      "gloss 0.9566753506660461, dloss 0.6004396080970764\n",
      "---------- Epoch: 9 ----------\n",
      "---------- Epoch: 10 ----------\n",
      "---------- Epoch: 11 ----------\n",
      "---------- Epoch: 12 ----------\n",
      "Эпоха 12\n",
      "gloss 0.9200066328048706, dloss 0.6420933604240417\n",
      "---------- Epoch: 13 ----------\n",
      "---------- Epoch: 14 ----------\n",
      "---------- Epoch: 15 ----------\n",
      "---------- Epoch: 16 ----------\n",
      "Эпоха 16\n",
      "gloss 0.9740429520606995, dloss 0.6007479429244995\n",
      "---------- Epoch: 17 ----------\n",
      "---------- Epoch: 18 ----------\n",
      "---------- Epoch: 19 ----------\n",
      "---------- Epoch: 20 ----------\n",
      "Эпоха 20\n",
      "gloss 1.0607085227966309, dloss 0.6519736051559448\n",
      "---------- Epoch: 21 ----------\n",
      "---------- Epoch: 22 ----------\n",
      "---------- Epoch: 23 ----------\n",
      "---------- Epoch: 24 ----------\n",
      "Эпоха 24\n",
      "gloss 0.9460306167602539, dloss 0.6215987801551819\n",
      "---------- Epoch: 25 ----------\n",
      "---------- Epoch: 26 ----------\n",
      "---------- Epoch: 27 ----------\n",
      "---------- Epoch: 28 ----------\n",
      "Эпоха 28\n",
      "gloss 0.9060966968536377, dloss 0.6234567165374756\n",
      "---------- Epoch: 29 ----------\n",
      "---------- Epoch: 30 ----------\n",
      "---------- Epoch: 31 ----------\n",
      "---------- Epoch: 32 ----------\n",
      "Эпоха 32\n",
      "gloss 1.1448087692260742, dloss 0.6374949216842651\n",
      "---------- Epoch: 33 ----------\n",
      "---------- Epoch: 34 ----------\n",
      "---------- Epoch: 35 ----------\n",
      "---------- Epoch: 36 ----------\n",
      "Эпоха 36\n",
      "gloss 0.8233112096786499, dloss 0.6297904253005981\n",
      "---------- Epoch: 37 ----------\n",
      "---------- Epoch: 38 ----------\n",
      "---------- Epoch: 39 ----------\n",
      "---------- Epoch: 40 ----------\n",
      "Эпоха 40\n",
      "gloss 0.8720532059669495, dloss 0.6108007431030273\n",
      "---------- Epoch: 41 ----------\n",
      "---------- Epoch: 42 ----------\n",
      "---------- Epoch: 43 ----------\n",
      "---------- Epoch: 44 ----------\n",
      "Эпоха 44\n",
      "gloss 0.9378666877746582, dloss 0.659827470779419\n",
      "---------- Epoch: 45 ----------\n",
      "---------- Epoch: 46 ----------\n",
      "---------- Epoch: 47 ----------\n",
      "---------- Epoch: 48 ----------\n",
      "Эпоха 48\n",
      "gloss 0.9792294502258301, dloss 0.6494879722595215\n",
      "---------- Epoch: 49 ----------\n",
      "---------- Epoch: 50 ----------\n",
      "---------- Epoch: 51 ----------\n",
      "---------- Epoch: 52 ----------\n",
      "Эпоха 52\n",
      "gloss 1.0582078695297241, dloss 0.6415910720825195\n",
      "---------- Epoch: 53 ----------\n",
      "---------- Epoch: 54 ----------\n",
      "---------- Epoch: 55 ----------\n",
      "---------- Epoch: 56 ----------\n",
      "Эпоха 56\n",
      "gloss 0.9546387195587158, dloss 0.6203857064247131\n",
      "---------- Epoch: 57 ----------\n",
      "---------- Epoch: 58 ----------\n",
      "---------- Epoch: 59 ----------\n",
      "---------- Epoch: 60 ----------\n",
      "Эпоха 60\n",
      "gloss 1.0200777053833008, dloss 0.6448143720626831\n",
      "---------- Epoch: 61 ----------\n",
      "---------- Epoch: 62 ----------\n",
      "---------- Epoch: 63 ----------\n",
      "---------- Epoch: 64 ----------\n",
      "Эпоха 64\n",
      "gloss 1.0579679012298584, dloss 0.6457422971725464\n",
      "---------- Epoch: 65 ----------\n",
      "---------- Epoch: 66 ----------\n",
      "---------- Epoch: 67 ----------\n",
      "---------- Epoch: 68 ----------\n",
      "Эпоха 68\n",
      "gloss 0.9388110637664795, dloss 0.6257258057594299\n",
      "---------- Epoch: 69 ----------\n",
      "---------- Epoch: 70 ----------\n",
      "---------- Epoch: 71 ----------\n",
      "---------- Epoch: 72 ----------\n",
      "Эпоха 72\n",
      "gloss 0.9394125938415527, dloss 0.6577664017677307\n",
      "---------- Epoch: 73 ----------\n",
      "---------- Epoch: 74 ----------\n",
      "---------- Epoch: 75 ----------\n",
      "---------- Epoch: 76 ----------\n",
      "Эпоха 76\n",
      "gloss 0.9420765042304993, dloss 0.6498700976371765\n",
      "---------- Epoch: 77 ----------\n",
      "---------- Epoch: 78 ----------\n",
      "---------- Epoch: 79 ----------\n",
      "---------- Epoch: 80 ----------\n",
      "Эпоха 80\n",
      "gloss 0.9980217814445496, dloss 0.6368827819824219\n",
      "---------- Epoch: 81 ----------\n",
      "---------- Epoch: 82 ----------\n",
      "---------- Epoch: 83 ----------\n",
      "---------- Epoch: 84 ----------\n",
      "Эпоха 84\n",
      "gloss 1.1311242580413818, dloss 0.6541445851325989\n",
      "---------- Epoch: 85 ----------\n",
      "---------- Epoch: 86 ----------\n",
      "---------- Epoch: 87 ----------\n",
      "---------- Epoch: 88 ----------\n",
      "Эпоха 88\n",
      "gloss 0.8504586219787598, dloss 0.6349471807479858\n",
      "---------- Epoch: 89 ----------\n",
      "---------- Epoch: 90 ----------\n",
      "---------- Epoch: 91 ----------\n",
      "---------- Epoch: 92 ----------\n",
      "Эпоха 92\n",
      "gloss 0.9217042922973633, dloss 0.6170120239257812\n",
      "---------- Epoch: 93 ----------\n",
      "---------- Epoch: 94 ----------\n",
      "---------- Epoch: 95 ----------\n",
      "---------- Epoch: 96 ----------\n",
      "Эпоха 96\n",
      "gloss 1.0731244087219238, dloss 0.6470656991004944\n",
      "---------- Epoch: 97 ----------\n",
      "---------- Epoch: 98 ----------\n",
      "---------- Epoch: 99 ----------\n",
      "---------- Epoch: 100 ----------\n",
      "Эпоха 100\n",
      "gloss 0.9506253004074097, dloss 0.6245545148849487\n"
     ]
    },
    {
     "data": {
      "image/png": "[encoded data removed]",
      "text/plain": [
       "<Figure size 432x288 with 1 Axes>"
      ]
     },
     "metadata": {
      "needs_background": "light"
     },
     "output_type": "display_data"
    }
   ],
   "source": [
    "dLoss = []\n",
    "gLoss = []\n",
    "train(20, 128)"
   ]
  },
  {
   "cell_type": "code",
   "execution_count": 15,
   "metadata": {
    "colab": {
     "base_uri": "https://localhost:8080/",
     "height": 207
    },
    "id": "2636c8vaxkjO",
    "outputId": "ea2d6403-0f41-4136-e2b9-7e33794cae9b"
   },
   "outputs": [
    {
     "data": {
      "image/png": "[encoded data removed]",
      "text/plain": [
       "<Figure size 432x288 with 1 Axes>"
      ]
     },
     "metadata": {
      "needs_background": "light"
     },
     "output_type": "display_data"
    }
   ],
   "source": [
    "plt.plot(gLoss, label=\"generator loss\")\n",
    "plt.plot(dLoss, label=\"discriminator loss\")\n",
    "plt.show()"
   ]
  },
  {
   "cell_type": "code",
   "execution_count": 16,
   "metadata": {},
   "outputs": [
    {
     "name": "stdout",
     "output_type": "stream",
     "text": [
      "discriminator-epoch-10.h5  discriminator-epoch-60.h5  generator-epoch-40.h5\r\n",
      "discriminator-epoch-15.h5  discriminator-epoch-65.h5  generator-epoch-45.h5\r\n",
      "discriminator-epoch-1.h5   discriminator-epoch-70.h5  generator-epoch-50.h5\r\n",
      "discriminator-epoch-20.h5  discriminator-epoch-80.h5  generator-epoch-55.h5\r\n",
      "discriminator-epoch-25.h5  discriminator-epoch-90.h5  generator-epoch-5.h5\r\n",
      "discriminator-epoch-30.h5  generator-epoch-10.h5      generator-epoch-60.h5\r\n",
      "discriminator-epoch-35.h5  generator-epoch-15.h5      generator-epoch-65.h5\r\n",
      "discriminator-epoch-40.h5  generator-epoch-1.h5       generator-epoch-70.h5\r\n",
      "discriminator-epoch-45.h5  generator-epoch-20.h5      generator-epoch-80.h5\r\n",
      "discriminator-epoch-50.h5  generator-epoch-25.h5      generator-epoch-90.h5\r\n",
      "discriminator-epoch-55.h5  generator-epoch-30.h5\r\n",
      "discriminator-epoch-5.h5   generator-epoch-35.h5\r\n"
     ]
    }
   ],
   "source": [
    "!ls *epoch*"
   ]
  },
  {
   "cell_type": "markdown",
   "metadata": {
    "id": "s1VqS5dZK72d"
   },
   "source": [
    "### Анализ полученных результатов"
   ]
  },
  {
   "cell_type": "code",
   "execution_count": 17,
   "metadata": {
    "colab": {
     "base_uri": "https://localhost:8080/",
     "height": 248
    },
    "id": "13ci9g-VLuJm",
    "outputId": "3a50ecb9-b5f5-4781-e66a-05b1be203f95"
   },
   "outputs": [
    {
     "data": {
      "image/png": "[encoded data removed]",
      "text/plain": [
       "<Figure size 432x288 with 1 Axes>"
      ]
     },
     "metadata": {
      "needs_background": "light"
     },
     "output_type": "display_data"
    }
   ],
   "source": [
    "generator.load_weights(\"./generator-epoch-90.h5\")\n",
    "\n",
    "result = generator.predict(np.random.normal(0,1, size=(1,RANDOM_SIZE)))\n",
    "plt.imshow(result.reshape(28,28), cmap='gray')\n",
    "plt.axis(\"off\")\n",
    "plt.show()"
   ]
  },
  {
   "cell_type": "code",
   "execution_count": null,
   "metadata": {},
   "outputs": [],
   "source": []
  },
  {
   "cell_type": "markdown",
   "metadata": {},
   "source": [
    "# DCGAN"
   ]
  },
  {
   "cell_type": "code",
   "execution_count": null,
   "metadata": {},
   "outputs": [],
   "source": []
  },
  {
   "cell_type": "code",
   "execution_count": null,
   "metadata": {},
   "outputs": [],
   "source": []
  },
  {
   "cell_type": "markdown",
   "metadata": {},
   "source": [
    "# DCGAN для фото знаменитостей"
   ]
  },
  {
   "cell_type": "code",
   "execution_count": null,
   "metadata": {},
   "outputs": [],
   "source": []
  }
 ],
 "metadata": {
  "colab": {
   "name": "GAN",
   "provenance": []
  },
  "kernelspec": {
   "display_name": "Python 3",
   "language": "python",
   "name": "python3"
  },
  "language_info": {
   "codemirror_mode": {
    "name": "ipython",
    "version": 3
   },
   "file_extension": ".py",
   "mimetype": "text/x-python",
   "name": "python",
   "nbconvert_exporter": "python",
   "pygments_lexer": "ipython3",
   "version": "3.9.2"
  }
 },
 "nbformat": 4,
 "nbformat_minor": 1
}
