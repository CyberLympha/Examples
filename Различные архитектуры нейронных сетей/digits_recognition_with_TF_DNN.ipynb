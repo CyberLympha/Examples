{
 "cells": [
  {
   "cell_type": "code",
   "execution_count": 1,
   "id": "positive-region",
   "metadata": {},
   "outputs": [],
   "source": [
    "from tensorflow.keras.models import Sequential\n",
    "from tensorflow.keras.layers import Dense, Dropout, Input\n",
    "from tensorflow.keras.utils import to_categorical\n",
    "\n",
    "from sklearn.datasets import load_digits\n",
    "from sklearn.model_selection import train_test_split\n",
    "\n",
    "import matplotlib.pyplot as plt"
   ]
  },
  {
   "cell_type": "code",
   "execution_count": 2,
   "id": "fifteen-birthday",
   "metadata": {},
   "outputs": [],
   "source": [
    "data = load_digits()"
   ]
  },
  {
   "cell_type": "code",
   "execution_count": 3,
   "id": "inside-gentleman",
   "metadata": {},
   "outputs": [],
   "source": [
    "X_train, X_test, y_train, y_test = train_test_split(data.data, \n",
    "                                                    data.target, \n",
    "                                                    test_size=0.3, \n",
    "                                                    shuffle=True, \n",
    "                                                    stratify=data.target)\n",
    "y_train_ohe = to_categorical(y_train)\n",
    "y_test_ohe = to_categorical(y_test)"
   ]
  },
  {
   "cell_type": "code",
   "execution_count": 4,
   "id": "equivalent-worker",
   "metadata": {},
   "outputs": [
    {
     "data": {
      "text/plain": [
       "((1257, 64), (1257,), (540, 64), (540,))"
      ]
     },
     "execution_count": 4,
     "metadata": {},
     "output_type": "execute_result"
    }
   ],
   "source": [
    "X_train.shape, y_train.shape, X_test.shape, y_test.shape"
   ]
  },
  {
   "cell_type": "code",
   "execution_count": 5,
   "id": "hydraulic-agenda",
   "metadata": {},
   "outputs": [
    {
     "data": {
      "text/plain": [
       "((1257, 10), (540, 10))"
      ]
     },
     "execution_count": 5,
     "metadata": {},
     "output_type": "execute_result"
    }
   ],
   "source": [
    "y_train_ohe.shape, y_test_ohe.shape"
   ]
  },
  {
   "cell_type": "code",
   "execution_count": 6,
   "id": "ignored-convergence",
   "metadata": {},
   "outputs": [],
   "source": [
    "model = Sequential()\n",
    "model.add(Input(shape=(64,)))\n",
    "model.add(Dense(64, activation='relu'))\n",
    "model.add(Dropout(0.1))\n",
    "model.add(Dense(10, activation='softmax'))"
   ]
  },
  {
   "cell_type": "code",
   "execution_count": 7,
   "id": "weighted-provision",
   "metadata": {},
   "outputs": [],
   "source": [
    "model.compile(optimizer='SGD', loss='categorical_crossentropy', metrics=['accuracy',])"
   ]
  },
  {
   "cell_type": "code",
   "execution_count": 8,
   "id": "comparable-intention",
   "metadata": {},
   "outputs": [
    {
     "name": "stdout",
     "output_type": "stream",
     "text": [
      "Model: \"sequential\"\n",
      "_________________________________________________________________\n",
      "Layer (type)                 Output Shape              Param #   \n",
      "=================================================================\n",
      "dense (Dense)                (None, 64)                4160      \n",
      "_________________________________________________________________\n",
      "dropout (Dropout)            (None, 64)                0         \n",
      "_________________________________________________________________\n",
      "dense_1 (Dense)              (None, 10)                650       \n",
      "=================================================================\n",
      "Total params: 4,810\n",
      "Trainable params: 4,810\n",
      "Non-trainable params: 0\n",
      "_________________________________________________________________\n"
     ]
    }
   ],
   "source": [
    "model.summary()"
   ]
  },
  {
   "cell_type": "code",
   "execution_count": 9,
   "id": "heated-sociology",
   "metadata": {},
   "outputs": [
    {
     "name": "stdout",
     "output_type": "stream",
     "text": [
      "Epoch 1/20\n",
      "40/40 [==============================] - 0s 3ms/step - loss: 2.1990 - accuracy: 0.5076 - val_loss: 0.7703 - val_accuracy: 0.7611\n",
      "Epoch 2/20\n",
      "40/40 [==============================] - 0s 757us/step - loss: 0.6012 - accuracy: 0.8083 - val_loss: 0.4305 - val_accuracy: 0.8574\n",
      "Epoch 3/20\n",
      "40/40 [==============================] - 0s 725us/step - loss: 0.4323 - accuracy: 0.8473 - val_loss: 0.3162 - val_accuracy: 0.8926\n",
      "Epoch 4/20\n",
      "40/40 [==============================] - 0s 704us/step - loss: 0.3323 - accuracy: 0.8854 - val_loss: 0.2944 - val_accuracy: 0.9093\n",
      "Epoch 5/20\n",
      "40/40 [==============================] - 0s 727us/step - loss: 0.2554 - accuracy: 0.9204 - val_loss: 0.2631 - val_accuracy: 0.9019\n",
      "Epoch 6/20\n",
      "40/40 [==============================] - 0s 733us/step - loss: 0.2453 - accuracy: 0.9252 - val_loss: 0.2218 - val_accuracy: 0.9148\n",
      "Epoch 7/20\n",
      "40/40 [==============================] - 0s 717us/step - loss: 0.2024 - accuracy: 0.9348 - val_loss: 0.2050 - val_accuracy: 0.9352\n",
      "Epoch 8/20\n",
      "40/40 [==============================] - 0s 734us/step - loss: 0.1922 - accuracy: 0.9372 - val_loss: 0.1966 - val_accuracy: 0.9296\n",
      "Epoch 9/20\n",
      "40/40 [==============================] - 0s 750us/step - loss: 0.1735 - accuracy: 0.9475 - val_loss: 0.2112 - val_accuracy: 0.9185\n",
      "Epoch 10/20\n",
      "40/40 [==============================] - 0s 729us/step - loss: 0.1525 - accuracy: 0.9483 - val_loss: 0.1769 - val_accuracy: 0.9389\n",
      "Epoch 11/20\n",
      "40/40 [==============================] - 0s 739us/step - loss: 0.1539 - accuracy: 0.9499 - val_loss: 0.1825 - val_accuracy: 0.9352\n",
      "Epoch 12/20\n",
      "40/40 [==============================] - 0s 780us/step - loss: 0.1365 - accuracy: 0.9539 - val_loss: 0.1737 - val_accuracy: 0.9370\n",
      "Epoch 13/20\n",
      "40/40 [==============================] - 0s 748us/step - loss: 0.1311 - accuracy: 0.9610 - val_loss: 0.1679 - val_accuracy: 0.9352\n",
      "Epoch 14/20\n",
      "40/40 [==============================] - 0s 750us/step - loss: 0.1243 - accuracy: 0.9634 - val_loss: 0.1693 - val_accuracy: 0.9370\n",
      "Epoch 15/20\n",
      "40/40 [==============================] - 0s 734us/step - loss: 0.1085 - accuracy: 0.9690 - val_loss: 0.1492 - val_accuracy: 0.9444\n",
      "Epoch 16/20\n",
      "40/40 [==============================] - 0s 770us/step - loss: 0.1010 - accuracy: 0.9658 - val_loss: 0.1549 - val_accuracy: 0.9463\n",
      "Epoch 17/20\n",
      "40/40 [==============================] - 0s 740us/step - loss: 0.1136 - accuracy: 0.9650 - val_loss: 0.1489 - val_accuracy: 0.9481\n",
      "Epoch 18/20\n",
      "40/40 [==============================] - 0s 751us/step - loss: 0.1100 - accuracy: 0.9674 - val_loss: 0.1430 - val_accuracy: 0.9481\n",
      "Epoch 19/20\n",
      "40/40 [==============================] - 0s 732us/step - loss: 0.1082 - accuracy: 0.9682 - val_loss: 0.1360 - val_accuracy: 0.9519\n",
      "Epoch 20/20\n",
      "40/40 [==============================] - 0s 758us/step - loss: 0.0886 - accuracy: 0.9769 - val_loss: 0.1417 - val_accuracy: 0.9444\n"
     ]
    }
   ],
   "source": [
    "history = model.fit(X_train, \n",
    "                    y_train_ohe, \n",
    "                    validation_data=(X_test, y_test_ohe), \n",
    "                    epochs=20, \n",
    "                    verbose=1)"
   ]
  },
  {
   "cell_type": "code",
   "execution_count": 10,
   "id": "handed-garage",
   "metadata": {},
   "outputs": [
    {
     "data": {
      "image/png": "[encoded data removed]",
      "text/plain": [
       "<Figure size 432x288 with 1 Axes>"
      ]
     },
     "metadata": {
      "needs_background": "light"
     },
     "output_type": "display_data"
    }
   ],
   "source": [
    "plt.plot(history.history['accuracy'], label='train accuracy')\n",
    "plt.plot(history.history['val_accuracy'], label='test accuracy')\n",
    "plt.legend()\n",
    "plt.show()"
   ]
  },
  {
   "cell_type": "code",
   "execution_count": 11,
   "id": "occupied-study",
   "metadata": {},
   "outputs": [
    {
     "data": {
      "image/png": "[encoded data removed]",
      "text/plain": [
       "<Figure size 432x288 with 2 Axes>"
      ]
     },
     "metadata": {
      "needs_background": "light"
     },
     "output_type": "display_data"
    }
   ],
   "source": [
    "num = 25\n",
    "\n",
    "result = model.predict(X_test[num].reshape(-1,64)).squeeze()\n",
    "\n",
    "plt.subplot(121)\n",
    "plt.bar(x=range(10), height=result)\n",
    "plt.xticks(range(10))\n",
    "\n",
    "plt.subplot(122)\n",
    "plt.imshow(X_test[num].reshape(8,8))\n",
    "\n",
    "plt.show()"
   ]
  },
  {
   "cell_type": "code",
   "execution_count": null,
   "id": "gentle-edwards",
   "metadata": {},
   "outputs": [],
   "source": []
  }
 ],
 "metadata": {
  "kernelspec": {
   "display_name": "Python 3",
   "language": "python",
   "name": "python3"
  },
  "language_info": {
   "codemirror_mode": {
    "name": "ipython",
    "version": 3
   },
   "file_extension": ".py",
   "mimetype": "text/x-python",
   "name": "python",
   "nbconvert_exporter": "python",
   "pygments_lexer": "ipython3",
   "version": "3.9.2"
  }
 },
 "nbformat": 4,
 "nbformat_minor": 5
}
