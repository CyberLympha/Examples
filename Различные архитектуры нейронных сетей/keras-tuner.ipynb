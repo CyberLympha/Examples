{
 "cells": [
  {
   "cell_type": "code",
   "execution_count": null,
   "id": "6a8bb2ef-2907-4a8e-bbf6-f3895ba18869",
   "metadata": {},
   "outputs": [],
   "source": [
    "from tense"
   ]
  }
 ],
 "metadata": {
  "kernelspec": {
   "display_name": "Python 3 (ipykernel)",
   "language": "python",
   "name": "python3"
  },
  "language_info": {
   "codemirror_mode": {
    "name": "ipython",
    "version": 3
   },
   "file_extension": ".py",
   "mimetype": "text/x-python",
   "name": "python",
   "nbconvert_exporter": "python",
   "pygments_lexer": "ipython3",
   "version": "3.9.7"
  }
 },
 "nbformat": 4,
 "nbformat_minor": 5
}
