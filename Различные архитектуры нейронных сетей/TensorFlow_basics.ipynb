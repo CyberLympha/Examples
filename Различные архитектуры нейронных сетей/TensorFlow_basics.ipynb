{
 "cells": [
  {
   "cell_type": "code",
   "execution_count": 1,
   "metadata": {
    "id": "ShXvA_UalUde"
   },
   "outputs": [],
   "source": [
    "import numpy as np\n",
    "import matplotlib.pyplot as plt\n",
    "\n",
    "import warnings\n",
    "warnings.filterwarnings('ignore')"
   ]
  },
  {
   "cell_type": "markdown",
   "metadata": {
    "id": "giQvUno4zdzE"
   },
   "source": [
    "# Основы работы с TensorFlow"
   ]
  },
  {
   "cell_type": "markdown",
   "metadata": {},
   "source": [
    "## Установка"
   ]
  },
  {
   "cell_type": "code",
   "execution_count": 2,
   "metadata": {
    "colab": {
     "base_uri": "https://localhost:8080/"
    },
    "id": "eMqXVA4fiM5Z",
    "outputId": "575c430d-6ec0-40cf-d3a6-b5e620a2a478"
   },
   "outputs": [
    {
     "name": "stdout",
     "output_type": "stream",
     "text": [
      "Linux bruteforce 5.2.0-kali2-amd64 #1 SMP Debian 5.2.9-2kali1 (2019-08-22) x86_64 GNU/Linux\r\n"
     ]
    }
   ],
   "source": [
    "!uname -a"
   ]
  },
  {
   "cell_type": "markdown",
   "metadata": {},
   "source": [
    "!pip install tensorflow\n",
    "\n",
    "!pip install tensorflow-gpu"
   ]
  },
  {
   "cell_type": "markdown",
   "metadata": {},
   "source": [
    "### Импорт библиотеки"
   ]
  },
  {
   "cell_type": "code",
   "execution_count": 3,
   "metadata": {
    "colab": {
     "base_uri": "https://localhost:8080/"
    },
    "id": "bWyhSYpciV6n",
    "outputId": "8e7afc6f-a29f-4433-fb5c-33cdacbb3f54"
   },
   "outputs": [
    {
     "name": "stdout",
     "output_type": "stream",
     "text": [
      "2.6.0\n"
     ]
    }
   ],
   "source": [
    "import tensorflow as tf\n",
    "print(tf.__version__)"
   ]
  },
  {
   "cell_type": "markdown",
   "metadata": {
    "id": "_WscPwEAzj-x"
   },
   "source": [
    "## Создание переменных и выполнение операций."
   ]
  },
  {
   "cell_type": "code",
   "execution_count": 4,
   "metadata": {},
   "outputs": [],
   "source": [
    "tf.compat.v1.disable_eager_execution()"
   ]
  },
  {
   "cell_type": "code",
   "execution_count": 5,
   "metadata": {},
   "outputs": [],
   "source": [
    "a = tf.Variable(1.)\n",
    "b = tf.Variable(2.)\n",
    "op = a+b\n",
    "\n",
    "s = tf.compat.v1.Session()\n",
    "s.run(tf.compat.v1.global_variables_initializer())\n",
    "s.run(op)\n",
    "s.close()"
   ]
  },
  {
   "cell_type": "markdown",
   "metadata": {
    "id": "aHKAmjQwz177"
   },
   "source": [
    "## Решение задач оптимизации (поиск минимума)."
   ]
  },
  {
   "cell_type": "code",
   "execution_count": 6,
   "metadata": {
    "colab": {
     "base_uri": "https://localhost:8080/",
     "height": 264
    },
    "id": "TqrmHW8nkcJd",
    "outputId": "658c4106-52f1-4b09-c689-786dac1ad328"
   },
   "outputs": [
    {
     "data": {
      "image/png": "[encoded data removed]",
      "text/plain": [
       "<Figure size 432x288 with 1 Axes>"
      ]
     },
     "metadata": {
      "needs_background": "light"
     },
     "output_type": "display_data"
    }
   ],
   "source": [
    "xs = np.linspace(-10, 10, 100)\n",
    "ys = np.power(xs, 2) + 10*np.cos(xs)\n",
    "\n",
    "plt.plot(xs, ys, c='b')\n",
    "plt.grid(True)\n",
    "plt.show()"
   ]
  },
  {
   "cell_type": "code",
   "execution_count": 7,
   "metadata": {
    "id": "ten9zPvhlxFn"
   },
   "outputs": [],
   "source": [
    "t_xs = tf.Variable([10.])\n",
    "t_ys = tf.pow(t_xs, 2) + 10*tf.cos(t_xs)"
   ]
  },
  {
   "cell_type": "code",
   "execution_count": 8,
   "metadata": {
    "id": "KyAn9GI7mid8"
   },
   "outputs": [],
   "source": [
    "optimizer = tf.compat.v1.train.GradientDescentOptimizer(learning_rate=0.001)"
   ]
  },
  {
   "cell_type": "code",
   "execution_count": 9,
   "metadata": {
    "id": "l3JJrwx5nCIO"
   },
   "outputs": [],
   "source": [
    "step = optimizer.minimize(t_ys)"
   ]
  },
  {
   "cell_type": "code",
   "execution_count": 10,
   "metadata": {
    "colab": {
     "base_uri": "https://localhost:8080/"
    },
    "id": "14vRdBvInKs9",
    "outputId": "df81d3f7-f4ea-49c7-dfd1-5fcbbc1a57c0"
   },
   "outputs": [
    {
     "name": "stdout",
     "output_type": "stream",
     "text": [
      "[10.] [91.60928]\n",
      "[8.47005] [65.96344]\n",
      "[7.797102] [61.36329]\n",
      "[7.225294] [58.085712]\n",
      "[6.3769693] [50.62179]\n",
      "[4.7133317] [22.224924]\n",
      "[3.2967143] [0.9883976]\n",
      "[2.8198197] [-1.5353789]\n",
      "[2.6708434] [-1.7788825]\n",
      "[2.621447] [-1.8054833]\n"
     ]
    }
   ],
   "source": [
    "x_r, y_r = [], []\n",
    "s = tf.compat.v1.Session()\n",
    "s.run(tf.compat.v1.global_variables_initializer())\n",
    "\n",
    "for i in range(1000):\n",
    "  _, x, y = s.run([step, t_xs, t_ys])\n",
    "  if i%100==0:\n",
    "    print(x, y)\n",
    "    x_r.append(x)\n",
    "    y_r.append(y)\n",
    "\n",
    "s.close()"
   ]
  },
  {
   "cell_type": "code",
   "execution_count": 11,
   "metadata": {
    "colab": {
     "base_uri": "https://localhost:8080/",
     "height": 320
    },
    "id": "o2fks3qWoERV",
    "outputId": "b82fd1fa-9444-4d46-ad6a-4bddb1852d2a"
   },
   "outputs": [
    {
     "data": {
      "image/png": "[encoded data removed]",
      "text/plain": [
       "<Figure size 1440x360 with 1 Axes>"
      ]
     },
     "metadata": {
      "needs_background": "light"
     },
     "output_type": "display_data"
    }
   ],
   "source": [
    "plt.figure(figsize=(20,5))\n",
    "plt.scatter(xs, ys, c='b')\n",
    "plt.scatter(x_r, y_r, c='r', s=100)\n",
    "plt.grid(True)\n",
    "plt.show()"
   ]
  },
  {
   "cell_type": "markdown",
   "metadata": {
    "id": "XMs5yS__1o-i"
   },
   "source": [
    "На рисунке показаны промежуточные значения поиска минимума."
   ]
  },
  {
   "cell_type": "markdown",
   "metadata": {
    "id": "szlUdF-U1QlV"
   },
   "source": [
    "## Построение линейной регрессии."
   ]
  },
  {
   "cell_type": "code",
   "execution_count": 12,
   "metadata": {
    "colab": {
     "base_uri": "https://localhost:8080/",
     "height": 264
    },
    "id": "b5uF342_oICY",
    "outputId": "a88819cf-ea40-4048-a16d-597e0c6964d5"
   },
   "outputs": [
    {
     "data": {
      "image/png": "[encoded data removed]",
      "text/plain": [
       "<Figure size 432x288 with 1 Axes>"
      ]
     },
     "metadata": {
      "needs_background": "light"
     },
     "output_type": "display_data"
    }
   ],
   "source": [
    "xs = np.linspace(0, 10, 50)\n",
    "ys = xs**2 + np.random.random(50)*10\n",
    "plt.scatter(xs, ys)\n",
    "plt.show()"
   ]
  },
  {
   "cell_type": "code",
   "execution_count": 13,
   "metadata": {
    "id": "Kb99HVoSp_zW"
   },
   "outputs": [],
   "source": [
    "X = tf.compat.v1.placeholder(dtype=tf.float32)\n",
    "Y = tf.compat.v1.placeholder(dtype=tf.float32)"
   ]
  },
  {
   "cell_type": "code",
   "execution_count": 14,
   "metadata": {
    "colab": {
     "base_uri": "https://localhost:8080/"
    },
    "id": "4MJQBw8xqZk7",
    "outputId": "5d6a3428-1bc1-45c3-a990-3a398d6ed575"
   },
   "outputs": [
    {
     "data": {
      "text/plain": [
       "<tf.Tensor 'Placeholder:0' shape=<unknown> dtype=float32>"
      ]
     },
     "execution_count": 14,
     "metadata": {},
     "output_type": "execute_result"
    }
   ],
   "source": [
    "X"
   ]
  },
  {
   "cell_type": "code",
   "execution_count": 15,
   "metadata": {
    "id": "7NLMG68JqaJM"
   },
   "outputs": [],
   "source": [
    "def model(X,w):\n",
    "    return tf.multiply(X,w)"
   ]
  },
  {
   "cell_type": "code",
   "execution_count": 16,
   "metadata": {
    "id": "XvmBd0V4qyTe"
   },
   "outputs": [],
   "source": [
    "w = tf.Variable([0.], dtype=tf.float32)"
   ]
  },
  {
   "cell_type": "code",
   "execution_count": 17,
   "metadata": {
    "id": "DmGD736Pq4yW"
   },
   "outputs": [],
   "source": [
    "y_model = model(X,w)"
   ]
  },
  {
   "cell_type": "code",
   "execution_count": 18,
   "metadata": {
    "id": "HRKYNtmwq8Ru"
   },
   "outputs": [],
   "source": [
    "loss = tf.sqrt(tf.reduce_sum(tf.pow(tf.subtract(y_model, Y), 2)))"
   ]
  },
  {
   "cell_type": "code",
   "execution_count": 19,
   "metadata": {
    "id": "Mc3abTYDrvlz"
   },
   "outputs": [
    {
     "name": "stdout",
     "output_type": "stream",
     "text": [
      "WARNING:tensorflow:From /usr/local/lib/python3.9/dist-packages/tensorflow/python/training/rmsprop.py:123: calling Ones.__init__ (from tensorflow.python.ops.init_ops) with dtype is deprecated and will be removed in a future version.\n",
      "Instructions for updating:\n",
      "Call initializer instance with the dtype argument instead of passing it to the constructor\n"
     ]
    }
   ],
   "source": [
    "optimizer = tf.compat.v1.train.RMSPropOptimizer(0.01)\n",
    "step = optimizer.minimize(loss)"
   ]
  },
  {
   "cell_type": "code",
   "execution_count": 20,
   "metadata": {
    "colab": {
     "base_uri": "https://localhost:8080/"
    },
    "id": "l25OYT8fsPFv",
    "outputId": "5a05acb2-8cf5-4edc-c57f-e1bd502db18f"
   },
   "outputs": [
    {
     "name": "stdout",
     "output_type": "stream",
     "text": [
      "[8.354576]\n"
     ]
    }
   ],
   "source": [
    "s = tf.compat.v1.Session()\n",
    "s.run(tf.compat.v1.global_variables_initializer())\n",
    "\n",
    "for epoch in range(1000):\n",
    "    s.run(step, feed_dict={X:xs, Y:ys})\n",
    "\n",
    "result = s.run(w)\n",
    "\n",
    "print(result)\n",
    "s.close()"
   ]
  },
  {
   "cell_type": "code",
   "execution_count": 21,
   "metadata": {
    "colab": {
     "base_uri": "https://localhost:8080/",
     "height": 264
    },
    "id": "aJoYPgLetTXi",
    "outputId": "8d2f88bb-462e-4431-9090-0c7cf9dae06e"
   },
   "outputs": [
    {
     "data": {
      "image/png": "[encoded data removed]",
      "text/plain": [
       "<Figure size 432x288 with 1 Axes>"
      ]
     },
     "metadata": {
      "needs_background": "light"
     },
     "output_type": "display_data"
    }
   ],
   "source": [
    "plt.scatter(xs, ys)\n",
    "plt.plot(xs, xs*result[0], c='r')\n",
    "plt.show()"
   ]
  },
  {
   "cell_type": "markdown",
   "metadata": {},
   "source": [
    "## Простая нейронная сеть"
   ]
  },
  {
   "cell_type": "code",
   "execution_count": 22,
   "metadata": {
    "id": "05BdJUE5t6q7"
   },
   "outputs": [],
   "source": [
    "from tensorflow.keras.models import Sequential\n",
    "from tensorflow.keras.layers import Dense, Input\n",
    "\n",
    "from sklearn.datasets import load_digits\n",
    "from sklearn.model_selection import train_test_split"
   ]
  },
  {
   "cell_type": "code",
   "execution_count": 23,
   "metadata": {
    "id": "9ghynQXNwHiv"
   },
   "outputs": [],
   "source": [
    "model = Sequential()\n",
    "model.add(Input(shape=64))\n",
    "model.add(Dense(64, activation='sigmoid'))\n",
    "model.add(Dense(10, activation='softmax'))\n",
    "model.compile(optimizer='adam', loss='categorical_crossentropy', metrics=['accuracy'])"
   ]
  },
  {
   "cell_type": "code",
   "execution_count": 24,
   "metadata": {},
   "outputs": [
    {
     "name": "stdout",
     "output_type": "stream",
     "text": [
      "Model: \"sequential\"\n",
      "_________________________________________________________________\n",
      "Layer (type)                 Output Shape              Param #   \n",
      "=================================================================\n",
      "dense (Dense)                (None, 64)                4160      \n",
      "_________________________________________________________________\n",
      "dense_1 (Dense)              (None, 10)                650       \n",
      "=================================================================\n",
      "Total params: 4,810\n",
      "Trainable params: 4,810\n",
      "Non-trainable params: 0\n",
      "_________________________________________________________________\n"
     ]
    }
   ],
   "source": [
    "model.summary()"
   ]
  },
  {
   "cell_type": "code",
   "execution_count": 25,
   "metadata": {},
   "outputs": [],
   "source": [
    "data = load_digits()\n",
    "X = data.data\n",
    "y = tf.keras.utils.to_categorical(data.target)"
   ]
  },
  {
   "cell_type": "code",
   "execution_count": 26,
   "metadata": {},
   "outputs": [
    {
     "data": {
      "text/plain": [
       "((1257, 64), (1257, 10), (540, 64), (540, 10))"
      ]
     },
     "execution_count": 26,
     "metadata": {},
     "output_type": "execute_result"
    }
   ],
   "source": [
    "X_train, X_test, y_train, y_test = train_test_split(X, y, test_size=0.3)\n",
    "X_train.shape, y_train.shape, X_test.shape, y_test.shape"
   ]
  },
  {
   "cell_type": "code",
   "execution_count": 27,
   "metadata": {},
   "outputs": [
    {
     "name": "stdout",
     "output_type": "stream",
     "text": [
      "Train on 1257 samples, validate on 540 samples\n",
      "Epoch 1/10\n",
      "1257/1257 - 0s - loss: 2.1240 - accuracy: 0.3381 - val_loss: 1.7383 - val_accuracy: 0.5889\n",
      "Epoch 2/10\n",
      "1257/1257 - 0s - loss: 1.4493 - accuracy: 0.7367 - val_loss: 1.2631 - val_accuracy: 0.7852\n",
      "Epoch 3/10\n",
      "1257/1257 - 0s - loss: 1.0555 - accuracy: 0.8481 - val_loss: 0.9735 - val_accuracy: 0.8481\n",
      "Epoch 4/10\n",
      "1257/1257 - 0s - loss: 0.8081 - accuracy: 0.9045 - val_loss: 0.7887 - val_accuracy: 0.8667\n",
      "Epoch 5/10\n",
      "1257/1257 - 0s - loss: 0.6427 - accuracy: 0.9196 - val_loss: 0.6403 - val_accuracy: 0.9074\n",
      "Epoch 6/10\n",
      "1257/1257 - 0s - loss: 0.5165 - accuracy: 0.9372 - val_loss: 0.5379 - val_accuracy: 0.9111\n",
      "Epoch 7/10\n",
      "1257/1257 - 0s - loss: 0.4244 - accuracy: 0.9475 - val_loss: 0.4625 - val_accuracy: 0.9167\n",
      "Epoch 8/10\n",
      "1257/1257 - 0s - loss: 0.3572 - accuracy: 0.9539 - val_loss: 0.3987 - val_accuracy: 0.9296\n",
      "Epoch 9/10\n",
      "1257/1257 - 0s - loss: 0.3050 - accuracy: 0.9626 - val_loss: 0.3584 - val_accuracy: 0.9370\n",
      "Epoch 10/10\n",
      "1257/1257 - 0s - loss: 0.2652 - accuracy: 0.9690 - val_loss: 0.3278 - val_accuracy: 0.9370\n"
     ]
    }
   ],
   "source": [
    "history = model.fit(X_train, y_train, epochs=10, validation_data=(X_test, y_test), verbose=2)"
   ]
  },
  {
   "cell_type": "code",
   "execution_count": 28,
   "metadata": {},
   "outputs": [
    {
     "data": {
      "image/png": "[encoded data removed]",
      "text/plain": [
       "<Figure size 720x288 with 2 Axes>"
      ]
     },
     "metadata": {
      "needs_background": "light"
     },
     "output_type": "display_data"
    }
   ],
   "source": [
    "plt.figure(figsize=(10,4))\n",
    "\n",
    "plt.subplot(121)\n",
    "plt.plot(history.history['loss'], label='loss')\n",
    "plt.plot(history.history['val_loss'], label='val_loss')\n",
    "plt.legend()\n",
    "\n",
    "plt.subplot(122)\n",
    "plt.plot(history.history['accuracy'], label='accuracy')\n",
    "plt.plot(history.history['val_accuracy'], label='val_accuracy')\n",
    "plt.legend()\n",
    "\n",
    "plt.show()"
   ]
  },
  {
   "cell_type": "code",
   "execution_count": 29,
   "metadata": {},
   "outputs": [
    {
     "data": {
      "text/plain": [
       "[0.32776892251438566, 0.93703705]"
      ]
     },
     "execution_count": 29,
     "metadata": {},
     "output_type": "execute_result"
    }
   ],
   "source": [
    "model.evaluate(X_test, y_test)"
   ]
  },
  {
   "cell_type": "code",
   "execution_count": null,
   "metadata": {},
   "outputs": [],
   "source": []
  }
 ],
 "metadata": {
  "colab": {
   "name": "Linear regression with TF.ipynb",
   "provenance": []
  },
  "kernelspec": {
   "display_name": "Python 3",
   "language": "python",
   "name": "python3"
  },
  "language_info": {
   "codemirror_mode": {
    "name": "ipython",
    "version": 3
   },
   "file_extension": ".py",
   "mimetype": "text/x-python",
   "name": "python",
   "nbconvert_exporter": "python",
   "pygments_lexer": "ipython3",
   "version": "3.9.2"
  }
 },
 "nbformat": 4,
 "nbformat_minor": 1
}
